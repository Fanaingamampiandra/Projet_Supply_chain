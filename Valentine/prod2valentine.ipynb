{
 "cells": [
  {
   "cell_type": "code",
   "execution_count": null,
   "id": "ee2e85fe",
   "metadata": {},
   "outputs": [
    {
     "name": "stdout",
     "output_type": "stream",
     "text": [
      "Requirement already satisfied: pandas in /Users/martinvalentine/Documents/GitHub/Projet_Supply_chain/.venv/lib/python3.13/site-packages (2.2.3)\n",
      "Requirement already satisfied: matplotlib in /Users/martinvalentine/Documents/GitHub/Projet_Supply_chain/.venv/lib/python3.13/site-packages (3.10.1)\n",
      "Requirement already satisfied: seaborn in /Users/martinvalentine/Documents/GitHub/Projet_Supply_chain/.venv/lib/python3.13/site-packages (0.13.2)\n",
      "Requirement already satisfied: numpy>=1.26.0 in /Users/martinvalentine/Documents/GitHub/Projet_Supply_chain/.venv/lib/python3.13/site-packages (from pandas) (2.2.4)\n",
      "Requirement already satisfied: python-dateutil>=2.8.2 in /Users/martinvalentine/Documents/GitHub/Projet_Supply_chain/.venv/lib/python3.13/site-packages (from pandas) (2.9.0.post0)\n",
      "Requirement already satisfied: pytz>=2020.1 in /Users/martinvalentine/Documents/GitHub/Projet_Supply_chain/.venv/lib/python3.13/site-packages (from pandas) (2025.2)\n",
      "Requirement already satisfied: tzdata>=2022.7 in /Users/martinvalentine/Documents/GitHub/Projet_Supply_chain/.venv/lib/python3.13/site-packages (from pandas) (2025.2)\n",
      "Requirement already satisfied: contourpy>=1.0.1 in /Users/martinvalentine/Documents/GitHub/Projet_Supply_chain/.venv/lib/python3.13/site-packages (from matplotlib) (1.3.1)\n",
      "Requirement already satisfied: cycler>=0.10 in /Users/martinvalentine/Documents/GitHub/Projet_Supply_chain/.venv/lib/python3.13/site-packages (from matplotlib) (0.12.1)\n",
      "Requirement already satisfied: fonttools>=4.22.0 in /Users/martinvalentine/Documents/GitHub/Projet_Supply_chain/.venv/lib/python3.13/site-packages (from matplotlib) (4.57.0)\n",
      "Requirement already satisfied: kiwisolver>=1.3.1 in /Users/martinvalentine/Documents/GitHub/Projet_Supply_chain/.venv/lib/python3.13/site-packages (from matplotlib) (1.4.8)\n",
      "Requirement already satisfied: packaging>=20.0 in /Users/martinvalentine/Documents/GitHub/Projet_Supply_chain/.venv/lib/python3.13/site-packages (from matplotlib) (24.2)\n",
      "Requirement already satisfied: pillow>=8 in /Users/martinvalentine/Documents/GitHub/Projet_Supply_chain/.venv/lib/python3.13/site-packages (from matplotlib) (11.1.0)\n",
      "Requirement already satisfied: pyparsing>=2.3.1 in /Users/martinvalentine/Documents/GitHub/Projet_Supply_chain/.venv/lib/python3.13/site-packages (from matplotlib) (3.2.3)\n",
      "Requirement already satisfied: six>=1.5 in /Users/martinvalentine/Documents/GitHub/Projet_Supply_chain/.venv/lib/python3.13/site-packages (from python-dateutil>=2.8.2->pandas) (1.17.0)\n",
      "Note: you may need to restart the kernel to use updated packages.\n",
      "Path to dataset files: ../base/produitsV2.csv\n"
     ]
    }
   ],
   "source": [
    "# Install necessary packages\n",
    "%pip install pandas matplotlib seaborn\n",
    "\n",
    "# Import necessary libraries\n",
    "import pandas as pd  # Import pandas for data manipulation\n",
    "import matplotlib.pyplot as plt\n",
    "import seaborn as sns\n",
    "\n",
    "\n",
    "# Load the downloaded dataset into a pandas DataFrame\n",
    "# Update the file path to the correct location of the dataset\n",
    "data = pd.read_csv(\"../base/produitsV2.csv\",sep=';')  # Corrected file path\n",
    "path = \"../base/produitsV2.csv\"  # Assign the path to the variable 'path'\n",
    "print(\"Path to dataset files:\", path)"
   ]
  },
  {
   "cell_type": "code",
   "execution_count": 2,
   "id": "633113d4",
   "metadata": {},
   "outputs": [
    {
     "data": {
      "text/html": [
       "<div>\n",
       "<style scoped>\n",
       "    .dataframe tbody tr th:only-of-type {\n",
       "        vertical-align: middle;\n",
       "    }\n",
       "\n",
       "    .dataframe tbody tr th {\n",
       "        vertical-align: top;\n",
       "    }\n",
       "\n",
       "    .dataframe thead th {\n",
       "        text-align: right;\n",
       "    }\n",
       "</style>\n",
       "<table border=\"1\" class=\"dataframe\">\n",
       "  <thead>\n",
       "    <tr style=\"text-align: right;\">\n",
       "      <th></th>\n",
       "      <th>id_produit</th>\n",
       "      <th>catégorie</th>\n",
       "      <th>marque</th>\n",
       "      <th>prix</th>\n",
       "      <th>stock_minimum</th>\n",
       "    </tr>\n",
       "  </thead>\n",
       "  <tbody>\n",
       "    <tr>\n",
       "      <th>0</th>\n",
       "      <td>P00001</td>\n",
       "      <td>Soins capillaires</td>\n",
       "      <td>Luxe eclat</td>\n",
       "      <td>467.42</td>\n",
       "      <td>52</td>\n",
       "    </tr>\n",
       "    <tr>\n",
       "      <th>1</th>\n",
       "      <td>P00002</td>\n",
       "      <td>Accessoires</td>\n",
       "      <td>Maison Pure</td>\n",
       "      <td>291.26</td>\n",
       "      <td>10</td>\n",
       "    </tr>\n",
       "    <tr>\n",
       "      <th>2</th>\n",
       "      <td>P00003</td>\n",
       "      <td>Maquillage</td>\n",
       "      <td>Essentielle Paris</td>\n",
       "      <td>354.39</td>\n",
       "      <td>60</td>\n",
       "    </tr>\n",
       "    <tr>\n",
       "      <th>3</th>\n",
       "      <td>P00004</td>\n",
       "      <td>Accessoires</td>\n",
       "      <td>Reflet d'or</td>\n",
       "      <td>462.80</td>\n",
       "      <td>33</td>\n",
       "    </tr>\n",
       "    <tr>\n",
       "      <th>4</th>\n",
       "      <td>P00005</td>\n",
       "      <td>Accessoires</td>\n",
       "      <td>Elixir Haute Beauté</td>\n",
       "      <td>359.47</td>\n",
       "      <td>33</td>\n",
       "    </tr>\n",
       "  </tbody>\n",
       "</table>\n",
       "</div>"
      ],
      "text/plain": [
       "  id_produit          catégorie                marque    prix  stock_minimum\n",
       "0     P00001  Soins capillaires            Luxe eclat  467.42             52\n",
       "1     P00002        Accessoires           Maison Pure  291.26             10\n",
       "2     P00003         Maquillage     Essentielle Paris  354.39             60\n",
       "3     P00004        Accessoires           Reflet d'or  462.80             33\n",
       "4     P00005        Accessoires  Elixir Haute Beauté  359.47             33"
      ]
     },
     "execution_count": 2,
     "metadata": {},
     "output_type": "execute_result"
    }
   ],
   "source": [
    "data.head()"
   ]
  },
  {
   "cell_type": "code",
   "execution_count": 3,
   "id": "9e97bea1",
   "metadata": {},
   "outputs": [
    {
     "name": "stdout",
     "output_type": "stream",
     "text": [
      "<class 'pandas.core.frame.DataFrame'>\n",
      "RangeIndex: 1000 entries, 0 to 999\n",
      "Data columns (total 5 columns):\n",
      " #   Column         Non-Null Count  Dtype  \n",
      "---  ------         --------------  -----  \n",
      " 0   id_produit     1000 non-null   object \n",
      " 1   catégorie      1000 non-null   object \n",
      " 2   marque         1000 non-null   object \n",
      " 3   prix           1000 non-null   float64\n",
      " 4   stock_minimum  1000 non-null   int64  \n",
      "dtypes: float64(1), int64(1), object(3)\n",
      "memory usage: 39.2+ KB\n"
     ]
    }
   ],
   "source": [
    "data.info()"
   ]
  },
  {
   "cell_type": "code",
   "execution_count": 4,
   "id": "f900c8f9",
   "metadata": {},
   "outputs": [
    {
     "data": {
      "text/html": [
       "<div>\n",
       "<style scoped>\n",
       "    .dataframe tbody tr th:only-of-type {\n",
       "        vertical-align: middle;\n",
       "    }\n",
       "\n",
       "    .dataframe tbody tr th {\n",
       "        vertical-align: top;\n",
       "    }\n",
       "\n",
       "    .dataframe thead th {\n",
       "        text-align: right;\n",
       "    }\n",
       "</style>\n",
       "<table border=\"1\" class=\"dataframe\">\n",
       "  <thead>\n",
       "    <tr style=\"text-align: right;\">\n",
       "      <th></th>\n",
       "      <th>prix</th>\n",
       "      <th>stock_minimum</th>\n",
       "    </tr>\n",
       "  </thead>\n",
       "  <tbody>\n",
       "    <tr>\n",
       "      <th>count</th>\n",
       "      <td>1000.00000</td>\n",
       "      <td>1000.000000</td>\n",
       "    </tr>\n",
       "    <tr>\n",
       "      <th>mean</th>\n",
       "      <td>260.11725</td>\n",
       "      <td>53.404000</td>\n",
       "    </tr>\n",
       "    <tr>\n",
       "      <th>std</th>\n",
       "      <td>140.50500</td>\n",
       "      <td>25.583418</td>\n",
       "    </tr>\n",
       "    <tr>\n",
       "      <th>min</th>\n",
       "      <td>22.22000</td>\n",
       "      <td>10.000000</td>\n",
       "    </tr>\n",
       "    <tr>\n",
       "      <th>25%</th>\n",
       "      <td>133.13250</td>\n",
       "      <td>31.000000</td>\n",
       "    </tr>\n",
       "    <tr>\n",
       "      <th>50%</th>\n",
       "      <td>262.09000</td>\n",
       "      <td>54.000000</td>\n",
       "    </tr>\n",
       "    <tr>\n",
       "      <th>75%</th>\n",
       "      <td>377.61750</td>\n",
       "      <td>75.000000</td>\n",
       "    </tr>\n",
       "    <tr>\n",
       "      <th>max</th>\n",
       "      <td>499.72000</td>\n",
       "      <td>99.000000</td>\n",
       "    </tr>\n",
       "  </tbody>\n",
       "</table>\n",
       "</div>"
      ],
      "text/plain": [
       "             prix  stock_minimum\n",
       "count  1000.00000    1000.000000\n",
       "mean    260.11725      53.404000\n",
       "std     140.50500      25.583418\n",
       "min      22.22000      10.000000\n",
       "25%     133.13250      31.000000\n",
       "50%     262.09000      54.000000\n",
       "75%     377.61750      75.000000\n",
       "max     499.72000      99.000000"
      ]
     },
     "execution_count": 4,
     "metadata": {},
     "output_type": "execute_result"
    }
   ],
   "source": [
    "data.describe()"
   ]
  },
  {
   "cell_type": "code",
   "execution_count": 5,
   "id": "e4e4ca14",
   "metadata": {},
   "outputs": [
    {
     "name": "stdout",
     "output_type": "stream",
     "text": [
      "id_produit       0\n",
      "catégorie        0\n",
      "marque           0\n",
      "prix             0\n",
      "stock_minimum    0\n",
      "dtype: int64\n",
      "\n",
      "Total missing values: 0\n"
     ]
    }
   ],
   "source": [
    "# Assuming 'data' is your DataFrame\n",
    "missing_values = data.isnull().sum()\n",
    "\n",
    "# Print the number of missing values per column\n",
    "print(missing_values)\n",
    "\n",
    "# Print the total number of missing values in the DataFrame\n",
    "total_missing = missing_values.sum()\n",
    "print(f\"\\nTotal missing values: {total_missing}\")"
   ]
  },
  {
   "cell_type": "code",
   "execution_count": 6,
   "id": "8346036e",
   "metadata": {},
   "outputs": [
    {
     "data": {
      "image/png": "[encoded data removed]",
      "text/plain": [
       "<Figure size 640x480 with 1 Axes>"
      ]
     },
     "metadata": {},
     "output_type": "display_data"
    }
   ],
   "source": [
    "# Calcul du stock minimum moyen par catégorie\n",
    "stock_moyen = data.groupby('catégorie')['stock_minimum'].mean()\n",
    "\n",
    "# Affichage du graphique du stock minimum moyen par catégorie\n",
    "stock_moyen.plot(kind='bar', color='lightgreen', edgecolor='black')\n",
    "plt.ylabel(\"Stock minimum moyen\")\n",
    "plt.title(\"Stock minimum moyen par catégorie\")\n",
    "plt.xticks(rotation=45)\n",
    "plt.tight_layout()\n",
    "plt.show()"
   ]
  },
  {
   "cell_type": "code",
   "execution_count": 11,
   "id": "62d84751",
   "metadata": {},
   "outputs": [
    {
     "data": {
      "image/png": "[encoded data removed]",
      "text/plain": [
       "<Figure size 1000x600 with 2 Axes>"
      ]
     },
     "metadata": {},
     "output_type": "display_data"
    }
   ],
   "source": [
    "plt.figure(figsize=(10, 6))\n",
    "\n",
    "# Box plot pour le stock minimum\n",
    "plt.subplot(1, 2, 1)\n",
    "sns.boxplot(y=data['stock_minimum'], color='skyblue')\n",
    "plt.title('Stock Minimum')\n",
    "\n",
    "# Box plot pour le prix\n",
    "plt.subplot(1, 2, 2)\n",
    "sns.boxplot(y=data['prix'], color='lightgreen')\n",
    "plt.title('Prix')\n",
    "\n",
    "plt.tight_layout()\n",
    "plt.show()"
   ]
  },
  {
   "cell_type": "code",
   "execution_count": 9,
   "id": "191a67aa",
   "metadata": {},
   "outputs": [
    {
     "data": {
      "text/html": [
       "<a href='nouveau_fichier_modifie.csv' target='_blank'>nouveau_fichier_modifie.csv</a><br>"
      ],
      "text/plain": [
       "/Users/martinvalentine/Documents/GitHub/Projet_Supply_chain/Valentine/nouveau_fichier_modifie.csv"
      ]
     },
     "execution_count": 9,
     "metadata": {},
     "output_type": "execute_result"
    }
   ],
   "source": [
    "from IPython.display import FileLink\n",
    "# Sauvegarder le DataFrame modifié dans un nouveau fichier CSV\n",
    "data.to_csv('nouveau_fichier_modifie.csv', index=False)\n",
    "# Crée un lien pour télécharger le fichier\n",
    "FileLink('nouveau_fichier_modifie.csv')"
   ]
  }
 ],
 "metadata": {
  "kernelspec": {
   "display_name": ".venv",
   "language": "python",
   "name": "python3"
  },
  "language_info": {
   "codemirror_mode": {
    "name": "ipython",
    "version": 3
   },
   "file_extension": ".py",
   "mimetype": "text/x-python",
   "name": "python",
   "nbconvert_exporter": "python",
   "pygments_lexer": "ipython3",
   "version": "3.13.1"
  }
 },
 "nbformat": 4,
 "nbformat_minor": 5
}
