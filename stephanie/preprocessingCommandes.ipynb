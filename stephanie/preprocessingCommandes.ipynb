{
 "cells": [
  {
   "cell_type": "code",
   "execution_count": 32,
   "metadata": {},
   "outputs": [],
   "source": [
    "import pandas as pd \n",
    "import numpy as np \n",
    "import matplotlib.pyplot as plt \n",
    "import seaborn as sns \n",
    "sns.set()"
   ]
  },
  {
   "cell_type": "markdown",
   "metadata": {},
   "source": [
    "## Importation du fichier csv commandes "
   ]
  },
  {
   "cell_type": "code",
   "execution_count": 33,
   "metadata": {},
   "outputs": [],
   "source": [
    "data=pd.read_csv('../base/commandes.csv',sep=';', encoding='ISO-8859-1')"
   ]
  },
  {
   "cell_type": "code",
   "execution_count": 34,
   "metadata": {},
   "outputs": [
    {
     "data": {
      "text/html": [
       "<div>\n",
       "<style scoped>\n",
       "    .dataframe tbody tr th:only-of-type {\n",
       "        vertical-align: middle;\n",
       "    }\n",
       "\n",
       "    .dataframe tbody tr th {\n",
       "        vertical-align: top;\n",
       "    }\n",
       "\n",
       "    .dataframe thead th {\n",
       "        text-align: right;\n",
       "    }\n",
       "</style>\n",
       "<table border=\"1\" class=\"dataframe\">\n",
       "  <thead>\n",
       "    <tr style=\"text-align: right;\">\n",
       "      <th></th>\n",
       "      <th>id_commande</th>\n",
       "      <th>date_commande</th>\n",
       "      <th>id_produit</th>\n",
       "      <th>quantité</th>\n",
       "      <th>entrepôt</th>\n",
       "      <th>statut</th>\n",
       "    </tr>\n",
       "  </thead>\n",
       "  <tbody>\n",
       "    <tr>\n",
       "      <th>0</th>\n",
       "      <td>O000001</td>\n",
       "      <td>22/07/2024</td>\n",
       "      <td>P00527</td>\n",
       "      <td>6</td>\n",
       "      <td>Marseille</td>\n",
       "      <td>Livré</td>\n",
       "    </tr>\n",
       "    <tr>\n",
       "      <th>1</th>\n",
       "      <td>O000002</td>\n",
       "      <td>18/02/2024</td>\n",
       "      <td>P00336</td>\n",
       "      <td>5</td>\n",
       "      <td>Lyon</td>\n",
       "      <td>Expédié</td>\n",
       "    </tr>\n",
       "    <tr>\n",
       "      <th>2</th>\n",
       "      <td>O000003</td>\n",
       "      <td>19/03/2024</td>\n",
       "      <td>P00084</td>\n",
       "      <td>6</td>\n",
       "      <td>Lyon</td>\n",
       "      <td>Annulé</td>\n",
       "    </tr>\n",
       "    <tr>\n",
       "      <th>3</th>\n",
       "      <td>O000004</td>\n",
       "      <td>28/08/2024</td>\n",
       "      <td>P00887</td>\n",
       "      <td>8</td>\n",
       "      <td>Lyon</td>\n",
       "      <td>Livré</td>\n",
       "    </tr>\n",
       "    <tr>\n",
       "      <th>4</th>\n",
       "      <td>O000005</td>\n",
       "      <td>14/12/2024</td>\n",
       "      <td>P00778</td>\n",
       "      <td>1</td>\n",
       "      <td>Marseille</td>\n",
       "      <td>Annulé</td>\n",
       "    </tr>\n",
       "  </tbody>\n",
       "</table>\n",
       "</div>"
      ],
      "text/plain": [
       "  id_commande date_commande id_produit  quantité   entrepôt   statut\n",
       "0     O000001    22/07/2024     P00527         6  Marseille    Livré\n",
       "1     O000002    18/02/2024     P00336         5       Lyon  Expédié\n",
       "2     O000003    19/03/2024     P00084         6       Lyon   Annulé\n",
       "3     O000004    28/08/2024     P00887         8       Lyon    Livré\n",
       "4     O000005    14/12/2024     P00778         1  Marseille   Annulé"
      ]
     },
     "execution_count": 34,
     "metadata": {},
     "output_type": "execute_result"
    }
   ],
   "source": [
    "data.head()"
   ]
  },
  {
   "cell_type": "code",
   "execution_count": 35,
   "metadata": {},
   "outputs": [
    {
     "name": "stdout",
     "output_type": "stream",
     "text": [
      "<class 'pandas.core.frame.DataFrame'>\n",
      "RangeIndex: 50000 entries, 0 to 49999\n",
      "Data columns (total 6 columns):\n",
      " #   Column         Non-Null Count  Dtype \n",
      "---  ------         --------------  ----- \n",
      " 0   id_commande    50000 non-null  object\n",
      " 1   date_commande  50000 non-null  object\n",
      " 2   id_produit     50000 non-null  object\n",
      " 3   quantité       50000 non-null  int64 \n",
      " 4   entrepôt       50000 non-null  object\n",
      " 5   statut         50000 non-null  object\n",
      "dtypes: int64(1), object(5)\n",
      "memory usage: 2.3+ MB\n"
     ]
    }
   ],
   "source": [
    "data.info()"
   ]
  },
  {
   "cell_type": "markdown",
   "metadata": {},
   "source": [
    "## Convertir la date de objet a Date Time"
   ]
  },
  {
   "cell_type": "code",
   "execution_count": 36,
   "metadata": {},
   "outputs": [
    {
     "name": "stderr",
     "output_type": "stream",
     "text": [
      "C:\\Users\\glenn\\AppData\\Local\\Temp\\ipykernel_25856\\1843864014.py:1: UserWarning: Parsing dates in %d/%m/%Y format when dayfirst=False (the default) was specified. Pass `dayfirst=True` or specify a format to silence this warning.\n",
      "  data['date_commande'] = pd.to_datetime(data['date_commande'], errors='coerce')\n"
     ]
    }
   ],
   "source": [
    "data['date_commande'] = pd.to_datetime(data['date_commande'], errors='coerce')\n"
   ]
  },
  {
   "cell_type": "code",
   "execution_count": 37,
   "metadata": {},
   "outputs": [
    {
     "data": {
      "text/plain": [
       "dtype('<M8[ns]')"
      ]
     },
     "execution_count": 37,
     "metadata": {},
     "output_type": "execute_result"
    }
   ],
   "source": [
    "data['date_commande'].dtype  # doit afficher datetime64[ns]\n"
   ]
  },
  {
   "cell_type": "markdown",
   "metadata": {},
   "source": [
    "## Vérification des valeurs nulles "
   ]
  },
  {
   "cell_type": "code",
   "execution_count": 38,
   "metadata": {},
   "outputs": [
    {
     "data": {
      "text/plain": [
       "id_commande      0\n",
       "date_commande    0\n",
       "id_produit       0\n",
       "quantité         0\n",
       "entrepôt         0\n",
       "statut           0\n",
       "dtype: int64"
      ]
     },
     "execution_count": 38,
     "metadata": {},
     "output_type": "execute_result"
    }
   ],
   "source": [
    "data.isnull().sum()"
   ]
  },
  {
   "cell_type": "markdown",
   "metadata": {},
   "source": [
    "## Stat descriptive "
   ]
  },
  {
   "cell_type": "code",
   "execution_count": 39,
   "metadata": {},
   "outputs": [
    {
     "data": {
      "text/html": [
       "<div>\n",
       "<style scoped>\n",
       "    .dataframe tbody tr th:only-of-type {\n",
       "        vertical-align: middle;\n",
       "    }\n",
       "\n",
       "    .dataframe tbody tr th {\n",
       "        vertical-align: top;\n",
       "    }\n",
       "\n",
       "    .dataframe thead th {\n",
       "        text-align: right;\n",
       "    }\n",
       "</style>\n",
       "<table border=\"1\" class=\"dataframe\">\n",
       "  <thead>\n",
       "    <tr style=\"text-align: right;\">\n",
       "      <th></th>\n",
       "      <th>count</th>\n",
       "      <th>mean</th>\n",
       "      <th>std</th>\n",
       "      <th>min</th>\n",
       "      <th>25%</th>\n",
       "      <th>50%</th>\n",
       "      <th>75%</th>\n",
       "      <th>max</th>\n",
       "    </tr>\n",
       "  </thead>\n",
       "  <tbody>\n",
       "    <tr>\n",
       "      <th>quantité</th>\n",
       "      <td>50000.0</td>\n",
       "      <td>4.9873</td>\n",
       "      <td>2.586301</td>\n",
       "      <td>1.0</td>\n",
       "      <td>3.0</td>\n",
       "      <td>5.0</td>\n",
       "      <td>7.0</td>\n",
       "      <td>9.0</td>\n",
       "    </tr>\n",
       "  </tbody>\n",
       "</table>\n",
       "</div>"
      ],
      "text/plain": [
       "            count    mean       std  min  25%  50%  75%  max\n",
       "quantité  50000.0  4.9873  2.586301  1.0  3.0  5.0  7.0  9.0"
      ]
     },
     "execution_count": 39,
     "metadata": {},
     "output_type": "execute_result"
    }
   ],
   "source": [
    "# Colonnes numériques\n",
    "data[['quantité']].describe().T"
   ]
  },
  {
   "cell_type": "code",
   "execution_count": 40,
   "metadata": {},
   "outputs": [
    {
     "data": {
      "text/html": [
       "<div>\n",
       "<style scoped>\n",
       "    .dataframe tbody tr th:only-of-type {\n",
       "        vertical-align: middle;\n",
       "    }\n",
       "\n",
       "    .dataframe tbody tr th {\n",
       "        vertical-align: top;\n",
       "    }\n",
       "\n",
       "    .dataframe thead th {\n",
       "        text-align: right;\n",
       "    }\n",
       "</style>\n",
       "<table border=\"1\" class=\"dataframe\">\n",
       "  <thead>\n",
       "    <tr style=\"text-align: right;\">\n",
       "      <th></th>\n",
       "      <th>count</th>\n",
       "      <th>unique</th>\n",
       "      <th>top</th>\n",
       "      <th>freq</th>\n",
       "    </tr>\n",
       "  </thead>\n",
       "  <tbody>\n",
       "    <tr>\n",
       "      <th>statut</th>\n",
       "      <td>50000</td>\n",
       "      <td>4</td>\n",
       "      <td>Livré</td>\n",
       "      <td>29739</td>\n",
       "    </tr>\n",
       "    <tr>\n",
       "      <th>entrepôt</th>\n",
       "      <td>50000</td>\n",
       "      <td>3</td>\n",
       "      <td>Paris</td>\n",
       "      <td>16778</td>\n",
       "    </tr>\n",
       "    <tr>\n",
       "      <th>id_produit</th>\n",
       "      <td>50000</td>\n",
       "      <td>1000</td>\n",
       "      <td>P00762</td>\n",
       "      <td>75</td>\n",
       "    </tr>\n",
       "  </tbody>\n",
       "</table>\n",
       "</div>"
      ],
      "text/plain": [
       "            count unique     top   freq\n",
       "statut      50000      4   Livré  29739\n",
       "entrepôt    50000      3   Paris  16778\n",
       "id_produit  50000   1000  P00762     75"
      ]
     },
     "execution_count": 40,
     "metadata": {},
     "output_type": "execute_result"
    }
   ],
   "source": [
    "# Colonnes numériques\n",
    "data[['statut', 'entrepôt', 'id_produit']].describe().T\n"
   ]
  },
  {
   "cell_type": "markdown",
   "metadata": {},
   "source": [
    "# Visualisations"
   ]
  },
  {
   "cell_type": "markdown",
   "metadata": {},
   "source": [
    "## Top 10 des produits les plus commandés \n",
    "### 🎯 Objectif : Identifier les produits les plus demandés\n",
    "\n",
    "Ce graphique présente les 10 produits ayant généré le plus de volume en termes de quantité commandée.  \n",
    "Il permet de repérer les produits \"stars\" qui représentent une part importante de l'activité.\n"
   ]
  },
  {
   "cell_type": "code",
   "execution_count": 41,
   "metadata": {},
   "outputs": [
    {
     "data": {
      "image/png": "[encoded data removed]",
      "text/plain": [
       "<Figure size 640x480 with 1 Axes>"
      ]
     },
     "metadata": {},
     "output_type": "display_data"
    }
   ],
   "source": [
    "top_produits = data.groupby('id_produit')['quantité'].sum().sort_values(ascending=False).head(10)\n",
    "top_produits.plot(kind='bar', color='teal')\n",
    "plt.title(\"Top 10 des produits les plus commandés\")\n",
    "plt.xlabel(\"ID Produit\")\n",
    "plt.ylabel(\"Quantité totale commandée\")\n",
    "plt.xticks(rotation=45)\n",
    "plt.tight_layout()\n",
    "plt.show()\n"
   ]
  },
  {
   "cell_type": "markdown",
   "metadata": {},
   "source": [
    "## Produit avec la quantité moyenne la plus élevée\n",
    "\n",
    "### 🎯 Objectif : Analyser les produits commandés en grande quantité par commande\n",
    "\n",
    "Ce graphique montre les produits pour lesquels, lorsqu'ils sont commandés, les clients en prennent beaucoup à la fois.  \n",
    "Cela peut révéler des produits vendus en gros, en pack, ou à usage industriel.\n",
    "\n"
   ]
  },
  {
   "cell_type": "code",
   "execution_count": 42,
   "metadata": {},
   "outputs": [
    {
     "data": {
      "image/png": "[encoded data removed]",
      "text/plain": [
       "<Figure size 640x480 with 1 Axes>"
      ]
     },
     "metadata": {},
     "output_type": "display_data"
    }
   ],
   "source": [
    "top_moyenne = data.groupby('id_produit')['quantité'].mean().sort_values(ascending=False).head(10)\n",
    "top_moyenne.plot(kind='bar', color='orange')\n",
    "plt.title(\"Produits avec la quantité moyenne la plus élevée\")\n",
    "plt.xlabel(\"ID Produit\")\n",
    "plt.ylabel(\"Quantité moyenne\")\n",
    "plt.xticks(rotation=45)\n",
    "plt.tight_layout()\n",
    "plt.show()\n"
   ]
  },
  {
   "cell_type": "markdown",
   "metadata": {},
   "source": [
    "## Produits les plus frequemments commandés \n",
    "\n",
    "### 🎯 Objectif : Identifier les produits les plus fréquemment achetés\n",
    "\n",
    "Ce graphique affiche les produits qui reviennent le plus souvent dans les commandes, indépendamment de la quantité.  \n",
    "Cela permet de détecter les produits les plus populaires en fréquence.\n"
   ]
  },
  {
   "cell_type": "code",
   "execution_count": 43,
   "metadata": {},
   "outputs": [
    {
     "data": {
      "image/png": "[encoded data removed]",
      "text/plain": [
       "<Figure size 640x480 with 1 Axes>"
      ]
     },
     "metadata": {},
     "output_type": "display_data"
    }
   ],
   "source": [
    "nb_commandes = data['id_produit'].value_counts().head(10)\n",
    "nb_commandes.plot(kind='bar', color='slateblue')\n",
    "plt.title(\"Produits les plus fréquemment commandés (en nombre de commandes)\")\n",
    "plt.xlabel(\"ID Produit\")\n",
    "plt.ylabel(\"Nombre de commandes\")\n",
    "plt.xticks(rotation=45)\n",
    "plt.tight_layout()\n",
    "plt.show()\n"
   ]
  },
  {
   "cell_type": "markdown",
   "metadata": {},
   "source": [
    "## ScatterPlot frequence vs quantité \n",
    "\n",
    "### ## 🎯 Objectif : Analyse croisée fréquence vs quantité\n",
    "\n",
    "Ce graphique met en relation :\n",
    "- L’axe X : le **nombre de commandes** par produit (fréquence)\n",
    "- L’axe Y : la **quantité totale** commandée par produit\n",
    "\n",
    "Il permet d’identifier plusieurs **profils de produits** :\n",
    "- 📦 **Produits à forte quantité mais peu fréquents** (gros volumes occasionnels)\n",
    "- 🛒 **Produits fréquents mais à faible volume** (populaires en petite quantité)\n",
    "- 🌟 **Produits en top volume et top fréquence** (produits stratégiques)\n",
    "\n",
    "Cette analyse visuelle aide à orienter les stratégies d’approvisionnement, de stockage, et de mise en avant commerciale.\n"
   ]
  },
  {
   "cell_type": "code",
   "execution_count": null,
   "metadata": {},
   "outputs": [],
   "source": []
  },
  {
   "cell_type": "markdown",
   "metadata": {},
   "source": [
    "## 🧾 Synthèse – Analyse des produits commandés\n",
    "\n",
    "L’analyse des produits à travers plusieurs angles nous a permis de dégager des tendances fortes :\n",
    "\n",
    "### 🔹 1. Produits les plus commandés (quantité totale)\n",
    "Les produits tels que `P00994`, `P00149` ou `P00386` sont ceux ayant généré les **plus gros volumes de commandes**.  \n",
    "👉 Ces produits sont **stratégiques** pour la logistique et la gestion des stocks.\n",
    "\n",
    "### 🔹 2. Produits les plus fréquemment commandés\n",
    "D'autres produits comme `P00762` ou `P00725` apparaissent **très souvent** dans les commandes, mais avec des quantités moindres.  \n",
    "👉 Ce sont des **produits populaires** qui peuvent être exploités à des fins **marketing** (fidélisation, promotions…).\n",
    "\n",
    "### 🔹 3. Produits avec les plus grandes quantités moyennes\n",
    "Certains produits, comme `P00424`, sont commandés **moins souvent**, mais en **très grande quantité** à chaque fois.  \n",
    "👉 Ces produits peuvent correspondre à des **commandes spécifiques ou B2B**, et nécessitent une attention particulière en approvisionnement.\n",
    "\n",
    "### 🔹 4. Analyse croisée (Fréquence vs Quantité totale)\n",
    "Une visualisation en scatter plot a mis en évidence des **profils de produits différents** :\n",
    "- 📦 Produits de **masse** : peu fréquents mais à gros volumes (`P004`)\n",
    "- 🛒 Produits **populaires** : très fréquents mais en petites quantités (`P005`)\n",
    "- 🌟 Produits **équilibrés** : fréquemment commandés avec des volumes élevés (`P002`, `P003`)\n",
    "\n",
    "---\n",
    "\n",
    "### ✅ Conclusion\n",
    "L'analyse croisée de la quantité, de la fréquence et de la moyenne permet de :\n",
    "- Cibler les produits à **fort enjeu logistique**\n",
    "- Mettre en avant les produits **phare pour les ventes**\n",
    "- Identifier des produits à **surveiller ou à valoriser** commercialement\n",
    "\n",
    "Ce travail pose une base solide pour croiser ensuite avec les **données d’entrepôts**, de **stocks** ou de **retours produits**.\n"
   ]
  }
 ],
 "metadata": {
  "kernelspec": {
   "display_name": "Python 3",
   "language": "python",
   "name": "python3"
  },
  "language_info": {
   "codemirror_mode": {
    "name": "ipython",
    "version": 3
   },
   "file_extension": ".py",
   "mimetype": "text/x-python",
   "name": "python",
   "nbconvert_exporter": "python",
   "pygments_lexer": "ipython3",
   "version": "3.12.9"
  }
 },
 "nbformat": 4,
 "nbformat_minor": 2
}
