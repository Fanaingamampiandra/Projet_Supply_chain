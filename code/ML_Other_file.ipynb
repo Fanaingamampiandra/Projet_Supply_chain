{
 "cells": [
  {
   "cell_type": "markdown",
   "id": "4bd2a1ea",
   "metadata": {},
   "source": [
    "#### AUTRE FICHIER"
   ]
  },
  {
   "cell_type": "code",
   "execution_count": 13,
   "id": "c1f27cee",
   "metadata": {},
   "outputs": [],
   "source": [
    "import pandas as pd\n",
    "from sklearn.model_selection import train_test_split\n",
    "from sklearn.linear_model import LinearRegression, LogisticRegression\n",
    "from sklearn.cluster import KMeans\n",
    "from sklearn.metrics import mean_squared_error, classification_report\n",
    "import numpy as np"
   ]
  },
  {
   "cell_type": "code",
   "execution_count": null,
   "id": "ee38b342",
   "metadata": {},
   "outputs": [
    {
     "name": "stdout",
     "output_type": "stream",
     "text": [
      "Type de 'date_achat' : datetime64[ns]\n"
     ]
    }
   ],
   "source": [
    "\n"
   ]
  },
  {
   "cell_type": "code",
   "execution_count": 16,
   "id": "7dad5a85",
   "metadata": {},
   "outputs": [
    {
     "name": "stdout",
     "output_type": "stream",
     "text": [
      "Résumé des KPI Supply Chain:\n",
      "- HHI fournisseurs: 1301.51\n",
      "- Délai moyen de livraison (jours): 7.96\n",
      "- Fiabilité moyenne (%): 0.70\n",
      "- Rotation stock moyenne: 25.00\n",
      "- Coût unitaire moyen (€): 156.07\n"
     ]
    },
    {
     "name": "stderr",
     "output_type": "stream",
     "text": [
      "C:\\Users\\Djo\\AppData\\Local\\Temp\\ipykernel_14496\\2596741604.py:5: UserWarning: Parsing dates in %Y-%m-%d format when dayfirst=True was specified. Pass `dayfirst=False` or specify a format to silence this warning.\n",
      "  df['date_achat'] = pd.to_datetime(df['date_achat'], dayfirst=True, errors='coerce')\n"
     ]
    }
   ],
   "source": [
    "\n",
    "\n",
    "# 1. Chargement et nettoyage\n",
    "file_path = \"../code/achat_prod_fournisseur_stock.csv\"\n",
    "df = pd.read_csv(file_path, parse_dates=[\"date_achat\"])\n",
    "# Conversion en datetime\n",
    "df['date_achat'] = pd.to_datetime(df['date_achat'], dayfirst=True, errors='coerce')\n",
    "\n",
    "df.columns = df.columns.str.strip().str.lower()\n",
    "\n",
    "# 2. Calcul des KPI principaux\n",
    "# 2.1 HHI fournisseurs (part de quantité achetée)\n",
    "part_fourn = df.groupby(\"id_fournisseur\")[\"quantité\"].sum() / df[\"quantité\"].sum()\n",
    "hhi_fournisseurs = (part_fourn**2).sum() * 10000\n",
    "\n",
    "# 2.2 Délai moyen de livraison (jours)\n",
    "delai_moyen = df[\"délai_livraison_jours\"].mean()\n",
    "\n",
    "# 2.3 Fiabilité moyenne fournisseurs (%)\n",
    "fiabilite_moyenne = df[\"fiabilité\"].mean()\n",
    "\n",
    "# 2.4 Rotation des stocks (consommation annuelle / stock moyen)\n",
    "# Estimation consommation annuelle par produit\n",
    "consommation_annuelle = df.groupby(\"id_produit\")[\"quantité\"].sum()  # suppose 1 an de données\n",
    "stock_moyen = df.groupby(\"id_produit\")[\"niveau_stock\"].mean().replace(0, np.nan)\n",
    "rotation_par_produit = consommation_annuelle / stock_moyen\n",
    "rotation_stock_moyenne = rotation_par_produit.mean()\n",
    "\n",
    "# 2.5 Coût unitaire moyen (€)\n",
    "cout_unitaire_moyen = (df[\"montant_total\"].sum() / df[\"quantité\"].sum())\n",
    "\n",
    "kpi_summary = {\n",
    "    \"HHI fournisseurs\": hhi_fournisseurs,\n",
    "    \"Délai moyen de livraison (jours)\": delai_moyen,\n",
    "    \"Fiabilité moyenne (%)\": fiabilite_moyenne,\n",
    "    \"Rotation stock moyenne\": rotation_stock_moyenne,\n",
    "    \"Coût unitaire moyen (€)\": cout_unitaire_moyen\n",
    "}\n",
    "\n",
    "# Affichage du résumé KPI\n",
    "print(\"Résumé des KPI Supply Chain:\")\n",
    "for k, v in kpi_summary.items():\n",
    "    print(f\"- {k}: {v:.2f}\")\n",
    "\n"
   ]
  },
  {
   "cell_type": "code",
   "execution_count": 18,
   "id": "cfe468c0",
   "metadata": {},
   "outputs": [],
   "source": [
    "# 3. Feature Engineering pour ML\n",
    "df[\"mois\"] = df[\"date_achat\"].dt.month\n",
    "df[\"jour_semaine\"] = df[\"date_achat\"].dt.dayofweek\n",
    "df[\"retard\"] = (df[\"délai_livraison_jours\"] > df[\"délai_moyen_jours\"]).astype(int)\n",
    "\n",
    "# Sélection de features communes\n",
    "features = [\"quantité\", \"prix_unitaire\", \"mois\", \"jour_semaine\", \"niveau_stock\"]\n",
    "df_ml = df.dropna(subset=features + [\"délai_livraison_jours\", \"retard\"])\n"
   ]
  },
  {
   "cell_type": "code",
   "execution_count": 20,
   "id": "d4337599",
   "metadata": {},
   "outputs": [
    {
     "name": "stdout",
     "output_type": "stream",
     "text": [
      "\n",
      "Régression - RMSE délai de livraison: 3.739837728581802\n"
     ]
    }
   ],
   "source": [
    "\n",
    "# 4. Cas d'usage ML\n",
    "# 4.1 Régression: prédiction du délai de livraison\n",
    "X_reg = df_ml[features]\n",
    "y_reg = df_ml[\"délai_livraison_jours\"]\n",
    "Xr_train, Xr_test, yr_train, yr_test = train_test_split(X_reg, y_reg, test_size=0.2, random_state=42)\n",
    "reg_model = LinearRegression().fit(Xr_train, yr_train)\n",
    "yr_pred = reg_model.predict(Xr_test)\n",
    "mse = mean_squared_error(yr_test, yr_pred)\n",
    "rmse = np.sqrt(mse)\n",
    "print(\"\\nRégression - RMSE délai de livraison:\", rmse)"
   ]
  },
  {
   "cell_type": "code",
   "execution_count": 21,
   "id": "f31079bb",
   "metadata": {},
   "outputs": [
    {
     "name": "stdout",
     "output_type": "stream",
     "text": [
      "\n",
      "Classification - Rapport de performance:\n",
      "              precision    recall  f1-score   support\n",
      "\n",
      "           0       0.00      0.00      0.00       988\n",
      "           1       0.51      1.00      0.67      1012\n",
      "\n",
      "    accuracy                           0.51      2000\n",
      "   macro avg       0.25      0.50      0.34      2000\n",
      "weighted avg       0.26      0.51      0.34      2000\n",
      "\n"
     ]
    },
    {
     "name": "stderr",
     "output_type": "stream",
     "text": [
      "c:\\Users\\Djo\\AppData\\Local\\Programs\\Python\\Python312\\Lib\\site-packages\\sklearn\\metrics\\_classification.py:1565: UndefinedMetricWarning: Precision is ill-defined and being set to 0.0 in labels with no predicted samples. Use `zero_division` parameter to control this behavior.\n",
      "  _warn_prf(average, modifier, f\"{metric.capitalize()} is\", len(result))\n",
      "c:\\Users\\Djo\\AppData\\Local\\Programs\\Python\\Python312\\Lib\\site-packages\\sklearn\\metrics\\_classification.py:1565: UndefinedMetricWarning: Precision is ill-defined and being set to 0.0 in labels with no predicted samples. Use `zero_division` parameter to control this behavior.\n",
      "  _warn_prf(average, modifier, f\"{metric.capitalize()} is\", len(result))\n",
      "c:\\Users\\Djo\\AppData\\Local\\Programs\\Python\\Python312\\Lib\\site-packages\\sklearn\\metrics\\_classification.py:1565: UndefinedMetricWarning: Precision is ill-defined and being set to 0.0 in labels with no predicted samples. Use `zero_division` parameter to control this behavior.\n",
      "  _warn_prf(average, modifier, f\"{metric.capitalize()} is\", len(result))\n",
      "c:\\Users\\Djo\\AppData\\Local\\Programs\\Python\\Python312\\Lib\\site-packages\\joblib\\externals\\loky\\backend\\context.py:136: UserWarning: Could not find the number of physical cores for the following reason:\n",
      "[WinError 2] Le fichier spécifié est introuvable\n",
      "Returning the number of logical cores instead. You can silence this warning by setting LOKY_MAX_CPU_COUNT to the number of cores you want to use.\n",
      "  warnings.warn(\n",
      "  File \"c:\\Users\\Djo\\AppData\\Local\\Programs\\Python\\Python312\\Lib\\site-packages\\joblib\\externals\\loky\\backend\\context.py\", line 257, in _count_physical_cores\n",
      "    cpu_info = subprocess.run(\n",
      "               ^^^^^^^^^^^^^^^\n",
      "  File \"c:\\Users\\Djo\\AppData\\Local\\Programs\\Python\\Python312\\Lib\\subprocess.py\", line 548, in run\n",
      "    with Popen(*popenargs, **kwargs) as process:\n",
      "         ^^^^^^^^^^^^^^^^^^^^^^^^^^^\n",
      "  File \"c:\\Users\\Djo\\AppData\\Local\\Programs\\Python\\Python312\\Lib\\subprocess.py\", line 1026, in __init__\n",
      "    self._execute_child(args, executable, preexec_fn, close_fds,\n",
      "  File \"c:\\Users\\Djo\\AppData\\Local\\Programs\\Python\\Python312\\Lib\\subprocess.py\", line 1538, in _execute_child\n",
      "    hp, ht, pid, tid = _winapi.CreateProcess(executable, args,\n",
      "                       ^^^^^^^^^^^^^^^^^^^^^^^^^^^^^^^^^^^^^^^\n"
     ]
    },
    {
     "name": "stdout",
     "output_type": "stream",
     "text": [
      "\n",
      "Clustering fournisseurs - Répartition par cluster:\n",
      "cluster\n",
      "0    42\n",
      "2     5\n",
      "1     3\n",
      "Name: count, dtype: int64\n",
      "\n",
      "Extrait prévision demande (agrégations mensuelles):\n",
      "   année  mois id_produit  quantité\n",
      "0   2024   1.0     P00001       200\n",
      "1   2024   1.0     P00002       110\n",
      "2   2024   1.0     P00003        50\n",
      "3   2024   1.0     P00004       225\n",
      "4   2024   1.0     P00005       160\n"
     ]
    }
   ],
   "source": [
    "\n",
    "# 4.2 Classification: probabilité de retard (> délai moyen)\n",
    "X_clf = df_ml[features]\n",
    "y_clf = df_ml[\"retard\"]\n",
    "Xc_train, Xc_test, yc_train, yc_test = train_test_split(X_clf, y_clf, test_size=0.2, random_state=42)\n",
    "clf_model = LogisticRegression(max_iter=1000).fit(Xc_train, yc_train)\n",
    "yc_pred = clf_model.predict(Xc_test)\n",
    "print(\"\\nClassification - Rapport de performance:\")\n",
    "print(classification_report(yc_test, yc_pred))\n",
    "\n",
    "# 4.3 Clustering: segmentation fournisseurs\n",
    "fourn_features = df.groupby(\"id_fournisseur\").agg({\n",
    "    \"quantité\": \"sum\",\n",
    "    \"délai_livraison_jours\": \"mean\",\n",
    "    \"fiabilité\": \"mean\"\n",
    "}).dropna()\n",
    "kmeans = KMeans(n_clusters=3, random_state=42).fit(fourn_features)\n",
    "fourn_features[\"cluster\"] = kmeans.labels_\n",
    "print(\"\\nClustering fournisseurs - Répartition par cluster:\")\n",
    "print(fourn_features[\"cluster\"].value_counts())\n",
    "\n",
    "# 4.4 Forecasting (prévision simple) : agrégation mensuelle volumes\n",
    "monthly_demand = df.groupby([\"année\", \"mois\", \"id_produit\"])[\"quantité\"].sum().reset_index()\n",
    "print(\"\\nExtrait prévision demande (agrégations mensuelles):\")\n",
    "print(monthly_demand.head())\n",
    "\n"
   ]
  }
 ],
 "metadata": {
  "kernelspec": {
   "display_name": "Python 3",
   "language": "python",
   "name": "python3"
  },
  "language_info": {
   "codemirror_mode": {
    "name": "ipython",
    "version": 3
   },
   "file_extension": ".py",
   "mimetype": "text/x-python",
   "name": "python",
   "nbconvert_exporter": "python",
   "pygments_lexer": "ipython3",
   "version": "3.12.8"
  }
 },
 "nbformat": 4,
 "nbformat_minor": 5
}
