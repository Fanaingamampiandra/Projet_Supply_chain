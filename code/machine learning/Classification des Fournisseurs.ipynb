{
 "cells": [
  {
   "cell_type": "code",
   "execution_count": 26,
   "id": "cde2b781",
   "metadata": {},
   "outputs": [],
   "source": [
    "import pandas as pd\n",
    "import numpy as np\n",
    "import matplotlib.pyplot as plt\n",
    "import seaborn as sns\n",
    "from sklearn.model_selection import train_test_split\n",
    "from sklearn.ensemble import RandomForestRegressor\n",
    "from sklearn.preprocessing import LabelEncoder, OneHotEncoder\n",
    "from sklearn.compose import ColumnTransformer\n",
    "from sklearn.pipeline import Pipeline\n",
    "from sklearn.metrics import mean_absolute_error, r2_score\n",
    "from sklearn.cluster import KMeans\n",
    "from sklearn.decomposition import PCA\n",
    "from sklearn.metrics import silhouette_score # For K-Means evaluation\n",
    "import plotly.express as px # For interactive 3D plot\n",
    "import warnings\n",
    "warnings.filterwarnings(\"ignore\")"
   ]
  },
  {
   "cell_type": "code",
   "execution_count": 15,
   "id": "1118d736",
   "metadata": {},
   "outputs": [
    {
     "name": "stdout",
     "output_type": "stream",
     "text": [
      "--- Aperçu initial des données ---\n",
      "Dimensions de la base : (10000, 22)\n",
      "\n",
      "Types de données des colonnes :\n",
      "<class 'pandas.core.frame.DataFrame'>\n",
      "RangeIndex: 10000 entries, 0 to 9999\n",
      "Data columns (total 22 columns):\n",
      " #   Column                 Non-Null Count  Dtype  \n",
      "---  ------                 --------------  -----  \n",
      " 0   id_achat               10000 non-null  object \n",
      " 1   date_achat             10000 non-null  object \n",
      " 2   id_produit             10000 non-null  object \n",
      " 3   quantité               10000 non-null  int64  \n",
      " 4   id_fournisseur         10000 non-null  object \n",
      " 5   prix_unitaire          10000 non-null  float64\n",
      " 6   délai_livraison_jours  10000 non-null  int64  \n",
      " 7   montant_total          10000 non-null  float64\n",
      " 8   mois                   10000 non-null  int64  \n",
      " 9   année                  10000 non-null  int64  \n",
      " 10  jour_semaine           10000 non-null  int64  \n",
      " 11  catégorie              10000 non-null  object \n",
      " 12  marque                 10000 non-null  object \n",
      " 13  prix                   10000 non-null  float64\n",
      " 14  stock_minimum          10000 non-null  int64  \n",
      " 15  nom_fournisseur        10000 non-null  object \n",
      " 16  ville                  10000 non-null  object \n",
      " 17  pays                   10000 non-null  object \n",
      " 18  fiabilité              10000 non-null  float64\n",
      " 19  délai_moyen_jours      10000 non-null  int64  \n",
      " 20  niveau_stock           10000 non-null  int64  \n",
      " 21  entrepot               10000 non-null  object \n",
      "dtypes: float64(4), int64(8), object(10)\n",
      "memory usage: 1.7+ MB\n",
      "None\n",
      "\n",
      "Premières lignes de la base :\n",
      "   id_achat  date_achat id_produit  quantité id_fournisseur  prix_unitaire  \\\n",
      "0  PO000001  2024-03-22     P00627       150           S029         129.62   \n",
      "1  PO000002  2024-06-12     P00469        50           S028         110.81   \n",
      "2  PO000003  2024-01-19     P00849        75           S001         140.58   \n",
      "3  PO000004  2024-11-20     P00484       500           S028         120.77   \n",
      "4  PO000005  2024-06-07     P00196        50           S025         256.05   \n",
      "\n",
      "   délai_livraison_jours  montant_total  mois  année  ...           marque  \\\n",
      "0                     14        19443.0     3   2024  ...  Atelier Minéral   \n",
      "1                      8         5540.5     6   2024  ...      Reflet d'or   \n",
      "2                      8        10543.5     1   2024  ...  Ãveil Ãlégant   \n",
      "3                      9        60385.0    11   2024  ...      Reflet d'or   \n",
      "4                     13        12802.5     6   2024  ...       Luxe eclat   \n",
      "\n",
      "     prix stock_minimum      nom_fournisseur     ville       pays fiabilité  \\\n",
      "0   39.95            18  Fontaine Lopes S.A.  Helsinki   Finlande      0.54   \n",
      "1   25.58            18   Delattre Blot S.A.    Berlin  Allemagne      0.74   \n",
      "2   62.78            83      Lecomte et Fils    Zurich     Suisse      0.84   \n",
      "3  259.47            39   Delattre Blot S.A.    Berlin  Allemagne      0.74   \n",
      "4  353.45            33            Techer SA  Varsovie    Pologne      0.92   \n",
      "\n",
      "  délai_moyen_jours  niveau_stock   entrepot  \n",
      "0                 6           289      Paris  \n",
      "1                 8            80      Paris  \n",
      "2                10            54  Marseille  \n",
      "3                 8           249  Marseille  \n",
      "4                12           119      Paris  \n",
      "\n",
      "[5 rows x 22 columns]\n",
      "\n",
      "Statistiques descriptives des colonnes numériques :\n",
      "           quantité  prix_unitaire  délai_livraison_jours  montant_total  \\\n",
      "count  10000.000000   10000.000000           10000.000000   10000.000000   \n",
      "mean      99.512500     155.187121               7.955900   15530.706135   \n",
      "std       98.580534      83.661601               3.754273   19313.230160   \n",
      "min       10.000000      10.030000               2.000000     100.300000   \n",
      "25%       25.000000      83.087500               5.000000    3508.937500   \n",
      "50%       75.000000     155.365000               8.000000    9099.500000   \n",
      "75%      100.000000     227.740000              11.000000   19748.062500   \n",
      "max      500.000000     299.980000              14.000000  148310.000000   \n",
      "\n",
      "               mois    année  jour_semaine          prix  stock_minimum  \\\n",
      "count  10000.000000  10000.0  10000.000000  10000.000000   10000.000000   \n",
      "mean       6.537200   2024.0      2.978200    258.293713      53.283000   \n",
      "std        3.455316      0.0      2.011549    141.211258      25.376137   \n",
      "min        1.000000   2024.0      0.000000     22.220000      10.000000   \n",
      "25%        4.000000   2024.0      1.000000    130.720000      31.000000   \n",
      "50%        7.000000   2024.0      3.000000    258.450000      54.000000   \n",
      "75%       10.000000   2024.0      5.000000    376.880000      74.000000   \n",
      "max       12.000000   2024.0      6.000000    499.720000      99.000000   \n",
      "\n",
      "          fiabilité  délai_moyen_jours  niveau_stock  \n",
      "count  10000.000000        10000.00000  10000.000000  \n",
      "mean       0.697760            7.05340    147.771300  \n",
      "std        0.143535            2.19076     88.354962  \n",
      "min        0.500000            3.00000      0.000000  \n",
      "25%        0.540000            6.00000     72.000000  \n",
      "50%        0.650000            7.00000    145.000000  \n",
      "75%        0.740000            8.00000    226.000000  \n",
      "max        1.000000           14.00000    299.000000  \n",
      "\n",
      "Valeurs manquantes par colonne :\n",
      "id_achat                 0\n",
      "date_achat               0\n",
      "id_produit               0\n",
      "quantité                 0\n",
      "id_fournisseur           0\n",
      "prix_unitaire            0\n",
      "délai_livraison_jours    0\n",
      "montant_total            0\n",
      "mois                     0\n",
      "année                    0\n",
      "jour_semaine             0\n",
      "catégorie                0\n",
      "marque                   0\n",
      "prix                     0\n",
      "stock_minimum            0\n",
      "nom_fournisseur          0\n",
      "ville                    0\n",
      "pays                     0\n",
      "fiabilité                0\n",
      "délai_moyen_jours        0\n",
      "niveau_stock             0\n",
      "entrepot                 0\n",
      "dtype: int64\n"
     ]
    }
   ],
   "source": [
    "df = pd.read_csv('../machine learning/data.csv')\n",
    "\n",
    "\n",
    "print(\"--- Aperçu initial des données ---\")\n",
    "print(f\"Dimensions de la base : {df.shape}\")\n",
    "print(\"\\nTypes de données des colonnes :\")\n",
    "print(df.info())\n",
    "\n",
    "print(\"\\nPremières lignes de la base :\")\n",
    "print(df.head())\n",
    "\n",
    "print(\"\\nStatistiques descriptives des colonnes numériques :\")\n",
    "print(df.describe())\n",
    "\n",
    "print(\"\\nValeurs manquantes par colonne :\")\n",
    "print(df.isnull().sum())\n",
    "\n",
    "\n",
    "# Conversion de la date\n",
    "df['date_achat'] = pd.to_datetime(df['date_achat'])"
   ]
  },
  {
   "cell_type": "markdown",
   "id": "3ed310b9",
   "metadata": {},
   "source": [
    "# Interprétation de l'Aperçu Initial des Données\n",
    "\n",
    "L'analyse initiale de la base de données nous fournit des informations précieuses sur sa structure, la nature des données et sa qualité globale.\n",
    "\n",
    "---\n",
    "\n",
    "## 1. Structure Générale de la Base de Données\n",
    "\n",
    "*   **Dimensions :** La base de données est de taille modérée, contenant **10000 enregistrements** (lignes) et **22 variables** (colonnes).\n",
    "    *   `Dimensions de la base : (10000, 22)`\n",
    "*   **Index :** Les enregistrements sont indexés de 0 à 9999.\n",
    "    *   `RangeIndex: 10000 entries, 0 to 9999`\n",
    "*   **Types de Données :**\n",
    "    *   Il y a une diversité de types de données :\n",
    "        *   **`object` (10 colonnes) :** Typiquement des chaînes de caractères, utilisées pour des identifiants (`id_achat`, `id_produit`, `id_fournisseur`), des dates stockées comme texte (`date_achat`), et des données catégorielles (`catégorie`, `marque`, `nom_fournisseur`, `ville`, `pays`, `entrepot`).\n",
    "        *   **`int64` (8 colonnes) :** Nombres entiers, utilisés pour des quantités (`quantité`), des indicateurs temporels (`délai_livraison_jours`, `mois`, `année`, `jour_semaine`, `délai_moyen_jours`), et des seuils/niveaux (`stock_minimum`, `niveau_stock`).\n",
    "        *   **`float64` (4 colonnes) :** Nombres décimaux, utilisés pour des valeurs monétaires (`prix_unitaire`, `montant_total`, `prix`) et des indicateurs de performance (`fiabilité`).\n",
    "    *   `dtypes: float64(4), int64(8), object(10)`\n",
    "*   **Utilisation Mémoire :** La base de données occupe environ **1.7+ MB** en mémoire.\n",
    "    *   `memory usage: 1.7+ MB`\n",
    "\n",
    "---\n",
    "\n",
    "## 2. Qualité des Données (Valeurs Manquantes)\n",
    "\n",
    "*   **Aucune valeur manquante** n'est détectée dans l'ensemble des 22 colonnes.\n",
    "*   Cela indique une **excellente complétude des données** à ce stade, simplifiant les étapes de nettoyage initial.\n",
    "\n",
    "---\n",
    "\n",
    "## 3. Aperçu des Données (Premières Lignes)\n",
    "\n",
    "Les premières lignes donnent un aperçu concret du contenu :\n",
    "\n",
    "*   **Identifiants :** `id_achat` (ex: `PO000001`), `id_produit` (ex: `P00627`), `id_fournisseur` (ex: `S029`) semblent être des codes alphanumériques.\n",
    "*   **Informations d'Achat :**\n",
    "    *   `date_achat` (ex: `2024-03-22`) est stockée comme `object` et nécessitera une conversion en type `datetime` pour des analyses temporelles.\n",
    "    *   `quantité` (ex: `150`), `prix_unitaire` (ex: `129.62`), `montant_total` (ex: `19443.0`). Il est probable que `montant_total` = `quantité` * `prix_unitaire`.\n",
    "*   **Informations Produit :**\n",
    "    *   `catégorie`, `marque` (ex: `Atelier Minéral`).\n",
    "    *   `prix` (ex: `39.95`) : semble être un prix catalogue du produit, différent du `prix_unitaire` d'achat.\n",
    "    *   `stock_minimum`, `niveau_stock`.\n",
    "*   **Informations Fournisseur :**\n",
    "    *   `nom_fournisseur` (ex: `Fontaine Lopes S.A.`), `ville` (ex: `Helsinki`), `pays` (ex: `Finlande`).\n",
    "    *   `fiabilité` (ex: `0.54`), `délai_moyen_jours` (ex: `6`).\n",
    "*   **Informations Logistiques :**\n",
    "    *   `délai_livraison_jours` (ex: `14`).\n",
    "    *   `entrepot` (ex: `Paris`).\n",
    "*   **Composantes de Date :** `mois`, `année`, `jour_semaine` sont déjà extraites, probablement de `date_achat`.\n",
    "*   **Encodage :** La valeur `Ã‰veil Ã‰légant` dans la colonne `marque` suggère un **problème d'encodage des caractères** (probablement UTF-8 lu comme Latin-1 ou vice-versa) qu'il faudra corriger.\n",
    "\n",
    "---\n",
    "\n",
    "## 4. Statistiques Descriptives (Colonnes Numériques)\n",
    "\n",
    "*   **`quantité` :**\n",
    "    *   Moyenne : 99.5\n",
    "    *   Écart-type : 98.6 (forte dispersion)\n",
    "    *   Min : 10, Max : 500\n",
    "    *   Médiane (50%) : 75. La moyenne supérieure à la médiane suggère une distribution asymétrique à droite (quelques commandes de très grande quantité).\n",
    "*   **`prix_unitaire` :**\n",
    "    *   Moyenne : 155.19\n",
    "    *   Min : 10.03, Max : 299.98\n",
    "*   **`délai_livraison_jours` :**\n",
    "    *   Moyenne : 7.96 jours (environ 8 jours)\n",
    "    *   Min : 2, Max : 14 jours.\n",
    "*   **`montant_total` :**\n",
    "    *   Moyenne : 15530.71\n",
    "    *   Écart-type : 19313.23 (très forte dispersion, encore plus marquée que pour `quantité`)\n",
    "    *   Min : 100.30, Max : 148310.00\n",
    "    *   Médiane (50%) : 9099.50. La moyenne significativement plus élevée que la médiane confirme la présence de montants de commande très élevés qui tirent la moyenne vers le haut.\n",
    "*   **`mois` :** Les achats sont répartis sur tous les mois de l'année (Min 1, Max 12).\n",
    "*   **`année` :**\n",
    "    *   **Toutes les données concernent l'année 2024** (Moyenne, Min, Max, Quartiles tous à 2024, Écart-type de 0). C'est une information importante pour le contexte de l'analyse.\n",
    "*   **`jour_semaine` :** Les valeurs vont de 0 à 6, représentant probablement les jours de la semaine (ex: Lundi=0 à Dimanche=6 ou inversement).\n",
    "*   **`prix` (probablement prix catalogue produit) :**\n",
    "    *   Moyenne : 258.29\n",
    "    *   Min : 22.22, Max : 499.72. Ce prix est distinct et généralement plus élevé que le `prix_unitaire` d'achat moyen.\n",
    "*   **`stock_minimum` :**\n",
    "    *   Moyenne : 53.28\n",
    "    *   Min : 10, Max : 99.\n",
    "*   **`fiabilité` (probablement du fournisseur) :**\n",
    "    *   Moyenne : 0.697 (environ 70%)\n",
    "    *   Min : 0.5, Max : 1.0. Semble être un score normalisé entre 0.5 et 1.\n",
    "*   **`délai_moyen_jours` (probablement du fournisseur) :**\n",
    "    *   Moyenne : 7.05 jours\n",
    "    *   Min : 3, Max : 14 jours.\n",
    "*   **`niveau_stock` :**\n",
    "    *   Moyenne : 147.77\n",
    "    *   Min : 0 (des ruptures de stock existent ou ont existé), Max : 299.\n",
    "\n",
    "---\n",
    "\n",
    "## 5. Conclusions Préliminaires et Pistes\n",
    "\n",
    "*   **Données Complètes :** La base est complète, sans valeurs manquantes, ce qui est un excellent point de départ.\n",
    "*   **Problème d'Encodage :** Un problème d'encodage des caractères est visible (`Ã‰veil Ã‰légant`) et doit être traité.\n",
    "*   **Conversion de Type :** La colonne `date_achat` doit être convertie en type `datetime` pour toute analyse temporelle.\n",
    "*   **Contexte Temporel :** Toutes les données sont de **2024**. Cela limite les analyses de tendances sur plusieurs années mais simplifie les comparaisons au sein de cette année.\n",
    "*   **Variables Clés pour l'Analyse :**\n",
    "    *   Transactions : `quantité`, `prix_unitaire`, `montant_total`.\n",
    "    *   Produits : `catégorie`, `marque`, `prix`.\n",
    "    *   Fournisseurs : `nom_fournisseur`, `fiabilité`, `délai_moyen_jours`.\n",
    "    *   Logistique : `délai_livraison_jours`, `niveau_stock`, `entrepot`.\n",
    "*   **Potentiel d'Analyse :**\n",
    "    *   Analyse des ventes par catégorie, marque, mois.\n",
    "    *   Performance des fournisseurs (fiabilité, délais).\n",
    "    *   Optimisation des stocks (`stock_minimum` vs `niveau_stock`).\n",
    "    *   Relation entre `prix_unitaire` d'achat et `prix` catalogue.\n",
    "    *   Analyse des montants de commande et identification des outliers.\n",
    "\n",
    "Cette première exploration fournit une base solide pour des analyses plus approfondies."
   ]
  },
  {
   "cell_type": "code",
   "execution_count": 16,
   "id": "e068ac1b",
   "metadata": {},
   "outputs": [
    {
     "name": "stdout",
     "output_type": "stream",
     "text": [
      "\n",
      "--- Analyse exploratoire détaillée ---\n"
     ]
    },
    {
     "data": {
      "image/png": "[encoded data removed]",
      "text/plain": [
       "<Figure size 1000x600 with 1 Axes>"
      ]
     },
     "metadata": {},
     "output_type": "display_data"
    }
   ],
   "source": [
    "print(\"\\n--- Analyse exploratoire détaillée ---\")\n",
    "\n",
    "# Distribution des catégories de produits\n",
    "plt.figure(figsize=(10, 6))\n",
    "sns.countplot(y=df['catégorie'], order=df['catégorie'].value_counts().index)\n",
    "plt.title('Distribution des catégories de produits')\n",
    "plt.xlabel('Nombre d\\'achats')\n",
    "plt.ylabel('Catégorie')\n",
    "plt.tight_layout()\n",
    "plt.show()"
   ]
  },
  {
   "cell_type": "markdown",
   "id": "689ea47b",
   "metadata": {},
   "source": [
    "Le graphique à barres horizontales illustre la distribution des catégories de produits en fonction du nombre d'achats. \n",
    "\n",
    "**Analyse des catégories et de leur popularité (nombre d'achats) :** \n",
    "\n",
    "1. **Soins capillaires :** \n",
    "    - C'est la catégorie de produits la plus achetée.\n",
    "    - Le nombre d'achats se situe légèrement au-dessus de 2100 (estimation : ~2120)\n",
    "\n",
    "2. **Soins de la peau :** \n",
    "    - Arrive en deuxième position en termes de nombre d'achats.\n",
    "    - Le volume d'achats est très proche de celui des soins capillaires, aux alentours de 2050 (estimation : ~2060).\n",
    "    \n",
    "La différence entre les deux catégories est minime, ce qui indique une forte demande pour les soins de la peau.\n",
    "\n",
    "3. **Accessoires :** \n",
    "    - Se classe troisième.\n",
    "    - Le nombre d'achats est légèrement supérieur à 2000 (estimation : ~2020).\n",
    "    \n",
    "4. **Maquillage :** \n",
    "    - Est la quatrième catégorie la plus achetée.\n",
    "    - Le nombre d'achats se situe entre 1800 et 1900, plus proche de 1900 (estimation : ~1880).\n",
    "\n",
    "5. **Parfums :**\n",
    "    - Représente la catégorie la moins achetée parmi celles présentées.\n",
    "    - Le nombre d'achats est d'environ 1800 (estimation : ~1830).\n",
    "\n",
    "**Interprétation générale :** \n",
    "- Les produits de \"Soins\" (capillaires et de la peau) ainsi que les \"Accessoires\" sont les plus populaires auprès des acheteurs (ici, les entreprises achetant au fournisseur).\n",
    "- Il y a une demande soutenue pour ces trois catégories, avec des volumes d'achats relativement similaires et les plus élevés. \n",
    "- Le \"Maquillage\" et les \"Parfums\", bien que significatifs, sont achetés en quantités légèrement inférieures par rapport aux trois premières catégories. \n",
    "- Les différences de volume d'achats entre les catégories ne sont pas drastiques, mais une hiérarchie claire se dessine, avec les \"Soins capillaires\" en tête. "
   ]
  },
  {
   "cell_type": "code",
   "execution_count": 17,
   "id": "56e2bc34",
   "metadata": {},
   "outputs": [
    {
     "data": {
      "image/png": "[encoded data removed]",
      "text/plain": [
       "<Figure size 1000x600 with 1 Axes>"
      ]
     },
     "metadata": {},
     "output_type": "display_data"
    }
   ],
   "source": [
    "# Distribution des montants totaux\n",
    "plt.figure(figsize=(10, 6))\n",
    "sns.histplot(df['montant_total'], kde=True, bins=30)\n",
    "plt.title('Distribution des montants totaux des achats')\n",
    "plt.xlabel('Montant Total')\n",
    "plt.ylabel('Fréquence')\n",
    "plt.show()\n"
   ]
  },
  {
   "cell_type": "markdown",
   "id": "ff3038c7",
   "metadata": {},
   "source": [
    "## Observation Générale :\n",
    "L'histogramme illustre la distribution de la variable `montant_total` des achats. Il est accompagné d'une courbe d'estimation de la densité (KDE) qui lisse la distribution.\n",
    "\n",
    "## Caractéristiques Principales de la Distribution :\n",
    "\n",
    "1.  **Asymétrie Positive (Skewness à Droite) :**\n",
    "    *   La distribution est **fortement asymétrique à droite** (positive skew). Cela signifie que la majorité des achats ont des montants totaux relativement faibles, tandis qu'un petit nombre d'achats ont des montants totaux très élevés.\n",
    "    *   La \"queue\" de la distribution s'étend loin vers les valeurs élevées sur l'axe des X.\n",
    "\n",
    "2.  **Concentration des Valeurs :**\n",
    "    *   La **majorité des transactions** (le pic le plus élevé de l'histogramme) se situe dans les **montants les plus bas**, probablement entre 0 et environ 10 000. La fréquence dépasse 3000 pour la première classe.\n",
    "    *   La fréquence diminue rapidement à mesure que le montant total augmente. Par exemple, la fréquence des achats entre 10 000 et 20 000 est déjà significativement plus basse (autour de 2000).\n",
    "\n",
    "3.  **Présence de Valeurs Élevées (Outliers Potentiels) :**\n",
    "    *   Bien que moins fréquents, il existe des achats avec des montants totaux substantiels, allant jusqu'à environ 150 000.\n",
    "    *   Ces transactions de grande valeur sont responsables de l'étirement de la queue de la distribution vers la droite.\n",
    "\n",
    "## Corrélation avec les Statistiques Descriptives Précédentes :\n",
    "\n",
    "Cette observation visuelle est cohérente avec les statistiques descriptives fournies précédemment pour `montant_total` :\n",
    "*   **Moyenne (`mean`) : 15 530.71**\n",
    "*   **Médiane (`50%`) : 9 099.50**\n",
    "*   **Écart-type (`std`) : 19 313.23** (très élevé, indiquant une grande dispersion)\n",
    "*   **Maximum (`max`) : 148 310.00**\n",
    "\n",
    "Le fait que la **moyenne soit significativement plus élevée que la médiane** est une caractéristique classique des distributions asymétriques à droite. Les quelques valeurs très élevées tirent la moyenne vers le haut.\n",
    "\n",
    "## Implications et Pistes d'Analyse :\n",
    "\n",
    "*   **Nature des Transactions :** La plupart des achats sont de faible valeur, mais quelques transactions de grande valeur existent. Il serait intéressant d'identifier ce qui caractérise ces achats à montant élevé (types de produits, fournisseurs, etc.).\n",
    "*   **Segmentation :** Il pourrait être pertinent de segmenter les analyses. Par exemple, analyser séparément les achats \"courants\" (faible montant) et les achats \"exceptionnels\" (montant élevé).\n",
    "*   **Modélisation :** Si cette variable doit être utilisée dans certains modèles statistiques qui supposent la normalité (ou une symétrie), une transformation (par exemple, logarithmique) pourrait être envisagée pour réduire l'asymétrie.\n",
    "*   **Impact Commercial :** Bien que moins nombreux, les achats à montant total élevé peuvent avoir un impact disproportionné sur le chiffre d'affaires global ou les coûts.\n",
    "\n",
    "En résumé, la distribution des montants totaux des achats montre une prédominance de transactions de faible valeur, avec une longue traîne de transactions de plus grande valeur qui, bien que moins fréquentes, peuvent être significatives."
   ]
  },
  {
   "cell_type": "code",
   "execution_count": 32,
   "id": "52983cc8",
   "metadata": {},
   "outputs": [
    {
     "data": {
      "image/png": "[encoded data removed]",
      "text/plain": [
       "<Figure size 1000x600 with 1 Axes>"
      ]
     },
     "metadata": {},
     "output_type": "display_data"
    }
   ],
   "source": [
    "# Distribution des délais de livraison réels\n",
    "plt.figure(figsize=(10, 6))\n",
    "sns.histplot(df['délai_livraison_jours'], kde=True, bins=20)\n",
    "plt.title('Distribution des délais de livraison (en jours)')\n",
    "plt.xlabel('Délai de livraison (jours)')\n",
    "plt.ylabel('Fréquence')\n",
    "plt.show()"
   ]
  },
  {
   "cell_type": "markdown",
   "id": "a70cf722",
   "metadata": {},
   "source": [
    "### Interprétation : Distribution des Délais de Livraison (en jours)\n",
    "\n",
    "Cet histogramme montre la fréquence des différents délais de livraison, allant de **2 à 14 jours**.\n",
    "\n",
    "*   **Caractéristique principale :** La distribution est **relativement uniforme**. Aucun délai de livraison spécifique ne se distingue par une fréquence nettement supérieure aux autres.\n",
    "*   **Fréquences :** Les occurrences pour chaque délai oscillent entre environ 720 et un peu plus de 800. Le délai de 4 jours est légèrement le plus fréquent (environ 820) et celui de 10 jours le moins fréquent (environ 720), mais les différences globales entre les fréquences des différents délais sont modérées.\n",
    "*   **Conclusion :** Les délais de livraison sont assez **équitablement répartis** sur la plage observée (2 à 14 jours), plutôt que d'être fortement concentrés autour d'une valeur centrale. La courbe d'estimation de densité (KDE) confirme cette tendance générale, montrant de légères fluctuations mais pas de pic dominant."
   ]
  },
  {
   "cell_type": "code",
   "execution_count": 19,
   "id": "9486ae99",
   "metadata": {},
   "outputs": [
    {
     "data": {
      "image/png": "[encoded data removed]",
      "text/plain": [
       "<Figure size 1200x700 with 1 Axes>"
      ]
     },
     "metadata": {},
     "output_type": "display_data"
    }
   ],
   "source": [
    "\n",
    "# Top 10 Fournisseurs par nombre d'achats\n",
    "plt.figure(figsize=(12, 7))\n",
    "top_fournisseurs = df['nom_fournisseur'].value_counts().nlargest(10)\n",
    "sns.barplot(x=top_fournisseurs.values, y=top_fournisseurs.index)\n",
    "plt.title('Top 10 des fournisseurs par nombre d\\'achats')\n",
    "plt.xlabel('Nombre d\\'achats')\n",
    "plt.ylabel('Nom du Fournisseur')\n",
    "plt.tight_layout()\n",
    "plt.show()"
   ]
  },
  {
   "cell_type": "markdown",
   "id": "4ead9792",
   "metadata": {},
   "source": [
    "### Interprétation : Top 10 des fournisseurs par nombre d'achats\n",
    "\n",
    "Ce graphique montre le classement des 10 principaux fournisseurs par volume d'achats.\n",
    "\n",
    "**Points Clés :**\n",
    "\n",
    "1.  **Top 3 Dominant :**\n",
    "    *   **Delattre Blot S.A. :** ~2050-2100 achats (1er)\n",
    "    *   **Gaillard S.A. :** ~1950-1980 achats (2ème)\n",
    "    *   **Fontaine Lopes S.A. :** ~1900-1950 achats (3ème)\n",
    "    *   *Ces trois fournisseurs concentrent la majorité des achats.*\n",
    "\n",
    "2.  **Groupe Intermédiaire (4ème-8ème) :**\n",
    "    *   **Morvan :** ~500-550 achats\n",
    "    *   **Pelletier, Lecomte, Lucas :** ~450-500 achats chacun\n",
    "    *   **Roche :** ~400-450 achats\n",
    "    *   *Volume d'achats modéré, significativement plus bas que le top 3.*\n",
    "\n",
    "3.  **Bas du Classement (9ème-10ème) :**\n",
    "    *   **Charles SARL & Mercier Dupuy S.A.S. :** < 50 achats chacun\n",
    "    *   *Volume d'achats très faible, marginal.*\n",
    "\n",
    "**Synthèse :**\n",
    "Forte concentration des achats sur les trois premiers fournisseurs. Un groupe de cinq fournisseurs a un volume modéré. Les deux derniers ont une part très faible. Écarts importants entre ces groupes."
   ]
  },
  {
   "cell_type": "code",
   "execution_count": 20,
   "id": "a658c4da",
   "metadata": {},
   "outputs": [
    {
     "data": {
      "image/png": "[encoded data removed]",
      "text/plain": [
       "<Figure size 1000x600 with 1 Axes>"
      ]
     },
     "metadata": {},
     "output_type": "display_data"
    }
   ],
   "source": [
    "# Montant total des achats par mois\n",
    "achats_par_mois = df.groupby('mois')['montant_total'].sum()\n",
    "plt.figure(figsize=(10, 6))\n",
    "achats_par_mois.plot(kind='bar')\n",
    "plt.title('Montant total des achats par mois')\n",
    "plt.xlabel('Mois')\n",
    "plt.ylabel('Montant Total')\n",
    "plt.xticks(rotation=0)\n",
    "plt.show()\n"
   ]
  },
  {
   "cell_type": "markdown",
   "id": "1cef766d",
   "metadata": {},
   "source": [
    "### Interprétation : Montant total des achats par mois\n",
    "\n",
    "Ce graphique à barres verticales illustre le montant total des achats (en unités monétaires, l'axe Y va jusqu'à 1.4x10⁷, donc probablement en dizaines de millions) pour chaque mois de l'année (1 à 12).\n",
    "\n",
    "**Points Clés :**\n",
    "\n",
    "1.  **Pics d'achats (Montants les plus élevés) :**\n",
    "    *   **Mois 7 (Juillet) :** Montant le plus élevé, approchant 1,4 x 10⁷ (environ 13,9 millions).\n",
    "    *   **Mois 4 (Avril) :** Très élevé, environ 1,38 x 10⁷.\n",
    "    *   Les mois 1 (Janvier), 9 (Septembre), et 12 (Décembre) montrent également des montants élevés, tous supérieurs à 1,3 x 10⁷.\n",
    "\n",
    "2.  **Creux d'achats (Montants les plus bas) :**\n",
    "    *   **Mois 3 (Mars) :** Montant le plus bas, environ 1,1 x 10⁷.\n",
    "    *   **Mois 2 (Février) :** Relativement bas, autour de 1,2 x 10⁷.\n",
    "\n",
    "3.  **Tendance Générale :**\n",
    "    *   Les montants d'achats sont globalement élevés et relativement stables tout au long de l'année, oscillant principalement entre 1,1 x 10⁷ et 1,4 x 10⁷.\n",
    "    *   Il n'y a pas de chute drastique ou de saisonnalité très prononcée, mais plutôt des fluctuations mensuelles.\n",
    "\n",
    "**Synthèse :**\n",
    "L'activité d'achat, en termes de montant, est soutenue sur l'ensemble de l'année. Juillet et Avril se distinguent par les montants les plus importants, tandis que Mars enregistre le plus faible. Les variations mensuelles existent mais ne dénotent pas de période de forte baisse prolongée."
   ]
  },
  {
   "cell_type": "code",
   "execution_count": 34,
   "id": "2d4400da",
   "metadata": {},
   "outputs": [
    {
     "name": "stdout",
     "output_type": "stream",
     "text": [
      "\n",
      "--- Classification des fournisseurs ---\n",
      "\n",
      "Caractéristiques agrégées par fournisseur :\n"
     ]
    },
    {
     "data": {
      "application/vnd.microsoft.datawrangler.viewer.v0+json": {
       "columns": [
        {
         "name": "index",
         "rawType": "object",
         "type": "string"
        },
        {
         "name": "0",
         "rawType": "object",
         "type": "unknown"
        },
        {
         "name": "1",
         "rawType": "object",
         "type": "unknown"
        },
        {
         "name": "2",
         "rawType": "object",
         "type": "unknown"
        },
        {
         "name": "3",
         "rawType": "object",
         "type": "unknown"
        },
        {
         "name": "4",
         "rawType": "object",
         "type": "unknown"
        }
       ],
       "ref": "29f08876-76b6-4542-8f5c-ff926319e966",
       "rows": [
        [
         "id_fournisseur",
         "S001",
         "S002",
         "S003",
         "S004",
         "S005"
        ],
        [
         "nom_fournisseur",
         "Lecomte et Fils",
         "Morvan",
         "Germain et Fils",
         "Philippe",
         "Blanc"
        ],
        [
         "fiabilite",
         "0.8400000000000001",
         "0.86",
         "0.85",
         "0.57",
         "0.65"
        ],
        [
         "delai_moyen_livraison_specifique",
         "10.0",
         "9.0",
         "10.0",
         "9.0",
         "13.0"
        ],
        [
         "nombre_achats",
         "40",
         "551",
         "29",
         "32",
         "42"
        ],
        [
         "montant_total_achats",
         "576134.75",
         "8911703.35",
         "433349.2",
         "605874.4",
         "813314.3"
        ],
        [
         "quantite_totale_achetee",
         "3935",
         "56800",
         "2325",
         "3780",
         "4520"
        ],
        [
         "prix_unitaire_moyen_paye",
         "157.78625",
         "155.40468239564427",
         "162.1962068965517",
         "159.340625",
         "169.90333333333334"
        ],
        [
         "delai_livraison_observe_moyen",
         "8.9",
         "7.911070780399274",
         "8.413793103448276",
         "8.3125",
         "7.0476190476190474"
        ],
        [
         "montant_moyen_par_achat",
         "14403.36875",
         "16173.690290381124",
         "14943.075862068967",
         "18933.575",
         "19364.626190476192"
        ]
       ],
       "shape": {
        "columns": 5,
        "rows": 10
       }
      },
      "text/html": [
       "<div>\n",
       "<style scoped>\n",
       "    .dataframe tbody tr th:only-of-type {\n",
       "        vertical-align: middle;\n",
       "    }\n",
       "\n",
       "    .dataframe tbody tr th {\n",
       "        vertical-align: top;\n",
       "    }\n",
       "\n",
       "    .dataframe thead th {\n",
       "        text-align: right;\n",
       "    }\n",
       "</style>\n",
       "<table border=\"1\" class=\"dataframe\">\n",
       "  <thead>\n",
       "    <tr style=\"text-align: right;\">\n",
       "      <th></th>\n",
       "      <th>0</th>\n",
       "      <th>1</th>\n",
       "      <th>2</th>\n",
       "      <th>3</th>\n",
       "      <th>4</th>\n",
       "    </tr>\n",
       "  </thead>\n",
       "  <tbody>\n",
       "    <tr>\n",
       "      <th>id_fournisseur</th>\n",
       "      <td>S001</td>\n",
       "      <td>S002</td>\n",
       "      <td>S003</td>\n",
       "      <td>S004</td>\n",
       "      <td>S005</td>\n",
       "    </tr>\n",
       "    <tr>\n",
       "      <th>nom_fournisseur</th>\n",
       "      <td>Lecomte et Fils</td>\n",
       "      <td>Morvan</td>\n",
       "      <td>Germain et Fils</td>\n",
       "      <td>Philippe</td>\n",
       "      <td>Blanc</td>\n",
       "    </tr>\n",
       "    <tr>\n",
       "      <th>fiabilite</th>\n",
       "      <td>0.84</td>\n",
       "      <td>0.86</td>\n",
       "      <td>0.85</td>\n",
       "      <td>0.57</td>\n",
       "      <td>0.65</td>\n",
       "    </tr>\n",
       "    <tr>\n",
       "      <th>delai_moyen_livraison_specifique</th>\n",
       "      <td>10.0</td>\n",
       "      <td>9.0</td>\n",
       "      <td>10.0</td>\n",
       "      <td>9.0</td>\n",
       "      <td>13.0</td>\n",
       "    </tr>\n",
       "    <tr>\n",
       "      <th>nombre_achats</th>\n",
       "      <td>40</td>\n",
       "      <td>551</td>\n",
       "      <td>29</td>\n",
       "      <td>32</td>\n",
       "      <td>42</td>\n",
       "    </tr>\n",
       "    <tr>\n",
       "      <th>montant_total_achats</th>\n",
       "      <td>576134.75</td>\n",
       "      <td>8911703.35</td>\n",
       "      <td>433349.2</td>\n",
       "      <td>605874.4</td>\n",
       "      <td>813314.3</td>\n",
       "    </tr>\n",
       "    <tr>\n",
       "      <th>quantite_totale_achetee</th>\n",
       "      <td>3935</td>\n",
       "      <td>56800</td>\n",
       "      <td>2325</td>\n",
       "      <td>3780</td>\n",
       "      <td>4520</td>\n",
       "    </tr>\n",
       "    <tr>\n",
       "      <th>prix_unitaire_moyen_paye</th>\n",
       "      <td>157.78625</td>\n",
       "      <td>155.404682</td>\n",
       "      <td>162.196207</td>\n",
       "      <td>159.340625</td>\n",
       "      <td>169.903333</td>\n",
       "    </tr>\n",
       "    <tr>\n",
       "      <th>delai_livraison_observe_moyen</th>\n",
       "      <td>8.9</td>\n",
       "      <td>7.911071</td>\n",
       "      <td>8.413793</td>\n",
       "      <td>8.3125</td>\n",
       "      <td>7.047619</td>\n",
       "    </tr>\n",
       "    <tr>\n",
       "      <th>montant_moyen_par_achat</th>\n",
       "      <td>14403.36875</td>\n",
       "      <td>16173.69029</td>\n",
       "      <td>14943.075862</td>\n",
       "      <td>18933.575</td>\n",
       "      <td>19364.62619</td>\n",
       "    </tr>\n",
       "  </tbody>\n",
       "</table>\n",
       "</div>"
      ],
      "text/plain": [
       "                                                0            1  \\\n",
       "id_fournisseur                               S001         S002   \n",
       "nom_fournisseur                   Lecomte et Fils       Morvan   \n",
       "fiabilite                                    0.84         0.86   \n",
       "delai_moyen_livraison_specifique             10.0          9.0   \n",
       "nombre_achats                                  40          551   \n",
       "montant_total_achats                    576134.75   8911703.35   \n",
       "quantite_totale_achetee                      3935        56800   \n",
       "prix_unitaire_moyen_paye                157.78625   155.404682   \n",
       "delai_livraison_observe_moyen                 8.9     7.911071   \n",
       "montant_moyen_par_achat               14403.36875  16173.69029   \n",
       "\n",
       "                                                2           3            4  \n",
       "id_fournisseur                               S003        S004         S005  \n",
       "nom_fournisseur                   Germain et Fils    Philippe        Blanc  \n",
       "fiabilite                                    0.85        0.57         0.65  \n",
       "delai_moyen_livraison_specifique             10.0         9.0         13.0  \n",
       "nombre_achats                                  29          32           42  \n",
       "montant_total_achats                     433349.2    605874.4     813314.3  \n",
       "quantite_totale_achetee                      2325        3780         4520  \n",
       "prix_unitaire_moyen_paye               162.196207  159.340625   169.903333  \n",
       "delai_livraison_observe_moyen            8.413793      8.3125     7.047619  \n",
       "montant_moyen_par_achat              14943.075862   18933.575  19364.62619  "
      ]
     },
     "execution_count": 34,
     "metadata": {},
     "output_type": "execute_result"
    }
   ],
   "source": [
    "\n",
    "print(\"\\n--- Classification des fournisseurs ---\")\n",
    "\n",
    "\n",
    "supplier_features = df.groupby('id_fournisseur').agg(\n",
    "    nom_fournisseur=('nom_fournisseur', 'first'),\n",
    "    fiabilite=('fiabilité', 'mean'), \n",
    "    delai_moyen_livraison_specifique=('délai_moyen_jours', 'mean'), \n",
    "    nombre_achats=('id_achat', 'count'),\n",
    "    montant_total_achats=('montant_total', 'sum'),\n",
    "    quantite_totale_achetee=('quantité', 'sum'),\n",
    "    prix_unitaire_moyen_paye=('prix_unitaire', 'mean'),\n",
    "    delai_livraison_observe_moyen=('délai_livraison_jours', 'mean') \n",
    ").reset_index()\n",
    "\n",
    "supplier_features['montant_moyen_par_achat'] = supplier_features['montant_total_achats'] / supplier_features['nombre_achats']\n",
    "\n",
    "print(\"\\nCaractéristiques agrégées par fournisseur :\")\n",
    "supplier_features.head().T"
   ]
  },
  {
   "cell_type": "code",
   "execution_count": 22,
   "id": "361022a5",
   "metadata": {},
   "outputs": [
    {
     "name": "stdout",
     "output_type": "stream",
     "text": [
      "\n",
      "--- Création du graphique interactif avec Plotly pour la classification des fournisseurs ---\n"
     ]
    },
    {
     "data": {
      "application/vnd.plotly.v1+json": {
       "config": {
        "plotlyServerURL": "https://plot.ly"
       },
       "data": [
        {
         "customdata": {
          "bdata": "AAAAAAAAREAAAACADZUhQQ==",
          "dtype": "f8",
          "shape": "1, 2"
         },
         "hovertemplate": "<b>%{hovertext}</b><br><br>Fournisseur=Lecomte et Fils<br>Fiabilité du fournisseur=%{x:.2f}<br>Délai moyen de livraison spécifié (jours)=%{y}<br>Nombre d'achats=%{customdata[0]}<br>montant_total_achats=%{customdata[1]:,.0f}<extra></extra>",
         "hovertext": [
          "Lecomte et Fils"
         ],
         "legendgroup": "Lecomte et Fils",
         "marker": {
          "color": "#636efa",
          "size": {
           "bdata": "KA==",
           "dtype": "i1"
          },
          "sizemin": 5,
          "sizemode": "area",
          "sizeref": 5.115,
          "symbol": "circle"
         },
         "mode": "markers",
         "name": "Lecomte et Fils",
         "orientation": "v",
         "showlegend": true,
         "type": "scatter",
         "x": {
          "bdata": "4noUrkfh6j8=",
          "dtype": "f8"
         },
         "xaxis": "x",
         "y": {
          "bdata": "AAAAAAAAJEA=",
          "dtype": "f8"
         },
         "yaxis": "y"
        },
        {
         "customdata": {
          "bdata": "AAAAAAA4gUAzMzPrav9gQQ==",
          "dtype": "f8",
          "shape": "1, 2"
         },
         "hovertemplate": "<b>%{hovertext}</b><br><br>Fournisseur=Morvan<br>Fiabilité du fournisseur=%{x:.2f}<br>Délai moyen de livraison spécifié (jours)=%{y}<br>Nombre d'achats=%{customdata[0]}<br>montant_total_achats=%{customdata[1]:,.0f}<extra></extra>",
         "hovertext": [
          "Morvan"
         ],
         "legendgroup": "Morvan",
         "marker": {
          "color": "#EF553B",
          "size": {
           "bdata": "JwI=",
           "dtype": "i2"
          },
          "sizemin": 5,
          "sizemode": "area",
          "sizeref": 5.115,
          "symbol": "circle"
         },
         "mode": "markers",
         "name": "Morvan",
         "orientation": "v",
         "showlegend": true,
         "type": "scatter",
         "x": {
          "bdata": "hetRuB6F6z8=",
          "dtype": "f8"
         },
         "xaxis": "x",
         "y": {
          "bdata": "AAAAAAAAIkA=",
          "dtype": "f8"
         },
         "yaxis": "y"
        },
        {
         "customdata": {
          "bdata": "AAAAAAAAPUDNzMzMFHMaQQ==",
          "dtype": "f8",
          "shape": "1, 2"
         },
         "hovertemplate": "<b>%{hovertext}</b><br><br>Fournisseur=Germain et Fils<br>Fiabilité du fournisseur=%{x:.2f}<br>Délai moyen de livraison spécifié (jours)=%{y}<br>Nombre d'achats=%{customdata[0]}<br>montant_total_achats=%{customdata[1]:,.0f}<extra></extra>",
         "hovertext": [
          "Germain et Fils"
         ],
         "legendgroup": "Germain et Fils",
         "marker": {
          "color": "#00cc96",
          "size": {
           "bdata": "HQ==",
           "dtype": "i1"
          },
          "sizemin": 5,
          "sizemode": "area",
          "sizeref": 5.115,
          "symbol": "circle"
         },
         "mode": "markers",
         "name": "Germain et Fils",
         "orientation": "v",
         "showlegend": true,
         "type": "scatter",
         "x": {
          "bdata": "MzMzMzMz6z8=",
          "dtype": "f8"
         },
         "xaxis": "x",
         "y": {
          "bdata": "AAAAAAAAJEA=",
          "dtype": "f8"
         },
         "yaxis": "y"
        },
        {
         "customdata": {
          "bdata": "AAAAAAAAQEDNzMzMZH0iQQ==",
          "dtype": "f8",
          "shape": "1, 2"
         },
         "hovertemplate": "<b>%{hovertext}</b><br><br>Fournisseur=Philippe<br>Fiabilité du fournisseur=%{x:.2f}<br>Délai moyen de livraison spécifié (jours)=%{y}<br>Nombre d'achats=%{customdata[0]}<br>montant_total_achats=%{customdata[1]:,.0f}<extra></extra>",
         "hovertext": [
          "Philippe"
         ],
         "legendgroup": "Philippe",
         "marker": {
          "color": "#ab63fa",
          "size": {
           "bdata": "IA==",
           "dtype": "i1"
          },
          "sizemin": 5,
          "sizemode": "area",
          "sizeref": 5.115,
          "symbol": "circle"
         },
         "mode": "markers",
         "name": "Philippe",
         "orientation": "v",
         "showlegend": true,
         "type": "scatter",
         "x": {
          "bdata": "PQrXo3A94j8=",
          "dtype": "f8"
         },
         "xaxis": "x",
         "y": {
          "bdata": "AAAAAAAAIkA=",
          "dtype": "f8"
         },
         "yaxis": "y"
        },
        {
         "customdata": {
          "bdata": "AAAAAAAARUCamZmZBNIoQQ==",
          "dtype": "f8",
          "shape": "1, 2"
         },
         "hovertemplate": "<b>%{hovertext}</b><br><br>Fournisseur=Blanc<br>Fiabilité du fournisseur=%{x:.2f}<br>Délai moyen de livraison spécifié (jours)=%{y}<br>Nombre d'achats=%{customdata[0]}<br>montant_total_achats=%{customdata[1]:,.0f}<extra></extra>",
         "hovertext": [
          "Blanc"
         ],
         "legendgroup": "Blanc",
         "marker": {
          "color": "#FFA15A",
          "size": {
           "bdata": "Kg==",
           "dtype": "i1"
          },
          "sizemin": 5,
          "sizemode": "area",
          "sizeref": 5.115,
          "symbol": "circle"
         },
         "mode": "markers",
         "name": "Blanc",
         "orientation": "v",
         "showlegend": true,
         "type": "scatter",
         "x": {
          "bdata": "zczMzMzM5D8=",
          "dtype": "f8"
         },
         "xaxis": "x",
         "y": {
          "bdata": "AAAAAAAAKkA=",
          "dtype": "f8"
         },
         "yaxis": "y"
        },
        {
         "customdata": {
          "bdata": "AAAAAAAAREAAAAAAO6MjQQ==",
          "dtype": "f8",
          "shape": "1, 2"
         },
         "hovertemplate": "<b>%{hovertext}</b><br><br>Fournisseur=Jean<br>Fiabilité du fournisseur=%{x:.2f}<br>Délai moyen de livraison spécifié (jours)=%{y}<br>Nombre d'achats=%{customdata[0]}<br>montant_total_achats=%{customdata[1]:,.0f}<extra></extra>",
         "hovertext": [
          "Jean"
         ],
         "legendgroup": "Jean",
         "marker": {
          "color": "#19d3f3",
          "size": {
           "bdata": "KA==",
           "dtype": "i1"
          },
          "sizemin": 5,
          "sizemode": "area",
          "sizeref": 5.115,
          "symbol": "circle"
         },
         "mode": "markers",
         "name": "Jean",
         "orientation": "v",
         "showlegend": true,
         "type": "scatter",
         "x": {
          "bdata": "w/UoXI/C5T8=",
          "dtype": "f8"
         },
         "xaxis": "x",
         "y": {
          "bdata": "AAAAAAAAIEA=",
          "dtype": "f8"
         },
         "yaxis": "y"
        },
        {
         "customdata": {
          "bdata": "AAAAAAAAPkAzMzMzkxYeQQ==",
          "dtype": "f8",
          "shape": "1, 2"
         },
         "hovertemplate": "<b>%{hovertext}</b><br><br>Fournisseur=Carlier<br>Fiabilité du fournisseur=%{x:.2f}<br>Délai moyen de livraison spécifié (jours)=%{y}<br>Nombre d'achats=%{customdata[0]}<br>montant_total_achats=%{customdata[1]:,.0f}<extra></extra>",
         "hovertext": [
          "Carlier"
         ],
         "legendgroup": "Carlier",
         "marker": {
          "color": "#FF6692",
          "size": {
           "bdata": "Hg==",
           "dtype": "i1"
          },
          "sizemin": 5,
          "sizemode": "area",
          "sizeref": 5.115,
          "symbol": "circle"
         },
         "mode": "markers",
         "name": "Carlier",
         "orientation": "v",
         "showlegend": true,
         "type": "scatter",
         "x": {
          "bdata": "zczMzMzM7D8=",
          "dtype": "f8"
         },
         "xaxis": "x",
         "y": {
          "bdata": "AAAAAAAAIkA=",
          "dtype": "f8"
         },
         "yaxis": "y"
        },
        {
         "customdata": {
          "bdata": "AAAAAAD0nkBmZmYG38J8QQ==",
          "dtype": "f8",
          "shape": "1, 2"
         },
         "hovertemplate": "<b>%{hovertext}</b><br><br>Fournisseur=Gaillard S.A.<br>Fiabilité du fournisseur=%{x:.2f}<br>Délai moyen de livraison spécifié (jours)=%{y}<br>Nombre d'achats=%{customdata[0]}<br>montant_total_achats=%{customdata[1]:,.0f}<extra></extra>",
         "hovertext": [
          "Gaillard S.A."
         ],
         "legendgroup": "Gaillard S.A.",
         "marker": {
          "color": "#B6E880",
          "size": {
           "bdata": "vQc=",
           "dtype": "i2"
          },
          "sizemin": 5,
          "sizemode": "area",
          "sizeref": 5.115,
          "symbol": "circle"
         },
         "mode": "markers",
         "name": "Gaillard S.A.",
         "orientation": "v",
         "showlegend": true,
         "type": "scatter",
         "x": {
          "bdata": "exSuR+F65D8=",
          "dtype": "f8"
         },
         "xaxis": "x",
         "y": {
          "bdata": "AAAAAAAAHEA=",
          "dtype": "f8"
         },
         "yaxis": "y"
        },
        {
         "customdata": {
          "bdata": "AAAAAAAANUBmZmZmunIUQQ==",
          "dtype": "f8",
          "shape": "1, 2"
         },
         "hovertemplate": "<b>%{hovertext}</b><br><br>Fournisseur=Fischer<br>Fiabilité du fournisseur=%{x:.2f}<br>Délai moyen de livraison spécifié (jours)=%{y}<br>Nombre d'achats=%{customdata[0]}<br>montant_total_achats=%{customdata[1]:,.0f}<extra></extra>",
         "hovertext": [
          "Fischer"
         ],
         "legendgroup": "Fischer",
         "marker": {
          "color": "#FF97FF",
          "size": {
           "bdata": "FQ==",
           "dtype": "i1"
          },
          "sizemin": 5,
          "sizemode": "area",
          "sizeref": 5.115,
          "symbol": "circle"
         },
         "mode": "markers",
         "name": "Fischer",
         "orientation": "v",
         "showlegend": true,
         "type": "scatter",
         "x": {
          "bdata": "hetRuB6F4z8=",
          "dtype": "f8"
         },
         "xaxis": "x",
         "y": {
          "bdata": "AAAAAAAAIkA=",
          "dtype": "f8"
         },
         "yaxis": "y"
        },
        {
         "customdata": {
          "bdata": "AAAAAADQf0CamZm5K/pgQQ==",
          "dtype": "f8",
          "shape": "1, 2"
         },
         "hovertemplate": "<b>%{hovertext}</b><br><br>Fournisseur=Pelletier<br>Fiabilité du fournisseur=%{x:.2f}<br>Délai moyen de livraison spécifié (jours)=%{y}<br>Nombre d'achats=%{customdata[0]}<br>montant_total_achats=%{customdata[1]:,.0f}<extra></extra>",
         "hovertext": [
          "Pelletier"
         ],
         "legendgroup": "Pelletier",
         "marker": {
          "color": "#FECB52",
          "size": {
           "bdata": "/QE=",
           "dtype": "i2"
          },
          "sizemin": 5,
          "sizemode": "area",
          "sizeref": 5.115,
          "symbol": "circle"
         },
         "mode": "markers",
         "name": "Pelletier",
         "orientation": "v",
         "showlegend": true,
         "type": "scatter",
         "x": {
          "bdata": "XI/C9Shc7z8=",
          "dtype": "f8"
         },
         "xaxis": "x",
         "y": {
          "bdata": "AAAAAAAACEA=",
          "dtype": "f8"
         },
         "yaxis": "y"
        },
        {
         "customdata": {
          "bdata": "AAAAAACAQUBmZmZmSNgUQQ==",
          "dtype": "f8",
          "shape": "1, 2"
         },
         "hovertemplate": "<b>%{hovertext}</b><br><br>Fournisseur=Leblanc<br>Fiabilité du fournisseur=%{x:.2f}<br>Délai moyen de livraison spécifié (jours)=%{y}<br>Nombre d'achats=%{customdata[0]}<br>montant_total_achats=%{customdata[1]:,.0f}<extra></extra>",
         "hovertext": [
          "Leblanc"
         ],
         "legendgroup": "Leblanc",
         "marker": {
          "color": "#636efa",
          "size": {
           "bdata": "Iw==",
           "dtype": "i1"
          },
          "sizemin": 5,
          "sizemode": "area",
          "sizeref": 5.115,
          "symbol": "circle"
         },
         "mode": "markers",
         "name": "Leblanc",
         "orientation": "v",
         "showlegend": true,
         "type": "scatter",
         "x": {
          "bdata": "AAAAAAAA4D8=",
          "dtype": "f8"
         },
         "xaxis": "x",
         "y": {
          "bdata": "AAAAAAAACEA=",
          "dtype": "f8"
         },
         "yaxis": "y"
        },
        {
         "customdata": {
          "bdata": "AAAAAABQfkAzMzPjnuBaQQ==",
          "dtype": "f8",
          "shape": "1, 2"
         },
         "hovertemplate": "<b>%{hovertext}</b><br><br>Fournisseur=Lucas<br>Fiabilité du fournisseur=%{x:.2f}<br>Délai moyen de livraison spécifié (jours)=%{y}<br>Nombre d'achats=%{customdata[0]}<br>montant_total_achats=%{customdata[1]:,.0f}<extra></extra>",
         "hovertext": [
          "Lucas"
         ],
         "legendgroup": "Lucas",
         "marker": {
          "color": "#EF553B",
          "size": {
           "bdata": "5QE=",
           "dtype": "i2"
          },
          "sizemin": 5,
          "sizemode": "area",
          "sizeref": 5.115,
          "symbol": "circle"
         },
         "mode": "markers",
         "name": "Lucas",
         "orientation": "v",
         "showlegend": true,
         "type": "scatter",
         "x": {
          "bdata": "AAAAAAAA8D8=",
          "dtype": "f8"
         },
         "xaxis": "x",
         "y": {
          "bdata": "AAAAAAAAJkA=",
          "dtype": "f8"
         },
         "yaxis": "y"
        },
        {
         "customdata": {
          "bdata": "AAAAAACAQUDNzMxMx2cgQQ==",
          "dtype": "f8",
          "shape": "1, 2"
         },
         "hovertemplate": "<b>%{hovertext}</b><br><br>Fournisseur=Gautier<br>Fiabilité du fournisseur=%{x:.2f}<br>Délai moyen de livraison spécifié (jours)=%{y}<br>Nombre d'achats=%{customdata[0]}<br>montant_total_achats=%{customdata[1]:,.0f}<extra></extra>",
         "hovertext": [
          "Gautier"
         ],
         "legendgroup": "Gautier",
         "marker": {
          "color": "#00cc96",
          "size": {
           "bdata": "Iw==",
           "dtype": "i1"
          },
          "sizemin": 5,
          "sizemode": "area",
          "sizeref": 5.115,
          "symbol": "circle"
         },
         "mode": "markers",
         "name": "Gautier",
         "orientation": "v",
         "showlegend": true,
         "type": "scatter",
         "x": {
          "bdata": "4XoUrkfh6j8=",
          "dtype": "f8"
         },
         "xaxis": "x",
         "y": {
          "bdata": "AAAAAAAAHEA=",
          "dtype": "f8"
         },
         "yaxis": "y"
        },
        {
         "customdata": {
          "bdata": "AAAAAAAAQkAAAAAABtoWQQ==",
          "dtype": "f8",
          "shape": "1, 2"
         },
         "hovertemplate": "<b>%{hovertext}</b><br><br>Fournisseur=Guillon<br>Fiabilité du fournisseur=%{x:.2f}<br>Délai moyen de livraison spécifié (jours)=%{y}<br>Nombre d'achats=%{customdata[0]}<br>montant_total_achats=%{customdata[1]:,.0f}<extra></extra>",
         "hovertext": [
          "Guillon"
         ],
         "legendgroup": "Guillon",
         "marker": {
          "color": "#ab63fa",
          "size": {
           "bdata": "JA==",
           "dtype": "i1"
          },
          "sizemin": 5,
          "sizemode": "area",
          "sizeref": 5.115,
          "symbol": "circle"
         },
         "mode": "markers",
         "name": "Guillon",
         "orientation": "v",
         "showlegend": true,
         "type": "scatter",
         "x": {
          "bdata": "HoXrUbge7T8=",
          "dtype": "f8"
         },
         "xaxis": "x",
         "y": {
          "bdata": "AAAAAAAAHEA=",
          "dtype": "f8"
         },
         "yaxis": "y"
        },
        {
         "customdata": {
          "bdata": "AAAAAAAAPkCamZmZDfkdQQ==",
          "dtype": "f8",
          "shape": "1, 2"
         },
         "hovertemplate": "<b>%{hovertext}</b><br><br>Fournisseur=Renault<br>Fiabilité du fournisseur=%{x:.2f}<br>Délai moyen de livraison spécifié (jours)=%{y}<br>Nombre d'achats=%{customdata[0]}<br>montant_total_achats=%{customdata[1]:,.0f}<extra></extra>",
         "hovertext": [
          "Renault"
         ],
         "legendgroup": "Renault",
         "marker": {
          "color": "#FFA15A",
          "size": {
           "bdata": "Hg==",
           "dtype": "i1"
          },
          "sizemin": 5,
          "sizemode": "area",
          "sizeref": 5.115,
          "symbol": "circle"
         },
         "mode": "markers",
         "name": "Renault",
         "orientation": "v",
         "showlegend": true,
         "type": "scatter",
         "x": {
          "bdata": "zczMzMzM5D8=",
          "dtype": "f8"
         },
         "xaxis": "x",
         "y": {
          "bdata": "AAAAAAAAFEA=",
          "dtype": "f8"
         },
         "yaxis": "y"
        },
        {
         "customdata": {
          "bdata": "AAAAAACAQECamZmZLgQgQQ==",
          "dtype": "f8",
          "shape": "1, 2"
         },
         "hovertemplate": "<b>%{hovertext}</b><br><br>Fournisseur=Morel<br>Fiabilité du fournisseur=%{x:.2f}<br>Délai moyen de livraison spécifié (jours)=%{y}<br>Nombre d'achats=%{customdata[0]}<br>montant_total_achats=%{customdata[1]:,.0f}<extra></extra>",
         "hovertext": [
          "Morel"
         ],
         "legendgroup": "Morel",
         "marker": {
          "color": "#19d3f3",
          "size": {
           "bdata": "IQ==",
           "dtype": "i1"
          },
          "sizemin": 5,
          "sizemode": "area",
          "sizeref": 5.115,
          "symbol": "circle"
         },
         "mode": "markers",
         "name": "Morel",
         "orientation": "v",
         "showlegend": true,
         "type": "scatter",
         "x": {
          "bdata": "UrgehetR4D8=",
          "dtype": "f8"
         },
         "xaxis": "x",
         "y": {
          "bdata": "AAAAAAAAHEA=",
          "dtype": "f8"
         },
         "yaxis": "y"
        },
        {
         "customdata": {
          "bdata": "AAAAAAAAQEDNzMxMf/wjQQ==",
          "dtype": "f8",
          "shape": "1, 2"
         },
         "hovertemplate": "<b>%{hovertext}</b><br><br>Fournisseur=Bodin<br>Fiabilité du fournisseur=%{x:.2f}<br>Délai moyen de livraison spécifié (jours)=%{y}<br>Nombre d'achats=%{customdata[0]}<br>montant_total_achats=%{customdata[1]:,.0f}<extra></extra>",
         "hovertext": [
          "Bodin"
         ],
         "legendgroup": "Bodin",
         "marker": {
          "color": "#FF6692",
          "size": {
           "bdata": "IA==",
           "dtype": "i1"
          },
          "sizemin": 5,
          "sizemode": "area",
          "sizeref": 5.115,
          "symbol": "circle"
         },
         "mode": "markers",
         "name": "Bodin",
         "orientation": "v",
         "showlegend": true,
         "type": "scatter",
         "x": {
          "bdata": "16NwPQrX6z8=",
          "dtype": "f8"
         },
         "xaxis": "x",
         "y": {
          "bdata": "AAAAAAAAFEA=",
          "dtype": "f8"
         },
         "yaxis": "y"
        },
        {
         "customdata": {
          "bdata": "AAAAAAAAQkAAAAAAwuUWQQ==",
          "dtype": "f8",
          "shape": "1, 2"
         },
         "hovertemplate": "<b>%{hovertext}</b><br><br>Fournisseur=Guérin<br>Fiabilité du fournisseur=%{x:.2f}<br>Délai moyen de livraison spécifié (jours)=%{y}<br>Nombre d'achats=%{customdata[0]}<br>montant_total_achats=%{customdata[1]:,.0f}<extra></extra>",
         "hovertext": [
          "Guérin"
         ],
         "legendgroup": "Guérin",
         "marker": {
          "color": "#B6E880",
          "size": {
           "bdata": "JA==",
           "dtype": "i1"
          },
          "sizemin": 5,
          "sizemode": "area",
          "sizeref": 5.115,
          "symbol": "circle"
         },
         "mode": "markers",
         "name": "Guérin",
         "orientation": "v",
         "showlegend": true,
         "type": "scatter",
         "x": {
          "bdata": "cj0K16Nw7T8=",
          "dtype": "f8"
         },
         "xaxis": "x",
         "y": {
          "bdata": "AAAAAAAAJkA=",
          "dtype": "f8"
         },
         "yaxis": "y"
        },
        {
         "customdata": {
          "bdata": "AAAAAACAQkBmZmZm7QshQQ==",
          "dtype": "f8",
          "shape": "1, 2"
         },
         "hovertemplate": "<b>%{hovertext}</b><br><br>Fournisseur=Leduc<br>Fiabilité du fournisseur=%{x:.2f}<br>Délai moyen de livraison spécifié (jours)=%{y}<br>Nombre d'achats=%{customdata[0]}<br>montant_total_achats=%{customdata[1]:,.0f}<extra></extra>",
         "hovertext": [
          "Leduc"
         ],
         "legendgroup": "Leduc",
         "marker": {
          "color": "#FF97FF",
          "size": {
           "bdata": "JQ==",
           "dtype": "i1"
          },
          "sizemin": 5,
          "sizemode": "area",
          "sizeref": 5.115,
          "symbol": "circle"
         },
         "mode": "markers",
         "name": "Leduc",
         "orientation": "v",
         "showlegend": true,
         "type": "scatter",
         "x": {
          "bdata": "1qNwPQrX6z8=",
          "dtype": "f8"
         },
         "xaxis": "x",
         "y": {
          "bdata": "AAAAAAAAJkA=",
          "dtype": "f8"
         },
         "yaxis": "y"
        },
        {
         "customdata": {
          "bdata": "AAAAAACAQ0CamZmZ4TAcQQ==",
          "dtype": "f8",
          "shape": "1, 2"
         },
         "hovertemplate": "<b>%{hovertext}</b><br><br>Fournisseur=Baudry<br>Fiabilité du fournisseur=%{x:.2f}<br>Délai moyen de livraison spécifié (jours)=%{y}<br>Nombre d'achats=%{customdata[0]}<br>montant_total_achats=%{customdata[1]:,.0f}<extra></extra>",
         "hovertext": [
          "Baudry"
         ],
         "legendgroup": "Baudry",
         "marker": {
          "color": "#FECB52",
          "size": {
           "bdata": "Jw==",
           "dtype": "i1"
          },
          "sizemin": 5,
          "sizemode": "area",
          "sizeref": 5.115,
          "symbol": "circle"
         },
         "mode": "markers",
         "name": "Baudry",
         "orientation": "v",
         "showlegend": true,
         "type": "scatter",
         "x": {
          "bdata": "PQrXo3A94j8=",
          "dtype": "f8"
         },
         "xaxis": "x",
         "y": {
          "bdata": "AAAAAAAAIEA=",
          "dtype": "f8"
         },
         "yaxis": "y"
        },
        {
         "customdata": {
          "bdata": "AAAAAACAQEBmZmZmz7YjQQ==",
          "dtype": "f8",
          "shape": "1, 2"
         },
         "hovertemplate": "<b>%{hovertext}</b><br><br>Fournisseur=Petitjean Andre SA<br>Fiabilité du fournisseur=%{x:.2f}<br>Délai moyen de livraison spécifié (jours)=%{y}<br>Nombre d'achats=%{customdata[0]}<br>montant_total_achats=%{customdata[1]:,.0f}<extra></extra>",
         "hovertext": [
          "Petitjean Andre SA"
         ],
         "legendgroup": "Petitjean Andre SA",
         "marker": {
          "color": "#636efa",
          "size": {
           "bdata": "IQ==",
           "dtype": "i1"
          },
          "sizemin": 5,
          "sizemode": "area",
          "sizeref": 5.115,
          "symbol": "circle"
         },
         "mode": "markers",
         "name": "Petitjean Andre SA",
         "orientation": "v",
         "showlegend": true,
         "type": "scatter",
         "x": {
          "bdata": "KVyPwvUo7D8=",
          "dtype": "f8"
         },
         "xaxis": "x",
         "y": {
          "bdata": "AAAAAAAACEA=",
          "dtype": "f8"
         },
         "yaxis": "y"
        },
        {
         "customdata": {
          "bdata": "AAAAAACAQ0CamZmZgC0ZQQ==",
          "dtype": "f8",
          "shape": "1, 2"
         },
         "hovertemplate": "<b>%{hovertext}</b><br><br>Fournisseur=Langlois Vallée SA<br>Fiabilité du fournisseur=%{x:.2f}<br>Délai moyen de livraison spécifié (jours)=%{y}<br>Nombre d'achats=%{customdata[0]}<br>montant_total_achats=%{customdata[1]:,.0f}<extra></extra>",
         "hovertext": [
          "Langlois Vallée SA"
         ],
         "legendgroup": "Langlois Vallée SA",
         "marker": {
          "color": "#EF553B",
          "size": {
           "bdata": "Jw==",
           "dtype": "i1"
          },
          "sizemin": 5,
          "sizemode": "area",
          "sizeref": 5.115,
          "symbol": "circle"
         },
         "mode": "markers",
         "name": "Langlois Vallée SA",
         "orientation": "v",
         "showlegend": true,
         "type": "scatter",
         "x": {
          "bdata": "KVyPwvUo7D8=",
          "dtype": "f8"
         },
         "xaxis": "x",
         "y": {
          "bdata": "AAAAAAAAIkA=",
          "dtype": "f8"
         },
         "yaxis": "y"
        },
        {
         "customdata": {
          "bdata": "AAAAAACAQkAAAAAATFocQQ==",
          "dtype": "f8",
          "shape": "1, 2"
         },
         "hovertemplate": "<b>%{hovertext}</b><br><br>Fournisseur=Albert<br>Fiabilité du fournisseur=%{x:.2f}<br>Délai moyen de livraison spécifié (jours)=%{y}<br>Nombre d'achats=%{customdata[0]}<br>montant_total_achats=%{customdata[1]:,.0f}<extra></extra>",
         "hovertext": [
          "Albert"
         ],
         "legendgroup": "Albert",
         "marker": {
          "color": "#00cc96",
          "size": {
           "bdata": "JQ==",
           "dtype": "i1"
          },
          "sizemin": 5,
          "sizemode": "area",
          "sizeref": 5.115,
          "symbol": "circle"
         },
         "mode": "markers",
         "name": "Albert",
         "orientation": "v",
         "showlegend": true,
         "type": "scatter",
         "x": {
          "bdata": "j8L1KFyP6j8=",
          "dtype": "f8"
         },
         "xaxis": "x",
         "y": {
          "bdata": "AAAAAAAAIkA=",
          "dtype": "f8"
         },
         "yaxis": "y"
        },
        {
         "customdata": {
          "bdata": "AAAAAAAAP0AzMzMzkzMTQQ==",
          "dtype": "f8",
          "shape": "1, 2"
         },
         "hovertemplate": "<b>%{hovertext}</b><br><br>Fournisseur=Da Silva<br>Fiabilité du fournisseur=%{x:.2f}<br>Délai moyen de livraison spécifié (jours)=%{y}<br>Nombre d'achats=%{customdata[0]}<br>montant_total_achats=%{customdata[1]:,.0f}<extra></extra>",
         "hovertext": [
          "Da Silva"
         ],
         "legendgroup": "Da Silva",
         "marker": {
          "color": "#ab63fa",
          "size": {
           "bdata": "Hw==",
           "dtype": "i1"
          },
          "sizemin": 5,
          "sizemode": "area",
          "sizeref": 5.115,
          "symbol": "circle"
         },
         "mode": "markers",
         "name": "Da Silva",
         "orientation": "v",
         "showlegend": true,
         "type": "scatter",
         "x": {
          "bdata": "KVyPwvUo7D8=",
          "dtype": "f8"
         },
         "xaxis": "x",
         "y": {
          "bdata": "AAAAAAAAKEA=",
          "dtype": "f8"
         },
         "yaxis": "y"
        },
        {
         "customdata": {
          "bdata": "AAAAAACAQkAzMzOz1CMmQQ==",
          "dtype": "f8",
          "shape": "1, 2"
         },
         "hovertemplate": "<b>%{hovertext}</b><br><br>Fournisseur=Techer SA<br>Fiabilité du fournisseur=%{x:.2f}<br>Délai moyen de livraison spécifié (jours)=%{y}<br>Nombre d'achats=%{customdata[0]}<br>montant_total_achats=%{customdata[1]:,.0f}<extra></extra>",
         "hovertext": [
          "Techer SA"
         ],
         "legendgroup": "Techer SA",
         "marker": {
          "color": "#FFA15A",
          "size": {
           "bdata": "JQ==",
           "dtype": "i1"
          },
          "sizemin": 5,
          "sizemode": "area",
          "sizeref": 5.115,
          "symbol": "circle"
         },
         "mode": "markers",
         "name": "Techer SA",
         "orientation": "v",
         "showlegend": true,
         "type": "scatter",
         "x": {
          "bdata": "cD0K16Nw7T8=",
          "dtype": "f8"
         },
         "xaxis": "x",
         "y": {
          "bdata": "AAAAAAAAKEA=",
          "dtype": "f8"
         },
         "yaxis": "y"
        },
        {
         "customdata": {
          "bdata": "AAAAAAAAQ0AzMzOzm84pQQ==",
          "dtype": "f8",
          "shape": "1, 2"
         },
         "hovertemplate": "<b>%{hovertext}</b><br><br>Fournisseur=Bourdon<br>Fiabilité du fournisseur=%{x:.2f}<br>Délai moyen de livraison spécifié (jours)=%{y}<br>Nombre d'achats=%{customdata[0]}<br>montant_total_achats=%{customdata[1]:,.0f}<extra></extra>",
         "hovertext": [
          "Bourdon"
         ],
         "legendgroup": "Bourdon",
         "marker": {
          "color": "#19d3f3",
          "size": {
           "bdata": "Jg==",
           "dtype": "i1"
          },
          "sizemin": 5,
          "sizemode": "area",
          "sizeref": 5.115,
          "symbol": "circle"
         },
         "mode": "markers",
         "name": "Bourdon",
         "orientation": "v",
         "showlegend": true,
         "type": "scatter",
         "x": {
          "bdata": "7FG4HoXr6T8=",
          "dtype": "f8"
         },
         "xaxis": "x",
         "y": {
          "bdata": "AAAAAAAAGEA=",
          "dtype": "f8"
         },
         "yaxis": "y"
        },
        {
         "customdata": {
          "bdata": "AAAAAAAAQkCamZmZdmMcQQ==",
          "dtype": "f8",
          "shape": "1, 2"
         },
         "hovertemplate": "<b>%{hovertext}</b><br><br>Fournisseur=Rodrigues Payet S.A.R.L.<br>Fiabilité du fournisseur=%{x:.2f}<br>Délai moyen de livraison spécifié (jours)=%{y}<br>Nombre d'achats=%{customdata[0]}<br>montant_total_achats=%{customdata[1]:,.0f}<extra></extra>",
         "hovertext": [
          "Rodrigues Payet S.A.R.L."
         ],
         "legendgroup": "Rodrigues Payet S.A.R.L.",
         "marker": {
          "color": "#FF6692",
          "size": {
           "bdata": "JA==",
           "dtype": "i1"
          },
          "sizemin": 5,
          "sizemode": "area",
          "sizeref": 5.115,
          "symbol": "circle"
         },
         "mode": "markers",
         "name": "Rodrigues Payet S.A.R.L.",
         "orientation": "v",
         "showlegend": true,
         "type": "scatter",
         "x": {
          "bdata": "SOF6FK5H4T8=",
          "dtype": "f8"
         },
         "xaxis": "x",
         "y": {
          "bdata": "AAAAAAAAJEA=",
          "dtype": "f8"
         },
         "yaxis": "y"
        },
        {
         "customdata": {
          "bdata": "AAAAAAD4n0BmZmbSGdl9QQ==",
          "dtype": "f8",
          "shape": "1, 2"
         },
         "hovertemplate": "<b>%{hovertext}</b><br><br>Fournisseur=Delattre Blot S.A.<br>Fiabilité du fournisseur=%{x:.2f}<br>Délai moyen de livraison spécifié (jours)=%{y}<br>Nombre d'achats=%{customdata[0]}<br>montant_total_achats=%{customdata[1]:,.0f}<extra></extra>",
         "hovertext": [
          "Delattre Blot S.A."
         ],
         "legendgroup": "Delattre Blot S.A.",
         "marker": {
          "color": "#B6E880",
          "size": {
           "bdata": "/gc=",
           "dtype": "i2"
          },
          "sizemin": 5,
          "sizemode": "area",
          "sizeref": 5.115,
          "symbol": "circle"
         },
         "mode": "markers",
         "name": "Delattre Blot S.A.",
         "orientation": "v",
         "showlegend": true,
         "type": "scatter",
         "x": {
          "bdata": "rkfhehSu5z8=",
          "dtype": "f8"
         },
         "xaxis": "x",
         "y": {
          "bdata": "AAAAAAAAIEA=",
          "dtype": "f8"
         },
         "yaxis": "y"
        },
        {
         "customdata": {
          "bdata": "AAAAAADUnkBmZmZ+KWh8QQ==",
          "dtype": "f8",
          "shape": "1, 2"
         },
         "hovertemplate": "<b>%{hovertext}</b><br><br>Fournisseur=Fontaine Lopes S.A.<br>Fiabilité du fournisseur=%{x:.2f}<br>Délai moyen de livraison spécifié (jours)=%{y}<br>Nombre d'achats=%{customdata[0]}<br>montant_total_achats=%{customdata[1]:,.0f}<extra></extra>",
         "hovertext": [
          "Fontaine Lopes S.A."
         ],
         "legendgroup": "Fontaine Lopes S.A.",
         "marker": {
          "color": "#FF97FF",
          "size": {
           "bdata": "tQc=",
           "dtype": "i2"
          },
          "sizemin": 5,
          "sizemode": "area",
          "sizeref": 5.115,
          "symbol": "circle"
         },
         "mode": "markers",
         "name": "Fontaine Lopes S.A.",
         "orientation": "v",
         "showlegend": true,
         "type": "scatter",
         "x": {
          "bdata": "SOF6FK5H4T8=",
          "dtype": "f8"
         },
         "xaxis": "x",
         "y": {
          "bdata": "AAAAAAAAGEA=",
          "dtype": "f8"
         },
         "yaxis": "y"
        },
        {
         "customdata": {
          "bdata": "AAAAAAAAO0DNzMzM94kUQQ==",
          "dtype": "f8",
          "shape": "1, 2"
         },
         "hovertemplate": "<b>%{hovertext}</b><br><br>Fournisseur=Delaunay<br>Fiabilité du fournisseur=%{x:.2f}<br>Délai moyen de livraison spécifié (jours)=%{y}<br>Nombre d'achats=%{customdata[0]}<br>montant_total_achats=%{customdata[1]:,.0f}<extra></extra>",
         "hovertext": [
          "Delaunay"
         ],
         "legendgroup": "Delaunay",
         "marker": {
          "color": "#FECB52",
          "size": {
           "bdata": "Gw==",
           "dtype": "i1"
          },
          "sizemin": 5,
          "sizemode": "area",
          "sizeref": 5.115,
          "symbol": "circle"
         },
         "mode": "markers",
         "name": "Delaunay",
         "orientation": "v",
         "showlegend": true,
         "type": "scatter",
         "x": {
          "bdata": "ZmZmZmZm5j8=",
          "dtype": "f8"
         },
         "xaxis": "x",
         "y": {
          "bdata": "AAAAAAAAGEA=",
          "dtype": "f8"
         },
         "yaxis": "y"
        },
        {
         "customdata": {
          "bdata": "AAAAAACARECamZmZYWocQQ==",
          "dtype": "f8",
          "shape": "1, 2"
         },
         "hovertemplate": "<b>%{hovertext}</b><br><br>Fournisseur=Faure S.A.R.L.<br>Fiabilité du fournisseur=%{x:.2f}<br>Délai moyen de livraison spécifié (jours)=%{y}<br>Nombre d'achats=%{customdata[0]}<br>montant_total_achats=%{customdata[1]:,.0f}<extra></extra>",
         "hovertext": [
          "Faure S.A.R.L."
         ],
         "legendgroup": "Faure S.A.R.L.",
         "marker": {
          "color": "#636efa",
          "size": {
           "bdata": "KQ==",
           "dtype": "i1"
          },
          "sizemin": 5,
          "sizemode": "area",
          "sizeref": 5.115,
          "symbol": "circle"
         },
         "mode": "markers",
         "name": "Faure S.A.R.L.",
         "orientation": "v",
         "showlegend": true,
         "type": "scatter",
         "x": {
          "bdata": "ZmZmZmZm5j8=",
          "dtype": "f8"
         },
         "xaxis": "x",
         "y": {
          "bdata": "AAAAAAAAEEA=",
          "dtype": "f8"
         },
         "yaxis": "y"
        },
        {
         "customdata": {
          "bdata": "AAAAAAAAQEDNzMzMUqYhQQ==",
          "dtype": "f8",
          "shape": "1, 2"
         },
         "hovertemplate": "<b>%{hovertext}</b><br><br>Fournisseur=Munoz SA<br>Fiabilité du fournisseur=%{x:.2f}<br>Délai moyen de livraison spécifié (jours)=%{y}<br>Nombre d'achats=%{customdata[0]}<br>montant_total_achats=%{customdata[1]:,.0f}<extra></extra>",
         "hovertext": [
          "Munoz SA"
         ],
         "legendgroup": "Munoz SA",
         "marker": {
          "color": "#EF553B",
          "size": {
           "bdata": "IA==",
           "dtype": "i1"
          },
          "sizemin": 5,
          "sizemode": "area",
          "sizeref": 5.115,
          "symbol": "circle"
         },
         "mode": "markers",
         "name": "Munoz SA",
         "orientation": "v",
         "showlegend": true,
         "type": "scatter",
         "x": {
          "bdata": "9ihcj8L14D8=",
          "dtype": "f8"
         },
         "xaxis": "x",
         "y": {
          "bdata": "AAAAAAAAEEA=",
          "dtype": "f8"
         },
         "yaxis": "y"
        },
        {
         "customdata": {
          "bdata": "AAAAAAAARkAAAAAAbdwpQQ==",
          "dtype": "f8",
          "shape": "1, 2"
         },
         "hovertemplate": "<b>%{hovertext}</b><br><br>Fournisseur=Mercier Dupuy S.A.S.<br>Fiabilité du fournisseur=%{x:.2f}<br>Délai moyen de livraison spécifié (jours)=%{y}<br>Nombre d'achats=%{customdata[0]}<br>montant_total_achats=%{customdata[1]:,.0f}<extra></extra>",
         "hovertext": [
          "Mercier Dupuy S.A.S."
         ],
         "legendgroup": "Mercier Dupuy S.A.S.",
         "marker": {
          "color": "#00cc96",
          "size": {
           "bdata": "LA==",
           "dtype": "i1"
          },
          "sizemin": 5,
          "sizemode": "area",
          "sizeref": 5.115,
          "symbol": "circle"
         },
         "mode": "markers",
         "name": "Mercier Dupuy S.A.S.",
         "orientation": "v",
         "showlegend": true,
         "type": "scatter",
         "x": {
          "bdata": "cT0K16Nw5T8=",
          "dtype": "f8"
         },
         "xaxis": "x",
         "y": {
          "bdata": "AAAAAAAALEA=",
          "dtype": "f8"
         },
         "yaxis": "y"
        },
        {
         "customdata": {
          "bdata": "AAAAAACAQUCamZmZmSEhQQ==",
          "dtype": "f8",
          "shape": "1, 2"
         },
         "hovertemplate": "<b>%{hovertext}</b><br><br>Fournisseur=Bertrand S.A.<br>Fiabilité du fournisseur=%{x:.2f}<br>Délai moyen de livraison spécifié (jours)=%{y}<br>Nombre d'achats=%{customdata[0]}<br>montant_total_achats=%{customdata[1]:,.0f}<extra></extra>",
         "hovertext": [
          "Bertrand S.A."
         ],
         "legendgroup": "Bertrand S.A.",
         "marker": {
          "color": "#ab63fa",
          "size": {
           "bdata": "Iw==",
           "dtype": "i1"
          },
          "sizemin": 5,
          "sizemode": "area",
          "sizeref": 5.115,
          "symbol": "circle"
         },
         "mode": "markers",
         "name": "Bertrand S.A.",
         "orientation": "v",
         "showlegend": true,
         "type": "scatter",
         "x": {
          "bdata": "7FG4HoXr4T8=",
          "dtype": "f8"
         },
         "xaxis": "x",
         "y": {
          "bdata": "AAAAAAAAGEA=",
          "dtype": "f8"
         },
         "yaxis": "y"
        },
        {
         "customdata": {
          "bdata": "AAAAAACAQECamZmZPpIcQQ==",
          "dtype": "f8",
          "shape": "1, 2"
         },
         "hovertemplate": "<b>%{hovertext}</b><br><br>Fournisseur=Laine<br>Fiabilité du fournisseur=%{x:.2f}<br>Délai moyen de livraison spécifié (jours)=%{y}<br>Nombre d'achats=%{customdata[0]}<br>montant_total_achats=%{customdata[1]:,.0f}<extra></extra>",
         "hovertext": [
          "Laine"
         ],
         "legendgroup": "Laine",
         "marker": {
          "color": "#FFA15A",
          "size": {
           "bdata": "IQ==",
           "dtype": "i1"
          },
          "sizemin": 5,
          "sizemode": "area",
          "sizeref": 5.115,
          "symbol": "circle"
         },
         "mode": "markers",
         "name": "Laine",
         "orientation": "v",
         "showlegend": true,
         "type": "scatter",
         "x": {
          "bdata": "zczMzMzM7D8=",
          "dtype": "f8"
         },
         "xaxis": "x",
         "y": {
          "bdata": "AAAAAAAAHEA=",
          "dtype": "f8"
         },
         "yaxis": "y"
        },
        {
         "customdata": {
          "bdata": "AAAAAAAARUAzMzOzgm8oQQ==",
          "dtype": "f8",
          "shape": "1, 2"
         },
         "hovertemplate": "<b>%{hovertext}</b><br><br>Fournisseur=Moreau Dubois S.A.S.<br>Fiabilité du fournisseur=%{x:.2f}<br>Délai moyen de livraison spécifié (jours)=%{y}<br>Nombre d'achats=%{customdata[0]}<br>montant_total_achats=%{customdata[1]:,.0f}<extra></extra>",
         "hovertext": [
          "Moreau Dubois S.A.S."
         ],
         "legendgroup": "Moreau Dubois S.A.S.",
         "marker": {
          "color": "#19d3f3",
          "size": {
           "bdata": "Kg==",
           "dtype": "i1"
          },
          "sizemin": 5,
          "sizemode": "area",
          "sizeref": 5.115,
          "symbol": "circle"
         },
         "mode": "markers",
         "name": "Moreau Dubois S.A.S.",
         "orientation": "v",
         "showlegend": true,
         "type": "scatter",
         "x": {
          "bdata": "C9ejcD0K7z8=",
          "dtype": "f8"
         },
         "xaxis": "x",
         "y": {
          "bdata": "AAAAAAAAJEA=",
          "dtype": "f8"
         },
         "yaxis": "y"
        },
        {
         "customdata": {
          "bdata": "AAAAAAAAR0DNzMzMilMgQQ==",
          "dtype": "f8",
          "shape": "1, 2"
         },
         "hovertemplate": "<b>%{hovertext}</b><br><br>Fournisseur=Charles SARL<br>Fiabilité du fournisseur=%{x:.2f}<br>Délai moyen de livraison spécifié (jours)=%{y}<br>Nombre d'achats=%{customdata[0]}<br>montant_total_achats=%{customdata[1]:,.0f}<extra></extra>",
         "hovertext": [
          "Charles SARL"
         ],
         "legendgroup": "Charles SARL",
         "marker": {
          "color": "#FF6692",
          "size": {
           "bdata": "Lg==",
           "dtype": "i1"
          },
          "sizemin": 5,
          "sizemode": "area",
          "sizeref": 5.115,
          "symbol": "circle"
         },
         "mode": "markers",
         "name": "Charles SARL",
         "orientation": "v",
         "showlegend": true,
         "type": "scatter",
         "x": {
          "bdata": "SOF6FK5H4T8=",
          "dtype": "f8"
         },
         "xaxis": "x",
         "y": {
          "bdata": "AAAAAAAAIEA=",
          "dtype": "f8"
         },
         "yaxis": "y"
        },
        {
         "customdata": {
          "bdata": "AAAAAAAAO0CamZmZW7EZQQ==",
          "dtype": "f8",
          "shape": "1, 2"
         },
         "hovertemplate": "<b>%{hovertext}</b><br><br>Fournisseur=Laurent Boyer S.A.R.L.<br>Fiabilité du fournisseur=%{x:.2f}<br>Délai moyen de livraison spécifié (jours)=%{y}<br>Nombre d'achats=%{customdata[0]}<br>montant_total_achats=%{customdata[1]:,.0f}<extra></extra>",
         "hovertext": [
          "Laurent Boyer S.A.R.L."
         ],
         "legendgroup": "Laurent Boyer S.A.R.L.",
         "marker": {
          "color": "#B6E880",
          "size": {
           "bdata": "Gw==",
           "dtype": "i1"
          },
          "sizemin": 5,
          "sizemode": "area",
          "sizeref": 5.115,
          "symbol": "circle"
         },
         "mode": "markers",
         "name": "Laurent Boyer S.A.R.L.",
         "orientation": "v",
         "showlegend": true,
         "type": "scatter",
         "x": {
          "bdata": "XI/C9Shc7z8=",
          "dtype": "f8"
         },
         "xaxis": "x",
         "y": {
          "bdata": "AAAAAAAAGEA=",
          "dtype": "f8"
         },
         "yaxis": "y"
        },
        {
         "customdata": {
          "bdata": "AAAAAAAAREAAAAAA3KEhQQ==",
          "dtype": "f8",
          "shape": "1, 2"
         },
         "hovertemplate": "<b>%{hovertext}</b><br><br>Fournisseur=Rocher<br>Fiabilité du fournisseur=%{x:.2f}<br>Délai moyen de livraison spécifié (jours)=%{y}<br>Nombre d'achats=%{customdata[0]}<br>montant_total_achats=%{customdata[1]:,.0f}<extra></extra>",
         "hovertext": [
          "Rocher"
         ],
         "legendgroup": "Rocher",
         "marker": {
          "color": "#FF97FF",
          "size": {
           "bdata": "KA==",
           "dtype": "i1"
          },
          "sizemin": 5,
          "sizemode": "area",
          "sizeref": 5.115,
          "symbol": "circle"
         },
         "mode": "markers",
         "name": "Rocher",
         "orientation": "v",
         "showlegend": true,
         "type": "scatter",
         "x": {
          "bdata": "UrgehetR6D8=",
          "dtype": "f8"
         },
         "xaxis": "x",
         "y": {
          "bdata": "AAAAAAAAKkA=",
          "dtype": "f8"
         },
         "yaxis": "y"
        },
        {
         "customdata": {
          "bdata": "AAAAAAAAQ0BmZmZmfMAnQQ==",
          "dtype": "f8",
          "shape": "1, 2"
         },
         "hovertemplate": "<b>%{hovertext}</b><br><br>Fournisseur=Fabre SA<br>Fiabilité du fournisseur=%{x:.2f}<br>Délai moyen de livraison spécifié (jours)=%{y}<br>Nombre d'achats=%{customdata[0]}<br>montant_total_achats=%{customdata[1]:,.0f}<extra></extra>",
         "hovertext": [
          "Fabre SA"
         ],
         "legendgroup": "Fabre SA",
         "marker": {
          "color": "#FECB52",
          "size": {
           "bdata": "Jg==",
           "dtype": "i1"
          },
          "sizemin": 5,
          "sizemode": "area",
          "sizeref": 5.115,
          "symbol": "circle"
         },
         "mode": "markers",
         "name": "Fabre SA",
         "orientation": "v",
         "showlegend": true,
         "type": "scatter",
         "x": {
          "bdata": "zczMzMzM5D8=",
          "dtype": "f8"
         },
         "xaxis": "x",
         "y": {
          "bdata": "AAAAAAAAIkA=",
          "dtype": "f8"
         },
         "yaxis": "y"
        },
        {
         "customdata": {
          "bdata": "AAAAAAAAQUDNzMxMYyAkQQ==",
          "dtype": "f8",
          "shape": "1, 2"
         },
         "hovertemplate": "<b>%{hovertext}</b><br><br>Fournisseur=Lemaître De Sousa SA<br>Fiabilité du fournisseur=%{x:.2f}<br>Délai moyen de livraison spécifié (jours)=%{y}<br>Nombre d'achats=%{customdata[0]}<br>montant_total_achats=%{customdata[1]:,.0f}<extra></extra>",
         "hovertext": [
          "Lemaître De Sousa SA"
         ],
         "legendgroup": "Lemaître De Sousa SA",
         "marker": {
          "color": "#636efa",
          "size": {
           "bdata": "Ig==",
           "dtype": "i1"
          },
          "sizemin": 5,
          "sizemode": "area",
          "sizeref": 5.115,
          "symbol": "circle"
         },
         "mode": "markers",
         "name": "Lemaître De Sousa SA",
         "orientation": "v",
         "showlegend": true,
         "type": "scatter",
         "x": {
          "bdata": "SOF6FK5H4T8=",
          "dtype": "f8"
         },
         "xaxis": "x",
         "y": {
          "bdata": "AAAAAAAAJEA=",
          "dtype": "f8"
         },
         "yaxis": "y"
        },
        {
         "customdata": {
          "bdata": "AAAAAAAAQUAAAAAA2LgTQQ==",
          "dtype": "f8",
          "shape": "1, 2"
         },
         "hovertemplate": "<b>%{hovertext}</b><br><br>Fournisseur=Caron<br>Fiabilité du fournisseur=%{x:.2f}<br>Délai moyen de livraison spécifié (jours)=%{y}<br>Nombre d'achats=%{customdata[0]}<br>montant_total_achats=%{customdata[1]:,.0f}<extra></extra>",
         "hovertext": [
          "Caron"
         ],
         "legendgroup": "Caron",
         "marker": {
          "color": "#EF553B",
          "size": {
           "bdata": "Ig==",
           "dtype": "i1"
          },
          "sizemin": 5,
          "sizemode": "area",
          "sizeref": 5.115,
          "symbol": "circle"
         },
         "mode": "markers",
         "name": "Caron",
         "orientation": "v",
         "showlegend": true,
         "type": "scatter",
         "x": {
          "bdata": "AAAAAAAA6D8=",
          "dtype": "f8"
         },
         "xaxis": "x",
         "y": {
          "bdata": "AAAAAAAAEEA=",
          "dtype": "f8"
         },
         "yaxis": "y"
        },
        {
         "customdata": {
          "bdata": "AAAAAAAAQEBmZmbmxbggQQ==",
          "dtype": "f8",
          "shape": "1, 2"
         },
         "hovertemplate": "<b>%{hovertext}</b><br><br>Fournisseur=Klein SA<br>Fiabilité du fournisseur=%{x:.2f}<br>Délai moyen de livraison spécifié (jours)=%{y}<br>Nombre d'achats=%{customdata[0]}<br>montant_total_achats=%{customdata[1]:,.0f}<extra></extra>",
         "hovertext": [
          "Klein SA"
         ],
         "legendgroup": "Klein SA",
         "marker": {
          "color": "#00cc96",
          "size": {
           "bdata": "IA==",
           "dtype": "i1"
          },
          "sizemin": 5,
          "sizemode": "area",
          "sizeref": 5.115,
          "symbol": "circle"
         },
         "mode": "markers",
         "name": "Klein SA",
         "orientation": "v",
         "showlegend": true,
         "type": "scatter",
         "x": {
          "bdata": "zczMzMzM7D8=",
          "dtype": "f8"
         },
         "xaxis": "x",
         "y": {
          "bdata": "AAAAAAAALEA=",
          "dtype": "f8"
         },
         "yaxis": "y"
        },
        {
         "customdata": {
          "bdata": "AAAAAAAARkAzMzMzRXEeQQ==",
          "dtype": "f8",
          "shape": "1, 2"
         },
         "hovertemplate": "<b>%{hovertext}</b><br><br>Fournisseur=Lopes<br>Fiabilité du fournisseur=%{x:.2f}<br>Délai moyen de livraison spécifié (jours)=%{y}<br>Nombre d'achats=%{customdata[0]}<br>montant_total_achats=%{customdata[1]:,.0f}<extra></extra>",
         "hovertext": [
          "Lopes"
         ],
         "legendgroup": "Lopes",
         "marker": {
          "color": "#ab63fa",
          "size": {
           "bdata": "LA==",
           "dtype": "i1"
          },
          "sizemin": 5,
          "sizemode": "area",
          "sizeref": 5.115,
          "symbol": "circle"
         },
         "mode": "markers",
         "name": "Lopes",
         "orientation": "v",
         "showlegend": true,
         "type": "scatter",
         "x": {
          "bdata": "MzMzMzMz6z8=",
          "dtype": "f8"
         },
         "xaxis": "x",
         "y": {
          "bdata": "AAAAAAAAIkA=",
          "dtype": "f8"
         },
         "yaxis": "y"
        },
        {
         "customdata": {
          "bdata": "AAAAAACAREAAAAAAynYoQQ==",
          "dtype": "f8",
          "shape": "1, 2"
         },
         "hovertemplate": "<b>%{hovertext}</b><br><br>Fournisseur=Lagarde<br>Fiabilité du fournisseur=%{x:.2f}<br>Délai moyen de livraison spécifié (jours)=%{y}<br>Nombre d'achats=%{customdata[0]}<br>montant_total_achats=%{customdata[1]:,.0f}<extra></extra>",
         "hovertext": [
          "Lagarde"
         ],
         "legendgroup": "Lagarde",
         "marker": {
          "color": "#FFA15A",
          "size": {
           "bdata": "KQ==",
           "dtype": "i1"
          },
          "sizemin": 5,
          "sizemode": "area",
          "sizeref": 5.115,
          "symbol": "circle"
         },
         "mode": "markers",
         "name": "Lagarde",
         "orientation": "v",
         "showlegend": true,
         "type": "scatter",
         "x": {
          "bdata": "9ihcj8L14D8=",
          "dtype": "f8"
         },
         "xaxis": "x",
         "y": {
          "bdata": "AAAAAAAAEEA=",
          "dtype": "f8"
         },
         "yaxis": "y"
        },
        {
         "customdata": {
          "bdata": "AAAAAABAfUDNzMw82c5dQQ==",
          "dtype": "f8",
          "shape": "1, 2"
         },
         "hovertemplate": "<b>%{hovertext}</b><br><br>Fournisseur=Roche<br>Fiabilité du fournisseur=%{x:.2f}<br>Délai moyen de livraison spécifié (jours)=%{y}<br>Nombre d'achats=%{customdata[0]}<br>montant_total_achats=%{customdata[1]:,.0f}<extra></extra>",
         "hovertext": [
          "Roche"
         ],
         "legendgroup": "Roche",
         "marker": {
          "color": "#19d3f3",
          "size": {
           "bdata": "1AE=",
           "dtype": "i2"
          },
          "sizemin": 5,
          "sizemode": "area",
          "sizeref": 5.115,
          "symbol": "circle"
         },
         "mode": "markers",
         "name": "Roche",
         "orientation": "v",
         "showlegend": true,
         "type": "scatter",
         "x": {
          "bdata": "SOF6FK5H4T8=",
          "dtype": "f8"
         },
         "xaxis": "x",
         "y": {
          "bdata": "AAAAAAAAEEA=",
          "dtype": "f8"
         },
         "yaxis": "y"
        },
        {
         "customdata": {
          "bdata": "AAAAAACAQ0AzMzOzax4iQQ==",
          "dtype": "f8",
          "shape": "1, 2"
         },
         "hovertemplate": "<b>%{hovertext}</b><br><br>Fournisseur=Duhamel<br>Fiabilité du fournisseur=%{x:.2f}<br>Délai moyen de livraison spécifié (jours)=%{y}<br>Nombre d'achats=%{customdata[0]}<br>montant_total_achats=%{customdata[1]:,.0f}<extra></extra>",
         "hovertext": [
          "Duhamel"
         ],
         "legendgroup": "Duhamel",
         "marker": {
          "color": "#FF6692",
          "size": {
           "bdata": "Jw==",
           "dtype": "i1"
          },
          "sizemin": 5,
          "sizemode": "area",
          "sizeref": 5.115,
          "symbol": "circle"
         },
         "mode": "markers",
         "name": "Duhamel",
         "orientation": "v",
         "showlegend": true,
         "type": "scatter",
         "x": {
          "bdata": "ZmZmZmZm5j8=",
          "dtype": "f8"
         },
         "xaxis": "x",
         "y": {
          "bdata": "AAAAAAAAJEA=",
          "dtype": "f8"
         },
         "yaxis": "y"
        },
        {
         "customdata": {
          "bdata": "AAAAAABwfkDNzMxseQpfQQ==",
          "dtype": "f8",
          "shape": "1, 2"
         },
         "hovertemplate": "<b>%{hovertext}</b><br><br>Fournisseur=Lecomte<br>Fiabilité du fournisseur=%{x:.2f}<br>Délai moyen de livraison spécifié (jours)=%{y}<br>Nombre d'achats=%{customdata[0]}<br>montant_total_achats=%{customdata[1]:,.0f}<extra></extra>",
         "hovertext": [
          "Lecomte"
         ],
         "legendgroup": "Lecomte",
         "marker": {
          "color": "#B6E880",
          "size": {
           "bdata": "5wE=",
           "dtype": "i2"
          },
          "sizemin": 5,
          "sizemode": "area",
          "sizeref": 5.115,
          "symbol": "circle"
         },
         "mode": "markers",
         "name": "Lecomte",
         "orientation": "v",
         "showlegend": true,
         "type": "scatter",
         "x": {
          "bdata": "zczMzMzM5D8=",
          "dtype": "f8"
         },
         "xaxis": "x",
         "y": {
          "bdata": "AAAAAAAAEEA=",
          "dtype": "f8"
         },
         "yaxis": "y"
        },
        {
         "customdata": {
          "bdata": "AAAAAAAAQkCamZmZ6AgcQQ==",
          "dtype": "f8",
          "shape": "1, 2"
         },
         "hovertemplate": "<b>%{hovertext}</b><br><br>Fournisseur=Godard SA<br>Fiabilité du fournisseur=%{x:.2f}<br>Délai moyen de livraison spécifié (jours)=%{y}<br>Nombre d'achats=%{customdata[0]}<br>montant_total_achats=%{customdata[1]:,.0f}<extra></extra>",
         "hovertext": [
          "Godard SA"
         ],
         "legendgroup": "Godard SA",
         "marker": {
          "color": "#FF97FF",
          "size": {
           "bdata": "JA==",
           "dtype": "i1"
          },
          "sizemin": 5,
          "sizemode": "area",
          "sizeref": 5.115,
          "symbol": "circle"
         },
         "mode": "markers",
         "name": "Godard SA",
         "orientation": "v",
         "showlegend": true,
         "type": "scatter",
         "x": {
          "bdata": "16NwPQrX4z8=",
          "dtype": "f8"
         },
         "xaxis": "x",
         "y": {
          "bdata": "AAAAAAAAKkA=",
          "dtype": "f8"
         },
         "yaxis": "y"
        },
        {
         "customdata": {
          "bdata": "AAAAAACAQkAzMzOznakrQQ==",
          "dtype": "f8",
          "shape": "1, 2"
         },
         "hovertemplate": "<b>%{hovertext}</b><br><br>Fournisseur=Carlier SA<br>Fiabilité du fournisseur=%{x:.2f}<br>Délai moyen de livraison spécifié (jours)=%{y}<br>Nombre d'achats=%{customdata[0]}<br>montant_total_achats=%{customdata[1]:,.0f}<extra></extra>",
         "hovertext": [
          "Carlier SA"
         ],
         "legendgroup": "Carlier SA",
         "marker": {
          "color": "#FECB52",
          "size": {
           "bdata": "JQ==",
           "dtype": "i1"
          },
          "sizemin": 5,
          "sizemode": "area",
          "sizeref": 5.115,
          "symbol": "circle"
         },
         "mode": "markers",
         "name": "Carlier SA",
         "orientation": "v",
         "showlegend": true,
         "type": "scatter",
         "x": {
          "bdata": "exSuR+F65D8=",
          "dtype": "f8"
         },
         "xaxis": "x",
         "y": {
          "bdata": "AAAAAAAAJkA=",
          "dtype": "f8"
         },
         "yaxis": "y"
        }
       ],
       "layout": {
        "legend": {
         "itemsizing": "constant",
         "title": {
          "text": "Fournisseurs"
         },
         "tracegroupgap": 0
        },
        "template": {
         "data": {
          "bar": [
           {
            "error_x": {
             "color": "#2a3f5f"
            },
            "error_y": {
             "color": "#2a3f5f"
            },
            "marker": {
             "line": {
              "color": "#E5ECF6",
              "width": 0.5
             },
             "pattern": {
              "fillmode": "overlay",
              "size": 10,
              "solidity": 0.2
             }
            },
            "type": "bar"
           }
          ],
          "barpolar": [
           {
            "marker": {
             "line": {
              "color": "#E5ECF6",
              "width": 0.5
             },
             "pattern": {
              "fillmode": "overlay",
              "size": 10,
              "solidity": 0.2
             }
            },
            "type": "barpolar"
           }
          ],
          "carpet": [
           {
            "aaxis": {
             "endlinecolor": "#2a3f5f",
             "gridcolor": "white",
             "linecolor": "white",
             "minorgridcolor": "white",
             "startlinecolor": "#2a3f5f"
            },
            "baxis": {
             "endlinecolor": "#2a3f5f",
             "gridcolor": "white",
             "linecolor": "white",
             "minorgridcolor": "white",
             "startlinecolor": "#2a3f5f"
            },
            "type": "carpet"
           }
          ],
          "choropleth": [
           {
            "colorbar": {
             "outlinewidth": 0,
             "ticks": ""
            },
            "type": "choropleth"
           }
          ],
          "contour": [
           {
            "colorbar": {
             "outlinewidth": 0,
             "ticks": ""
            },
            "colorscale": [
             [
              0,
              "#0d0887"
             ],
             [
              0.1111111111111111,
              "#46039f"
             ],
             [
              0.2222222222222222,
              "#7201a8"
             ],
             [
              0.3333333333333333,
              "#9c179e"
             ],
             [
              0.4444444444444444,
              "#bd3786"
             ],
             [
              0.5555555555555556,
              "#d8576b"
             ],
             [
              0.6666666666666666,
              "#ed7953"
             ],
             [
              0.7777777777777778,
              "#fb9f3a"
             ],
             [
              0.8888888888888888,
              "#fdca26"
             ],
             [
              1,
              "#f0f921"
             ]
            ],
            "type": "contour"
           }
          ],
          "contourcarpet": [
           {
            "colorbar": {
             "outlinewidth": 0,
             "ticks": ""
            },
            "type": "contourcarpet"
           }
          ],
          "heatmap": [
           {
            "colorbar": {
             "outlinewidth": 0,
             "ticks": ""
            },
            "colorscale": [
             [
              0,
              "#0d0887"
             ],
             [
              0.1111111111111111,
              "#46039f"
             ],
             [
              0.2222222222222222,
              "#7201a8"
             ],
             [
              0.3333333333333333,
              "#9c179e"
             ],
             [
              0.4444444444444444,
              "#bd3786"
             ],
             [
              0.5555555555555556,
              "#d8576b"
             ],
             [
              0.6666666666666666,
              "#ed7953"
             ],
             [
              0.7777777777777778,
              "#fb9f3a"
             ],
             [
              0.8888888888888888,
              "#fdca26"
             ],
             [
              1,
              "#f0f921"
             ]
            ],
            "type": "heatmap"
           }
          ],
          "histogram": [
           {
            "marker": {
             "pattern": {
              "fillmode": "overlay",
              "size": 10,
              "solidity": 0.2
             }
            },
            "type": "histogram"
           }
          ],
          "histogram2d": [
           {
            "colorbar": {
             "outlinewidth": 0,
             "ticks": ""
            },
            "colorscale": [
             [
              0,
              "#0d0887"
             ],
             [
              0.1111111111111111,
              "#46039f"
             ],
             [
              0.2222222222222222,
              "#7201a8"
             ],
             [
              0.3333333333333333,
              "#9c179e"
             ],
             [
              0.4444444444444444,
              "#bd3786"
             ],
             [
              0.5555555555555556,
              "#d8576b"
             ],
             [
              0.6666666666666666,
              "#ed7953"
             ],
             [
              0.7777777777777778,
              "#fb9f3a"
             ],
             [
              0.8888888888888888,
              "#fdca26"
             ],
             [
              1,
              "#f0f921"
             ]
            ],
            "type": "histogram2d"
           }
          ],
          "histogram2dcontour": [
           {
            "colorbar": {
             "outlinewidth": 0,
             "ticks": ""
            },
            "colorscale": [
             [
              0,
              "#0d0887"
             ],
             [
              0.1111111111111111,
              "#46039f"
             ],
             [
              0.2222222222222222,
              "#7201a8"
             ],
             [
              0.3333333333333333,
              "#9c179e"
             ],
             [
              0.4444444444444444,
              "#bd3786"
             ],
             [
              0.5555555555555556,
              "#d8576b"
             ],
             [
              0.6666666666666666,
              "#ed7953"
             ],
             [
              0.7777777777777778,
              "#fb9f3a"
             ],
             [
              0.8888888888888888,
              "#fdca26"
             ],
             [
              1,
              "#f0f921"
             ]
            ],
            "type": "histogram2dcontour"
           }
          ],
          "mesh3d": [
           {
            "colorbar": {
             "outlinewidth": 0,
             "ticks": ""
            },
            "type": "mesh3d"
           }
          ],
          "parcoords": [
           {
            "line": {
             "colorbar": {
              "outlinewidth": 0,
              "ticks": ""
             }
            },
            "type": "parcoords"
           }
          ],
          "pie": [
           {
            "automargin": true,
            "type": "pie"
           }
          ],
          "scatter": [
           {
            "fillpattern": {
             "fillmode": "overlay",
             "size": 10,
             "solidity": 0.2
            },
            "type": "scatter"
           }
          ],
          "scatter3d": [
           {
            "line": {
             "colorbar": {
              "outlinewidth": 0,
              "ticks": ""
             }
            },
            "marker": {
             "colorbar": {
              "outlinewidth": 0,
              "ticks": ""
             }
            },
            "type": "scatter3d"
           }
          ],
          "scattercarpet": [
           {
            "marker": {
             "colorbar": {
              "outlinewidth": 0,
              "ticks": ""
             }
            },
            "type": "scattercarpet"
           }
          ],
          "scattergeo": [
           {
            "marker": {
             "colorbar": {
              "outlinewidth": 0,
              "ticks": ""
             }
            },
            "type": "scattergeo"
           }
          ],
          "scattergl": [
           {
            "marker": {
             "colorbar": {
              "outlinewidth": 0,
              "ticks": ""
             }
            },
            "type": "scattergl"
           }
          ],
          "scattermap": [
           {
            "marker": {
             "colorbar": {
              "outlinewidth": 0,
              "ticks": ""
             }
            },
            "type": "scattermap"
           }
          ],
          "scattermapbox": [
           {
            "marker": {
             "colorbar": {
              "outlinewidth": 0,
              "ticks": ""
             }
            },
            "type": "scattermapbox"
           }
          ],
          "scatterpolar": [
           {
            "marker": {
             "colorbar": {
              "outlinewidth": 0,
              "ticks": ""
             }
            },
            "type": "scatterpolar"
           }
          ],
          "scatterpolargl": [
           {
            "marker": {
             "colorbar": {
              "outlinewidth": 0,
              "ticks": ""
             }
            },
            "type": "scatterpolargl"
           }
          ],
          "scatterternary": [
           {
            "marker": {
             "colorbar": {
              "outlinewidth": 0,
              "ticks": ""
             }
            },
            "type": "scatterternary"
           }
          ],
          "surface": [
           {
            "colorbar": {
             "outlinewidth": 0,
             "ticks": ""
            },
            "colorscale": [
             [
              0,
              "#0d0887"
             ],
             [
              0.1111111111111111,
              "#46039f"
             ],
             [
              0.2222222222222222,
              "#7201a8"
             ],
             [
              0.3333333333333333,
              "#9c179e"
             ],
             [
              0.4444444444444444,
              "#bd3786"
             ],
             [
              0.5555555555555556,
              "#d8576b"
             ],
             [
              0.6666666666666666,
              "#ed7953"
             ],
             [
              0.7777777777777778,
              "#fb9f3a"
             ],
             [
              0.8888888888888888,
              "#fdca26"
             ],
             [
              1,
              "#f0f921"
             ]
            ],
            "type": "surface"
           }
          ],
          "table": [
           {
            "cells": {
             "fill": {
              "color": "#EBF0F8"
             },
             "line": {
              "color": "white"
             }
            },
            "header": {
             "fill": {
              "color": "#C8D4E3"
             },
             "line": {
              "color": "white"
             }
            },
            "type": "table"
           }
          ]
         },
         "layout": {
          "annotationdefaults": {
           "arrowcolor": "#2a3f5f",
           "arrowhead": 0,
           "arrowwidth": 1
          },
          "autotypenumbers": "strict",
          "coloraxis": {
           "colorbar": {
            "outlinewidth": 0,
            "ticks": ""
           }
          },
          "colorscale": {
           "diverging": [
            [
             0,
             "#8e0152"
            ],
            [
             0.1,
             "#c51b7d"
            ],
            [
             0.2,
             "#de77ae"
            ],
            [
             0.3,
             "#f1b6da"
            ],
            [
             0.4,
             "#fde0ef"
            ],
            [
             0.5,
             "#f7f7f7"
            ],
            [
             0.6,
             "#e6f5d0"
            ],
            [
             0.7,
             "#b8e186"
            ],
            [
             0.8,
             "#7fbc41"
            ],
            [
             0.9,
             "#4d9221"
            ],
            [
             1,
             "#276419"
            ]
           ],
           "sequential": [
            [
             0,
             "#0d0887"
            ],
            [
             0.1111111111111111,
             "#46039f"
            ],
            [
             0.2222222222222222,
             "#7201a8"
            ],
            [
             0.3333333333333333,
             "#9c179e"
            ],
            [
             0.4444444444444444,
             "#bd3786"
            ],
            [
             0.5555555555555556,
             "#d8576b"
            ],
            [
             0.6666666666666666,
             "#ed7953"
            ],
            [
             0.7777777777777778,
             "#fb9f3a"
            ],
            [
             0.8888888888888888,
             "#fdca26"
            ],
            [
             1,
             "#f0f921"
            ]
           ],
           "sequentialminus": [
            [
             0,
             "#0d0887"
            ],
            [
             0.1111111111111111,
             "#46039f"
            ],
            [
             0.2222222222222222,
             "#7201a8"
            ],
            [
             0.3333333333333333,
             "#9c179e"
            ],
            [
             0.4444444444444444,
             "#bd3786"
            ],
            [
             0.5555555555555556,
             "#d8576b"
            ],
            [
             0.6666666666666666,
             "#ed7953"
            ],
            [
             0.7777777777777778,
             "#fb9f3a"
            ],
            [
             0.8888888888888888,
             "#fdca26"
            ],
            [
             1,
             "#f0f921"
            ]
           ]
          },
          "colorway": [
           "#636efa",
           "#EF553B",
           "#00cc96",
           "#ab63fa",
           "#FFA15A",
           "#19d3f3",
           "#FF6692",
           "#B6E880",
           "#FF97FF",
           "#FECB52"
          ],
          "font": {
           "color": "#2a3f5f"
          },
          "geo": {
           "bgcolor": "white",
           "lakecolor": "white",
           "landcolor": "#E5ECF6",
           "showlakes": true,
           "showland": true,
           "subunitcolor": "white"
          },
          "hoverlabel": {
           "align": "left"
          },
          "hovermode": "closest",
          "mapbox": {
           "style": "light"
          },
          "paper_bgcolor": "white",
          "plot_bgcolor": "#E5ECF6",
          "polar": {
           "angularaxis": {
            "gridcolor": "white",
            "linecolor": "white",
            "ticks": ""
           },
           "bgcolor": "#E5ECF6",
           "radialaxis": {
            "gridcolor": "white",
            "linecolor": "white",
            "ticks": ""
           }
          },
          "scene": {
           "xaxis": {
            "backgroundcolor": "#E5ECF6",
            "gridcolor": "white",
            "gridwidth": 2,
            "linecolor": "white",
            "showbackground": true,
            "ticks": "",
            "zerolinecolor": "white"
           },
           "yaxis": {
            "backgroundcolor": "#E5ECF6",
            "gridcolor": "white",
            "gridwidth": 2,
            "linecolor": "white",
            "showbackground": true,
            "ticks": "",
            "zerolinecolor": "white"
           },
           "zaxis": {
            "backgroundcolor": "#E5ECF6",
            "gridcolor": "white",
            "gridwidth": 2,
            "linecolor": "white",
            "showbackground": true,
            "ticks": "",
            "zerolinecolor": "white"
           }
          },
          "shapedefaults": {
           "line": {
            "color": "#2a3f5f"
           }
          },
          "ternary": {
           "aaxis": {
            "gridcolor": "white",
            "linecolor": "white",
            "ticks": ""
           },
           "baxis": {
            "gridcolor": "white",
            "linecolor": "white",
            "ticks": ""
           },
           "bgcolor": "#E5ECF6",
           "caxis": {
            "gridcolor": "white",
            "linecolor": "white",
            "ticks": ""
           }
          },
          "title": {
           "x": 0.05
          },
          "xaxis": {
           "automargin": true,
           "gridcolor": "white",
           "linecolor": "white",
           "ticks": "",
           "title": {
            "standoff": 15
           },
           "zerolinecolor": "white",
           "zerolinewidth": 2
          },
          "yaxis": {
           "automargin": true,
           "gridcolor": "white",
           "linecolor": "white",
           "ticks": "",
           "title": {
            "standoff": 15
           },
           "zerolinecolor": "white",
           "zerolinewidth": 2
          }
         }
        },
        "title": {
         "text": "Fiabilité vs. Délai moyen de livraison des fournisseurs (Interactif)"
        },
        "xaxis": {
         "anchor": "y",
         "domain": [
          0,
          1
         ],
         "title": {
          "text": "Fiabilité du fournisseur"
         }
        },
        "yaxis": {
         "anchor": "x",
         "domain": [
          0,
          1
         ],
         "title": {
          "text": "Délai moyen de livraison spécifié (jours)"
         }
        }
       }
      }
     },
     "metadata": {},
     "output_type": "display_data"
    }
   ],
   "source": [
    "import plotly.express as px\n",
    "\n",
    "\n",
    "if 'supplier_features' not in locals() and 'df' in locals():\n",
    "    print(\"Recalcul de supplier_features...\")\n",
    "    supplier_features = df.groupby('id_fournisseur').agg(\n",
    "        nom_fournisseur=('nom_fournisseur', 'first'),\n",
    "        fiabilite=('fiabilité', 'mean'), # Devrait être unique par fournisseur\n",
    "        delai_moyen_livraison_specifique=('délai_moyen_jours', 'mean'), # Devrait être unique\n",
    "        nombre_achats=('id_achat', 'count'),\n",
    "        montant_total_achats=('montant_total', 'sum')\n",
    "\n",
    "    ).reset_index()\n",
    "elif 'supplier_features' not in locals() and 'df' not in locals():\n",
    "    print(\"Erreur : DataFrame 'df' et 'supplier_features' non trouvés. Veuillez exécuter les étapes précédentes.\")\n",
    "    exit()\n",
    "\n",
    "\n",
    "print(\"\\n--- Création du graphique interactif avec Plotly pour la classification des fournisseurs ---\")\n",
    "\n",
    "fig_plotly = px.scatter(\n",
    "    supplier_features,\n",
    "    x='fiabilite',\n",
    "    y='delai_moyen_livraison_specifique',\n",
    "    size='nombre_achats',  \n",
    "    color='nom_fournisseur',\n",
    "    hover_name='nom_fournisseur',  \n",
    "    hover_data={ \n",
    "        'fiabilite': ':.2f',\n",
    "        'delai_moyen_livraison_specifique': True, \n",
    "        'nombre_achats': True,\n",
    "        'montant_total_achats': ':,.0f'\n",
    "    },\n",
    "    title='Fiabilité vs. Délai moyen de livraison des fournisseurs (Interactif)',\n",
    "    labels={\n",
    "        'fiabilite': 'Fiabilité du fournisseur',\n",
    "        'delai_moyen_livraison_specifique': 'Délai moyen de livraison spécifié (jours)',\n",
    "        'nombre_achats': 'Nombre d\\'achats',\n",
    "        'nom_fournisseur': 'Fournisseur'\n",
    "    }\n",
    ")\n",
    "\n",
    "\n",
    "fig_plotly.update_layout(\n",
    "    xaxis_title='Fiabilité du fournisseur',\n",
    "    yaxis_title='Délai moyen de livraison spécifié (jours)',\n",
    "    legend_title='Fournisseurs',\n",
    "\n",
    ")\n",
    "fig_plotly.update_traces(marker=dict(sizemin=5))\n",
    "\n",
    "fig_plotly.show()"
   ]
  },
  {
   "cell_type": "markdown",
   "id": "17b76213",
   "metadata": {},
   "source": [
    "### Interprétation : Fiabilité vs. Délai moyen de livraison des fournisseurs\n",
    "\n",
    "Ce nuage de points compare les fournisseurs selon :\n",
    "*   **Fiabilité du fournisseur (axe X) :** Plus le score est élevé (vers la droite), mieux c'est.\n",
    "*   **Délai moyen de livraison spécifié en jours (axe Y) :** Plus le délai est court (vers le bas), mieux c'est.\n",
    "*   La **taille des bulles** indique vraisemblablement l'importance du fournisseur (ex: volume d'achats).\n",
    "\n",
    "**Points Clés :**\n",
    "\n",
    "1.  **Fournisseurs Optimaux (Haute fiabilité, Délai court - en bas à droite) :**\n",
    "    *   **Pelletier (jaune) :** Se distingue nettement avec une fiabilité proche de 1 (excellente) et un délai très court (~3 jours).\n",
    "    *   **Gautier (turquoise) :** Bonne fiabilité (~0.85) et délai court (~4 jours).\n",
    "    *   **Lucas (bleu foncé) :** Bonne fiabilité (~0.9) et délai court (~5 jours).\n",
    "\n",
    "2.  **Fournisseurs à Volume Important avec Compromis :**\n",
    "    *   **Morvan (orange, grosse bulle) :** Fiabilité excellente (~1.0) mais délai de livraison long (~11 jours).\n",
    "    *   **Gaillard S.A. (vert clair, grosses bulles) :** Fiabilité moyenne (~0.63 et ~0.75 pour ses deux points principaux) et délais moyens (~7-8 jours).\n",
    "    *   **Fischer (rose vif, grosse bulle) :** Fiabilité plus faible (~0.55) mais délai de livraison moyen (~6 jours).\n",
    "\n",
    "3.  **Fournisseurs Moins Performants sur ces Critères :**\n",
    "    *   **Germain et Fils (vert foncé) :** Fiabilité moyenne (~0.68) mais délai le plus long (~14 jours).\n",
    "    *   **Philippe (violet foncé) :** Faible fiabilité (~0.55) et délai long (~10 jours).\n",
    "    *   **Lecomte et Fils (violet clair) :** Fiabilité la plus basse (~0.5) et délai moyen (~7 jours).\n",
    "\n",
    "**Synthèse :**\n",
    "L'idéal est un fournisseur positionné en bas à droite du graphique. **Pelletier** apparaît comme le plus équilibré et performant. Les fournisseurs avec de grosses bulles (volume important) comme **Morvan, Gaillard S.A., et Fischer** nécessitent une analyse de compromis entre leur volume/importance et leur performance en termes de fiabilité/délai."
   ]
  },
  {
   "cell_type": "code",
   "execution_count": 35,
   "id": "f62e2a42",
   "metadata": {},
   "outputs": [
    {
     "name": "stdout",
     "output_type": "stream",
     "text": [
      "\n",
      "--- Classification des fournisseurs avec K-Means (adapté) ---\n",
      "\n",
      "Détermination du nombre optimal de clusters (Méthode du Coude)...\n"
     ]
    },
    {
     "data": {
      "image/png": "[encoded data removed]",
      "text/plain": [
       "<Figure size 1000x600 with 1 Axes>"
      ]
     },
     "metadata": {},
     "output_type": "display_data"
    },
    {
     "name": "stdout",
     "output_type": "stream",
     "text": [
      "Entrée invalide. Utilisation de k=3 par défaut.\n",
      "\n",
      "Application de K-Means avec k=3 clusters...\n",
      "\n",
      "Classification par K-Means (exemple) :\n",
      "   nom_fournisseur  cluster_kmeans\n",
      "0  Lecomte et Fils               0\n",
      "1           Morvan               0\n",
      "2  Germain et Fils               0\n",
      "3         Philippe               1\n",
      "4            Blanc               1\n",
      "\n",
      "Caractéristiques moyennes par cluster :\n"
     ]
    },
    {
     "data": {
      "application/vnd.microsoft.datawrangler.viewer.v0+json": {
       "columns": [
        {
         "name": "cluster_kmeans",
         "rawType": "int32",
         "type": "integer"
        },
        {
         "name": "fiabilite",
         "rawType": "float64",
         "type": "float"
        },
        {
         "name": "delai_moyen_livraison_specifique",
         "rawType": "float64",
         "type": "float"
        },
        {
         "name": "delai_livraison_observe_moyen",
         "rawType": "float64",
         "type": "float"
        },
        {
         "name": "montant_moyen_par_achat",
         "rawType": "float64",
         "type": "float"
        },
        {
         "name": "nombre_achats",
         "rawType": "float64",
         "type": "float"
        }
       ],
       "ref": "87e6745d-837e-4398-affd-37355389f8b4",
       "rows": [
        [
         "0",
         "0.8768181818181818",
         "9.227272727272727",
         "8.058405749651563",
         "14300.114354567406",
         "101.04545454545455"
        ],
        [
         "1",
         "0.6284000000000001",
         "7.32",
         "7.632101951614967",
         "16733.66708520469",
         "71.08"
        ],
        [
         "2",
         "0.64",
         "7.0",
         "7.98227371231166",
         "15206.042222557668",
         "2000.0"
        ]
       ],
       "shape": {
        "columns": 5,
        "rows": 3
       }
      },
      "text/html": [
       "<div>\n",
       "<style scoped>\n",
       "    .dataframe tbody tr th:only-of-type {\n",
       "        vertical-align: middle;\n",
       "    }\n",
       "\n",
       "    .dataframe tbody tr th {\n",
       "        vertical-align: top;\n",
       "    }\n",
       "\n",
       "    .dataframe thead th {\n",
       "        text-align: right;\n",
       "    }\n",
       "</style>\n",
       "<table border=\"1\" class=\"dataframe\">\n",
       "  <thead>\n",
       "    <tr style=\"text-align: right;\">\n",
       "      <th></th>\n",
       "      <th>fiabilite</th>\n",
       "      <th>delai_moyen_livraison_specifique</th>\n",
       "      <th>delai_livraison_observe_moyen</th>\n",
       "      <th>montant_moyen_par_achat</th>\n",
       "      <th>nombre_achats</th>\n",
       "    </tr>\n",
       "    <tr>\n",
       "      <th>cluster_kmeans</th>\n",
       "      <th></th>\n",
       "      <th></th>\n",
       "      <th></th>\n",
       "      <th></th>\n",
       "      <th></th>\n",
       "    </tr>\n",
       "  </thead>\n",
       "  <tbody>\n",
       "    <tr>\n",
       "      <th>0</th>\n",
       "      <td>0.876818</td>\n",
       "      <td>9.227273</td>\n",
       "      <td>8.058406</td>\n",
       "      <td>14300.114355</td>\n",
       "      <td>101.045455</td>\n",
       "    </tr>\n",
       "    <tr>\n",
       "      <th>1</th>\n",
       "      <td>0.628400</td>\n",
       "      <td>7.320000</td>\n",
       "      <td>7.632102</td>\n",
       "      <td>16733.667085</td>\n",
       "      <td>71.080000</td>\n",
       "    </tr>\n",
       "    <tr>\n",
       "      <th>2</th>\n",
       "      <td>0.640000</td>\n",
       "      <td>7.000000</td>\n",
       "      <td>7.982274</td>\n",
       "      <td>15206.042223</td>\n",
       "      <td>2000.000000</td>\n",
       "    </tr>\n",
       "  </tbody>\n",
       "</table>\n",
       "</div>"
      ],
      "text/plain": [
       "                fiabilite  delai_moyen_livraison_specifique  \\\n",
       "cluster_kmeans                                                \n",
       "0                0.876818                          9.227273   \n",
       "1                0.628400                          7.320000   \n",
       "2                0.640000                          7.000000   \n",
       "\n",
       "                delai_livraison_observe_moyen  montant_moyen_par_achat  \\\n",
       "cluster_kmeans                                                           \n",
       "0                                    8.058406             14300.114355   \n",
       "1                                    7.632102             16733.667085   \n",
       "2                                    7.982274             15206.042223   \n",
       "\n",
       "                nombre_achats  \n",
       "cluster_kmeans                 \n",
       "0                  101.045455  \n",
       "1                   71.080000  \n",
       "2                 2000.000000  "
      ]
     },
     "execution_count": 35,
     "metadata": {},
     "output_type": "execute_result"
    }
   ],
   "source": [
    "from sklearn.preprocessing import StandardScaler\n",
    "\n",
    "supplier_feature = df.groupby('id_fournisseur').agg(\n",
    "    nom_fournisseur=('nom_fournisseur', 'first'),\n",
    "    fiabilite=('fiabilité', 'mean'),\n",
    "    delai_moyen_livraison_specifique=('délai_moyen_jours', 'mean'),\n",
    "    nombre_achats=('id_achat', 'count'),\n",
    "    montant_total_achats=('montant_total', 'sum'),\n",
    "    quantite_totale_achetee=('quantité', 'sum'),\n",
    "    prix_unitaire_moyen_paye=('prix_unitaire', 'mean'),\n",
    "    delai_livraison_observe_moyen=('délai_livraison_jours', 'mean'),\n",
    "    delai_livraison_observe_std=('délai_livraison_jours', 'std'),\n",
    "    ville=('ville', 'first'),\n",
    "    pays=('pays', 'first')\n",
    ").reset_index()\n",
    "\n",
    "supplier_feature['delai_livraison_observe_std'].fillna(0, inplace=True)\n",
    "supplier_feature['montant_moyen_par_achat'] = supplier_feature['montant_total_achats'] / supplier_feature['nombre_achats']\n",
    "\n",
    "print(\"\\n--- Classification des fournisseurs avec K-Means (adapté) ---\")\n",
    "\n",
    "\n",
    "features_for_clustering = [\n",
    "    'fiabilite',\n",
    "    'delai_moyen_livraison_specifique',\n",
    "    'delai_livraison_observe_moyen',\n",
    "    'montant_moyen_par_achat',\n",
    "    'nombre_achats'\n",
    "]\n",
    "X_cluster = supplier_feature[features_for_clustering].copy()\n",
    "\n",
    "# Corrected NaN handling for X_cluster\n",
    "for col in X_cluster.columns:\n",
    "    if X_cluster[col].isnull().any():\n",
    "        print(f\"Attention: Valeurs NaN trouvées dans la colonne '{col}' pour le clustering. Remplacement par la moyenne.\")\n",
    "        # FIX APPLIED HERE:\n",
    "        X_cluster[col] = X_cluster[col].fillna(X_cluster[col].mean())\n",
    "        \n",
    "# Normalisation des données\n",
    "scaler = StandardScaler()\n",
    "X_scaled = scaler.fit_transform(X_cluster)\n",
    "\n",
    "\n",
    "print(\"\\nDétermination du nombre optimal de clusters (Méthode du Coude)...\")\n",
    "wcss = []\n",
    "k_range = range(1, 11)\n",
    "\n",
    "for i in k_range:\n",
    "    kmeans_elbow = KMeans(n_clusters=i, init='k-means++', random_state=42, n_init=10)\n",
    "    kmeans_elbow.fit(X_scaled)\n",
    "    wcss.append(kmeans_elbow.inertia_)\n",
    "\n",
    "plt.figure(figsize=(10, 6))\n",
    "plt.plot(k_range, wcss, marker='o', linestyle='--')\n",
    "plt.title('Méthode du Coude pour déterminer k optimal')\n",
    "plt.xlabel('Nombre de clusters (k)')\n",
    "plt.ylabel('WCSS (Inertie)')\n",
    "plt.xticks(list(k_range))\n",
    "plt.grid(True)\n",
    "plt.show()\n",
    "try:\n",
    "    optimal_k = int(input(\"D'après le graphique du coude, quel est le nombre optimal de clusters (k) ? Entrez un nombre entier : \"))\n",
    "    if not (1 <= optimal_k <= 10): # Vérifier si k est dans la plage testée\n",
    "        print(\"Nombre de clusters hors de la plage testée. Utilisation de k=3 par défaut.\")\n",
    "        optimal_k = 3\n",
    "except ValueError:\n",
    "    print(\"Entrée invalide. Utilisation de k=3 par défaut.\")\n",
    "    optimal_k = 3\n",
    "\n",
    "\n",
    "print(f\"\\nApplication de K-Means avec k={optimal_k} clusters...\")\n",
    "kmeans = KMeans(n_clusters=optimal_k, init='k-means++', random_state=42, n_init=10)\n",
    "supplier_feature['cluster_kmeans'] = kmeans.fit_predict(X_scaled)\n",
    "\n",
    "print(\"\\nClassification par K-Means (exemple) :\")\n",
    "print(supplier_feature[['nom_fournisseur', 'cluster_kmeans']].head())\n",
    "\n",
    "\n",
    "print(\"\\nCaractéristiques moyennes par cluster :\")\n",
    "cluster_analysis = supplier_feature.groupby('cluster_kmeans')[features_for_clustering].mean()\n",
    "cluster_analysis\n",
    "\n"
   ]
  },
  {
   "cell_type": "code",
   "execution_count": 24,
   "id": "6a736044",
   "metadata": {},
   "outputs": [
    {
     "name": "stdout",
     "output_type": "stream",
     "text": [
      "\n",
      "Création du graphique interactif Plotly pour les clusters K-Means...\n"
     ]
    },
    {
     "data": {
      "application/vnd.plotly.v1+json": {
       "config": {
        "plotlyServerURL": "https://plot.ly"
       },
       "data": [
        {
         "customdata": [
          [
           10,
           14403.36875,
           40,
           0,
           "Zurich",
           "Suisse"
          ],
          [
           9,
           16173.690290381124,
           551,
           0,
           "Paris",
           "France"
          ],
          [
           10,
           14943.075862068967,
           29,
           0,
           "Amsterdam",
           "Pays-Bas"
          ],
          [
           9,
           16432.16,
           30,
           0,
           "Prague",
           "République tchèque"
          ],
          [
           3,
           17487.14695481336,
           509,
           0,
           "Paris",
           "France"
          ],
          [
           11,
           14527.331030927835,
           485,
           0,
           "Stockholm",
           "Suède"
          ],
          [
           7,
           15359.19,
           35,
           0,
           "Paris",
           "France"
          ],
          [
           7,
           10400.041666666666,
           36,
           0,
           "Rome",
           "Italie"
          ],
          [
           11,
           10420.902777777777,
           36,
           0,
           "Copenhague",
           "Danemark"
          ],
          [
           11,
           15096.829729729729,
           37,
           0,
           "Oslo",
           "Norvège"
          ],
          [
           9,
           10577.234615384616,
           39,
           0,
           "Dublin",
           "Irlande"
          ],
          [
           9,
           12554.891891891892,
           37,
           0,
           "Bruxelles",
           "Belgique"
          ],
          [
           12,
           10148.283870967742,
           31,
           0,
           "Madrid",
           "Espagne"
          ],
          [
           12,
           19607.63108108108,
           37,
           0,
           "Varsovie",
           "Pologne"
          ],
          [
           7,
           14185.201515151515,
           33,
           0,
           "Lisbonne",
           "Portugal"
          ],
          [
           10,
           19064.413095238095,
           42,
           0,
           "Stockholm",
           "Suède"
          ],
          [
           6,
           15590.774074074076,
           27,
           0,
           "Copenhague",
           "Danemark"
          ],
          [
           13,
           14444.35,
           40,
           0,
           "Helsinki",
           "Finlande"
          ],
          [
           4,
           9503.70588235294,
           34,
           0,
           "Paris",
           "France"
          ],
          [
           14,
           17123.0921875,
           32,
           0,
           "Rome",
           "Italie"
          ],
          [
           9,
           11335.665909090909,
           44,
           0,
           "Amsterdam",
           "Pays-Bas"
          ],
          [
           10,
           15223.534615384615,
           39,
           0,
           "Berlin",
           "Allemagne"
          ]
         ],
         "hovertemplate": "<b>%{hovertext}</b><br><br>Cluster=%{customdata[3]}<br>Fiabilité=%{x:.2f}<br>Délai Observé Moyen (j)=%{y:.1f}<br>Nb Achats=%{customdata[2]}<br>delai_moyen_livraison_specifique=%{customdata[0]:.1f}<br>montant_moyen_par_achat=%{customdata[1]:,.0f}<br>ville=%{customdata[4]}<br>pays=%{customdata[5]}<extra></extra>",
         "hovertext": [
          "Lecomte et Fils",
          "Morvan",
          "Germain et Fils",
          "Carlier",
          "Pelletier",
          "Lucas",
          "Gautier",
          "Guillon",
          "Guérin",
          "Leduc",
          "Langlois Vallée SA",
          "Albert",
          "Da Silva",
          "Techer SA",
          "Laine",
          "Moreau Dubois S.A.S.",
          "Laurent Boyer S.A.R.L.",
          "Rocher",
          "Caron",
          "Klein SA",
          "Lopes",
          "Duhamel"
         ],
         "legendgroup": "0",
         "marker": {
          "color": "rgb(229, 134, 6)",
          "size": {
           "bdata": "KAAnAh0AHgD9AeUBIwAkACQAJQAnACUAHwAlACEAKgAbACgAIgAgACwAJwA=",
           "dtype": "i2"
          },
          "sizemin": 5,
          "sizemode": "area",
          "sizeref": 5.115,
          "symbol": "circle"
         },
         "mode": "markers",
         "name": "0",
         "orientation": "v",
         "showlegend": true,
         "type": "scatter",
         "x": {
          "bdata": "4noUrkfh6j+F61G4HoXrPzMzMzMzM+s/zczMzMzM7D9cj8L1KFzvPwAAAAAAAPA/4XoUrkfh6j8ehetRuB7tP3I9CtejcO0/1qNwPQrX6z8pXI/C9SjsP4/C9Shcj+o/KVyPwvUo7D9wPQrXo3DtP83MzMzMzOw/C9ejcD0K7z9cj8L1KFzvP1K4HoXrUeg/AAAAAAAA6D/NzMzMzMzsPzMzMzMzM+s/ZmZmZmZm5j8=",
          "dtype": "f8"
         },
         "xaxis": "x",
         "y": {
          "bdata": "zczMzMzMIUDTnxi976QfQMs9jbDc0yBAd3d3d3d3IUAMXZO3z98fQFvXSD7CUB9A6qAO6qAOHkCO4ziO4zghQDmO4ziO4x5AFfmsG0yRIUA7sRM7sRMfQFo3mCKfdR9A77333nvvHUC0bjBFPuseQAAAAAAAACJAMQzDMAzDHEC+hPYS2kscQJqZmZmZmR9AtbS0tLS0IUAAAAAAAKAdQLrooosuOiBAaZAGaZAGIUA=",
          "dtype": "f8"
         },
         "yaxis": "y"
        },
        {
         "customdata": [
          [
           9,
           18933.575,
           32,
           1,
           "Rome",
           "Italie"
          ],
          [
           13,
           19364.626190476192,
           42,
           1,
           "Dublin",
           "Irlande"
          ],
          [
           8,
           16087.1375,
           40,
           1,
           "Zurich",
           "Suisse"
          ],
          [
           9,
           15953.457142857142,
           21,
           1,
           "Lisbonne",
           "Portugal"
          ],
          [
           3,
           9757.774285714286,
           35,
           1,
           "Rome",
           "Italie"
          ],
          [
           5,
           16369.18,
           30,
           1,
           "Zurich",
           "Suisse"
          ],
          [
           7,
           15903.736363636364,
           33,
           1,
           "Stockholm",
           "Suède"
          ],
          [
           5,
           20465.9890625,
           32,
           1,
           "Rome",
           "Italie"
          ],
          [
           8,
           11843.08717948718,
           39,
           1,
           "Paris",
           "France"
          ],
          [
           3,
           19575.506060606058,
           33,
           1,
           "Oslo",
           "Norvège"
          ],
          [
           6,
           22253.838157894737,
           38,
           1,
           "Bruxelles",
           "Belgique"
          ],
          [
           10,
           12919.934722222222,
           36,
           1,
           "Berlin",
           "Allemagne"
          ],
          [
           6,
           12463.331481481482,
           27,
           1,
           "Copenhague",
           "Danemark"
          ],
          [
           4,
           11355.131707317074,
           41,
           1,
           "Oslo",
           "Norvège"
          ],
          [
           4,
           18073.29375,
           32,
           1,
           "Dublin",
           "Irlande"
          ],
          [
           14,
           19259.420454545456,
           44,
           1,
           "Stockholm",
           "Suède"
          ],
          [
           6,
           16038.765714285715,
           35,
           1,
           "Varsovie",
           "Pologne"
          ],
          [
           8,
           11630.03043478261,
           46,
           1,
           "Helsinki",
           "Finlande"
          ],
          [
           9,
           20481.63684210526,
           38,
           1,
           "Copenhague",
           "Danemark"
          ],
          [
           10,
           19397.225000000002,
           34,
           1,
           "Dublin",
           "Irlande"
          ],
          [
           4,
           19552.121951219513,
           41,
           1,
           "Berlin",
           "Allemagne"
          ],
          [
           4,
           16696.557585470087,
           468,
           1,
           "Rome",
           "Italie"
          ],
          [
           4,
           16708.80841889117,
           487,
           1,
           "Amsterdam",
           "Pays-Bas"
          ],
          [
           13,
           12758.948611111111,
           36,
           1,
           "Zurich",
           "Suisse"
          ],
          [
           11,
           24498.563513513513,
           37,
           1,
           "Bruxelles",
           "Belgique"
          ]
         ],
         "hovertemplate": "<b>%{hovertext}</b><br><br>Cluster=%{customdata[3]}<br>Fiabilité=%{x:.2f}<br>Délai Observé Moyen (j)=%{y:.1f}<br>Nb Achats=%{customdata[2]}<br>delai_moyen_livraison_specifique=%{customdata[0]:.1f}<br>montant_moyen_par_achat=%{customdata[1]:,.0f}<br>ville=%{customdata[4]}<br>pays=%{customdata[5]}<extra></extra>",
         "hovertext": [
          "Philippe",
          "Blanc",
          "Jean",
          "Fischer",
          "Leblanc",
          "Renault",
          "Morel",
          "Bodin",
          "Baudry",
          "Petitjean Andre SA",
          "Bourdon",
          "Rodrigues Payet S.A.R.L.",
          "Delaunay",
          "Faure S.A.R.L.",
          "Munoz SA",
          "Mercier Dupuy S.A.S.",
          "Bertrand S.A.",
          "Charles SARL",
          "Fabre SA",
          "Lemaître De Sousa SA",
          "Lagarde",
          "Roche",
          "Lecomte",
          "Godard SA",
          "Carlier SA"
         ],
         "legendgroup": "1",
         "marker": {
          "color": "rgb(93, 105, 177)",
          "size": {
           "bdata": "IAAqACgAFQAjAB4AIQAgACcAIQAmACQAGwApACAALAAjAC4AJgAiACkA1AHnASQAJQA=",
           "dtype": "i2"
          },
          "sizemin": 5,
          "sizemode": "area",
          "sizeref": 5.115,
          "symbol": "circle"
         },
         "mode": "markers",
         "name": "1",
         "orientation": "v",
         "showlegend": true,
         "type": "scatter",
         "x": {
          "bdata": "PQrXo3A94j/NzMzMzMzkP8P1KFyPwuU/hetRuB6F4z8AAAAAAADgP83MzMzMzOQ/UrgehetR4D/Xo3A9CtfrPz0K16NwPeI/KVyPwvUo7D/sUbgehevpP0jhehSuR+E/ZmZmZmZm5j9mZmZmZmbmP/YoXI/C9eA/cT0K16Nw5T/sUbgehevhP0jhehSuR+E/zczMzMzM5D9I4XoUrkfhP/YoXI/C9eA/SOF6FK5H4T/NzMzMzMzkP9ejcD0K1+M/exSuR+F65D8=",
          "dtype": "f8"
         },
         "xaxis": "x",
         "y": {
          "bdata": "AAAAAACgIEAMwzAMwzAcQGZmZmZmZh5AYhiGYRiGGUAAAAAAAAAgQFVVVVVVVR1AH3zwwQcfHEAAAAAAAOAdQMu3fMu3fBtAbbLJJptsHkAAAAAAAAAcQAAAAAAAABxAL6G9hPYSHkAMzsfgfAweQAAAAAAA0CFAXXTRRRddHkCSJEmSJEkeQDi96U1veiFAUV5DeQ3lH0CIh4eHh4cgQInalahdiR5AyZRMyZRMIEAOKtBsJwMgQMdxHMdxHB5AbzBFPusGH0A=",
          "dtype": "f8"
         },
         "yaxis": "y"
        },
        {
         "customdata": [
          [
           7,
           15223.786168601715,
           1981,
           2,
           "Berlin",
           "Allemagne"
          ],
          [
           8,
           15297.140347018572,
           2046,
           2,
           "Berlin",
           "Allemagne"
          ],
          [
           6,
           15097.20015205271,
           1973,
           2,
           "Helsinki",
           "Finlande"
          ]
         ],
         "hovertemplate": "<b>%{hovertext}</b><br><br>Cluster=%{customdata[3]}<br>Fiabilité=%{x:.2f}<br>Délai Observé Moyen (j)=%{y:.1f}<br>Nb Achats=%{customdata[2]}<br>delai_moyen_livraison_specifique=%{customdata[0]:.1f}<br>montant_moyen_par_achat=%{customdata[1]:,.0f}<br>ville=%{customdata[4]}<br>pays=%{customdata[5]}<extra></extra>",
         "hovertext": [
          "Gaillard S.A.",
          "Delattre Blot S.A.",
          "Fontaine Lopes S.A."
         ],
         "legendgroup": "2",
         "marker": {
          "color": "rgb(82, 188, 163)",
          "size": {
           "bdata": "vQf+B7UH",
           "dtype": "i2"
          },
          "sizemin": 5,
          "sizemode": "area",
          "sizeref": 5.115,
          "symbol": "circle"
         },
         "mode": "markers",
         "name": "2",
         "orientation": "v",
         "showlegend": true,
         "type": "scatter",
         "x": {
          "bdata": "exSuR+F65D+uR+F6FK7nP0jhehSuR+E/",
          "dtype": "f8"
         },
         "xaxis": "x",
         "y": {
          "bdata": "7rwSm5C1H0DPO++8884fQNWbc5GDIiBA",
          "dtype": "f8"
         },
         "yaxis": "y"
        }
       ],
       "layout": {
        "legend": {
         "itemsizing": "constant",
         "title": {
          "text": "Cluster K-Means"
         },
         "tracegroupgap": 0
        },
        "template": {
         "data": {
          "bar": [
           {
            "error_x": {
             "color": "#2a3f5f"
            },
            "error_y": {
             "color": "#2a3f5f"
            },
            "marker": {
             "line": {
              "color": "#E5ECF6",
              "width": 0.5
             },
             "pattern": {
              "fillmode": "overlay",
              "size": 10,
              "solidity": 0.2
             }
            },
            "type": "bar"
           }
          ],
          "barpolar": [
           {
            "marker": {
             "line": {
              "color": "#E5ECF6",
              "width": 0.5
             },
             "pattern": {
              "fillmode": "overlay",
              "size": 10,
              "solidity": 0.2
             }
            },
            "type": "barpolar"
           }
          ],
          "carpet": [
           {
            "aaxis": {
             "endlinecolor": "#2a3f5f",
             "gridcolor": "white",
             "linecolor": "white",
             "minorgridcolor": "white",
             "startlinecolor": "#2a3f5f"
            },
            "baxis": {
             "endlinecolor": "#2a3f5f",
             "gridcolor": "white",
             "linecolor": "white",
             "minorgridcolor": "white",
             "startlinecolor": "#2a3f5f"
            },
            "type": "carpet"
           }
          ],
          "choropleth": [
           {
            "colorbar": {
             "outlinewidth": 0,
             "ticks": ""
            },
            "type": "choropleth"
           }
          ],
          "contour": [
           {
            "colorbar": {
             "outlinewidth": 0,
             "ticks": ""
            },
            "colorscale": [
             [
              0,
              "#0d0887"
             ],
             [
              0.1111111111111111,
              "#46039f"
             ],
             [
              0.2222222222222222,
              "#7201a8"
             ],
             [
              0.3333333333333333,
              "#9c179e"
             ],
             [
              0.4444444444444444,
              "#bd3786"
             ],
             [
              0.5555555555555556,
              "#d8576b"
             ],
             [
              0.6666666666666666,
              "#ed7953"
             ],
             [
              0.7777777777777778,
              "#fb9f3a"
             ],
             [
              0.8888888888888888,
              "#fdca26"
             ],
             [
              1,
              "#f0f921"
             ]
            ],
            "type": "contour"
           }
          ],
          "contourcarpet": [
           {
            "colorbar": {
             "outlinewidth": 0,
             "ticks": ""
            },
            "type": "contourcarpet"
           }
          ],
          "heatmap": [
           {
            "colorbar": {
             "outlinewidth": 0,
             "ticks": ""
            },
            "colorscale": [
             [
              0,
              "#0d0887"
             ],
             [
              0.1111111111111111,
              "#46039f"
             ],
             [
              0.2222222222222222,
              "#7201a8"
             ],
             [
              0.3333333333333333,
              "#9c179e"
             ],
             [
              0.4444444444444444,
              "#bd3786"
             ],
             [
              0.5555555555555556,
              "#d8576b"
             ],
             [
              0.6666666666666666,
              "#ed7953"
             ],
             [
              0.7777777777777778,
              "#fb9f3a"
             ],
             [
              0.8888888888888888,
              "#fdca26"
             ],
             [
              1,
              "#f0f921"
             ]
            ],
            "type": "heatmap"
           }
          ],
          "histogram": [
           {
            "marker": {
             "pattern": {
              "fillmode": "overlay",
              "size": 10,
              "solidity": 0.2
             }
            },
            "type": "histogram"
           }
          ],
          "histogram2d": [
           {
            "colorbar": {
             "outlinewidth": 0,
             "ticks": ""
            },
            "colorscale": [
             [
              0,
              "#0d0887"
             ],
             [
              0.1111111111111111,
              "#46039f"
             ],
             [
              0.2222222222222222,
              "#7201a8"
             ],
             [
              0.3333333333333333,
              "#9c179e"
             ],
             [
              0.4444444444444444,
              "#bd3786"
             ],
             [
              0.5555555555555556,
              "#d8576b"
             ],
             [
              0.6666666666666666,
              "#ed7953"
             ],
             [
              0.7777777777777778,
              "#fb9f3a"
             ],
             [
              0.8888888888888888,
              "#fdca26"
             ],
             [
              1,
              "#f0f921"
             ]
            ],
            "type": "histogram2d"
           }
          ],
          "histogram2dcontour": [
           {
            "colorbar": {
             "outlinewidth": 0,
             "ticks": ""
            },
            "colorscale": [
             [
              0,
              "#0d0887"
             ],
             [
              0.1111111111111111,
              "#46039f"
             ],
             [
              0.2222222222222222,
              "#7201a8"
             ],
             [
              0.3333333333333333,
              "#9c179e"
             ],
             [
              0.4444444444444444,
              "#bd3786"
             ],
             [
              0.5555555555555556,
              "#d8576b"
             ],
             [
              0.6666666666666666,
              "#ed7953"
             ],
             [
              0.7777777777777778,
              "#fb9f3a"
             ],
             [
              0.8888888888888888,
              "#fdca26"
             ],
             [
              1,
              "#f0f921"
             ]
            ],
            "type": "histogram2dcontour"
           }
          ],
          "mesh3d": [
           {
            "colorbar": {
             "outlinewidth": 0,
             "ticks": ""
            },
            "type": "mesh3d"
           }
          ],
          "parcoords": [
           {
            "line": {
             "colorbar": {
              "outlinewidth": 0,
              "ticks": ""
             }
            },
            "type": "parcoords"
           }
          ],
          "pie": [
           {
            "automargin": true,
            "type": "pie"
           }
          ],
          "scatter": [
           {
            "fillpattern": {
             "fillmode": "overlay",
             "size": 10,
             "solidity": 0.2
            },
            "type": "scatter"
           }
          ],
          "scatter3d": [
           {
            "line": {
             "colorbar": {
              "outlinewidth": 0,
              "ticks": ""
             }
            },
            "marker": {
             "colorbar": {
              "outlinewidth": 0,
              "ticks": ""
             }
            },
            "type": "scatter3d"
           }
          ],
          "scattercarpet": [
           {
            "marker": {
             "colorbar": {
              "outlinewidth": 0,
              "ticks": ""
             }
            },
            "type": "scattercarpet"
           }
          ],
          "scattergeo": [
           {
            "marker": {
             "colorbar": {
              "outlinewidth": 0,
              "ticks": ""
             }
            },
            "type": "scattergeo"
           }
          ],
          "scattergl": [
           {
            "marker": {
             "colorbar": {
              "outlinewidth": 0,
              "ticks": ""
             }
            },
            "type": "scattergl"
           }
          ],
          "scattermap": [
           {
            "marker": {
             "colorbar": {
              "outlinewidth": 0,
              "ticks": ""
             }
            },
            "type": "scattermap"
           }
          ],
          "scattermapbox": [
           {
            "marker": {
             "colorbar": {
              "outlinewidth": 0,
              "ticks": ""
             }
            },
            "type": "scattermapbox"
           }
          ],
          "scatterpolar": [
           {
            "marker": {
             "colorbar": {
              "outlinewidth": 0,
              "ticks": ""
             }
            },
            "type": "scatterpolar"
           }
          ],
          "scatterpolargl": [
           {
            "marker": {
             "colorbar": {
              "outlinewidth": 0,
              "ticks": ""
             }
            },
            "type": "scatterpolargl"
           }
          ],
          "scatterternary": [
           {
            "marker": {
             "colorbar": {
              "outlinewidth": 0,
              "ticks": ""
             }
            },
            "type": "scatterternary"
           }
          ],
          "surface": [
           {
            "colorbar": {
             "outlinewidth": 0,
             "ticks": ""
            },
            "colorscale": [
             [
              0,
              "#0d0887"
             ],
             [
              0.1111111111111111,
              "#46039f"
             ],
             [
              0.2222222222222222,
              "#7201a8"
             ],
             [
              0.3333333333333333,
              "#9c179e"
             ],
             [
              0.4444444444444444,
              "#bd3786"
             ],
             [
              0.5555555555555556,
              "#d8576b"
             ],
             [
              0.6666666666666666,
              "#ed7953"
             ],
             [
              0.7777777777777778,
              "#fb9f3a"
             ],
             [
              0.8888888888888888,
              "#fdca26"
             ],
             [
              1,
              "#f0f921"
             ]
            ],
            "type": "surface"
           }
          ],
          "table": [
           {
            "cells": {
             "fill": {
              "color": "#EBF0F8"
             },
             "line": {
              "color": "white"
             }
            },
            "header": {
             "fill": {
              "color": "#C8D4E3"
             },
             "line": {
              "color": "white"
             }
            },
            "type": "table"
           }
          ]
         },
         "layout": {
          "annotationdefaults": {
           "arrowcolor": "#2a3f5f",
           "arrowhead": 0,
           "arrowwidth": 1
          },
          "autotypenumbers": "strict",
          "coloraxis": {
           "colorbar": {
            "outlinewidth": 0,
            "ticks": ""
           }
          },
          "colorscale": {
           "diverging": [
            [
             0,
             "#8e0152"
            ],
            [
             0.1,
             "#c51b7d"
            ],
            [
             0.2,
             "#de77ae"
            ],
            [
             0.3,
             "#f1b6da"
            ],
            [
             0.4,
             "#fde0ef"
            ],
            [
             0.5,
             "#f7f7f7"
            ],
            [
             0.6,
             "#e6f5d0"
            ],
            [
             0.7,
             "#b8e186"
            ],
            [
             0.8,
             "#7fbc41"
            ],
            [
             0.9,
             "#4d9221"
            ],
            [
             1,
             "#276419"
            ]
           ],
           "sequential": [
            [
             0,
             "#0d0887"
            ],
            [
             0.1111111111111111,
             "#46039f"
            ],
            [
             0.2222222222222222,
             "#7201a8"
            ],
            [
             0.3333333333333333,
             "#9c179e"
            ],
            [
             0.4444444444444444,
             "#bd3786"
            ],
            [
             0.5555555555555556,
             "#d8576b"
            ],
            [
             0.6666666666666666,
             "#ed7953"
            ],
            [
             0.7777777777777778,
             "#fb9f3a"
            ],
            [
             0.8888888888888888,
             "#fdca26"
            ],
            [
             1,
             "#f0f921"
            ]
           ],
           "sequentialminus": [
            [
             0,
             "#0d0887"
            ],
            [
             0.1111111111111111,
             "#46039f"
            ],
            [
             0.2222222222222222,
             "#7201a8"
            ],
            [
             0.3333333333333333,
             "#9c179e"
            ],
            [
             0.4444444444444444,
             "#bd3786"
            ],
            [
             0.5555555555555556,
             "#d8576b"
            ],
            [
             0.6666666666666666,
             "#ed7953"
            ],
            [
             0.7777777777777778,
             "#fb9f3a"
            ],
            [
             0.8888888888888888,
             "#fdca26"
            ],
            [
             1,
             "#f0f921"
            ]
           ]
          },
          "colorway": [
           "#636efa",
           "#EF553B",
           "#00cc96",
           "#ab63fa",
           "#FFA15A",
           "#19d3f3",
           "#FF6692",
           "#B6E880",
           "#FF97FF",
           "#FECB52"
          ],
          "font": {
           "color": "#2a3f5f"
          },
          "geo": {
           "bgcolor": "white",
           "lakecolor": "white",
           "landcolor": "#E5ECF6",
           "showlakes": true,
           "showland": true,
           "subunitcolor": "white"
          },
          "hoverlabel": {
           "align": "left"
          },
          "hovermode": "closest",
          "mapbox": {
           "style": "light"
          },
          "paper_bgcolor": "white",
          "plot_bgcolor": "#E5ECF6",
          "polar": {
           "angularaxis": {
            "gridcolor": "white",
            "linecolor": "white",
            "ticks": ""
           },
           "bgcolor": "#E5ECF6",
           "radialaxis": {
            "gridcolor": "white",
            "linecolor": "white",
            "ticks": ""
           }
          },
          "scene": {
           "xaxis": {
            "backgroundcolor": "#E5ECF6",
            "gridcolor": "white",
            "gridwidth": 2,
            "linecolor": "white",
            "showbackground": true,
            "ticks": "",
            "zerolinecolor": "white"
           },
           "yaxis": {
            "backgroundcolor": "#E5ECF6",
            "gridcolor": "white",
            "gridwidth": 2,
            "linecolor": "white",
            "showbackground": true,
            "ticks": "",
            "zerolinecolor": "white"
           },
           "zaxis": {
            "backgroundcolor": "#E5ECF6",
            "gridcolor": "white",
            "gridwidth": 2,
            "linecolor": "white",
            "showbackground": true,
            "ticks": "",
            "zerolinecolor": "white"
           }
          },
          "shapedefaults": {
           "line": {
            "color": "#2a3f5f"
           }
          },
          "ternary": {
           "aaxis": {
            "gridcolor": "white",
            "linecolor": "white",
            "ticks": ""
           },
           "baxis": {
            "gridcolor": "white",
            "linecolor": "white",
            "ticks": ""
           },
           "bgcolor": "#E5ECF6",
           "caxis": {
            "gridcolor": "white",
            "linecolor": "white",
            "ticks": ""
           }
          },
          "title": {
           "x": 0.05
          },
          "xaxis": {
           "automargin": true,
           "gridcolor": "white",
           "linecolor": "white",
           "ticks": "",
           "title": {
            "standoff": 15
           },
           "zerolinecolor": "white",
           "zerolinewidth": 2
          },
          "yaxis": {
           "automargin": true,
           "gridcolor": "white",
           "linecolor": "white",
           "ticks": "",
           "title": {
            "standoff": 15
           },
           "zerolinecolor": "white",
           "zerolinewidth": 2
          }
         }
        },
        "title": {
         "text": "Clusters de fournisseurs par K-Means (k=3)"
        },
        "xaxis": {
         "anchor": "y",
         "domain": [
          0,
          1
         ],
         "title": {
          "text": "Fiabilité"
         }
        },
        "yaxis": {
         "anchor": "x",
         "domain": [
          0,
          1
         ],
         "title": {
          "text": "Délai Observé Moyen (j)"
         }
        }
       }
      }
     },
     "metadata": {},
     "output_type": "display_data"
    },
    {
     "name": "stdout",
     "output_type": "stream",
     "text": [
      "\n",
      "Script de classification K-Means et visualisation Plotly terminé.\n"
     ]
    }
   ],
   "source": [
    "\n",
    "supplier_feature['cluster_kmeans'] = supplier_feature['cluster_kmeans'].astype('category')\n",
    "\n",
    "print(\"\\nCréation du graphique interactif Plotly pour les clusters K-Means...\")\n",
    "fig_kmeans_plotly = px.scatter(\n",
    "    supplier_feature,\n",
    "    x='fiabilite',  # Axe X\n",
    "    y='delai_livraison_observe_moyen',\n",
    "    color='cluster_kmeans',\n",
    "    size='nombre_achats',\n",
    "    hover_name='nom_fournisseur',\n",
    "    hover_data={\n",
    "        'fiabilite': ':.2f',\n",
    "        'delai_moyen_livraison_specifique': ':.1f',\n",
    "        'delai_livraison_observe_moyen': ':.1f',\n",
    "        'montant_moyen_par_achat': ':,.0f',\n",
    "        'nombre_achats': True,\n",
    "        'cluster_kmeans': True, \n",
    "        'ville': True,\n",
    "        'pays': True\n",
    "    },\n",
    "    title=f'Clusters de fournisseurs par K-Means (k={optimal_k})',\n",
    "    labels={\n",
    "        'fiabilite': 'Fiabilité',\n",
    "        'delai_livraison_observe_moyen': 'Délai Observé Moyen (j)',\n",
    "        'nombre_achats': 'Nb Achats',\n",
    "        'cluster_kmeans': 'Cluster'\n",
    "    },\n",
    "    color_discrete_sequence=px.colors.qualitative.Vivid # Autre palette de couleurs\n",
    ")\n",
    "\n",
    "fig_kmeans_plotly.update_layout(\n",
    "    legend_title_text='Cluster K-Means'\n",
    ")\n",
    "fig_kmeans_plotly.update_traces(marker=dict(sizemin=5))\n",
    "fig_kmeans_plotly.show()\n",
    "\n",
    "print(\"\\nScript de classification K-Means et visualisation Plotly terminé.\")"
   ]
  },
  {
   "cell_type": "markdown",
   "id": "11581de4",
   "metadata": {},
   "source": [
    "### Interprétation : Clusters de fournisseurs par K-Means (k=3)\n",
    "\n",
    "Ce nuage de points visualise trois clusters de fournisseurs (0, 1, 2) basés sur leur **Fiabilité** (axe X) et leur **Délai Observé Moyen en jours** (axe Y). Les gros points turquoise (Cluster 2) représentent les centroïdes de ce cluster, ou les fournisseurs eux-mêmes si ce cluster est très petit.\n",
    "\n",
    "**Analyse des Clusters :**\n",
    "\n",
    "1.  **Cluster 0 (Orange) : Fiables mais plus lents**\n",
    "    *   **Fiabilité :** Généralement élevée (principalement > 0.8).\n",
    "    *   **Délai :** Variable, mais tend à être moyen à long (7 à 9+ jours).\n",
    "    *   *Profil :* Fournisseurs sur lesquels on peut compter, mais avec des délais de livraison potentiellement plus longs.\n",
    "\n",
    "2.  **Cluster 1 (Violet) : Moins fiables, délais variables**\n",
    "    *   **Fiabilité :** Généralement faible à moyenne (principalement entre 0.5 et 0.7).\n",
    "    *   **Délai :** Assez variable (6.5 à 9 jours).\n",
    "    *   *Profil :* Fournisseurs présentant un risque plus élevé en termes de respect des engagements, avec des délais de livraison hétérogènes.\n",
    "\n",
    "3.  **Cluster 2 (Turquoise - gros points) : Performants moyens et constants (petit groupe)**\n",
    "    *   **Fiabilité :** Moyenne (entre ~0.5 et ~0.75).\n",
    "    *   **Délai :** Relativement constant et moyen (autour de 8 jours).\n",
    "    *   *Profil :* Petit groupe de fournisseurs aux performances moyennes et prévisibles sur ces deux critères. Leur taille plus importante sur le graphique pourrait indiquer un volume d'affaires plus conséquent ou qu'ils sont les centroïdes du cluster.\n",
    "\n",
    "**Synthèse :**\n",
    "Le K-Means a segmenté les fournisseurs en :\n",
    "*   Un groupe de **fournisseurs fiables mais potentiellement lents** (Orange).\n",
    "*   Un groupe de **fournisseurs moins fiables aux délais variables** (Violet).\n",
    "*   Un petit groupe de **fournisseurs aux performances moyennes et constantes** (Turquoise).\n",
    "Cette segmentation permet d'adapter les stratégies d'approvisionnement en fonction du profil de risque et des besoins en délai."
   ]
  },
  {
   "cell_type": "code",
   "execution_count": 27,
   "id": "8c9568dd",
   "metadata": {},
   "outputs": [
    {
     "name": "stdout",
     "output_type": "stream",
     "text": [
      "\n",
      "Préparation de la visualisation 3D des clusters avec PCA...\n",
      "Affichage du scatter plot 3D interactif des clusters (PCA)...\n"
     ]
    },
    {
     "data": {
      "application/vnd.plotly.v1+json": {
       "config": {
        "plotlyServerURL": "https://plot.ly"
       },
       "data": [
        {
         "customdata": {
          "bdata": "4noUrkfh6j8AAAAAAAAkQM3MzMzMzCFAMzMzM68hzEAAAAAAAABEQIXrUbgehes/AAAAAAAAIkDTnxi976QfQNZpb1vYls9AAAAAAAA4gUAzMzMzMzPrPwAAAAAAACRAyz2NsNzTIECcKNm1iS/NQAAAAAAAAD1AzczMzMzM7D8AAAAAAAAiQHd3d3d3dyFA16NwPQoM0EAAAAAAAAA+QFyPwvUoXO8/AAAAAAAACEAMXZO3z98fQFgptWfJE9FAAAAAAADQf0AAAAAAAADwPwAAAAAAACZAW9dIPsJQH0CCsDhfql/MQAAAAAAAUH5A4XoUrkfh6j8AAAAAAAAcQOqgDuqgDh5AH4XrUZj/zUAAAAAAAIBBQB6F61G4Hu0/AAAAAAAAHECO4ziO4zghQFVVVVUFUMRAAAAAAAAAQkByPQrXo3DtPwAAAAAAACZAOY7jOI7jHkCO4ziOc1rEQAAAAAAAAEJA1qNwPQrX6z8AAAAAAAAmQBX5rBtMkSFA2nKVNGp8zUAAAAAAAIBCQClcj8L1KOw/AAAAAAAAIkA7sRM7sRMfQAh+4AeeqMRAAAAAAACAQ0CPwvUoXI/qPwAAAAAAACJAWjeYIp91H0CfdYMpcoXIQAAAAAAAgEJAKVyPwvUo7D8AAAAAAAAoQO+999577x1AXkXiVSTSw0AAAAAAAAA/QHA9CtejcO0/AAAAAAAAKEC0bjBFPuseQBfnoWPoJdNAAAAAAACAQkDNzMzMzMzsPwAAAAAAABxAAAAAAAAAIkC0nD/LmbTLQAAAAAAAgEBAC9ejcD0K7z8AAAAAAAAkQDEMwzAMwxxAcAIncBqe0kAAAAAAAABFQFyPwvUoXO8/AAAAAAAAGEC+hPYS2kscQGv42xRjc85AAAAAAAAAO0BSuB6F61HoPwAAAAAAACpAmpmZmZmZH0DNzMzMLDbMQAAAAAAAAERAAAAAAAAA6D8AAAAAAAAQQLW0tLS0tCFAWlpaWtqPwkAAAAAAAABBQM3MzMzMzOw/AAAAAAAALEAAAAAAAKAdQGZmZubFuNBAAAAAAAAAQEAzMzMzMzPrPwAAAAAAACJAuuiiiy46IEDIU4I81SPGQAAAAAAAAEZAZmZmZmZm5j8AAAAAAAAkQGmQBmmQBiFAbuRGbsS7zUAAAAAAAIBDQA==",
          "dtype": "f8",
          "shape": "22, 5"
         },
         "hovertemplate": "<b>%{hovertext}</b><br><br>cluster=%{marker.color}<br>PC1=%{x}<br>PC2=%{y}<br>PC3=%{z}<br>fiabilite=%{customdata[0]}<br>delai_moyen_livraison_specifique=%{customdata[1]}<br>delai_livraison_observe_moyen=%{customdata[2]}<br>montant_moyen_par_achat=%{customdata[3]}<br>nombre_achats=%{customdata[4]}<extra></extra>",
         "hovertext": [
          "Lecomte et Fils",
          "Morvan",
          "Germain et Fils",
          "Carlier",
          "Pelletier",
          "Lucas",
          "Gautier",
          "Guillon",
          "Guérin",
          "Leduc",
          "Langlois Vallée SA",
          "Albert",
          "Da Silva",
          "Techer SA",
          "Laine",
          "Moreau Dubois S.A.S.",
          "Laurent Boyer S.A.R.L.",
          "Rocher",
          "Caron",
          "Klein SA",
          "Lopes",
          "Duhamel"
         ],
         "legendgroup": "0",
         "marker": {
          "color": {
           "bdata": "AAAAAAAAAAAAAAAAAAAAAAAAAAAAAAAAAAAAAAAAAAAAAAAAAAAAAAAAAAAAAAAAAAAAAAAAAAAAAAAAAAAAAAAAAAAAAAAAAAAAAAAAAAAAAAAAAAAAAA==",
           "dtype": "i4"
          },
          "coloraxis": "coloraxis",
          "symbol": "circle"
         },
         "mode": "markers",
         "name": "0",
         "scene": "scene",
         "showlegend": true,
         "type": "scatter3d",
         "x": {
          "bdata": "EeD3F1zL1j+BY0bs3YrFPxtG4+J2kuQ/kevda7EV4D+MG+w+DqLkv0BylJ9tJfE/VozPcTyf2T/3Y8luVbu0v6VmEu6xKfM/bi2fEIPV5z+CSiKHVkLkP7xCKAm7eOA/M3+QjP4r9j/CQM7/n2L8P183Ci5qF8G/z41kvjmn+z8LmzOSUh/rP/3E28JpGfM/H1PLeeK59b/HPyTTc3oBQMfyaM4jENo/PeM+Da9bwD8=",
          "dtype": "f8"
         },
         "y": {
          "bdata": "p2dkXxjl+j+51E61srDVP/giVcGsifE/8aCApXbt9D88yA4YDBDdP0j/fCIjGPA/JspLeRjyf7+A0nRw0SwCQIu6GM5Dc/Y/GHj6Z76W+D9yp4cb12v0P9OR4i0nxes/YY+7I+tr8T+BAkmmiSXOv2P+gCa0jf8/2J4kv4i54r9qfeTj8kC6v33Ufxsurtk/a+dxVF5MAUAHVQtSrFXFv4t115czofY/dLRwCCkc5j8=",
          "dtype": "f8"
         },
         "z": {
          "bdata": "JV3/kBcA1D/1pR6KRG/wP/x28wnusdA/rATF82/S4T/IPKANJJ7qP4E5KddgvvM/Kvq2e0GRzr80VKE10VXavwUZ2w1Kicu/jUwdqLBB4T90Q75qvYHev1qliIXFv9S/bEKS+9lG1L9Q6cRzd/XwP5SIInBVbMI/qRaVllzg6D/S8W3KcPq4v3epNhMz2cQ/5A38KRmA8r/9t5QSFbTpPynZK0qhtNa/c4i2SlcIm78=",
          "dtype": "f8"
         }
        },
        {
         "customdata": {
          "bdata": "PQrXo3A94j8AAAAAAAAiQAAAAAAAoCBAzczMzGR90kAAAAAAAABAQM3MzMzMzOQ/AAAAAAAAKkAMwzAMwzAcQBQ4gRMo6dJAAAAAAAAARUDD9Shcj8LlPwAAAAAAACBAZmZmZmZmHkCamZmZkWvPQAAAAAAAAERAhetRuB6F4z8AAAAAAAAiQGIYhmEYhhlAgzqog7ooz0AAAAAAAAA1QAAAAAAAAOA/AAAAAAAACEAAAAAAAAAgQE9WyxvjDsNAAAAAAACAQUDNzMzMzMzkPwAAAAAAABRAVVVVVVVVHUCkcD0Kl/jPQAAAAAAAAD5AUrgehetR4D8AAAAAAAAcQB988MEHHxxAE+QpQd4Pz0AAAAAAAIBAQNejcD0K1+s/AAAAAAAAFEAAAAAAAOAdQM3MzEx//NNAAAAAAAAAQEA9CtejcD3iPwAAAAAAACBAy7d8y7d8G0Api7IoiyHHQAAAAAAAgENAKVyPwvUo7D8AAAAAAAAIQG2yySabbB5ANAZMY+Ad00AAAAAAAIBAQOxRuB6F6+k/AAAAAAAAGEAAAAAAAAAcQLICYaR1u9VAAAAAAAAAQ0BI4XoUrkfhPwAAAAAAACRAAAAAAAAAHEClT/qk9zvJQAAAAAAAAEJAZmZmZmZm5j8AAAAAAAAYQC+hvYT2Eh5AGTX8bapXyEAAAAAAAAA7QGZmZmZmZuY/AAAAAAAAEEAMzsfgfAweQL0NyduQLcZAAAAAAACARED2KFyPwvXgPwAAAAAAABBAAAAAAADQIUDNzMzMUqbRQAAAAAAAAEBAcT0K16Nw5T8AAAAAAAAsQF100UUXXR5AjC666NrO0kAAAAAAAABGQOxRuB6F6+E/AAAAAAAAGECSJEmSJEkeQJ377AJiU89AAAAAAACAQUBI4XoUrkfhPwAAAAAAACBAOL3pTW96IUD8dUnlA7fGQAAAAAAAAEdAzczMzMzM5D8AAAAAAAAiQFFeQ3kN5R9AtGMFwmgA1EAAAAAAAABDQEjhehSuR+E/AAAAAAAAJECIh4eHh4cgQGdmZmZO8dJAAAAAAAAAQUD2KFyPwvXgPwAAAAAAABBAidqVqF2JHkDhfAzOBxjTQAAAAAAAgERASOF6FK5H4T8AAAAAAAAQQMmUTMmUTCBAsPd6ryNO0EAAAAAAAEB9QM3MzMzMzOQ/AAAAAAAAEEAOKtBsJwMgQMOWIr0zUdBAAAAAAABwfkDXo3A9CtfjPwAAAAAAACpAx3Ecx3EcHkBswRZseevIQAAAAAAAAEJAexSuR+F65D8AAAAAAAAmQG8wRT7rBh9A2fuaEKTs10AAAAAAAIBCQA==",
          "dtype": "f8",
          "shape": "25, 5"
         },
         "hovertemplate": "<b>%{hovertext}</b><br><br>cluster=%{marker.color}<br>PC1=%{x}<br>PC2=%{y}<br>PC3=%{z}<br>fiabilite=%{customdata[0]}<br>delai_moyen_livraison_specifique=%{customdata[1]}<br>delai_livraison_observe_moyen=%{customdata[2]}<br>montant_moyen_par_achat=%{customdata[3]}<br>nombre_achats=%{customdata[4]}<extra></extra>",
         "hovertext": [
          "Philippe",
          "Blanc",
          "Jean",
          "Fischer",
          "Leblanc",
          "Renault",
          "Morel",
          "Bodin",
          "Baudry",
          "Petitjean Andre SA",
          "Bourdon",
          "Rodrigues Payet S.A.R.L.",
          "Delaunay",
          "Faure S.A.R.L.",
          "Munoz SA",
          "Mercier Dupuy S.A.S.",
          "Bertrand S.A.",
          "Charles SARL",
          "Fabre SA",
          "Lemaître De Sousa SA",
          "Lagarde",
          "Roche",
          "Lecomte",
          "Godard SA",
          "Carlier SA"
         ],
         "legendgroup": "1",
         "marker": {
          "color": {
           "bdata": "AQAAAAEAAAABAAAAAQAAAAEAAAABAAAAAQAAAAEAAAABAAAAAQAAAAEAAAABAAAAAQAAAAEAAAABAAAAAQAAAAEAAAABAAAAAQAAAAEAAAABAAAAAQAAAAEAAAABAAAAAQAAAA==",
           "dtype": "i4"
          },
          "coloraxis": "coloraxis",
          "symbol": "diamond"
         },
         "mode": "markers",
         "name": "1",
         "scene": "scene",
         "showlegend": true,
         "type": "scatter3d",
         "x": {
          "bdata": "1J4RWnvrzr/V+eigMe/2P9yFFNpHCrg/Tvu4v1j75D95aNhTBUX/v+Er9wIoMt+/yZLjJZ/v2L83h0CCIW/TPxzu8zCa3La/k1x4tLC4x7+KqAz2A1zjP/2y8KjO5Mw/qg+fQCX41r+JHy4cssfqv5Ql4C3Glfu/rBns8pg99z+d1RZN8Pflv8fGuPYszvC/3R0NPMUWzD8b6yaRHEO2v1/ZDe1MhPG/S9FqNFIh/r/C+FZmtOT3v0XPhgVni+s/xASxK5Xd6z8=",
          "dtype": "f8"
         },
         "y": {
          "bdata": "PeupbZlU47/sWwzyd7z7v7eujoHw0OC/izCuGdYDAMDUG/zqhGHbP4Vu86Uiue+/IGPGL+wi+r+cTmt4Dzbtv55I8eg+6eu/8DLBnB8747+j0WNJnIH+vyyWBVPh3u+/KVfv1Pv4sz+PySvKrl3PPw0yUJJDwGq//GmqwEf68L8luJp3gxvuv9JURoBCCfE/Pv8r5lz/779x9vLwgCvqv8QiqtCAB/q/AXMlGwJs4b9n970pFjvXv1niPNfku76/yVCQij9i/78=",
          "dtype": "f8"
         },
         "z": {
          "bdata": "fv5KmmM/ob+1MS720lbTP+w7K3m629m/fDbf3/Dh6r8KryK8Xm8AwGfD0iUWg+q/jhPNp3Kg8b9V5WLISBjRP/PIrhKCeva/9T4vvUQqjT/JdliqgYTVPz+1s185xPG/od4ln+X28L86a9uawh72v1DsQPPb0OK/k9i4kxet4j+rZMrRTmTtv+RsmomZEfC/4YmppSbV0T+peFJ8sGCmP+EYGcBeAue/T+o60c1M0L/GaLloUlB6P6PRcf7mwN+/ysAHMloX7T8=",
          "dtype": "f8"
         }
        },
        {
         "customdata": {
          "bdata": "exSuR+F65D8AAAAAAAAcQO68EpuQtR9AwTgsoeS7zUAAAAAAAPSeQK5H4XoUruc/AAAAAAAAIEDPO++8884fQG4f5PaR4M1AAAAAAAD4n0BI4XoUrkfhPwAAAAAAABhA1ZtzkYMiIEBPHJWemXzNQAAAAAAA1J5A",
          "dtype": "f8",
          "shape": "3, 5"
         },
         "hovertemplate": "<b>%{hovertext}</b><br><br>cluster=%{marker.color}<br>PC1=%{x}<br>PC2=%{y}<br>PC3=%{z}<br>fiabilite=%{customdata[0]}<br>delai_moyen_livraison_specifique=%{customdata[1]}<br>delai_livraison_observe_moyen=%{customdata[2]}<br>montant_moyen_par_achat=%{customdata[3]}<br>nombre_achats=%{customdata[4]}<extra></extra>",
         "hovertext": [
          "Gaillard S.A.",
          "Delattre Blot S.A.",
          "Fontaine Lopes S.A."
         ],
         "legendgroup": "2",
         "marker": {
          "color": {
           "bdata": "AgAAAAIAAAACAAAA",
           "dtype": "i4"
          },
          "coloraxis": "coloraxis",
          "symbol": "square"
         },
         "mode": "markers",
         "name": "2",
         "scene": "scene",
         "showlegend": true,
         "type": "scatter3d",
         "x": {
          "bdata": "e1Bc8Mh8BMBRSxOcVu8AwBgN7sbhKAnA",
          "dtype": "f8"
         },
         "y": {
          "bdata": "cYyeK0Xny7+FYicdH9S8P2bR819vXNe/",
          "dtype": "f8"
         },
         "z": {
          "bdata": "qKfnSCdQA0Cwh7BJEQEHQFvvs8TBoABA",
          "dtype": "f8"
         }
        }
       ],
       "layout": {
        "coloraxis": {
         "colorbar": {
          "title": {
           "text": "cluster"
          }
         },
         "colorscale": [
          [
           0,
           "#0d0887"
          ],
          [
           0.1111111111111111,
           "#46039f"
          ],
          [
           0.2222222222222222,
           "#7201a8"
          ],
          [
           0.3333333333333333,
           "#9c179e"
          ],
          [
           0.4444444444444444,
           "#bd3786"
          ],
          [
           0.5555555555555556,
           "#d8576b"
          ],
          [
           0.6666666666666666,
           "#ed7953"
          ],
          [
           0.7777777777777778,
           "#fb9f3a"
          ],
          [
           0.8888888888888888,
           "#fdca26"
          ],
          [
           1,
           "#f0f921"
          ]
         ]
        },
        "legend": {
         "title": {
          "text": "cluster"
         },
         "tracegroupgap": 0
        },
        "margin": {
         "b": 0,
         "l": 0,
         "r": 0,
         "t": 40
        },
        "scene": {
         "domain": {
          "x": [
           0,
           1
          ],
          "y": [
           0,
           1
          ]
         },
         "xaxis": {
          "title": {
           "text": "PC1"
          }
         },
         "yaxis": {
          "title": {
           "text": "PC2"
          }
         },
         "zaxis": {
          "title": {
           "text": "PC3"
          }
         }
        },
        "template": {
         "data": {
          "bar": [
           {
            "error_x": {
             "color": "#2a3f5f"
            },
            "error_y": {
             "color": "#2a3f5f"
            },
            "marker": {
             "line": {
              "color": "#E5ECF6",
              "width": 0.5
             },
             "pattern": {
              "fillmode": "overlay",
              "size": 10,
              "solidity": 0.2
             }
            },
            "type": "bar"
           }
          ],
          "barpolar": [
           {
            "marker": {
             "line": {
              "color": "#E5ECF6",
              "width": 0.5
             },
             "pattern": {
              "fillmode": "overlay",
              "size": 10,
              "solidity": 0.2
             }
            },
            "type": "barpolar"
           }
          ],
          "carpet": [
           {
            "aaxis": {
             "endlinecolor": "#2a3f5f",
             "gridcolor": "white",
             "linecolor": "white",
             "minorgridcolor": "white",
             "startlinecolor": "#2a3f5f"
            },
            "baxis": {
             "endlinecolor": "#2a3f5f",
             "gridcolor": "white",
             "linecolor": "white",
             "minorgridcolor": "white",
             "startlinecolor": "#2a3f5f"
            },
            "type": "carpet"
           }
          ],
          "choropleth": [
           {
            "colorbar": {
             "outlinewidth": 0,
             "ticks": ""
            },
            "type": "choropleth"
           }
          ],
          "contour": [
           {
            "colorbar": {
             "outlinewidth": 0,
             "ticks": ""
            },
            "colorscale": [
             [
              0,
              "#0d0887"
             ],
             [
              0.1111111111111111,
              "#46039f"
             ],
             [
              0.2222222222222222,
              "#7201a8"
             ],
             [
              0.3333333333333333,
              "#9c179e"
             ],
             [
              0.4444444444444444,
              "#bd3786"
             ],
             [
              0.5555555555555556,
              "#d8576b"
             ],
             [
              0.6666666666666666,
              "#ed7953"
             ],
             [
              0.7777777777777778,
              "#fb9f3a"
             ],
             [
              0.8888888888888888,
              "#fdca26"
             ],
             [
              1,
              "#f0f921"
             ]
            ],
            "type": "contour"
           }
          ],
          "contourcarpet": [
           {
            "colorbar": {
             "outlinewidth": 0,
             "ticks": ""
            },
            "type": "contourcarpet"
           }
          ],
          "heatmap": [
           {
            "colorbar": {
             "outlinewidth": 0,
             "ticks": ""
            },
            "colorscale": [
             [
              0,
              "#0d0887"
             ],
             [
              0.1111111111111111,
              "#46039f"
             ],
             [
              0.2222222222222222,
              "#7201a8"
             ],
             [
              0.3333333333333333,
              "#9c179e"
             ],
             [
              0.4444444444444444,
              "#bd3786"
             ],
             [
              0.5555555555555556,
              "#d8576b"
             ],
             [
              0.6666666666666666,
              "#ed7953"
             ],
             [
              0.7777777777777778,
              "#fb9f3a"
             ],
             [
              0.8888888888888888,
              "#fdca26"
             ],
             [
              1,
              "#f0f921"
             ]
            ],
            "type": "heatmap"
           }
          ],
          "histogram": [
           {
            "marker": {
             "pattern": {
              "fillmode": "overlay",
              "size": 10,
              "solidity": 0.2
             }
            },
            "type": "histogram"
           }
          ],
          "histogram2d": [
           {
            "colorbar": {
             "outlinewidth": 0,
             "ticks": ""
            },
            "colorscale": [
             [
              0,
              "#0d0887"
             ],
             [
              0.1111111111111111,
              "#46039f"
             ],
             [
              0.2222222222222222,
              "#7201a8"
             ],
             [
              0.3333333333333333,
              "#9c179e"
             ],
             [
              0.4444444444444444,
              "#bd3786"
             ],
             [
              0.5555555555555556,
              "#d8576b"
             ],
             [
              0.6666666666666666,
              "#ed7953"
             ],
             [
              0.7777777777777778,
              "#fb9f3a"
             ],
             [
              0.8888888888888888,
              "#fdca26"
             ],
             [
              1,
              "#f0f921"
             ]
            ],
            "type": "histogram2d"
           }
          ],
          "histogram2dcontour": [
           {
            "colorbar": {
             "outlinewidth": 0,
             "ticks": ""
            },
            "colorscale": [
             [
              0,
              "#0d0887"
             ],
             [
              0.1111111111111111,
              "#46039f"
             ],
             [
              0.2222222222222222,
              "#7201a8"
             ],
             [
              0.3333333333333333,
              "#9c179e"
             ],
             [
              0.4444444444444444,
              "#bd3786"
             ],
             [
              0.5555555555555556,
              "#d8576b"
             ],
             [
              0.6666666666666666,
              "#ed7953"
             ],
             [
              0.7777777777777778,
              "#fb9f3a"
             ],
             [
              0.8888888888888888,
              "#fdca26"
             ],
             [
              1,
              "#f0f921"
             ]
            ],
            "type": "histogram2dcontour"
           }
          ],
          "mesh3d": [
           {
            "colorbar": {
             "outlinewidth": 0,
             "ticks": ""
            },
            "type": "mesh3d"
           }
          ],
          "parcoords": [
           {
            "line": {
             "colorbar": {
              "outlinewidth": 0,
              "ticks": ""
             }
            },
            "type": "parcoords"
           }
          ],
          "pie": [
           {
            "automargin": true,
            "type": "pie"
           }
          ],
          "scatter": [
           {
            "fillpattern": {
             "fillmode": "overlay",
             "size": 10,
             "solidity": 0.2
            },
            "type": "scatter"
           }
          ],
          "scatter3d": [
           {
            "line": {
             "colorbar": {
              "outlinewidth": 0,
              "ticks": ""
             }
            },
            "marker": {
             "colorbar": {
              "outlinewidth": 0,
              "ticks": ""
             }
            },
            "type": "scatter3d"
           }
          ],
          "scattercarpet": [
           {
            "marker": {
             "colorbar": {
              "outlinewidth": 0,
              "ticks": ""
             }
            },
            "type": "scattercarpet"
           }
          ],
          "scattergeo": [
           {
            "marker": {
             "colorbar": {
              "outlinewidth": 0,
              "ticks": ""
             }
            },
            "type": "scattergeo"
           }
          ],
          "scattergl": [
           {
            "marker": {
             "colorbar": {
              "outlinewidth": 0,
              "ticks": ""
             }
            },
            "type": "scattergl"
           }
          ],
          "scattermap": [
           {
            "marker": {
             "colorbar": {
              "outlinewidth": 0,
              "ticks": ""
             }
            },
            "type": "scattermap"
           }
          ],
          "scattermapbox": [
           {
            "marker": {
             "colorbar": {
              "outlinewidth": 0,
              "ticks": ""
             }
            },
            "type": "scattermapbox"
           }
          ],
          "scatterpolar": [
           {
            "marker": {
             "colorbar": {
              "outlinewidth": 0,
              "ticks": ""
             }
            },
            "type": "scatterpolar"
           }
          ],
          "scatterpolargl": [
           {
            "marker": {
             "colorbar": {
              "outlinewidth": 0,
              "ticks": ""
             }
            },
            "type": "scatterpolargl"
           }
          ],
          "scatterternary": [
           {
            "marker": {
             "colorbar": {
              "outlinewidth": 0,
              "ticks": ""
             }
            },
            "type": "scatterternary"
           }
          ],
          "surface": [
           {
            "colorbar": {
             "outlinewidth": 0,
             "ticks": ""
            },
            "colorscale": [
             [
              0,
              "#0d0887"
             ],
             [
              0.1111111111111111,
              "#46039f"
             ],
             [
              0.2222222222222222,
              "#7201a8"
             ],
             [
              0.3333333333333333,
              "#9c179e"
             ],
             [
              0.4444444444444444,
              "#bd3786"
             ],
             [
              0.5555555555555556,
              "#d8576b"
             ],
             [
              0.6666666666666666,
              "#ed7953"
             ],
             [
              0.7777777777777778,
              "#fb9f3a"
             ],
             [
              0.8888888888888888,
              "#fdca26"
             ],
             [
              1,
              "#f0f921"
             ]
            ],
            "type": "surface"
           }
          ],
          "table": [
           {
            "cells": {
             "fill": {
              "color": "#EBF0F8"
             },
             "line": {
              "color": "white"
             }
            },
            "header": {
             "fill": {
              "color": "#C8D4E3"
             },
             "line": {
              "color": "white"
             }
            },
            "type": "table"
           }
          ]
         },
         "layout": {
          "annotationdefaults": {
           "arrowcolor": "#2a3f5f",
           "arrowhead": 0,
           "arrowwidth": 1
          },
          "autotypenumbers": "strict",
          "coloraxis": {
           "colorbar": {
            "outlinewidth": 0,
            "ticks": ""
           }
          },
          "colorscale": {
           "diverging": [
            [
             0,
             "#8e0152"
            ],
            [
             0.1,
             "#c51b7d"
            ],
            [
             0.2,
             "#de77ae"
            ],
            [
             0.3,
             "#f1b6da"
            ],
            [
             0.4,
             "#fde0ef"
            ],
            [
             0.5,
             "#f7f7f7"
            ],
            [
             0.6,
             "#e6f5d0"
            ],
            [
             0.7,
             "#b8e186"
            ],
            [
             0.8,
             "#7fbc41"
            ],
            [
             0.9,
             "#4d9221"
            ],
            [
             1,
             "#276419"
            ]
           ],
           "sequential": [
            [
             0,
             "#0d0887"
            ],
            [
             0.1111111111111111,
             "#46039f"
            ],
            [
             0.2222222222222222,
             "#7201a8"
            ],
            [
             0.3333333333333333,
             "#9c179e"
            ],
            [
             0.4444444444444444,
             "#bd3786"
            ],
            [
             0.5555555555555556,
             "#d8576b"
            ],
            [
             0.6666666666666666,
             "#ed7953"
            ],
            [
             0.7777777777777778,
             "#fb9f3a"
            ],
            [
             0.8888888888888888,
             "#fdca26"
            ],
            [
             1,
             "#f0f921"
            ]
           ],
           "sequentialminus": [
            [
             0,
             "#0d0887"
            ],
            [
             0.1111111111111111,
             "#46039f"
            ],
            [
             0.2222222222222222,
             "#7201a8"
            ],
            [
             0.3333333333333333,
             "#9c179e"
            ],
            [
             0.4444444444444444,
             "#bd3786"
            ],
            [
             0.5555555555555556,
             "#d8576b"
            ],
            [
             0.6666666666666666,
             "#ed7953"
            ],
            [
             0.7777777777777778,
             "#fb9f3a"
            ],
            [
             0.8888888888888888,
             "#fdca26"
            ],
            [
             1,
             "#f0f921"
            ]
           ]
          },
          "colorway": [
           "#636efa",
           "#EF553B",
           "#00cc96",
           "#ab63fa",
           "#FFA15A",
           "#19d3f3",
           "#FF6692",
           "#B6E880",
           "#FF97FF",
           "#FECB52"
          ],
          "font": {
           "color": "#2a3f5f"
          },
          "geo": {
           "bgcolor": "white",
           "lakecolor": "white",
           "landcolor": "#E5ECF6",
           "showlakes": true,
           "showland": true,
           "subunitcolor": "white"
          },
          "hoverlabel": {
           "align": "left"
          },
          "hovermode": "closest",
          "mapbox": {
           "style": "light"
          },
          "paper_bgcolor": "white",
          "plot_bgcolor": "#E5ECF6",
          "polar": {
           "angularaxis": {
            "gridcolor": "white",
            "linecolor": "white",
            "ticks": ""
           },
           "bgcolor": "#E5ECF6",
           "radialaxis": {
            "gridcolor": "white",
            "linecolor": "white",
            "ticks": ""
           }
          },
          "scene": {
           "xaxis": {
            "backgroundcolor": "#E5ECF6",
            "gridcolor": "white",
            "gridwidth": 2,
            "linecolor": "white",
            "showbackground": true,
            "ticks": "",
            "zerolinecolor": "white"
           },
           "yaxis": {
            "backgroundcolor": "#E5ECF6",
            "gridcolor": "white",
            "gridwidth": 2,
            "linecolor": "white",
            "showbackground": true,
            "ticks": "",
            "zerolinecolor": "white"
           },
           "zaxis": {
            "backgroundcolor": "#E5ECF6",
            "gridcolor": "white",
            "gridwidth": 2,
            "linecolor": "white",
            "showbackground": true,
            "ticks": "",
            "zerolinecolor": "white"
           }
          },
          "shapedefaults": {
           "line": {
            "color": "#2a3f5f"
           }
          },
          "ternary": {
           "aaxis": {
            "gridcolor": "white",
            "linecolor": "white",
            "ticks": ""
           },
           "baxis": {
            "gridcolor": "white",
            "linecolor": "white",
            "ticks": ""
           },
           "bgcolor": "#E5ECF6",
           "caxis": {
            "gridcolor": "white",
            "linecolor": "white",
            "ticks": ""
           }
          },
          "title": {
           "x": 0.05
          },
          "xaxis": {
           "automargin": true,
           "gridcolor": "white",
           "linecolor": "white",
           "ticks": "",
           "title": {
            "standoff": 15
           },
           "zerolinecolor": "white",
           "zerolinewidth": 2
          },
          "yaxis": {
           "automargin": true,
           "gridcolor": "white",
           "linecolor": "white",
           "ticks": "",
           "title": {
            "standoff": 15
           },
           "zerolinecolor": "white",
           "zerolinewidth": 2
          }
         }
        },
        "title": {
         "text": "Visualisation 3D des clusters de fournisseurs (PCA, k=3)"
        }
       }
      }
     },
     "metadata": {},
     "output_type": "display_data"
    }
   ],
   "source": [
    "# --- 2. PCA POUR VISUALISATION 3D INTERACTIVE AVEC PLOTLY EXPRESS ---\n",
    "print(\"\\nPréparation de la visualisation 3D des clusters avec PCA...\")\n",
    "pca = PCA(n_components=3, random_state=42)\n",
    "X_pca = pca.fit_transform(X_scaled)\n",
    "\n",
    "pca_df = pd.DataFrame(data=X_pca, columns=['PC1', 'PC2', 'PC3'], index=supplier_feature.index)\n",
    "pca_df['cluster'] = supplier_feature['cluster_kmeans']\n",
    "pca_df['nom_fournisseur'] = supplier_feature['nom_fournisseur']\n",
    "# Add other features for hover information if desired\n",
    "for feature in features_for_clustering:\n",
    "    pca_df[feature] = supplier_feature[feature]\n",
    "\n",
    "print(\"Affichage du scatter plot 3D interactif des clusters (PCA)...\")\n",
    "fig_pca_3d = px.scatter_3d(pca_df,\n",
    "                            x='PC1',\n",
    "                            y='PC2',\n",
    "                            z='PC3',\n",
    "                            color='cluster',  # Color by cluster\n",
    "                            symbol='cluster', # Different symbol for each cluster\n",
    "                            hover_name='nom_fournisseur', # Show supplier name on hover\n",
    "                            hover_data=features_for_clustering, # Show original features on hover\n",
    "                            title=f\"Visualisation 3D des clusters de fournisseurs (PCA, k={optimal_k})\")\n",
    "fig_pca_3d.update_layout(margin=dict(l=0, r=0, b=0, t=40)) # Adjust layout\n",
    "fig_pca_3d.show()\n",
    "\n"
   ]
  },
  {
   "cell_type": "markdown",
   "id": "713749ca",
   "metadata": {},
   "source": [
    "### Interprétation : Visualisation 3D des clusters de fournisseurs (PCA, k=3)\n",
    "\n",
    "Ce graphique 3D représente les fournisseurs, positionnés selon trois composantes principales (PC1, PC2, PC3) issues d'une Analyse en Composantes Principales (PCA). Les fournisseurs sont regroupés en **trois clusters (k=3)**, identifiés par des couleurs/formes distinctes :\n",
    "\n",
    "*   **Cluster 0 (Cercles violets)**\n",
    "*   **Cluster 1 (Losanges rouges)**\n",
    "*   **Cluster 2 (Carrés jaunes)**\n",
    "\n",
    "**Observations Clés :**\n",
    "\n",
    "1.  **Cluster 2 (Jaune) : Très Distinct**\n",
    "    *   Ce cluster est clairement séparé des deux autres.\n",
    "    *   Il se situe à des valeurs élevées sur l'axe PC3 (autour de 3-4).\n",
    "    *   Ses valeurs sur PC1 sont plutôt négatives (autour de -1 à -2).\n",
    "    *   Il contient un petit nombre de fournisseurs.\n",
    "    *   *Interprétation :* Ces fournisseurs partagent des caractéristiques très spécifiques (capturées par la combinaison unique de scores sur PC1, PC2 et PC3) qui les différencient nettement des autres.\n",
    "\n",
    "2.  **Clusters 0 (Violet) et 1 (Rouge) : Plus Proches, avec une certaine Séparation**\n",
    "    *   Ces deux clusters sont plus proches l'un de l'autre que du cluster 2. Ils occupent une région plus centrale et étendue de l'espace 3D.\n",
    "    *   Ils se chevauchent partiellement, surtout si l'on considère les projections sur les plans PC1-PC2.\n",
    "    *   **Différenciation :**\n",
    "        *   Le Cluster 1 (rouge) tend à avoir des valeurs de PC3 légèrement plus élevées et/ou des valeurs de PC1 plus positives que le Cluster 0 (violet).\n",
    "        *   Le Cluster 0 (violet) semble s'étendre davantage vers des valeurs négatives de PC2 et des valeurs plus basses de PC3.\n",
    "    *   *Interprétation :* Bien que distincts selon l'algorithme de clustering, les fournisseurs de ces deux groupes partagent plus de similitudes entre eux qu'avec ceux du cluster 2. Les différences qui les séparent sont plus subtiles.\n",
    "\n",
    "**Synthèse :**\n",
    "\n",
    "*   La PCA a permis de réduire la dimensionnalité des données des fournisseurs, et l'algorithme de clustering a identifié trois groupes.\n",
    "*   Un groupe de fournisseurs (Cluster 2) est très atypique par rapport aux autres.\n",
    "*   Les deux autres groupes (Clusters 0 et 1) sont plus volumineux et présentent des profils plus proches, bien que distincts.\n",
    "*   Pour comprendre la nature de ces clusters, il faudrait analyser quelles variables d'origine contribuent le plus à chaque composante principale (PC1, PC2, PC3) et examiner les caractéristiques moyennes des fournisseurs au sein de chaque cluster.\n",
    "\n",
    "**Utilité :**\n",
    "Cette visualisation aide à segmenter les fournisseurs en groupes homogènes, ce qui peut être utile pour des stratégies d'achat différenciées, la gestion des risques, ou l'identification de profils de fournisseurs spécifiques."
   ]
  },
  {
   "cell_type": "code",
   "execution_count": 28,
   "id": "519ca3e6",
   "metadata": {},
   "outputs": [
    {
     "name": "stdout",
     "output_type": "stream",
     "text": [
      "\n",
      "Évaluation de la performance de K-Means avec le score de silhouette...\n",
      "Score de silhouette pour k=3 : 0.25\n"
     ]
    }
   ],
   "source": [
    "#Evaluation de performance de K-means\n",
    "print(\"\\nÉvaluation de la performance de K-Means avec le score de silhouette...\")\n",
    "silhouette_avg = silhouette_score(X_scaled, supplier_feature['cluster_kmeans'])\n",
    "print(f\"Score de silhouette pour k={optimal_k} : {silhouette_avg:.2f}\")"
   ]
  },
  {
   "cell_type": "code",
   "execution_count": null,
   "id": "62450ed9",
   "metadata": {},
   "outputs": [],
   "source": []
  },
  {
   "cell_type": "code",
   "execution_count": null,
   "id": "7ecdfbde",
   "metadata": {},
   "outputs": [],
   "source": []
  }
 ],
 "metadata": {
  "kernelspec": {
   "display_name": "Python 3",
   "language": "python",
   "name": "python3"
  },
  "language_info": {
   "codemirror_mode": {
    "name": "ipython",
    "version": 3
   },
   "file_extension": ".py",
   "mimetype": "text/x-python",
   "name": "python",
   "nbconvert_exporter": "python",
   "pygments_lexer": "ipython3",
   "version": "3.12.8"
  }
 },
 "nbformat": 4,
 "nbformat_minor": 5
}
