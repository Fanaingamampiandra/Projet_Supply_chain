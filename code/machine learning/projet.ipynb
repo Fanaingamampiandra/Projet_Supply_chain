{
 "cells": [
  {
   "cell_type": "code",
   "execution_count": 24,
   "id": "cde2b781",
   "metadata": {},
   "outputs": [],
   "source": [
    "import pandas as pd\n",
    "import numpy as np\n",
    "import matplotlib.pyplot as plt\n",
    "import seaborn as sns\n",
    "from sklearn.model_selection import train_test_split\n",
    "from sklearn.ensemble import RandomForestRegressor\n",
    "from sklearn.preprocessing import LabelEncoder, OneHotEncoder\n",
    "from sklearn.compose import ColumnTransformer\n",
    "from sklearn.pipeline import Pipeline\n",
    "from sklearn.metrics import mean_absolute_error, r2_score\n",
    "from sklearn.cluster import KMeans"
   ]
  },
  {
   "cell_type": "code",
   "execution_count": null,
   "id": "1118d736",
   "metadata": {},
   "outputs": [
    {
     "name": "stdout",
     "output_type": "stream",
     "text": [
      "--- Aperçu initial des données ---\n",
      "Dimensions de la base : (10000, 22)\n",
      "\n",
      "Types de données des colonnes :\n",
      "<class 'pandas.core.frame.DataFrame'>\n",
      "RangeIndex: 10000 entries, 0 to 9999\n",
      "Data columns (total 22 columns):\n",
      " #   Column                 Non-Null Count  Dtype  \n",
      "---  ------                 --------------  -----  \n",
      " 0   id_achat               10000 non-null  object \n",
      " 1   date_achat             10000 non-null  object \n",
      " 2   id_produit             10000 non-null  object \n",
      " 3   quantité               10000 non-null  int64  \n",
      " 4   id_fournisseur         10000 non-null  object \n",
      " 5   prix_unitaire          10000 non-null  float64\n",
      " 6   délai_livraison_jours  10000 non-null  int64  \n",
      " 7   montant_total          10000 non-null  float64\n",
      " 8   mois                   10000 non-null  int64  \n",
      " 9   année                  10000 non-null  int64  \n",
      " 10  jour_semaine           10000 non-null  int64  \n",
      " 11  catégorie              10000 non-null  object \n",
      " 12  marque                 10000 non-null  object \n",
      " 13  prix                   10000 non-null  float64\n",
      " 14  stock_minimum          10000 non-null  int64  \n",
      " 15  nom_fournisseur        10000 non-null  object \n",
      " 16  ville                  10000 non-null  object \n",
      " 17  pays                   10000 non-null  object \n",
      " 18  fiabilité              10000 non-null  float64\n",
      " 19  délai_moyen_jours      10000 non-null  int64  \n",
      " 20  niveau_stock           10000 non-null  int64  \n",
      " 21  entrepot               10000 non-null  object \n",
      "dtypes: float64(4), int64(8), object(10)\n",
      "memory usage: 1.7+ MB\n",
      "None\n",
      "\n",
      "Premières lignes de la base :\n",
      "   id_achat  date_achat id_produit  quantité id_fournisseur  prix_unitaire  \\\n",
      "0  PO000001  2024-03-22     P00627       150           S029         129.62   \n",
      "1  PO000002  2024-06-12     P00469        50           S028         110.81   \n",
      "2  PO000003  2024-01-19     P00849        75           S001         140.58   \n",
      "3  PO000004  2024-11-20     P00484       500           S028         120.77   \n",
      "4  PO000005  2024-06-07     P00196        50           S025         256.05   \n",
      "\n",
      "   délai_livraison_jours  montant_total  mois  année  ...           marque  \\\n",
      "0                     14        19443.0     3   2024  ...  Atelier Minéral   \n",
      "1                      8         5540.5     6   2024  ...      Reflet d'or   \n",
      "2                      8        10543.5     1   2024  ...  Ãveil Ãlégant   \n",
      "3                      9        60385.0    11   2024  ...      Reflet d'or   \n",
      "4                     13        12802.5     6   2024  ...       Luxe eclat   \n",
      "\n",
      "     prix stock_minimum      nom_fournisseur     ville       pays fiabilité  \\\n",
      "0   39.95            18  Fontaine Lopes S.A.  Helsinki   Finlande      0.54   \n",
      "1   25.58            18   Delattre Blot S.A.    Berlin  Allemagne      0.74   \n",
      "2   62.78            83      Lecomte et Fils    Zurich     Suisse      0.84   \n",
      "3  259.47            39   Delattre Blot S.A.    Berlin  Allemagne      0.74   \n",
      "4  353.45            33            Techer SA  Varsovie    Pologne      0.92   \n",
      "\n",
      "  délai_moyen_jours  niveau_stock   entrepot  \n",
      "0                 6           289      Paris  \n",
      "1                 8            80      Paris  \n",
      "2                10            54  Marseille  \n",
      "3                 8           249  Marseille  \n",
      "4                12           119      Paris  \n",
      "\n",
      "[5 rows x 22 columns]\n",
      "\n",
      "Statistiques descriptives des colonnes numériques :\n",
      "           quantité  prix_unitaire  délai_livraison_jours  montant_total  \\\n",
      "count  10000.000000   10000.000000           10000.000000   10000.000000   \n",
      "mean      99.512500     155.187121               7.955900   15530.706135   \n",
      "std       98.580534      83.661601               3.754273   19313.230160   \n",
      "min       10.000000      10.030000               2.000000     100.300000   \n",
      "25%       25.000000      83.087500               5.000000    3508.937500   \n",
      "50%       75.000000     155.365000               8.000000    9099.500000   \n",
      "75%      100.000000     227.740000              11.000000   19748.062500   \n",
      "max      500.000000     299.980000              14.000000  148310.000000   \n",
      "\n",
      "               mois    année  jour_semaine          prix  stock_minimum  \\\n",
      "count  10000.000000  10000.0  10000.000000  10000.000000   10000.000000   \n",
      "mean       6.537200   2024.0      2.978200    258.293713      53.283000   \n",
      "std        3.455316      0.0      2.011549    141.211258      25.376137   \n",
      "min        1.000000   2024.0      0.000000     22.220000      10.000000   \n",
      "25%        4.000000   2024.0      1.000000    130.720000      31.000000   \n",
      "50%        7.000000   2024.0      3.000000    258.450000      54.000000   \n",
      "75%       10.000000   2024.0      5.000000    376.880000      74.000000   \n",
      "max       12.000000   2024.0      6.000000    499.720000      99.000000   \n",
      "\n",
      "          fiabilité  délai_moyen_jours  niveau_stock  \n",
      "count  10000.000000        10000.00000  10000.000000  \n",
      "mean       0.697760            7.05340    147.771300  \n",
      "std        0.143535            2.19076     88.354962  \n",
      "min        0.500000            3.00000      0.000000  \n",
      "25%        0.540000            6.00000     72.000000  \n",
      "50%        0.650000            7.00000    145.000000  \n",
      "75%        0.740000            8.00000    226.000000  \n",
      "max        1.000000           14.00000    299.000000  \n",
      "\n",
      "Valeurs manquantes par colonne :\n",
      "id_achat                 0\n",
      "date_achat               0\n",
      "id_produit               0\n",
      "quantité                 0\n",
      "id_fournisseur           0\n",
      "prix_unitaire            0\n",
      "délai_livraison_jours    0\n",
      "montant_total            0\n",
      "mois                     0\n",
      "année                    0\n",
      "jour_semaine             0\n",
      "catégorie                0\n",
      "marque                   0\n",
      "prix                     0\n",
      "stock_minimum            0\n",
      "nom_fournisseur          0\n",
      "ville                    0\n",
      "pays                     0\n",
      "fiabilité                0\n",
      "délai_moyen_jours        0\n",
      "niveau_stock             0\n",
      "entrepot                 0\n",
      "dtype: int64\n"
     ]
    }
   ],
   "source": [
    "df = pd.read_csv('/home/ensai/Djo/djo.csv')\n",
    "\n",
    "\n",
    "print(\"--- Aperçu initial des données ---\")\n",
    "print(f\"Dimensions de la base : {df.shape}\")\n",
    "print(\"\\nTypes de données des colonnes :\")\n",
    "print(df.info())\n",
    "\n",
    "print(\"\\nPremières lignes de la base :\")\n",
    "print(df.head())\n",
    "\n",
    "print(\"\\nStatistiques descriptives des colonnes numériques :\")\n",
    "print(df.describe())\n",
    "\n",
    "print(\"\\nValeurs manquantes par colonne :\")\n",
    "print(df.isnull().sum())\n",
    "\n",
    "\n",
    "# Conversion de la date\n",
    "df['date_achat'] = pd.to_datetime(df['date_achat'])"
   ]
  },
  {
   "cell_type": "code",
   "execution_count": 26,
   "id": "e068ac1b",
   "metadata": {},
   "outputs": [
    {
     "name": "stdout",
     "output_type": "stream",
     "text": [
      "\n",
      "--- Analyse exploratoire détaillée ---\n"
     ]
    },
    {
     "data": {
      "image/png": "[encoded data removed]",
      "text/plain": [
       "<Figure size 1000x600 with 1 Axes>"
      ]
     },
     "metadata": {},
     "output_type": "display_data"
    }
   ],
   "source": [
    "print(\"\\n--- Analyse exploratoire détaillée ---\")\n",
    "\n",
    "# Distribution des catégories de produits\n",
    "plt.figure(figsize=(10, 6))\n",
    "sns.countplot(y=df['catégorie'], order=df['catégorie'].value_counts().index)\n",
    "plt.title('Distribution des catégories de produits')\n",
    "plt.xlabel('Nombre d\\'achats')\n",
    "plt.ylabel('Catégorie')\n",
    "plt.tight_layout()\n",
    "plt.show()"
   ]
  },
  {
   "cell_type": "code",
   "execution_count": 27,
   "id": "56e2bc34",
   "metadata": {},
   "outputs": [
    {
     "data": {
      "image/png": "[encoded data removed]",
      "text/plain": [
       "<Figure size 1000x600 with 1 Axes>"
      ]
     },
     "metadata": {},
     "output_type": "display_data"
    }
   ],
   "source": [
    "# Distribution des montants totaux\n",
    "plt.figure(figsize=(10, 6))\n",
    "sns.histplot(df['montant_total'], kde=True, bins=30)\n",
    "plt.title('Distribution des montants totaux des achats')\n",
    "plt.xlabel('Montant Total')\n",
    "plt.ylabel('Fréquence')\n",
    "plt.show()\n"
   ]
  },
  {
   "cell_type": "code",
   "execution_count": 28,
   "id": "52983cc8",
   "metadata": {},
   "outputs": [
    {
     "data": {
      "image/png": "[encoded data removed]",
      "text/plain": [
       "<Figure size 1000x600 with 1 Axes>"
      ]
     },
     "metadata": {},
     "output_type": "display_data"
    }
   ],
   "source": [
    "# Distribution des délais de livraison réels\n",
    "plt.figure(figsize=(10, 6))\n",
    "sns.histplot(df['délai_livraison_jours'], kde=True, bins=20)\n",
    "plt.title('Distribution des délais de livraison (en jours)')\n",
    "plt.xlabel('Délai de livraison (jours)')\n",
    "plt.ylabel('Fréquence')\n",
    "plt.show()"
   ]
  },
  {
   "cell_type": "code",
   "execution_count": 29,
   "id": "9486ae99",
   "metadata": {},
   "outputs": [
    {
     "data": {
      "image/png": "[encoded data removed]",
      "text/plain": [
       "<Figure size 1200x700 with 1 Axes>"
      ]
     },
     "metadata": {},
     "output_type": "display_data"
    }
   ],
   "source": [
    "\n",
    "# Top 10 Fournisseurs par nombre d'achats\n",
    "plt.figure(figsize=(12, 7))\n",
    "top_fournisseurs = df['nom_fournisseur'].value_counts().nlargest(10)\n",
    "sns.barplot(x=top_fournisseurs.values, y=top_fournisseurs.index)\n",
    "plt.title('Top 10 des fournisseurs par nombre d\\'achats')\n",
    "plt.xlabel('Nombre d\\'achats')\n",
    "plt.ylabel('Nom du Fournisseur')\n",
    "plt.tight_layout()\n",
    "plt.show()"
   ]
  },
  {
   "cell_type": "code",
   "execution_count": 30,
   "id": "a658c4da",
   "metadata": {},
   "outputs": [
    {
     "data": {
      "image/png": "[encoded data removed]",
      "text/plain": [
       "<Figure size 1000x600 with 1 Axes>"
      ]
     },
     "metadata": {},
     "output_type": "display_data"
    }
   ],
   "source": [
    "# Montant total des achats par mois\n",
    "achats_par_mois = df.groupby('mois')['montant_total'].sum()\n",
    "plt.figure(figsize=(10, 6))\n",
    "achats_par_mois.plot(kind='bar')\n",
    "plt.title('Montant total des achats par mois')\n",
    "plt.xlabel('Mois')\n",
    "plt.ylabel('Montant Total')\n",
    "plt.xticks(rotation=0)\n",
    "plt.show()\n"
   ]
  },
  {
   "cell_type": "code",
   "execution_count": null,
   "id": "2d4400da",
   "metadata": {},
   "outputs": [
    {
     "name": "stdout",
     "output_type": "stream",
     "text": [
      "\n",
      "--- Classification des fournisseurs ---\n",
      "\n",
      "Caractéristiques agrégées par fournisseur :\n",
      "  id_fournisseur  nom_fournisseur  fiabilite  \\\n",
      "0           S001  Lecomte et Fils       0.84   \n",
      "1           S002           Morvan       0.86   \n",
      "2           S003  Germain et Fils       0.85   \n",
      "3           S004         Philippe       0.57   \n",
      "4           S005            Blanc       0.65   \n",
      "\n",
      "   delai_moyen_livraison_specifique  nombre_achats  montant_total_achats  \\\n",
      "0                              10.0             40             576134.75   \n",
      "1                               9.0            551            8911703.35   \n",
      "2                              10.0             29             433349.20   \n",
      "3                               9.0             32             605874.40   \n",
      "4                              13.0             42             813314.30   \n",
      "\n",
      "   quantite_totale_achetee  prix_unitaire_moyen_paye  \\\n",
      "0                     3935                157.786250   \n",
      "1                    56800                155.404682   \n",
      "2                     2325                162.196207   \n",
      "3                     3780                159.340625   \n",
      "4                     4520                169.903333   \n",
      "\n",
      "   delai_livraison_observe_moyen  montant_moyen_par_achat  \n",
      "0                       8.900000             14403.368750  \n",
      "1                       7.911071             16173.690290  \n",
      "2                       8.413793             14943.075862  \n",
      "3                       8.312500             18933.575000  \n",
      "4                       7.047619             19364.626190  \n"
     ]
    }
   ],
   "source": [
    "\n",
    "print(\"\\n--- Classification des fournisseurs ---\")\n",
    "\n",
    "\n",
    "supplier_features = df.groupby('id_fournisseur').agg(\n",
    "    nom_fournisseur=('nom_fournisseur', 'first'),\n",
    "    fiabilite=('fiabilité', 'mean'), \n",
    "    delai_moyen_livraison_specifique=('délai_moyen_jours', 'mean'), \n",
    "    nombre_achats=('id_achat', 'count'),\n",
    "    montant_total_achats=('montant_total', 'sum'),\n",
    "    quantite_totale_achetee=('quantité', 'sum'),\n",
    "    prix_unitaire_moyen_paye=('prix_unitaire', 'mean'),\n",
    "    delai_livraison_observe_moyen=('délai_livraison_jours', 'mean') \n",
    ").reset_index()\n",
    "\n",
    "supplier_features['montant_moyen_par_achat'] = supplier_features['montant_total_achats'] / supplier_features['nombre_achats']\n",
    "\n",
    "print(\"\\nCaractéristiques agrégées par fournisseur :\")\n",
    "print(supplier_features.head())"
   ]
  },
  {
   "cell_type": "code",
   "execution_count": null,
   "id": "361022a5",
   "metadata": {},
   "outputs": [
    {
     "name": "stdout",
     "output_type": "stream",
     "text": [
      "\n",
      "--- Création du graphique interactif avec Plotly pour la classification des fournisseurs ---\n"
     ]
    },
    {
     "data": {
      "application/vnd.plotly.v1+json": {
       "config": {
        "plotlyServerURL": "https://plot.ly"
       },
       "data": [
        {
         "customdata": [
          [
           40,
           576134.75
          ]
         ],
         "hovertemplate": "<b>%{hovertext}</b><br><br>Fournisseur=Lecomte et Fils<br>Fiabilité du fournisseur=%{x:.2f}<br>Délai moyen de livraison spécifié (jours)=%{y}<br>Nombre d'achats=%{customdata[0]}<br>montant_total_achats=%{customdata[1]:,.0f}<extra></extra>",
         "hovertext": [
          "Lecomte et Fils"
         ],
         "legendgroup": "Lecomte et Fils",
         "marker": {
          "color": "#636efa",
          "size": [
           40
          ],
          "sizemin": 5,
          "sizemode": "area",
          "sizeref": 5.115,
          "symbol": "circle"
         },
         "mode": "markers",
         "name": "Lecomte et Fils",
         "orientation": "v",
         "showlegend": true,
         "type": "scatter",
         "x": [
          0.8400000000000001
         ],
         "xaxis": "x",
         "y": [
          10
         ],
         "yaxis": "y"
        },
        {
         "customdata": [
          [
           551,
           8911703.35
          ]
         ],
         "hovertemplate": "<b>%{hovertext}</b><br><br>Fournisseur=Morvan<br>Fiabilité du fournisseur=%{x:.2f}<br>Délai moyen de livraison spécifié (jours)=%{y}<br>Nombre d'achats=%{customdata[0]}<br>montant_total_achats=%{customdata[1]:,.0f}<extra></extra>",
         "hovertext": [
          "Morvan"
         ],
         "legendgroup": "Morvan",
         "marker": {
          "color": "#EF553B",
          "size": [
           551
          ],
          "sizemin": 5,
          "sizemode": "area",
          "sizeref": 5.115,
          "symbol": "circle"
         },
         "mode": "markers",
         "name": "Morvan",
         "orientation": "v",
         "showlegend": true,
         "type": "scatter",
         "x": [
          0.86
         ],
         "xaxis": "x",
         "y": [
          9
         ],
         "yaxis": "y"
        },
        {
         "customdata": [
          [
           29,
           433349.2
          ]
         ],
         "hovertemplate": "<b>%{hovertext}</b><br><br>Fournisseur=Germain et Fils<br>Fiabilité du fournisseur=%{x:.2f}<br>Délai moyen de livraison spécifié (jours)=%{y}<br>Nombre d'achats=%{customdata[0]}<br>montant_total_achats=%{customdata[1]:,.0f}<extra></extra>",
         "hovertext": [
          "Germain et Fils"
         ],
         "legendgroup": "Germain et Fils",
         "marker": {
          "color": "#00cc96",
          "size": [
           29
          ],
          "sizemin": 5,
          "sizemode": "area",
          "sizeref": 5.115,
          "symbol": "circle"
         },
         "mode": "markers",
         "name": "Germain et Fils",
         "orientation": "v",
         "showlegend": true,
         "type": "scatter",
         "x": [
          0.85
         ],
         "xaxis": "x",
         "y": [
          10
         ],
         "yaxis": "y"
        },
        {
         "customdata": [
          [
           32,
           605874.4
          ]
         ],
         "hovertemplate": "<b>%{hovertext}</b><br><br>Fournisseur=Philippe<br>Fiabilité du fournisseur=%{x:.2f}<br>Délai moyen de livraison spécifié (jours)=%{y}<br>Nombre d'achats=%{customdata[0]}<br>montant_total_achats=%{customdata[1]:,.0f}<extra></extra>",
         "hovertext": [
          "Philippe"
         ],
         "legendgroup": "Philippe",
         "marker": {
          "color": "#ab63fa",
          "size": [
           32
          ],
          "sizemin": 5,
          "sizemode": "area",
          "sizeref": 5.115,
          "symbol": "circle"
         },
         "mode": "markers",
         "name": "Philippe",
         "orientation": "v",
         "showlegend": true,
         "type": "scatter",
         "x": [
          0.57
         ],
         "xaxis": "x",
         "y": [
          9
         ],
         "yaxis": "y"
        },
        {
         "customdata": [
          [
           42,
           813314.3
          ]
         ],
         "hovertemplate": "<b>%{hovertext}</b><br><br>Fournisseur=Blanc<br>Fiabilité du fournisseur=%{x:.2f}<br>Délai moyen de livraison spécifié (jours)=%{y}<br>Nombre d'achats=%{customdata[0]}<br>montant_total_achats=%{customdata[1]:,.0f}<extra></extra>",
         "hovertext": [
          "Blanc"
         ],
         "legendgroup": "Blanc",
         "marker": {
          "color": "#FFA15A",
          "size": [
           42
          ],
          "sizemin": 5,
          "sizemode": "area",
          "sizeref": 5.115,
          "symbol": "circle"
         },
         "mode": "markers",
         "name": "Blanc",
         "orientation": "v",
         "showlegend": true,
         "type": "scatter",
         "x": [
          0.65
         ],
         "xaxis": "x",
         "y": [
          13
         ],
         "yaxis": "y"
        },
        {
         "customdata": [
          [
           40,
           643485.5
          ]
         ],
         "hovertemplate": "<b>%{hovertext}</b><br><br>Fournisseur=Jean<br>Fiabilité du fournisseur=%{x:.2f}<br>Délai moyen de livraison spécifié (jours)=%{y}<br>Nombre d'achats=%{customdata[0]}<br>montant_total_achats=%{customdata[1]:,.0f}<extra></extra>",
         "hovertext": [
          "Jean"
         ],
         "legendgroup": "Jean",
         "marker": {
          "color": "#19d3f3",
          "size": [
           40
          ],
          "sizemin": 5,
          "sizemode": "area",
          "sizeref": 5.115,
          "symbol": "circle"
         },
         "mode": "markers",
         "name": "Jean",
         "orientation": "v",
         "showlegend": true,
         "type": "scatter",
         "x": [
          0.68
         ],
         "xaxis": "x",
         "y": [
          8
         ],
         "yaxis": "y"
        },
        {
         "customdata": [
          [
           30,
           492964.8
          ]
         ],
         "hovertemplate": "<b>%{hovertext}</b><br><br>Fournisseur=Carlier<br>Fiabilité du fournisseur=%{x:.2f}<br>Délai moyen de livraison spécifié (jours)=%{y}<br>Nombre d'achats=%{customdata[0]}<br>montant_total_achats=%{customdata[1]:,.0f}<extra></extra>",
         "hovertext": [
          "Carlier"
         ],
         "legendgroup": "Carlier",
         "marker": {
          "color": "#FF6692",
          "size": [
           30
          ],
          "sizemin": 5,
          "sizemode": "area",
          "sizeref": 5.115,
          "symbol": "circle"
         },
         "mode": "markers",
         "name": "Carlier",
         "orientation": "v",
         "showlegend": true,
         "type": "scatter",
         "x": [
          0.9
         ],
         "xaxis": "x",
         "y": [
          9
         ],
         "yaxis": "y"
        },
        {
         "customdata": [
          [
           1981,
           30158320.4
          ]
         ],
         "hovertemplate": "<b>%{hovertext}</b><br><br>Fournisseur=Gaillard S.A.<br>Fiabilité du fournisseur=%{x:.2f}<br>Délai moyen de livraison spécifié (jours)=%{y}<br>Nombre d'achats=%{customdata[0]}<br>montant_total_achats=%{customdata[1]:,.0f}<extra></extra>",
         "hovertext": [
          "Gaillard S.A."
         ],
         "legendgroup": "Gaillard S.A.",
         "marker": {
          "color": "#B6E880",
          "size": [
           1981
          ],
          "sizemin": 5,
          "sizemode": "area",
          "sizeref": 5.115,
          "symbol": "circle"
         },
         "mode": "markers",
         "name": "Gaillard S.A.",
         "orientation": "v",
         "showlegend": true,
         "type": "scatter",
         "x": [
          0.64
         ],
         "xaxis": "x",
         "y": [
          7
         ],
         "yaxis": "y"
        },
        {
         "customdata": [
          [
           21,
           335022.6
          ]
         ],
         "hovertemplate": "<b>%{hovertext}</b><br><br>Fournisseur=Fischer<br>Fiabilité du fournisseur=%{x:.2f}<br>Délai moyen de livraison spécifié (jours)=%{y}<br>Nombre d'achats=%{customdata[0]}<br>montant_total_achats=%{customdata[1]:,.0f}<extra></extra>",
         "hovertext": [
          "Fischer"
         ],
         "legendgroup": "Fischer",
         "marker": {
          "color": "#FF97FF",
          "size": [
           21
          ],
          "sizemin": 5,
          "sizemode": "area",
          "sizeref": 5.115,
          "symbol": "circle"
         },
         "mode": "markers",
         "name": "Fischer",
         "orientation": "v",
         "showlegend": true,
         "type": "scatter",
         "x": [
          0.61
         ],
         "xaxis": "x",
         "y": [
          9
         ],
         "yaxis": "y"
        },
        {
         "customdata": [
          [
           509,
           8900957.8
          ]
         ],
         "hovertemplate": "<b>%{hovertext}</b><br><br>Fournisseur=Pelletier<br>Fiabilité du fournisseur=%{x:.2f}<br>Délai moyen de livraison spécifié (jours)=%{y}<br>Nombre d'achats=%{customdata[0]}<br>montant_total_achats=%{customdata[1]:,.0f}<extra></extra>",
         "hovertext": [
          "Pelletier"
         ],
         "legendgroup": "Pelletier",
         "marker": {
          "color": "#FECB52",
          "size": [
           509
          ],
          "sizemin": 5,
          "sizemode": "area",
          "sizeref": 5.115,
          "symbol": "circle"
         },
         "mode": "markers",
         "name": "Pelletier",
         "orientation": "v",
         "showlegend": true,
         "type": "scatter",
         "x": [
          0.98
         ],
         "xaxis": "x",
         "y": [
          3
         ],
         "yaxis": "y"
        },
        {
         "customdata": [
          [
           35,
           341522.1
          ]
         ],
         "hovertemplate": "<b>%{hovertext}</b><br><br>Fournisseur=Leblanc<br>Fiabilité du fournisseur=%{x:.2f}<br>Délai moyen de livraison spécifié (jours)=%{y}<br>Nombre d'achats=%{customdata[0]}<br>montant_total_achats=%{customdata[1]:,.0f}<extra></extra>",
         "hovertext": [
          "Leblanc"
         ],
         "legendgroup": "Leblanc",
         "marker": {
          "color": "#636efa",
          "size": [
           35
          ],
          "sizemin": 5,
          "sizemode": "area",
          "sizeref": 5.115,
          "symbol": "circle"
         },
         "mode": "markers",
         "name": "Leblanc",
         "orientation": "v",
         "showlegend": true,
         "type": "scatter",
         "x": [
          0.5
         ],
         "xaxis": "x",
         "y": [
          3
         ],
         "yaxis": "y"
        },
        {
         "customdata": [
          [
           485,
           7045755.55
          ]
         ],
         "hovertemplate": "<b>%{hovertext}</b><br><br>Fournisseur=Lucas<br>Fiabilité du fournisseur=%{x:.2f}<br>Délai moyen de livraison spécifié (jours)=%{y}<br>Nombre d'achats=%{customdata[0]}<br>montant_total_achats=%{customdata[1]:,.0f}<extra></extra>",
         "hovertext": [
          "Lucas"
         ],
         "legendgroup": "Lucas",
         "marker": {
          "color": "#EF553B",
          "size": [
           485
          ],
          "sizemin": 5,
          "sizemode": "area",
          "sizeref": 5.115,
          "symbol": "circle"
         },
         "mode": "markers",
         "name": "Lucas",
         "orientation": "v",
         "showlegend": true,
         "type": "scatter",
         "x": [
          1
         ],
         "xaxis": "x",
         "y": [
          11
         ],
         "yaxis": "y"
        },
        {
         "customdata": [
          [
           35,
           537571.65
          ]
         ],
         "hovertemplate": "<b>%{hovertext}</b><br><br>Fournisseur=Gautier<br>Fiabilité du fournisseur=%{x:.2f}<br>Délai moyen de livraison spécifié (jours)=%{y}<br>Nombre d'achats=%{customdata[0]}<br>montant_total_achats=%{customdata[1]:,.0f}<extra></extra>",
         "hovertext": [
          "Gautier"
         ],
         "legendgroup": "Gautier",
         "marker": {
          "color": "#00cc96",
          "size": [
           35
          ],
          "sizemin": 5,
          "sizemode": "area",
          "sizeref": 5.115,
          "symbol": "circle"
         },
         "mode": "markers",
         "name": "Gautier",
         "orientation": "v",
         "showlegend": true,
         "type": "scatter",
         "x": [
          0.84
         ],
         "xaxis": "x",
         "y": [
          7
         ],
         "yaxis": "y"
        },
        {
         "customdata": [
          [
           36,
           374401.5
          ]
         ],
         "hovertemplate": "<b>%{hovertext}</b><br><br>Fournisseur=Guillon<br>Fiabilité du fournisseur=%{x:.2f}<br>Délai moyen de livraison spécifié (jours)=%{y}<br>Nombre d'achats=%{customdata[0]}<br>montant_total_achats=%{customdata[1]:,.0f}<extra></extra>",
         "hovertext": [
          "Guillon"
         ],
         "legendgroup": "Guillon",
         "marker": {
          "color": "#ab63fa",
          "size": [
           36
          ],
          "sizemin": 5,
          "sizemode": "area",
          "sizeref": 5.115,
          "symbol": "circle"
         },
         "mode": "markers",
         "name": "Guillon",
         "orientation": "v",
         "showlegend": true,
         "type": "scatter",
         "x": [
          0.9099999999999999
         ],
         "xaxis": "x",
         "y": [
          7
         ],
         "yaxis": "y"
        },
        {
         "customdata": [
          [
           30,
           491075.4
          ]
         ],
         "hovertemplate": "<b>%{hovertext}</b><br><br>Fournisseur=Renault<br>Fiabilité du fournisseur=%{x:.2f}<br>Délai moyen de livraison spécifié (jours)=%{y}<br>Nombre d'achats=%{customdata[0]}<br>montant_total_achats=%{customdata[1]:,.0f}<extra></extra>",
         "hovertext": [
          "Renault"
         ],
         "legendgroup": "Renault",
         "marker": {
          "color": "#FFA15A",
          "size": [
           30
          ],
          "sizemin": 5,
          "sizemode": "area",
          "sizeref": 5.115,
          "symbol": "circle"
         },
         "mode": "markers",
         "name": "Renault",
         "orientation": "v",
         "showlegend": true,
         "type": "scatter",
         "x": [
          0.65
         ],
         "xaxis": "x",
         "y": [
          5
         ],
         "yaxis": "y"
        },
        {
         "customdata": [
          [
           33,
           524823.3
          ]
         ],
         "hovertemplate": "<b>%{hovertext}</b><br><br>Fournisseur=Morel<br>Fiabilité du fournisseur=%{x:.2f}<br>Délai moyen de livraison spécifié (jours)=%{y}<br>Nombre d'achats=%{customdata[0]}<br>montant_total_achats=%{customdata[1]:,.0f}<extra></extra>",
         "hovertext": [
          "Morel"
         ],
         "legendgroup": "Morel",
         "marker": {
          "color": "#19d3f3",
          "size": [
           33
          ],
          "sizemin": 5,
          "sizemode": "area",
          "sizeref": 5.115,
          "symbol": "circle"
         },
         "mode": "markers",
         "name": "Morel",
         "orientation": "v",
         "showlegend": true,
         "type": "scatter",
         "x": [
          0.51
         ],
         "xaxis": "x",
         "y": [
          7
         ],
         "yaxis": "y"
        },
        {
         "customdata": [
          [
           32,
           654911.65
          ]
         ],
         "hovertemplate": "<b>%{hovertext}</b><br><br>Fournisseur=Bodin<br>Fiabilité du fournisseur=%{x:.2f}<br>Délai moyen de livraison spécifié (jours)=%{y}<br>Nombre d'achats=%{customdata[0]}<br>montant_total_achats=%{customdata[1]:,.0f}<extra></extra>",
         "hovertext": [
          "Bodin"
         ],
         "legendgroup": "Bodin",
         "marker": {
          "color": "#FF6692",
          "size": [
           32
          ],
          "sizemin": 5,
          "sizemode": "area",
          "sizeref": 5.115,
          "symbol": "circle"
         },
         "mode": "markers",
         "name": "Bodin",
         "orientation": "v",
         "showlegend": true,
         "type": "scatter",
         "x": [
          0.87
         ],
         "xaxis": "x",
         "y": [
          5
         ],
         "yaxis": "y"
        },
        {
         "customdata": [
          [
           36,
           375152.5
          ]
         ],
         "hovertemplate": "<b>%{hovertext}</b><br><br>Fournisseur=Guérin<br>Fiabilité du fournisseur=%{x:.2f}<br>Délai moyen de livraison spécifié (jours)=%{y}<br>Nombre d'achats=%{customdata[0]}<br>montant_total_achats=%{customdata[1]:,.0f}<extra></extra>",
         "hovertext": [
          "Guérin"
         ],
         "legendgroup": "Guérin",
         "marker": {
          "color": "#B6E880",
          "size": [
           36
          ],
          "sizemin": 5,
          "sizemode": "area",
          "sizeref": 5.115,
          "symbol": "circle"
         },
         "mode": "markers",
         "name": "Guérin",
         "orientation": "v",
         "showlegend": true,
         "type": "scatter",
         "x": [
          0.9200000000000002
         ],
         "xaxis": "x",
         "y": [
          11
         ],
         "yaxis": "y"
        },
        {
         "customdata": [
          [
           37,
           558582.7
          ]
         ],
         "hovertemplate": "<b>%{hovertext}</b><br><br>Fournisseur=Leduc<br>Fiabilité du fournisseur=%{x:.2f}<br>Délai moyen de livraison spécifié (jours)=%{y}<br>Nombre d'achats=%{customdata[0]}<br>montant_total_achats=%{customdata[1]:,.0f}<extra></extra>",
         "hovertext": [
          "Leduc"
         ],
         "legendgroup": "Leduc",
         "marker": {
          "color": "#FF97FF",
          "size": [
           37
          ],
          "sizemin": 5,
          "sizemode": "area",
          "sizeref": 5.115,
          "symbol": "circle"
         },
         "mode": "markers",
         "name": "Leduc",
         "orientation": "v",
         "showlegend": true,
         "type": "scatter",
         "x": [
          0.8699999999999999
         ],
         "xaxis": "x",
         "y": [
          11
         ],
         "yaxis": "y"
        },
        {
         "customdata": [
          [
           39,
           461880.4
          ]
         ],
         "hovertemplate": "<b>%{hovertext}</b><br><br>Fournisseur=Baudry<br>Fiabilité du fournisseur=%{x:.2f}<br>Délai moyen de livraison spécifié (jours)=%{y}<br>Nombre d'achats=%{customdata[0]}<br>montant_total_achats=%{customdata[1]:,.0f}<extra></extra>",
         "hovertext": [
          "Baudry"
         ],
         "legendgroup": "Baudry",
         "marker": {
          "color": "#FECB52",
          "size": [
           39
          ],
          "sizemin": 5,
          "sizemode": "area",
          "sizeref": 5.115,
          "symbol": "circle"
         },
         "mode": "markers",
         "name": "Baudry",
         "orientation": "v",
         "showlegend": true,
         "type": "scatter",
         "x": [
          0.57
         ],
         "xaxis": "x",
         "y": [
          8
         ],
         "yaxis": "y"
        },
        {
         "customdata": [
          [
           33,
           645991.7
          ]
         ],
         "hovertemplate": "<b>%{hovertext}</b><br><br>Fournisseur=Petitjean Andre SA<br>Fiabilité du fournisseur=%{x:.2f}<br>Délai moyen de livraison spécifié (jours)=%{y}<br>Nombre d'achats=%{customdata[0]}<br>montant_total_achats=%{customdata[1]:,.0f}<extra></extra>",
         "hovertext": [
          "Petitjean Andre SA"
         ],
         "legendgroup": "Petitjean Andre SA",
         "marker": {
          "color": "#636efa",
          "size": [
           33
          ],
          "sizemin": 5,
          "sizemode": "area",
          "sizeref": 5.115,
          "symbol": "circle"
         },
         "mode": "markers",
         "name": "Petitjean Andre SA",
         "orientation": "v",
         "showlegend": true,
         "type": "scatter",
         "x": [
          0.88
         ],
         "xaxis": "x",
         "y": [
          3
         ],
         "yaxis": "y"
        },
        {
         "customdata": [
          [
           39,
           412512.15
          ]
         ],
         "hovertemplate": "<b>%{hovertext}</b><br><br>Fournisseur=Langlois Vallée SA<br>Fiabilité du fournisseur=%{x:.2f}<br>Délai moyen de livraison spécifié (jours)=%{y}<br>Nombre d'achats=%{customdata[0]}<br>montant_total_achats=%{customdata[1]:,.0f}<extra></extra>",
         "hovertext": [
          "Langlois Vallée SA"
         ],
         "legendgroup": "Langlois Vallée SA",
         "marker": {
          "color": "#EF553B",
          "size": [
           39
          ],
          "sizemin": 5,
          "sizemode": "area",
          "sizeref": 5.115,
          "symbol": "circle"
         },
         "mode": "markers",
         "name": "Langlois Vallée SA",
         "orientation": "v",
         "showlegend": true,
         "type": "scatter",
         "x": [
          0.88
         ],
         "xaxis": "x",
         "y": [
          9
         ],
         "yaxis": "y"
        },
        {
         "customdata": [
          [
           37,
           464531
          ]
         ],
         "hovertemplate": "<b>%{hovertext}</b><br><br>Fournisseur=Albert<br>Fiabilité du fournisseur=%{x:.2f}<br>Délai moyen de livraison spécifié (jours)=%{y}<br>Nombre d'achats=%{customdata[0]}<br>montant_total_achats=%{customdata[1]:,.0f}<extra></extra>",
         "hovertext": [
          "Albert"
         ],
         "legendgroup": "Albert",
         "marker": {
          "color": "#00cc96",
          "size": [
           37
          ],
          "sizemin": 5,
          "sizemode": "area",
          "sizeref": 5.115,
          "symbol": "circle"
         },
         "mode": "markers",
         "name": "Albert",
         "orientation": "v",
         "showlegend": true,
         "type": "scatter",
         "x": [
          0.83
         ],
         "xaxis": "x",
         "y": [
          9
         ],
         "yaxis": "y"
        },
        {
         "customdata": [
          [
           31,
           314596.8
          ]
         ],
         "hovertemplate": "<b>%{hovertext}</b><br><br>Fournisseur=Da Silva<br>Fiabilité du fournisseur=%{x:.2f}<br>Délai moyen de livraison spécifié (jours)=%{y}<br>Nombre d'achats=%{customdata[0]}<br>montant_total_achats=%{customdata[1]:,.0f}<extra></extra>",
         "hovertext": [
          "Da Silva"
         ],
         "legendgroup": "Da Silva",
         "marker": {
          "color": "#ab63fa",
          "size": [
           31
          ],
          "sizemin": 5,
          "sizemode": "area",
          "sizeref": 5.115,
          "symbol": "circle"
         },
         "mode": "markers",
         "name": "Da Silva",
         "orientation": "v",
         "showlegend": true,
         "type": "scatter",
         "x": [
          0.88
         ],
         "xaxis": "x",
         "y": [
          12
         ],
         "yaxis": "y"
        },
        {
         "customdata": [
          [
           37,
           725482.35
          ]
         ],
         "hovertemplate": "<b>%{hovertext}</b><br><br>Fournisseur=Techer SA<br>Fiabilité du fournisseur=%{x:.2f}<br>Délai moyen de livraison spécifié (jours)=%{y}<br>Nombre d'achats=%{customdata[0]}<br>montant_total_achats=%{customdata[1]:,.0f}<extra></extra>",
         "hovertext": [
          "Techer SA"
         ],
         "legendgroup": "Techer SA",
         "marker": {
          "color": "#FFA15A",
          "size": [
           37
          ],
          "sizemin": 5,
          "sizemode": "area",
          "sizeref": 5.115,
          "symbol": "circle"
         },
         "mode": "markers",
         "name": "Techer SA",
         "orientation": "v",
         "showlegend": true,
         "type": "scatter",
         "x": [
          0.9199999999999999
         ],
         "xaxis": "x",
         "y": [
          12
         ],
         "yaxis": "y"
        },
        {
         "customdata": [
          [
           38,
           845645.85
          ]
         ],
         "hovertemplate": "<b>%{hovertext}</b><br><br>Fournisseur=Bourdon<br>Fiabilité du fournisseur=%{x:.2f}<br>Délai moyen de livraison spécifié (jours)=%{y}<br>Nombre d'achats=%{customdata[0]}<br>montant_total_achats=%{customdata[1]:,.0f}<extra></extra>",
         "hovertext": [
          "Bourdon"
         ],
         "legendgroup": "Bourdon",
         "marker": {
          "color": "#19d3f3",
          "size": [
           38
          ],
          "sizemin": 5,
          "sizemode": "area",
          "sizeref": 5.115,
          "symbol": "circle"
         },
         "mode": "markers",
         "name": "Bourdon",
         "orientation": "v",
         "showlegend": true,
         "type": "scatter",
         "x": [
          0.81
         ],
         "xaxis": "x",
         "y": [
          6
         ],
         "yaxis": "y"
        },
        {
         "customdata": [
          [
           36,
           465117.65
          ]
         ],
         "hovertemplate": "<b>%{hovertext}</b><br><br>Fournisseur=Rodrigues Payet S.A.R.L.<br>Fiabilité du fournisseur=%{x:.2f}<br>Délai moyen de livraison spécifié (jours)=%{y}<br>Nombre d'achats=%{customdata[0]}<br>montant_total_achats=%{customdata[1]:,.0f}<extra></extra>",
         "hovertext": [
          "Rodrigues Payet S.A.R.L."
         ],
         "legendgroup": "Rodrigues Payet S.A.R.L.",
         "marker": {
          "color": "#FF6692",
          "size": [
           36
          ],
          "sizemin": 5,
          "sizemode": "area",
          "sizeref": 5.115,
          "symbol": "circle"
         },
         "mode": "markers",
         "name": "Rodrigues Payet S.A.R.L.",
         "orientation": "v",
         "showlegend": true,
         "type": "scatter",
         "x": [
          0.54
         ],
         "xaxis": "x",
         "y": [
          10
         ],
         "yaxis": "y"
        },
        {
         "customdata": [
          [
           2046,
           31297949.15
          ]
         ],
         "hovertemplate": "<b>%{hovertext}</b><br><br>Fournisseur=Delattre Blot S.A.<br>Fiabilité du fournisseur=%{x:.2f}<br>Délai moyen de livraison spécifié (jours)=%{y}<br>Nombre d'achats=%{customdata[0]}<br>montant_total_achats=%{customdata[1]:,.0f}<extra></extra>",
         "hovertext": [
          "Delattre Blot S.A."
         ],
         "legendgroup": "Delattre Blot S.A.",
         "marker": {
          "color": "#B6E880",
          "size": [
           2046
          ],
          "sizemin": 5,
          "sizemode": "area",
          "sizeref": 5.115,
          "symbol": "circle"
         },
         "mode": "markers",
         "name": "Delattre Blot S.A.",
         "orientation": "v",
         "showlegend": true,
         "type": "scatter",
         "x": [
          0.74
         ],
         "xaxis": "x",
         "y": [
          8
         ],
         "yaxis": "y"
        },
        {
         "customdata": [
          [
           1973,
           29786775.9
          ]
         ],
         "hovertemplate": "<b>%{hovertext}</b><br><br>Fournisseur=Fontaine Lopes S.A.<br>Fiabilité du fournisseur=%{x:.2f}<br>Délai moyen de livraison spécifié (jours)=%{y}<br>Nombre d'achats=%{customdata[0]}<br>montant_total_achats=%{customdata[1]:,.0f}<extra></extra>",
         "hovertext": [
          "Fontaine Lopes S.A."
         ],
         "legendgroup": "Fontaine Lopes S.A.",
         "marker": {
          "color": "#FF97FF",
          "size": [
           1973
          ],
          "sizemin": 5,
          "sizemode": "area",
          "sizeref": 5.115,
          "symbol": "circle"
         },
         "mode": "markers",
         "name": "Fontaine Lopes S.A.",
         "orientation": "v",
         "showlegend": true,
         "type": "scatter",
         "x": [
          0.54
         ],
         "xaxis": "x",
         "y": [
          6
         ],
         "yaxis": "y"
        },
        {
         "customdata": [
          [
           27,
           336509.95
          ]
         ],
         "hovertemplate": "<b>%{hovertext}</b><br><br>Fournisseur=Delaunay<br>Fiabilité du fournisseur=%{x:.2f}<br>Délai moyen de livraison spécifié (jours)=%{y}<br>Nombre d'achats=%{customdata[0]}<br>montant_total_achats=%{customdata[1]:,.0f}<extra></extra>",
         "hovertext": [
          "Delaunay"
         ],
         "legendgroup": "Delaunay",
         "marker": {
          "color": "#FECB52",
          "size": [
           27
          ],
          "sizemin": 5,
          "sizemode": "area",
          "sizeref": 5.115,
          "symbol": "circle"
         },
         "mode": "markers",
         "name": "Delaunay",
         "orientation": "v",
         "showlegend": true,
         "type": "scatter",
         "x": [
          0.7
         ],
         "xaxis": "x",
         "y": [
          6
         ],
         "yaxis": "y"
        },
        {
         "customdata": [
          [
           41,
           465560.4
          ]
         ],
         "hovertemplate": "<b>%{hovertext}</b><br><br>Fournisseur=Faure S.A.R.L.<br>Fiabilité du fournisseur=%{x:.2f}<br>Délai moyen de livraison spécifié (jours)=%{y}<br>Nombre d'achats=%{customdata[0]}<br>montant_total_achats=%{customdata[1]:,.0f}<extra></extra>",
         "hovertext": [
          "Faure S.A.R.L."
         ],
         "legendgroup": "Faure S.A.R.L.",
         "marker": {
          "color": "#636efa",
          "size": [
           41
          ],
          "sizemin": 5,
          "sizemode": "area",
          "sizeref": 5.115,
          "symbol": "circle"
         },
         "mode": "markers",
         "name": "Faure S.A.R.L.",
         "orientation": "v",
         "showlegend": true,
         "type": "scatter",
         "x": [
          0.7
         ],
         "xaxis": "x",
         "y": [
          4
         ],
         "yaxis": "y"
        },
        {
         "customdata": [
          [
           32,
           578345.4
          ]
         ],
         "hovertemplate": "<b>%{hovertext}</b><br><br>Fournisseur=Munoz SA<br>Fiabilité du fournisseur=%{x:.2f}<br>Délai moyen de livraison spécifié (jours)=%{y}<br>Nombre d'achats=%{customdata[0]}<br>montant_total_achats=%{customdata[1]:,.0f}<extra></extra>",
         "hovertext": [
          "Munoz SA"
         ],
         "legendgroup": "Munoz SA",
         "marker": {
          "color": "#EF553B",
          "size": [
           32
          ],
          "sizemin": 5,
          "sizemode": "area",
          "sizeref": 5.115,
          "symbol": "circle"
         },
         "mode": "markers",
         "name": "Munoz SA",
         "orientation": "v",
         "showlegend": true,
         "type": "scatter",
         "x": [
          0.53
         ],
         "xaxis": "x",
         "y": [
          4
         ],
         "yaxis": "y"
        },
        {
         "customdata": [
          [
           44,
           847414.5
          ]
         ],
         "hovertemplate": "<b>%{hovertext}</b><br><br>Fournisseur=Mercier Dupuy S.A.S.<br>Fiabilité du fournisseur=%{x:.2f}<br>Délai moyen de livraison spécifié (jours)=%{y}<br>Nombre d'achats=%{customdata[0]}<br>montant_total_achats=%{customdata[1]:,.0f}<extra></extra>",
         "hovertext": [
          "Mercier Dupuy S.A.S."
         ],
         "legendgroup": "Mercier Dupuy S.A.S.",
         "marker": {
          "color": "#00cc96",
          "size": [
           44
          ],
          "sizemin": 5,
          "sizemode": "area",
          "sizeref": 5.115,
          "symbol": "circle"
         },
         "mode": "markers",
         "name": "Mercier Dupuy S.A.S.",
         "orientation": "v",
         "showlegend": true,
         "type": "scatter",
         "x": [
          0.67
         ],
         "xaxis": "x",
         "y": [
          14
         ],
         "yaxis": "y"
        },
        {
         "customdata": [
          [
           35,
           561356.8
          ]
         ],
         "hovertemplate": "<b>%{hovertext}</b><br><br>Fournisseur=Bertrand S.A.<br>Fiabilité du fournisseur=%{x:.2f}<br>Délai moyen de livraison spécifié (jours)=%{y}<br>Nombre d'achats=%{customdata[0]}<br>montant_total_achats=%{customdata[1]:,.0f}<extra></extra>",
         "hovertext": [
          "Bertrand S.A."
         ],
         "legendgroup": "Bertrand S.A.",
         "marker": {
          "color": "#ab63fa",
          "size": [
           35
          ],
          "sizemin": 5,
          "sizemode": "area",
          "sizeref": 5.115,
          "symbol": "circle"
         },
         "mode": "markers",
         "name": "Bertrand S.A.",
         "orientation": "v",
         "showlegend": true,
         "type": "scatter",
         "x": [
          0.56
         ],
         "xaxis": "x",
         "y": [
          6
         ],
         "yaxis": "y"
        },
        {
         "customdata": [
          [
           33,
           468111.65
          ]
         ],
         "hovertemplate": "<b>%{hovertext}</b><br><br>Fournisseur=Laine<br>Fiabilité du fournisseur=%{x:.2f}<br>Délai moyen de livraison spécifié (jours)=%{y}<br>Nombre d'achats=%{customdata[0]}<br>montant_total_achats=%{customdata[1]:,.0f}<extra></extra>",
         "hovertext": [
          "Laine"
         ],
         "legendgroup": "Laine",
         "marker": {
          "color": "#FFA15A",
          "size": [
           33
          ],
          "sizemin": 5,
          "sizemode": "area",
          "sizeref": 5.115,
          "symbol": "circle"
         },
         "mode": "markers",
         "name": "Laine",
         "orientation": "v",
         "showlegend": true,
         "type": "scatter",
         "x": [
          0.9
         ],
         "xaxis": "x",
         "y": [
          7
         ],
         "yaxis": "y"
        },
        {
         "customdata": [
          [
           42,
           800705.35
          ]
         ],
         "hovertemplate": "<b>%{hovertext}</b><br><br>Fournisseur=Moreau Dubois S.A.S.<br>Fiabilité du fournisseur=%{x:.2f}<br>Délai moyen de livraison spécifié (jours)=%{y}<br>Nombre d'achats=%{customdata[0]}<br>montant_total_achats=%{customdata[1]:,.0f}<extra></extra>",
         "hovertext": [
          "Moreau Dubois S.A.S."
         ],
         "legendgroup": "Moreau Dubois S.A.S.",
         "marker": {
          "color": "#19d3f3",
          "size": [
           42
          ],
          "sizemin": 5,
          "sizemode": "area",
          "sizeref": 5.115,
          "symbol": "circle"
         },
         "mode": "markers",
         "name": "Moreau Dubois S.A.S.",
         "orientation": "v",
         "showlegend": true,
         "type": "scatter",
         "x": [
          0.9700000000000001
         ],
         "xaxis": "x",
         "y": [
          10
         ],
         "yaxis": "y"
        },
        {
         "customdata": [
          [
           46,
           534981.4
          ]
         ],
         "hovertemplate": "<b>%{hovertext}</b><br><br>Fournisseur=Charles SARL<br>Fiabilité du fournisseur=%{x:.2f}<br>Délai moyen de livraison spécifié (jours)=%{y}<br>Nombre d'achats=%{customdata[0]}<br>montant_total_achats=%{customdata[1]:,.0f}<extra></extra>",
         "hovertext": [
          "Charles SARL"
         ],
         "legendgroup": "Charles SARL",
         "marker": {
          "color": "#FF6692",
          "size": [
           46
          ],
          "sizemin": 5,
          "sizemode": "area",
          "sizeref": 5.115,
          "symbol": "circle"
         },
         "mode": "markers",
         "name": "Charles SARL",
         "orientation": "v",
         "showlegend": true,
         "type": "scatter",
         "x": [
          0.54
         ],
         "xaxis": "x",
         "y": [
          8
         ],
         "yaxis": "y"
        },
        {
         "customdata": [
          [
           27,
           420950.9
          ]
         ],
         "hovertemplate": "<b>%{hovertext}</b><br><br>Fournisseur=Laurent Boyer S.A.R.L.<br>Fiabilité du fournisseur=%{x:.2f}<br>Délai moyen de livraison spécifié (jours)=%{y}<br>Nombre d'achats=%{customdata[0]}<br>montant_total_achats=%{customdata[1]:,.0f}<extra></extra>",
         "hovertext": [
          "Laurent Boyer S.A.R.L."
         ],
         "legendgroup": "Laurent Boyer S.A.R.L.",
         "marker": {
          "color": "#B6E880",
          "size": [
           27
          ],
          "sizemin": 5,
          "sizemode": "area",
          "sizeref": 5.115,
          "symbol": "circle"
         },
         "mode": "markers",
         "name": "Laurent Boyer S.A.R.L.",
         "orientation": "v",
         "showlegend": true,
         "type": "scatter",
         "x": [
          0.98
         ],
         "xaxis": "x",
         "y": [
          6
         ],
         "yaxis": "y"
        },
        {
         "customdata": [
          [
           40,
           577774
          ]
         ],
         "hovertemplate": "<b>%{hovertext}</b><br><br>Fournisseur=Rocher<br>Fiabilité du fournisseur=%{x:.2f}<br>Délai moyen de livraison spécifié (jours)=%{y}<br>Nombre d'achats=%{customdata[0]}<br>montant_total_achats=%{customdata[1]:,.0f}<extra></extra>",
         "hovertext": [
          "Rocher"
         ],
         "legendgroup": "Rocher",
         "marker": {
          "color": "#FF97FF",
          "size": [
           40
          ],
          "sizemin": 5,
          "sizemode": "area",
          "sizeref": 5.115,
          "symbol": "circle"
         },
         "mode": "markers",
         "name": "Rocher",
         "orientation": "v",
         "showlegend": true,
         "type": "scatter",
         "x": [
          0.76
         ],
         "xaxis": "x",
         "y": [
          13
         ],
         "yaxis": "y"
        },
        {
         "customdata": [
          [
           38,
           778302.2
          ]
         ],
         "hovertemplate": "<b>%{hovertext}</b><br><br>Fournisseur=Fabre SA<br>Fiabilité du fournisseur=%{x:.2f}<br>Délai moyen de livraison spécifié (jours)=%{y}<br>Nombre d'achats=%{customdata[0]}<br>montant_total_achats=%{customdata[1]:,.0f}<extra></extra>",
         "hovertext": [
          "Fabre SA"
         ],
         "legendgroup": "Fabre SA",
         "marker": {
          "color": "#FECB52",
          "size": [
           38
          ],
          "sizemin": 5,
          "sizemode": "area",
          "sizeref": 5.115,
          "symbol": "circle"
         },
         "mode": "markers",
         "name": "Fabre SA",
         "orientation": "v",
         "showlegend": true,
         "type": "scatter",
         "x": [
          0.65
         ],
         "xaxis": "x",
         "y": [
          9
         ],
         "yaxis": "y"
        },
        {
         "customdata": [
          [
           34,
           659505.65
          ]
         ],
         "hovertemplate": "<b>%{hovertext}</b><br><br>Fournisseur=Lemaître De Sousa SA<br>Fiabilité du fournisseur=%{x:.2f}<br>Délai moyen de livraison spécifié (jours)=%{y}<br>Nombre d'achats=%{customdata[0]}<br>montant_total_achats=%{customdata[1]:,.0f}<extra></extra>",
         "hovertext": [
          "Lemaître De Sousa SA"
         ],
         "legendgroup": "Lemaître De Sousa SA",
         "marker": {
          "color": "#636efa",
          "size": [
           34
          ],
          "sizemin": 5,
          "sizemode": "area",
          "sizeref": 5.115,
          "symbol": "circle"
         },
         "mode": "markers",
         "name": "Lemaître De Sousa SA",
         "orientation": "v",
         "showlegend": true,
         "type": "scatter",
         "x": [
          0.54
         ],
         "xaxis": "x",
         "y": [
          10
         ],
         "yaxis": "y"
        },
        {
         "customdata": [
          [
           34,
           323126
          ]
         ],
         "hovertemplate": "<b>%{hovertext}</b><br><br>Fournisseur=Caron<br>Fiabilité du fournisseur=%{x:.2f}<br>Délai moyen de livraison spécifié (jours)=%{y}<br>Nombre d'achats=%{customdata[0]}<br>montant_total_achats=%{customdata[1]:,.0f}<extra></extra>",
         "hovertext": [
          "Caron"
         ],
         "legendgroup": "Caron",
         "marker": {
          "color": "#EF553B",
          "size": [
           34
          ],
          "sizemin": 5,
          "sizemode": "area",
          "sizeref": 5.115,
          "symbol": "circle"
         },
         "mode": "markers",
         "name": "Caron",
         "orientation": "v",
         "showlegend": true,
         "type": "scatter",
         "x": [
          0.75
         ],
         "xaxis": "x",
         "y": [
          4
         ],
         "yaxis": "y"
        },
        {
         "customdata": [
          [
           32,
           547938.95
          ]
         ],
         "hovertemplate": "<b>%{hovertext}</b><br><br>Fournisseur=Klein SA<br>Fiabilité du fournisseur=%{x:.2f}<br>Délai moyen de livraison spécifié (jours)=%{y}<br>Nombre d'achats=%{customdata[0]}<br>montant_total_achats=%{customdata[1]:,.0f}<extra></extra>",
         "hovertext": [
          "Klein SA"
         ],
         "legendgroup": "Klein SA",
         "marker": {
          "color": "#00cc96",
          "size": [
           32
          ],
          "sizemin": 5,
          "sizemode": "area",
          "sizeref": 5.115,
          "symbol": "circle"
         },
         "mode": "markers",
         "name": "Klein SA",
         "orientation": "v",
         "showlegend": true,
         "type": "scatter",
         "x": [
          0.9
         ],
         "xaxis": "x",
         "y": [
          14
         ],
         "yaxis": "y"
        },
        {
         "customdata": [
          [
           44,
           498769.3
          ]
         ],
         "hovertemplate": "<b>%{hovertext}</b><br><br>Fournisseur=Lopes<br>Fiabilité du fournisseur=%{x:.2f}<br>Délai moyen de livraison spécifié (jours)=%{y}<br>Nombre d'achats=%{customdata[0]}<br>montant_total_achats=%{customdata[1]:,.0f}<extra></extra>",
         "hovertext": [
          "Lopes"
         ],
         "legendgroup": "Lopes",
         "marker": {
          "color": "#ab63fa",
          "size": [
           44
          ],
          "sizemin": 5,
          "sizemode": "area",
          "sizeref": 5.115,
          "symbol": "circle"
         },
         "mode": "markers",
         "name": "Lopes",
         "orientation": "v",
         "showlegend": true,
         "type": "scatter",
         "x": [
          0.85
         ],
         "xaxis": "x",
         "y": [
          9
         ],
         "yaxis": "y"
        },
        {
         "customdata": [
          [
           41,
           801637
          ]
         ],
         "hovertemplate": "<b>%{hovertext}</b><br><br>Fournisseur=Lagarde<br>Fiabilité du fournisseur=%{x:.2f}<br>Délai moyen de livraison spécifié (jours)=%{y}<br>Nombre d'achats=%{customdata[0]}<br>montant_total_achats=%{customdata[1]:,.0f}<extra></extra>",
         "hovertext": [
          "Lagarde"
         ],
         "legendgroup": "Lagarde",
         "marker": {
          "color": "#FFA15A",
          "size": [
           41
          ],
          "sizemin": 5,
          "sizemode": "area",
          "sizeref": 5.115,
          "symbol": "circle"
         },
         "mode": "markers",
         "name": "Lagarde",
         "orientation": "v",
         "showlegend": true,
         "type": "scatter",
         "x": [
          0.53
         ],
         "xaxis": "x",
         "y": [
          4
         ],
         "yaxis": "y"
        },
        {
         "customdata": [
          [
           468,
           7813988.95
          ]
         ],
         "hovertemplate": "<b>%{hovertext}</b><br><br>Fournisseur=Roche<br>Fiabilité du fournisseur=%{x:.2f}<br>Délai moyen de livraison spécifié (jours)=%{y}<br>Nombre d'achats=%{customdata[0]}<br>montant_total_achats=%{customdata[1]:,.0f}<extra></extra>",
         "hovertext": [
          "Roche"
         ],
         "legendgroup": "Roche",
         "marker": {
          "color": "#19d3f3",
          "size": [
           468
          ],
          "sizemin": 5,
          "sizemode": "area",
          "sizeref": 5.115,
          "symbol": "circle"
         },
         "mode": "markers",
         "name": "Roche",
         "orientation": "v",
         "showlegend": true,
         "type": "scatter",
         "x": [
          0.54
         ],
         "xaxis": "x",
         "y": [
          4
         ],
         "yaxis": "y"
        },
        {
         "customdata": [
          [
           39,
           593717.85
          ]
         ],
         "hovertemplate": "<b>%{hovertext}</b><br><br>Fournisseur=Duhamel<br>Fiabilité du fournisseur=%{x:.2f}<br>Délai moyen de livraison spécifié (jours)=%{y}<br>Nombre d'achats=%{customdata[0]}<br>montant_total_achats=%{customdata[1]:,.0f}<extra></extra>",
         "hovertext": [
          "Duhamel"
         ],
         "legendgroup": "Duhamel",
         "marker": {
          "color": "#FF6692",
          "size": [
           39
          ],
          "sizemin": 5,
          "sizemode": "area",
          "sizeref": 5.115,
          "symbol": "circle"
         },
         "mode": "markers",
         "name": "Duhamel",
         "orientation": "v",
         "showlegend": true,
         "type": "scatter",
         "x": [
          0.7
         ],
         "xaxis": "x",
         "y": [
          10
         ],
         "yaxis": "y"
        },
        {
         "customdata": [
          [
           487,
           8137189.7
          ]
         ],
         "hovertemplate": "<b>%{hovertext}</b><br><br>Fournisseur=Lecomte<br>Fiabilité du fournisseur=%{x:.2f}<br>Délai moyen de livraison spécifié (jours)=%{y}<br>Nombre d'achats=%{customdata[0]}<br>montant_total_achats=%{customdata[1]:,.0f}<extra></extra>",
         "hovertext": [
          "Lecomte"
         ],
         "legendgroup": "Lecomte",
         "marker": {
          "color": "#B6E880",
          "size": [
           487
          ],
          "sizemin": 5,
          "sizemode": "area",
          "sizeref": 5.115,
          "symbol": "circle"
         },
         "mode": "markers",
         "name": "Lecomte",
         "orientation": "v",
         "showlegend": true,
         "type": "scatter",
         "x": [
          0.65
         ],
         "xaxis": "x",
         "y": [
          4
         ],
         "yaxis": "y"
        },
        {
         "customdata": [
          [
           36,
           459322.15
          ]
         ],
         "hovertemplate": "<b>%{hovertext}</b><br><br>Fournisseur=Godard SA<br>Fiabilité du fournisseur=%{x:.2f}<br>Délai moyen de livraison spécifié (jours)=%{y}<br>Nombre d'achats=%{customdata[0]}<br>montant_total_achats=%{customdata[1]:,.0f}<extra></extra>",
         "hovertext": [
          "Godard SA"
         ],
         "legendgroup": "Godard SA",
         "marker": {
          "color": "#FF97FF",
          "size": [
           36
          ],
          "sizemin": 5,
          "sizemode": "area",
          "sizeref": 5.115,
          "symbol": "circle"
         },
         "mode": "markers",
         "name": "Godard SA",
         "orientation": "v",
         "showlegend": true,
         "type": "scatter",
         "x": [
          0.62
         ],
         "xaxis": "x",
         "y": [
          13
         ],
         "yaxis": "y"
        },
        {
         "customdata": [
          [
           37,
           906446.85
          ]
         ],
         "hovertemplate": "<b>%{hovertext}</b><br><br>Fournisseur=Carlier SA<br>Fiabilité du fournisseur=%{x:.2f}<br>Délai moyen de livraison spécifié (jours)=%{y}<br>Nombre d'achats=%{customdata[0]}<br>montant_total_achats=%{customdata[1]:,.0f}<extra></extra>",
         "hovertext": [
          "Carlier SA"
         ],
         "legendgroup": "Carlier SA",
         "marker": {
          "color": "#FECB52",
          "size": [
           37
          ],
          "sizemin": 5,
          "sizemode": "area",
          "sizeref": 5.115,
          "symbol": "circle"
         },
         "mode": "markers",
         "name": "Carlier SA",
         "orientation": "v",
         "showlegend": true,
         "type": "scatter",
         "x": [
          0.64
         ],
         "xaxis": "x",
         "y": [
          11
         ],
         "yaxis": "y"
        }
       ],
       "layout": {
        "legend": {
         "itemsizing": "constant",
         "title": {
          "text": "Fournisseurs"
         },
         "tracegroupgap": 0
        },
        "template": {
         "data": {
          "bar": [
           {
            "error_x": {
             "color": "#2a3f5f"
            },
            "error_y": {
             "color": "#2a3f5f"
            },
            "marker": {
             "line": {
              "color": "#E5ECF6",
              "width": 0.5
             },
             "pattern": {
              "fillmode": "overlay",
              "size": 10,
              "solidity": 0.2
             }
            },
            "type": "bar"
           }
          ],
          "barpolar": [
           {
            "marker": {
             "line": {
              "color": "#E5ECF6",
              "width": 0.5
             },
             "pattern": {
              "fillmode": "overlay",
              "size": 10,
              "solidity": 0.2
             }
            },
            "type": "barpolar"
           }
          ],
          "carpet": [
           {
            "aaxis": {
             "endlinecolor": "#2a3f5f",
             "gridcolor": "white",
             "linecolor": "white",
             "minorgridcolor": "white",
             "startlinecolor": "#2a3f5f"
            },
            "baxis": {
             "endlinecolor": "#2a3f5f",
             "gridcolor": "white",
             "linecolor": "white",
             "minorgridcolor": "white",
             "startlinecolor": "#2a3f5f"
            },
            "type": "carpet"
           }
          ],
          "choropleth": [
           {
            "colorbar": {
             "outlinewidth": 0,
             "ticks": ""
            },
            "type": "choropleth"
           }
          ],
          "contour": [
           {
            "colorbar": {
             "outlinewidth": 0,
             "ticks": ""
            },
            "colorscale": [
             [
              0,
              "#0d0887"
             ],
             [
              0.1111111111111111,
              "#46039f"
             ],
             [
              0.2222222222222222,
              "#7201a8"
             ],
             [
              0.3333333333333333,
              "#9c179e"
             ],
             [
              0.4444444444444444,
              "#bd3786"
             ],
             [
              0.5555555555555556,
              "#d8576b"
             ],
             [
              0.6666666666666666,
              "#ed7953"
             ],
             [
              0.7777777777777778,
              "#fb9f3a"
             ],
             [
              0.8888888888888888,
              "#fdca26"
             ],
             [
              1,
              "#f0f921"
             ]
            ],
            "type": "contour"
           }
          ],
          "contourcarpet": [
           {
            "colorbar": {
             "outlinewidth": 0,
             "ticks": ""
            },
            "type": "contourcarpet"
           }
          ],
          "heatmap": [
           {
            "colorbar": {
             "outlinewidth": 0,
             "ticks": ""
            },
            "colorscale": [
             [
              0,
              "#0d0887"
             ],
             [
              0.1111111111111111,
              "#46039f"
             ],
             [
              0.2222222222222222,
              "#7201a8"
             ],
             [
              0.3333333333333333,
              "#9c179e"
             ],
             [
              0.4444444444444444,
              "#bd3786"
             ],
             [
              0.5555555555555556,
              "#d8576b"
             ],
             [
              0.6666666666666666,
              "#ed7953"
             ],
             [
              0.7777777777777778,
              "#fb9f3a"
             ],
             [
              0.8888888888888888,
              "#fdca26"
             ],
             [
              1,
              "#f0f921"
             ]
            ],
            "type": "heatmap"
           }
          ],
          "heatmapgl": [
           {
            "colorbar": {
             "outlinewidth": 0,
             "ticks": ""
            },
            "colorscale": [
             [
              0,
              "#0d0887"
             ],
             [
              0.1111111111111111,
              "#46039f"
             ],
             [
              0.2222222222222222,
              "#7201a8"
             ],
             [
              0.3333333333333333,
              "#9c179e"
             ],
             [
              0.4444444444444444,
              "#bd3786"
             ],
             [
              0.5555555555555556,
              "#d8576b"
             ],
             [
              0.6666666666666666,
              "#ed7953"
             ],
             [
              0.7777777777777778,
              "#fb9f3a"
             ],
             [
              0.8888888888888888,
              "#fdca26"
             ],
             [
              1,
              "#f0f921"
             ]
            ],
            "type": "heatmapgl"
           }
          ],
          "histogram": [
           {
            "marker": {
             "pattern": {
              "fillmode": "overlay",
              "size": 10,
              "solidity": 0.2
             }
            },
            "type": "histogram"
           }
          ],
          "histogram2d": [
           {
            "colorbar": {
             "outlinewidth": 0,
             "ticks": ""
            },
            "colorscale": [
             [
              0,
              "#0d0887"
             ],
             [
              0.1111111111111111,
              "#46039f"
             ],
             [
              0.2222222222222222,
              "#7201a8"
             ],
             [
              0.3333333333333333,
              "#9c179e"
             ],
             [
              0.4444444444444444,
              "#bd3786"
             ],
             [
              0.5555555555555556,
              "#d8576b"
             ],
             [
              0.6666666666666666,
              "#ed7953"
             ],
             [
              0.7777777777777778,
              "#fb9f3a"
             ],
             [
              0.8888888888888888,
              "#fdca26"
             ],
             [
              1,
              "#f0f921"
             ]
            ],
            "type": "histogram2d"
           }
          ],
          "histogram2dcontour": [
           {
            "colorbar": {
             "outlinewidth": 0,
             "ticks": ""
            },
            "colorscale": [
             [
              0,
              "#0d0887"
             ],
             [
              0.1111111111111111,
              "#46039f"
             ],
             [
              0.2222222222222222,
              "#7201a8"
             ],
             [
              0.3333333333333333,
              "#9c179e"
             ],
             [
              0.4444444444444444,
              "#bd3786"
             ],
             [
              0.5555555555555556,
              "#d8576b"
             ],
             [
              0.6666666666666666,
              "#ed7953"
             ],
             [
              0.7777777777777778,
              "#fb9f3a"
             ],
             [
              0.8888888888888888,
              "#fdca26"
             ],
             [
              1,
              "#f0f921"
             ]
            ],
            "type": "histogram2dcontour"
           }
          ],
          "mesh3d": [
           {
            "colorbar": {
             "outlinewidth": 0,
             "ticks": ""
            },
            "type": "mesh3d"
           }
          ],
          "parcoords": [
           {
            "line": {
             "colorbar": {
              "outlinewidth": 0,
              "ticks": ""
             }
            },
            "type": "parcoords"
           }
          ],
          "pie": [
           {
            "automargin": true,
            "type": "pie"
           }
          ],
          "scatter": [
           {
            "fillpattern": {
             "fillmode": "overlay",
             "size": 10,
             "solidity": 0.2
            },
            "type": "scatter"
           }
          ],
          "scatter3d": [
           {
            "line": {
             "colorbar": {
              "outlinewidth": 0,
              "ticks": ""
             }
            },
            "marker": {
             "colorbar": {
              "outlinewidth": 0,
              "ticks": ""
             }
            },
            "type": "scatter3d"
           }
          ],
          "scattercarpet": [
           {
            "marker": {
             "colorbar": {
              "outlinewidth": 0,
              "ticks": ""
             }
            },
            "type": "scattercarpet"
           }
          ],
          "scattergeo": [
           {
            "marker": {
             "colorbar": {
              "outlinewidth": 0,
              "ticks": ""
             }
            },
            "type": "scattergeo"
           }
          ],
          "scattergl": [
           {
            "marker": {
             "colorbar": {
              "outlinewidth": 0,
              "ticks": ""
             }
            },
            "type": "scattergl"
           }
          ],
          "scattermapbox": [
           {
            "marker": {
             "colorbar": {
              "outlinewidth": 0,
              "ticks": ""
             }
            },
            "type": "scattermapbox"
           }
          ],
          "scatterpolar": [
           {
            "marker": {
             "colorbar": {
              "outlinewidth": 0,
              "ticks": ""
             }
            },
            "type": "scatterpolar"
           }
          ],
          "scatterpolargl": [
           {
            "marker": {
             "colorbar": {
              "outlinewidth": 0,
              "ticks": ""
             }
            },
            "type": "scatterpolargl"
           }
          ],
          "scatterternary": [
           {
            "marker": {
             "colorbar": {
              "outlinewidth": 0,
              "ticks": ""
             }
            },
            "type": "scatterternary"
           }
          ],
          "surface": [
           {
            "colorbar": {
             "outlinewidth": 0,
             "ticks": ""
            },
            "colorscale": [
             [
              0,
              "#0d0887"
             ],
             [
              0.1111111111111111,
              "#46039f"
             ],
             [
              0.2222222222222222,
              "#7201a8"
             ],
             [
              0.3333333333333333,
              "#9c179e"
             ],
             [
              0.4444444444444444,
              "#bd3786"
             ],
             [
              0.5555555555555556,
              "#d8576b"
             ],
             [
              0.6666666666666666,
              "#ed7953"
             ],
             [
              0.7777777777777778,
              "#fb9f3a"
             ],
             [
              0.8888888888888888,
              "#fdca26"
             ],
             [
              1,
              "#f0f921"
             ]
            ],
            "type": "surface"
           }
          ],
          "table": [
           {
            "cells": {
             "fill": {
              "color": "#EBF0F8"
             },
             "line": {
              "color": "white"
             }
            },
            "header": {
             "fill": {
              "color": "#C8D4E3"
             },
             "line": {
              "color": "white"
             }
            },
            "type": "table"
           }
          ]
         },
         "layout": {
          "annotationdefaults": {
           "arrowcolor": "#2a3f5f",
           "arrowhead": 0,
           "arrowwidth": 1
          },
          "autotypenumbers": "strict",
          "coloraxis": {
           "colorbar": {
            "outlinewidth": 0,
            "ticks": ""
           }
          },
          "colorscale": {
           "diverging": [
            [
             0,
             "#8e0152"
            ],
            [
             0.1,
             "#c51b7d"
            ],
            [
             0.2,
             "#de77ae"
            ],
            [
             0.3,
             "#f1b6da"
            ],
            [
             0.4,
             "#fde0ef"
            ],
            [
             0.5,
             "#f7f7f7"
            ],
            [
             0.6,
             "#e6f5d0"
            ],
            [
             0.7,
             "#b8e186"
            ],
            [
             0.8,
             "#7fbc41"
            ],
            [
             0.9,
             "#4d9221"
            ],
            [
             1,
             "#276419"
            ]
           ],
           "sequential": [
            [
             0,
             "#0d0887"
            ],
            [
             0.1111111111111111,
             "#46039f"
            ],
            [
             0.2222222222222222,
             "#7201a8"
            ],
            [
             0.3333333333333333,
             "#9c179e"
            ],
            [
             0.4444444444444444,
             "#bd3786"
            ],
            [
             0.5555555555555556,
             "#d8576b"
            ],
            [
             0.6666666666666666,
             "#ed7953"
            ],
            [
             0.7777777777777778,
             "#fb9f3a"
            ],
            [
             0.8888888888888888,
             "#fdca26"
            ],
            [
             1,
             "#f0f921"
            ]
           ],
           "sequentialminus": [
            [
             0,
             "#0d0887"
            ],
            [
             0.1111111111111111,
             "#46039f"
            ],
            [
             0.2222222222222222,
             "#7201a8"
            ],
            [
             0.3333333333333333,
             "#9c179e"
            ],
            [
             0.4444444444444444,
             "#bd3786"
            ],
            [
             0.5555555555555556,
             "#d8576b"
            ],
            [
             0.6666666666666666,
             "#ed7953"
            ],
            [
             0.7777777777777778,
             "#fb9f3a"
            ],
            [
             0.8888888888888888,
             "#fdca26"
            ],
            [
             1,
             "#f0f921"
            ]
           ]
          },
          "colorway": [
           "#636efa",
           "#EF553B",
           "#00cc96",
           "#ab63fa",
           "#FFA15A",
           "#19d3f3",
           "#FF6692",
           "#B6E880",
           "#FF97FF",
           "#FECB52"
          ],
          "font": {
           "color": "#2a3f5f"
          },
          "geo": {
           "bgcolor": "white",
           "lakecolor": "white",
           "landcolor": "#E5ECF6",
           "showlakes": true,
           "showland": true,
           "subunitcolor": "white"
          },
          "hoverlabel": {
           "align": "left"
          },
          "hovermode": "closest",
          "mapbox": {
           "style": "light"
          },
          "paper_bgcolor": "white",
          "plot_bgcolor": "#E5ECF6",
          "polar": {
           "angularaxis": {
            "gridcolor": "white",
            "linecolor": "white",
            "ticks": ""
           },
           "bgcolor": "#E5ECF6",
           "radialaxis": {
            "gridcolor": "white",
            "linecolor": "white",
            "ticks": ""
           }
          },
          "scene": {
           "xaxis": {
            "backgroundcolor": "#E5ECF6",
            "gridcolor": "white",
            "gridwidth": 2,
            "linecolor": "white",
            "showbackground": true,
            "ticks": "",
            "zerolinecolor": "white"
           },
           "yaxis": {
            "backgroundcolor": "#E5ECF6",
            "gridcolor": "white",
            "gridwidth": 2,
            "linecolor": "white",
            "showbackground": true,
            "ticks": "",
            "zerolinecolor": "white"
           },
           "zaxis": {
            "backgroundcolor": "#E5ECF6",
            "gridcolor": "white",
            "gridwidth": 2,
            "linecolor": "white",
            "showbackground": true,
            "ticks": "",
            "zerolinecolor": "white"
           }
          },
          "shapedefaults": {
           "line": {
            "color": "#2a3f5f"
           }
          },
          "ternary": {
           "aaxis": {
            "gridcolor": "white",
            "linecolor": "white",
            "ticks": ""
           },
           "baxis": {
            "gridcolor": "white",
            "linecolor": "white",
            "ticks": ""
           },
           "bgcolor": "#E5ECF6",
           "caxis": {
            "gridcolor": "white",
            "linecolor": "white",
            "ticks": ""
           }
          },
          "title": {
           "x": 0.05
          },
          "xaxis": {
           "automargin": true,
           "gridcolor": "white",
           "linecolor": "white",
           "ticks": "",
           "title": {
            "standoff": 15
           },
           "zerolinecolor": "white",
           "zerolinewidth": 2
          },
          "yaxis": {
           "automargin": true,
           "gridcolor": "white",
           "linecolor": "white",
           "ticks": "",
           "title": {
            "standoff": 15
           },
           "zerolinecolor": "white",
           "zerolinewidth": 2
          }
         }
        },
        "title": {
         "text": "Fiabilité vs. Délai moyen de livraison des fournisseurs (Interactif)"
        },
        "xaxis": {
         "anchor": "y",
         "domain": [
          0,
          1
         ],
         "title": {
          "text": "Fiabilité du fournisseur"
         }
        },
        "yaxis": {
         "anchor": "x",
         "domain": [
          0,
          1
         ],
         "title": {
          "text": "Délai moyen de livraison spécifié (jours)"
         }
        }
       }
      }
     },
     "metadata": {},
     "output_type": "display_data"
    }
   ],
   "source": [
    "import plotly.express as px\n",
    "\n",
    "\n",
    "if 'supplier_features' not in locals() and 'df' in locals():\n",
    "    print(\"Recalcul de supplier_features...\")\n",
    "    supplier_features = df.groupby('id_fournisseur').agg(\n",
    "        nom_fournisseur=('nom_fournisseur', 'first'),\n",
    "        fiabilite=('fiabilité', 'mean'), # Devrait être unique par fournisseur\n",
    "        delai_moyen_livraison_specifique=('délai_moyen_jours', 'mean'), # Devrait être unique\n",
    "        nombre_achats=('id_achat', 'count'),\n",
    "        montant_total_achats=('montant_total', 'sum')\n",
    "\n",
    "    ).reset_index()\n",
    "elif 'supplier_features' not in locals() and 'df' not in locals():\n",
    "    print(\"Erreur : DataFrame 'df' et 'supplier_features' non trouvés. Veuillez exécuter les étapes précédentes.\")\n",
    "    exit()\n",
    "\n",
    "\n",
    "print(\"\\n--- Création du graphique interactif avec Plotly pour la classification des fournisseurs ---\")\n",
    "\n",
    "fig_plotly = px.scatter(\n",
    "    supplier_features,\n",
    "    x='fiabilite',\n",
    "    y='delai_moyen_livraison_specifique',\n",
    "    size='nombre_achats',  \n",
    "    color='nom_fournisseur',\n",
    "    hover_name='nom_fournisseur',  \n",
    "    hover_data={ \n",
    "        'fiabilite': ':.2f',\n",
    "        'delai_moyen_livraison_specifique': True, \n",
    "        'nombre_achats': True,\n",
    "        'montant_total_achats': ':,.0f'\n",
    "    },\n",
    "    title='Fiabilité vs. Délai moyen de livraison des fournisseurs (Interactif)',\n",
    "    labels={\n",
    "        'fiabilite': 'Fiabilité du fournisseur',\n",
    "        'delai_moyen_livraison_specifique': 'Délai moyen de livraison spécifié (jours)',\n",
    "        'nombre_achats': 'Nombre d\\'achats',\n",
    "        'nom_fournisseur': 'Fournisseur'\n",
    "    }\n",
    ")\n",
    "\n",
    "\n",
    "fig_plotly.update_layout(\n",
    "    xaxis_title='Fiabilité du fournisseur',\n",
    "    yaxis_title='Délai moyen de livraison spécifié (jours)',\n",
    "    legend_title='Fournisseurs',\n",
    "\n",
    ")\n",
    "fig_plotly.update_traces(marker=dict(sizemin=5))\n",
    "\n",
    "fig_plotly.show()"
   ]
  },
  {
   "cell_type": "code",
   "execution_count": null,
   "id": "f62e2a42",
   "metadata": {},
   "outputs": [
    {
     "name": "stdout",
     "output_type": "stream",
     "text": [
      "\n",
      "--- Classification des fournisseurs avec K-Means (adapté) ---\n",
      "\n",
      "Détermination du nombre optimal de clusters (Méthode du Coude)...\n"
     ]
    },
    {
     "data": {
      "image/png": "[encoded data removed]",
      "text/plain": [
       "<Figure size 1000x600 with 1 Axes>"
      ]
     },
     "metadata": {},
     "output_type": "display_data"
    },
    {
     "name": "stdout",
     "output_type": "stream",
     "text": [
      "\n",
      "Application de K-Means avec k=4 clusters...\n",
      "\n",
      "Classification par K-Means (exemple) :\n",
      "   nom_fournisseur  cluster_kmeans\n",
      "0  Lecomte et Fils               0\n",
      "1           Morvan               0\n",
      "2  Germain et Fils               0\n",
      "3         Philippe               2\n",
      "4            Blanc               2\n",
      "\n",
      "Caractéristiques moyennes par cluster :\n",
      "                fiabilite  delai_moyen_livraison_specifique  \\\n",
      "cluster_kmeans                                                \n",
      "0                0.837647                          9.352941   \n",
      "1                0.686471                          5.117647   \n",
      "2                0.699231                         10.769231   \n",
      "3                0.640000                          7.000000   \n",
      "\n",
      "                delai_livraison_observe_moyen  montant_moyen_par_achat  \\\n",
      "cluster_kmeans                                                           \n",
      "0                                    8.302393             13058.841108   \n",
      "1                                    7.633261             15842.796005   \n",
      "2                                    7.475489             18585.874000   \n",
      "3                                    7.982274             15206.042223   \n",
      "\n",
      "                nombre_achats  \n",
      "cluster_kmeans                 \n",
      "0                   93.352941  \n",
      "1                  114.352941  \n",
      "2                   36.076923  \n",
      "3                 2000.000000  \n"
     ]
    }
   ],
   "source": [
    "from sklearn.preprocessing import StandardScaler\n",
    "\n",
    "supplier_feature = df.groupby('id_fournisseur').agg(\n",
    "    nom_fournisseur=('nom_fournisseur', 'first'),\n",
    "    fiabilite=('fiabilité', 'mean'),\n",
    "    delai_moyen_livraison_specifique=('délai_moyen_jours', 'mean'),\n",
    "    nombre_achats=('id_achat', 'count'),\n",
    "    montant_total_achats=('montant_total', 'sum'),\n",
    "    quantite_totale_achetee=('quantité', 'sum'),\n",
    "    prix_unitaire_moyen_paye=('prix_unitaire', 'mean'),\n",
    "    delai_livraison_observe_moyen=('délai_livraison_jours', 'mean'),\n",
    "    delai_livraison_observe_std=('délai_livraison_jours', 'std'),\n",
    "    ville=('ville', 'first'),\n",
    "    pays=('pays', 'first')\n",
    ").reset_index()\n",
    "\n",
    "supplier_feature['delai_livraison_observe_std'].fillna(0, inplace=True)\n",
    "supplier_feature['montant_moyen_par_achat'] = supplier_feature['montant_total_achats'] / supplier_feature['nombre_achats']\n",
    "\n",
    "print(\"\\n--- Classification des fournisseurs avec K-Means (adapté) ---\")\n",
    "\n",
    "\n",
    "features_for_clustering = [\n",
    "    'fiabilite',\n",
    "    'delai_moyen_livraison_specifique',\n",
    "    'delai_livraison_observe_moyen',\n",
    "    'montant_moyen_par_achat',\n",
    "    'nombre_achats'\n",
    "]\n",
    "X_cluster = supplier_feature[features_for_clustering].copy()\n",
    ")\n",
    "for col in X_cluster.columns:\n",
    "    if X_cluster[col].isnull().any():\n",
    "        print(f\"Attention: Valeurs NaN trouvées dans la colonne '{col}' pour le clustering. Remplacement par la moyenne.\")\n",
    "        X_cluster[col].fillna(X_cluster[col].mean(), inplace=True)\n",
    "\n",
    "\n",
    "scaler = StandardScaler()\n",
    "X_scaled = scaler.fit_transform(X_cluster)\n",
    "\n",
    "\n",
    "print(\"\\nDétermination du nombre optimal de clusters (Méthode du Coude)...\")\n",
    "wcss = []\n",
    "k_range = range(1, 11)\n",
    "\n",
    "for i in k_range:\n",
    "    kmeans_elbow = KMeans(n_clusters=i, init='k-means++', random_state=42, n_init=10)\n",
    "    kmeans_elbow.fit(X_scaled)\n",
    "    wcss.append(kmeans_elbow.inertia_)\n",
    "\n",
    "plt.figure(figsize=(10, 6))\n",
    "plt.plot(k_range, wcss, marker='o', linestyle='--')\n",
    "plt.title('Méthode du Coude pour déterminer k optimal')\n",
    "plt.xlabel('Nombre de clusters (k)')\n",
    "plt.ylabel('WCSS (Inertie)')\n",
    "plt.xticks(list(k_range))\n",
    "plt.grid(True)\n",
    "plt.show()\n",
    "try:\n",
    "    optimal_k = int(input(\"D'après le graphique du coude, quel est le nombre optimal de clusters (k) ? Entrez un nombre entier : \"))\n",
    "    if not (1 <= optimal_k <= 10): # Vérifier si k est dans la plage testée\n",
    "        print(\"Nombre de clusters hors de la plage testée. Utilisation de k=3 par défaut.\")\n",
    "        optimal_k = 3\n",
    "except ValueError:\n",
    "    print(\"Entrée invalide. Utilisation de k=3 par défaut.\")\n",
    "    optimal_k = 3\n",
    "\n",
    "\n",
    "print(f\"\\nApplication de K-Means avec k={optimal_k} clusters...\")\n",
    "kmeans = KMeans(n_clusters=optimal_k, init='k-means++', random_state=42, n_init=10)\n",
    "supplier_feature['cluster_kmeans'] = kmeans.fit_predict(X_scaled)\n",
    "\n",
    "print(\"\\nClassification par K-Means (exemple) :\")\n",
    "print(supplier_feature[['nom_fournisseur', 'cluster_kmeans']].head())\n",
    "\n",
    "\n",
    "print(\"\\nCaractéristiques moyennes par cluster :\")\n",
    "cluster_analysis = supplier_feature.groupby('cluster_kmeans')[features_for_clustering].mean()\n",
    "print(cluster_analysis)\n",
    "\n"
   ]
  },
  {
   "cell_type": "code",
   "execution_count": null,
   "id": "6a736044",
   "metadata": {},
   "outputs": [
    {
     "name": "stdout",
     "output_type": "stream",
     "text": [
      "\n",
      "Création du graphique interactif Plotly pour les clusters K-Means...\n"
     ]
    },
    {
     "data": {
      "application/vnd.plotly.v1+json": {
       "config": {
        "plotlyServerURL": "https://plot.ly"
       },
       "data": [
        {
         "customdata": [
          [
           10,
           14403.36875,
           40,
           0,
           "Zurich",
           "Suisse"
          ],
          [
           9,
           16173.690290381124,
           551,
           0,
           "Paris",
           "France"
          ],
          [
           10,
           14943.075862068967,
           29,
           0,
           "Amsterdam",
           "Pays-Bas"
          ],
          [
           9,
           16432.16,
           30,
           0,
           "Prague",
           "République tchèque"
          ],
          [
           11,
           14527.331030927835,
           485,
           0,
           "Stockholm",
           "Suède"
          ],
          [
           7,
           10400.041666666666,
           36,
           0,
           "Rome",
           "Italie"
          ],
          [
           11,
           10420.902777777777,
           36,
           0,
           "Copenhague",
           "Danemark"
          ],
          [
           11,
           15096.829729729729,
           37,
           0,
           "Oslo",
           "Norvège"
          ],
          [
           9,
           10577.234615384616,
           39,
           0,
           "Dublin",
           "Irlande"
          ],
          [
           9,
           12554.891891891892,
           37,
           0,
           "Bruxelles",
           "Belgique"
          ],
          [
           12,
           10148.283870967742,
           31,
           0,
           "Madrid",
           "Espagne"
          ],
          [
           7,
           14185.201515151515,
           33,
           0,
           "Lisbonne",
           "Portugal"
          ],
          [
           8,
           11630.03043478261,
           46,
           0,
           "Helsinki",
           "Finlande"
          ],
          [
           13,
           14444.35,
           40,
           0,
           "Helsinki",
           "Finlande"
          ],
          [
           4,
           9503.70588235294,
           34,
           0,
           "Paris",
           "France"
          ],
          [
           9,
           11335.665909090909,
           44,
           0,
           "Amsterdam",
           "Pays-Bas"
          ],
          [
           10,
           15223.534615384615,
           39,
           0,
           "Berlin",
           "Allemagne"
          ]
         ],
         "hovertemplate": "<b>%{hovertext}</b><br><br>Cluster=%{customdata[3]}<br>Fiabilité=%{x:.2f}<br>Délai Observé Moyen (j)=%{y:.1f}<br>Nb Achats=%{customdata[2]}<br>delai_moyen_livraison_specifique=%{customdata[0]:.1f}<br>montant_moyen_par_achat=%{customdata[1]:,.0f}<br>ville=%{customdata[4]}<br>pays=%{customdata[5]}<extra></extra>",
         "hovertext": [
          "Lecomte et Fils",
          "Morvan",
          "Germain et Fils",
          "Carlier",
          "Lucas",
          "Guillon",
          "Guérin",
          "Leduc",
          "Langlois Vallée SA",
          "Albert",
          "Da Silva",
          "Laine",
          "Charles SARL",
          "Rocher",
          "Caron",
          "Lopes",
          "Duhamel"
         ],
         "legendgroup": "0",
         "marker": {
          "color": "rgb(229, 134, 6)",
          "size": [
           40,
           551,
           29,
           30,
           485,
           36,
           36,
           37,
           39,
           37,
           31,
           33,
           46,
           40,
           34,
           44,
           39
          ],
          "sizemin": 5,
          "sizemode": "area",
          "sizeref": 5.115,
          "symbol": "circle"
         },
         "mode": "markers",
         "name": "0",
         "orientation": "v",
         "showlegend": true,
         "type": "scatter",
         "x": [
          0.8400000000000001,
          0.86,
          0.85,
          0.9,
          1,
          0.9099999999999999,
          0.9200000000000002,
          0.8699999999999999,
          0.88,
          0.83,
          0.88,
          0.9,
          0.54,
          0.76,
          0.75,
          0.85,
          0.7
         ],
         "xaxis": "x",
         "y": [
          8.9,
          7.911070780399274,
          8.413793103448276,
          8.733333333333333,
          7.828865979381443,
          8.61111111111111,
          7.722222222222222,
          8.783783783783784,
          7.769230769230769,
          7.864864864864865,
          7.483870967741935,
          9,
          8.73913043478261,
          7.9,
          8.852941176470589,
          8.113636363636363,
          8.512820512820513
         ],
         "yaxis": "y"
        },
        {
         "customdata": [
          [
           9,
           18933.575,
           32,
           2,
           "Rome",
           "Italie"
          ],
          [
           13,
           19364.626190476192,
           42,
           2,
           "Dublin",
           "Irlande"
          ],
          [
           9,
           15953.457142857142,
           21,
           2,
           "Lisbonne",
           "Portugal"
          ],
          [
           12,
           19607.63108108108,
           37,
           2,
           "Varsovie",
           "Pologne"
          ],
          [
           6,
           22253.838157894737,
           38,
           2,
           "Bruxelles",
           "Belgique"
          ],
          [
           10,
           12919.934722222222,
           36,
           2,
           "Berlin",
           "Allemagne"
          ],
          [
           14,
           19259.420454545456,
           44,
           2,
           "Stockholm",
           "Suède"
          ],
          [
           10,
           19064.413095238095,
           42,
           2,
           "Stockholm",
           "Suède"
          ],
          [
           9,
           20481.63684210526,
           38,
           2,
           "Copenhague",
           "Danemark"
          ],
          [
           10,
           19397.225000000002,
           34,
           2,
           "Dublin",
           "Irlande"
          ],
          [
           14,
           17123.0921875,
           32,
           2,
           "Rome",
           "Italie"
          ],
          [
           13,
           12758.948611111111,
           36,
           2,
           "Zurich",
           "Suisse"
          ],
          [
           11,
           24498.563513513513,
           37,
           2,
           "Bruxelles",
           "Belgique"
          ]
         ],
         "hovertemplate": "<b>%{hovertext}</b><br><br>Cluster=%{customdata[3]}<br>Fiabilité=%{x:.2f}<br>Délai Observé Moyen (j)=%{y:.1f}<br>Nb Achats=%{customdata[2]}<br>delai_moyen_livraison_specifique=%{customdata[0]:.1f}<br>montant_moyen_par_achat=%{customdata[1]:,.0f}<br>ville=%{customdata[4]}<br>pays=%{customdata[5]}<extra></extra>",
         "hovertext": [
          "Philippe",
          "Blanc",
          "Fischer",
          "Techer SA",
          "Bourdon",
          "Rodrigues Payet S.A.R.L.",
          "Mercier Dupuy S.A.S.",
          "Moreau Dubois S.A.S.",
          "Fabre SA",
          "Lemaître De Sousa SA",
          "Klein SA",
          "Godard SA",
          "Carlier SA"
         ],
         "legendgroup": "2",
         "marker": {
          "color": "rgb(93, 105, 177)",
          "size": [
           32,
           42,
           21,
           37,
           38,
           36,
           44,
           42,
           38,
           34,
           32,
           36,
           37
          ],
          "sizemin": 5,
          "sizemode": "area",
          "sizeref": 5.115,
          "symbol": "circle"
         },
         "mode": "markers",
         "name": "2",
         "orientation": "v",
         "showlegend": true,
         "type": "scatter",
         "x": [
          0.57,
          0.65,
          0.61,
          0.9199999999999999,
          0.81,
          0.54,
          0.67,
          0.9700000000000001,
          0.65,
          0.54,
          0.9,
          0.62,
          0.64
         ],
         "xaxis": "x",
         "y": [
          8.3125,
          7.0476190476190474,
          6.380952380952381,
          7.72972972972973,
          7,
          7,
          7.590909090909091,
          7.190476190476191,
          7.973684210526316,
          8.264705882352942,
          7.40625,
          7.527777777777778,
          7.756756756756757
         ],
         "yaxis": "y"
        },
        {
         "customdata": [
          [
           8,
           16087.1375,
           40,
           1,
           "Zurich",
           "Suisse"
          ],
          [
           3,
           17487.14695481336,
           509,
           1,
           "Paris",
           "France"
          ],
          [
           3,
           9757.774285714286,
           35,
           1,
           "Rome",
           "Italie"
          ],
          [
           7,
           15359.19,
           35,
           1,
           "Paris",
           "France"
          ],
          [
           5,
           16369.18,
           30,
           1,
           "Zurich",
           "Suisse"
          ],
          [
           7,
           15903.736363636364,
           33,
           1,
           "Stockholm",
           "Suède"
          ],
          [
           5,
           20465.9890625,
           32,
           1,
           "Rome",
           "Italie"
          ],
          [
           8,
           11843.08717948718,
           39,
           1,
           "Paris",
           "France"
          ],
          [
           3,
           19575.506060606058,
           33,
           1,
           "Oslo",
           "Norvège"
          ],
          [
           6,
           12463.331481481482,
           27,
           1,
           "Copenhague",
           "Danemark"
          ],
          [
           4,
           11355.131707317074,
           41,
           1,
           "Oslo",
           "Norvège"
          ],
          [
           4,
           18073.29375,
           32,
           1,
           "Dublin",
           "Irlande"
          ],
          [
           6,
           16038.765714285715,
           35,
           1,
           "Varsovie",
           "Pologne"
          ],
          [
           6,
           15590.774074074076,
           27,
           1,
           "Copenhague",
           "Danemark"
          ],
          [
           4,
           19552.121951219513,
           41,
           1,
           "Berlin",
           "Allemagne"
          ],
          [
           4,
           16696.557585470087,
           468,
           1,
           "Rome",
           "Italie"
          ],
          [
           4,
           16708.80841889117,
           487,
           1,
           "Amsterdam",
           "Pays-Bas"
          ]
         ],
         "hovertemplate": "<b>%{hovertext}</b><br><br>Cluster=%{customdata[3]}<br>Fiabilité=%{x:.2f}<br>Délai Observé Moyen (j)=%{y:.1f}<br>Nb Achats=%{customdata[2]}<br>delai_moyen_livraison_specifique=%{customdata[0]:.1f}<br>montant_moyen_par_achat=%{customdata[1]:,.0f}<br>ville=%{customdata[4]}<br>pays=%{customdata[5]}<extra></extra>",
         "hovertext": [
          "Jean",
          "Pelletier",
          "Leblanc",
          "Gautier",
          "Renault",
          "Morel",
          "Bodin",
          "Baudry",
          "Petitjean Andre SA",
          "Delaunay",
          "Faure S.A.R.L.",
          "Munoz SA",
          "Bertrand S.A.",
          "Laurent Boyer S.A.R.L.",
          "Lagarde",
          "Roche",
          "Lecomte"
         ],
         "legendgroup": "1",
         "marker": {
          "color": "rgb(82, 188, 163)",
          "size": [
           40,
           509,
           35,
           35,
           30,
           33,
           32,
           39,
           33,
           27,
           41,
           32,
           35,
           27,
           41,
           468,
           487
          ],
          "sizemin": 5,
          "sizemode": "area",
          "sizeref": 5.115,
          "symbol": "circle"
         },
         "mode": "markers",
         "name": "1",
         "orientation": "v",
         "showlegend": true,
         "type": "scatter",
         "x": [
          0.68,
          0.98,
          0.5,
          0.84,
          0.65,
          0.51,
          0.87,
          0.57,
          0.88,
          0.7,
          0.7,
          0.53,
          0.56,
          0.98,
          0.53,
          0.54,
          0.65
         ],
         "xaxis": "x",
         "y": [
          7.6,
          7.968565815324165,
          8,
          7.514285714285714,
          7.333333333333333,
          7.03030303030303,
          7.46875,
          6.871794871794871,
          7.606060606060606,
          7.518518518518518,
          7.512195121951219,
          8.90625,
          7.571428571428571,
          7.074074074074074,
          7.634146341463414,
          8.149572649572649,
          8.006160164271048
         ],
         "yaxis": "y"
        },
        {
         "customdata": [
          [
           7,
           15223.786168601715,
           1981,
           3,
           "Berlin",
           "Allemagne"
          ],
          [
           8,
           15297.140347018572,
           2046,
           3,
           "Berlin",
           "Allemagne"
          ],
          [
           6,
           15097.20015205271,
           1973,
           3,
           "Helsinki",
           "Finlande"
          ]
         ],
         "hovertemplate": "<b>%{hovertext}</b><br><br>Cluster=%{customdata[3]}<br>Fiabilité=%{x:.2f}<br>Délai Observé Moyen (j)=%{y:.1f}<br>Nb Achats=%{customdata[2]}<br>delai_moyen_livraison_specifique=%{customdata[0]:.1f}<br>montant_moyen_par_achat=%{customdata[1]:,.0f}<br>ville=%{customdata[4]}<br>pays=%{customdata[5]}<extra></extra>",
         "hovertext": [
          "Gaillard S.A.",
          "Delattre Blot S.A.",
          "Fontaine Lopes S.A."
         ],
         "legendgroup": "3",
         "marker": {
          "color": "rgb(153, 201, 69)",
          "size": [
           1981,
           2046,
           1973
          ],
          "sizemin": 5,
          "sizemode": "area",
          "sizeref": 5.115,
          "symbol": "circle"
         },
         "mode": "markers",
         "name": "3",
         "orientation": "v",
         "showlegend": true,
         "type": "scatter",
         "x": [
          0.64,
          0.74,
          0.54
         ],
         "xaxis": "x",
         "y": [
          7.927309439676931,
          7.952101661779081,
          8.067410035478966
         ],
         "yaxis": "y"
        }
       ],
       "layout": {
        "legend": {
         "itemsizing": "constant",
         "title": {
          "text": "Cluster K-Means"
         },
         "tracegroupgap": 0
        },
        "template": {
         "data": {
          "bar": [
           {
            "error_x": {
             "color": "#2a3f5f"
            },
            "error_y": {
             "color": "#2a3f5f"
            },
            "marker": {
             "line": {
              "color": "#E5ECF6",
              "width": 0.5
             },
             "pattern": {
              "fillmode": "overlay",
              "size": 10,
              "solidity": 0.2
             }
            },
            "type": "bar"
           }
          ],
          "barpolar": [
           {
            "marker": {
             "line": {
              "color": "#E5ECF6",
              "width": 0.5
             },
             "pattern": {
              "fillmode": "overlay",
              "size": 10,
              "solidity": 0.2
             }
            },
            "type": "barpolar"
           }
          ],
          "carpet": [
           {
            "aaxis": {
             "endlinecolor": "#2a3f5f",
             "gridcolor": "white",
             "linecolor": "white",
             "minorgridcolor": "white",
             "startlinecolor": "#2a3f5f"
            },
            "baxis": {
             "endlinecolor": "#2a3f5f",
             "gridcolor": "white",
             "linecolor": "white",
             "minorgridcolor": "white",
             "startlinecolor": "#2a3f5f"
            },
            "type": "carpet"
           }
          ],
          "choropleth": [
           {
            "colorbar": {
             "outlinewidth": 0,
             "ticks": ""
            },
            "type": "choropleth"
           }
          ],
          "contour": [
           {
            "colorbar": {
             "outlinewidth": 0,
             "ticks": ""
            },
            "colorscale": [
             [
              0,
              "#0d0887"
             ],
             [
              0.1111111111111111,
              "#46039f"
             ],
             [
              0.2222222222222222,
              "#7201a8"
             ],
             [
              0.3333333333333333,
              "#9c179e"
             ],
             [
              0.4444444444444444,
              "#bd3786"
             ],
             [
              0.5555555555555556,
              "#d8576b"
             ],
             [
              0.6666666666666666,
              "#ed7953"
             ],
             [
              0.7777777777777778,
              "#fb9f3a"
             ],
             [
              0.8888888888888888,
              "#fdca26"
             ],
             [
              1,
              "#f0f921"
             ]
            ],
            "type": "contour"
           }
          ],
          "contourcarpet": [
           {
            "colorbar": {
             "outlinewidth": 0,
             "ticks": ""
            },
            "type": "contourcarpet"
           }
          ],
          "heatmap": [
           {
            "colorbar": {
             "outlinewidth": 0,
             "ticks": ""
            },
            "colorscale": [
             [
              0,
              "#0d0887"
             ],
             [
              0.1111111111111111,
              "#46039f"
             ],
             [
              0.2222222222222222,
              "#7201a8"
             ],
             [
              0.3333333333333333,
              "#9c179e"
             ],
             [
              0.4444444444444444,
              "#bd3786"
             ],
             [
              0.5555555555555556,
              "#d8576b"
             ],
             [
              0.6666666666666666,
              "#ed7953"
             ],
             [
              0.7777777777777778,
              "#fb9f3a"
             ],
             [
              0.8888888888888888,
              "#fdca26"
             ],
             [
              1,
              "#f0f921"
             ]
            ],
            "type": "heatmap"
           }
          ],
          "heatmapgl": [
           {
            "colorbar": {
             "outlinewidth": 0,
             "ticks": ""
            },
            "colorscale": [
             [
              0,
              "#0d0887"
             ],
             [
              0.1111111111111111,
              "#46039f"
             ],
             [
              0.2222222222222222,
              "#7201a8"
             ],
             [
              0.3333333333333333,
              "#9c179e"
             ],
             [
              0.4444444444444444,
              "#bd3786"
             ],
             [
              0.5555555555555556,
              "#d8576b"
             ],
             [
              0.6666666666666666,
              "#ed7953"
             ],
             [
              0.7777777777777778,
              "#fb9f3a"
             ],
             [
              0.8888888888888888,
              "#fdca26"
             ],
             [
              1,
              "#f0f921"
             ]
            ],
            "type": "heatmapgl"
           }
          ],
          "histogram": [
           {
            "marker": {
             "pattern": {
              "fillmode": "overlay",
              "size": 10,
              "solidity": 0.2
             }
            },
            "type": "histogram"
           }
          ],
          "histogram2d": [
           {
            "colorbar": {
             "outlinewidth": 0,
             "ticks": ""
            },
            "colorscale": [
             [
              0,
              "#0d0887"
             ],
             [
              0.1111111111111111,
              "#46039f"
             ],
             [
              0.2222222222222222,
              "#7201a8"
             ],
             [
              0.3333333333333333,
              "#9c179e"
             ],
             [
              0.4444444444444444,
              "#bd3786"
             ],
             [
              0.5555555555555556,
              "#d8576b"
             ],
             [
              0.6666666666666666,
              "#ed7953"
             ],
             [
              0.7777777777777778,
              "#fb9f3a"
             ],
             [
              0.8888888888888888,
              "#fdca26"
             ],
             [
              1,
              "#f0f921"
             ]
            ],
            "type": "histogram2d"
           }
          ],
          "histogram2dcontour": [
           {
            "colorbar": {
             "outlinewidth": 0,
             "ticks": ""
            },
            "colorscale": [
             [
              0,
              "#0d0887"
             ],
             [
              0.1111111111111111,
              "#46039f"
             ],
             [
              0.2222222222222222,
              "#7201a8"
             ],
             [
              0.3333333333333333,
              "#9c179e"
             ],
             [
              0.4444444444444444,
              "#bd3786"
             ],
             [
              0.5555555555555556,
              "#d8576b"
             ],
             [
              0.6666666666666666,
              "#ed7953"
             ],
             [
              0.7777777777777778,
              "#fb9f3a"
             ],
             [
              0.8888888888888888,
              "#fdca26"
             ],
             [
              1,
              "#f0f921"
             ]
            ],
            "type": "histogram2dcontour"
           }
          ],
          "mesh3d": [
           {
            "colorbar": {
             "outlinewidth": 0,
             "ticks": ""
            },
            "type": "mesh3d"
           }
          ],
          "parcoords": [
           {
            "line": {
             "colorbar": {
              "outlinewidth": 0,
              "ticks": ""
             }
            },
            "type": "parcoords"
           }
          ],
          "pie": [
           {
            "automargin": true,
            "type": "pie"
           }
          ],
          "scatter": [
           {
            "fillpattern": {
             "fillmode": "overlay",
             "size": 10,
             "solidity": 0.2
            },
            "type": "scatter"
           }
          ],
          "scatter3d": [
           {
            "line": {
             "colorbar": {
              "outlinewidth": 0,
              "ticks": ""
             }
            },
            "marker": {
             "colorbar": {
              "outlinewidth": 0,
              "ticks": ""
             }
            },
            "type": "scatter3d"
           }
          ],
          "scattercarpet": [
           {
            "marker": {
             "colorbar": {
              "outlinewidth": 0,
              "ticks": ""
             }
            },
            "type": "scattercarpet"
           }
          ],
          "scattergeo": [
           {
            "marker": {
             "colorbar": {
              "outlinewidth": 0,
              "ticks": ""
             }
            },
            "type": "scattergeo"
           }
          ],
          "scattergl": [
           {
            "marker": {
             "colorbar": {
              "outlinewidth": 0,
              "ticks": ""
             }
            },
            "type": "scattergl"
           }
          ],
          "scattermapbox": [
           {
            "marker": {
             "colorbar": {
              "outlinewidth": 0,
              "ticks": ""
             }
            },
            "type": "scattermapbox"
           }
          ],
          "scatterpolar": [
           {
            "marker": {
             "colorbar": {
              "outlinewidth": 0,
              "ticks": ""
             }
            },
            "type": "scatterpolar"
           }
          ],
          "scatterpolargl": [
           {
            "marker": {
             "colorbar": {
              "outlinewidth": 0,
              "ticks": ""
             }
            },
            "type": "scatterpolargl"
           }
          ],
          "scatterternary": [
           {
            "marker": {
             "colorbar": {
              "outlinewidth": 0,
              "ticks": ""
             }
            },
            "type": "scatterternary"
           }
          ],
          "surface": [
           {
            "colorbar": {
             "outlinewidth": 0,
             "ticks": ""
            },
            "colorscale": [
             [
              0,
              "#0d0887"
             ],
             [
              0.1111111111111111,
              "#46039f"
             ],
             [
              0.2222222222222222,
              "#7201a8"
             ],
             [
              0.3333333333333333,
              "#9c179e"
             ],
             [
              0.4444444444444444,
              "#bd3786"
             ],
             [
              0.5555555555555556,
              "#d8576b"
             ],
             [
              0.6666666666666666,
              "#ed7953"
             ],
             [
              0.7777777777777778,
              "#fb9f3a"
             ],
             [
              0.8888888888888888,
              "#fdca26"
             ],
             [
              1,
              "#f0f921"
             ]
            ],
            "type": "surface"
           }
          ],
          "table": [
           {
            "cells": {
             "fill": {
              "color": "#EBF0F8"
             },
             "line": {
              "color": "white"
             }
            },
            "header": {
             "fill": {
              "color": "#C8D4E3"
             },
             "line": {
              "color": "white"
             }
            },
            "type": "table"
           }
          ]
         },
         "layout": {
          "annotationdefaults": {
           "arrowcolor": "#2a3f5f",
           "arrowhead": 0,
           "arrowwidth": 1
          },
          "autotypenumbers": "strict",
          "coloraxis": {
           "colorbar": {
            "outlinewidth": 0,
            "ticks": ""
           }
          },
          "colorscale": {
           "diverging": [
            [
             0,
             "#8e0152"
            ],
            [
             0.1,
             "#c51b7d"
            ],
            [
             0.2,
             "#de77ae"
            ],
            [
             0.3,
             "#f1b6da"
            ],
            [
             0.4,
             "#fde0ef"
            ],
            [
             0.5,
             "#f7f7f7"
            ],
            [
             0.6,
             "#e6f5d0"
            ],
            [
             0.7,
             "#b8e186"
            ],
            [
             0.8,
             "#7fbc41"
            ],
            [
             0.9,
             "#4d9221"
            ],
            [
             1,
             "#276419"
            ]
           ],
           "sequential": [
            [
             0,
             "#0d0887"
            ],
            [
             0.1111111111111111,
             "#46039f"
            ],
            [
             0.2222222222222222,
             "#7201a8"
            ],
            [
             0.3333333333333333,
             "#9c179e"
            ],
            [
             0.4444444444444444,
             "#bd3786"
            ],
            [
             0.5555555555555556,
             "#d8576b"
            ],
            [
             0.6666666666666666,
             "#ed7953"
            ],
            [
             0.7777777777777778,
             "#fb9f3a"
            ],
            [
             0.8888888888888888,
             "#fdca26"
            ],
            [
             1,
             "#f0f921"
            ]
           ],
           "sequentialminus": [
            [
             0,
             "#0d0887"
            ],
            [
             0.1111111111111111,
             "#46039f"
            ],
            [
             0.2222222222222222,
             "#7201a8"
            ],
            [
             0.3333333333333333,
             "#9c179e"
            ],
            [
             0.4444444444444444,
             "#bd3786"
            ],
            [
             0.5555555555555556,
             "#d8576b"
            ],
            [
             0.6666666666666666,
             "#ed7953"
            ],
            [
             0.7777777777777778,
             "#fb9f3a"
            ],
            [
             0.8888888888888888,
             "#fdca26"
            ],
            [
             1,
             "#f0f921"
            ]
           ]
          },
          "colorway": [
           "#636efa",
           "#EF553B",
           "#00cc96",
           "#ab63fa",
           "#FFA15A",
           "#19d3f3",
           "#FF6692",
           "#B6E880",
           "#FF97FF",
           "#FECB52"
          ],
          "font": {
           "color": "#2a3f5f"
          },
          "geo": {
           "bgcolor": "white",
           "lakecolor": "white",
           "landcolor": "#E5ECF6",
           "showlakes": true,
           "showland": true,
           "subunitcolor": "white"
          },
          "hoverlabel": {
           "align": "left"
          },
          "hovermode": "closest",
          "mapbox": {
           "style": "light"
          },
          "paper_bgcolor": "white",
          "plot_bgcolor": "#E5ECF6",
          "polar": {
           "angularaxis": {
            "gridcolor": "white",
            "linecolor": "white",
            "ticks": ""
           },
           "bgcolor": "#E5ECF6",
           "radialaxis": {
            "gridcolor": "white",
            "linecolor": "white",
            "ticks": ""
           }
          },
          "scene": {
           "xaxis": {
            "backgroundcolor": "#E5ECF6",
            "gridcolor": "white",
            "gridwidth": 2,
            "linecolor": "white",
            "showbackground": true,
            "ticks": "",
            "zerolinecolor": "white"
           },
           "yaxis": {
            "backgroundcolor": "#E5ECF6",
            "gridcolor": "white",
            "gridwidth": 2,
            "linecolor": "white",
            "showbackground": true,
            "ticks": "",
            "zerolinecolor": "white"
           },
           "zaxis": {
            "backgroundcolor": "#E5ECF6",
            "gridcolor": "white",
            "gridwidth": 2,
            "linecolor": "white",
            "showbackground": true,
            "ticks": "",
            "zerolinecolor": "white"
           }
          },
          "shapedefaults": {
           "line": {
            "color": "#2a3f5f"
           }
          },
          "ternary": {
           "aaxis": {
            "gridcolor": "white",
            "linecolor": "white",
            "ticks": ""
           },
           "baxis": {
            "gridcolor": "white",
            "linecolor": "white",
            "ticks": ""
           },
           "bgcolor": "#E5ECF6",
           "caxis": {
            "gridcolor": "white",
            "linecolor": "white",
            "ticks": ""
           }
          },
          "title": {
           "x": 0.05
          },
          "xaxis": {
           "automargin": true,
           "gridcolor": "white",
           "linecolor": "white",
           "ticks": "",
           "title": {
            "standoff": 15
           },
           "zerolinecolor": "white",
           "zerolinewidth": 2
          },
          "yaxis": {
           "automargin": true,
           "gridcolor": "white",
           "linecolor": "white",
           "ticks": "",
           "title": {
            "standoff": 15
           },
           "zerolinecolor": "white",
           "zerolinewidth": 2
          }
         }
        },
        "title": {
         "text": "Clusters de fournisseurs par K-Means (k=4)"
        },
        "xaxis": {
         "anchor": "y",
         "domain": [
          0,
          1
         ],
         "title": {
          "text": "Fiabilité"
         }
        },
        "yaxis": {
         "anchor": "x",
         "domain": [
          0,
          1
         ],
         "title": {
          "text": "Délai Observé Moyen (j)"
         }
        }
       }
      }
     },
     "metadata": {},
     "output_type": "display_data"
    },
    {
     "name": "stdout",
     "output_type": "stream",
     "text": [
      "\n",
      "Script de classification K-Means et visualisation Plotly terminé.\n"
     ]
    }
   ],
   "source": [
    "\n",
    "supplier_feature['cluster_kmeans'] = supplier_feature['cluster_kmeans'].astype('category')\n",
    "\n",
    "print(\"\\nCréation du graphique interactif Plotly pour les clusters K-Means...\")\n",
    "fig_kmeans_plotly = px.scatter(\n",
    "    supplier_feature,\n",
    "    x='fiabilite',  # Axe X\n",
    "    y='delai_livraison_observe_moyen',\n",
    "    color='cluster_kmeans',\n",
    "    size='nombre_achats',\n",
    "    hover_name='nom_fournisseur',\n",
    "    hover_data={\n",
    "        'fiabilite': ':.2f',\n",
    "        'delai_moyen_livraison_specifique': ':.1f',\n",
    "        'delai_livraison_observe_moyen': ':.1f',\n",
    "        'montant_moyen_par_achat': ':,.0f',\n",
    "        'nombre_achats': True,\n",
    "        'cluster_kmeans': True, \n",
    "        'ville': True,\n",
    "        'pays': True\n",
    "    },\n",
    "    title=f'Clusters de fournisseurs par K-Means (k={optimal_k})',\n",
    "    labels={\n",
    "        'fiabilite': 'Fiabilité',\n",
    "        'delai_livraison_observe_moyen': 'Délai Observé Moyen (j)',\n",
    "        'nombre_achats': 'Nb Achats',\n",
    "        'cluster_kmeans': 'Cluster'\n",
    "    },\n",
    "    color_discrete_sequence=px.colors.qualitative.Vivid # Autre palette de couleurs\n",
    ")\n",
    "\n",
    "fig_kmeans_plotly.update_layout(\n",
    "    legend_title_text='Cluster K-Means'\n",
    ")\n",
    "fig_kmeans_plotly.update_traces(marker=dict(sizemin=5))\n",
    "fig_kmeans_plotly.show()\n",
    "\n",
    "print(\"\\nScript de classification K-Means et visualisation Plotly terminé.\")"
   ]
  }
 ],
 "metadata": {
  "kernelspec": {
   "display_name": "Python 3",
   "language": "python",
   "name": "python3"
  },
  "language_info": {
   "codemirror_mode": {
    "name": "ipython",
    "version": 3
   },
   "file_extension": ".py",
   "mimetype": "text/x-python",
   "name": "python",
   "nbconvert_exporter": "python",
   "pygments_lexer": "ipython3",
   "version": "3.10.12"
  }
 },
 "nbformat": 4,
 "nbformat_minor": 5
}
