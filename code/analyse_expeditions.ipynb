{
 "cells": [
  {
   "cell_type": "code",
   "execution_count": 8,
   "id": "cc473425",
   "metadata": {},
   "outputs": [
    {
     "name": "stdout",
     "output_type": "stream",
     "text": [
      "Stocks:\n",
      "          date id_produit entrepot  niveau_stock\n",
      "0  01/06/2024     P00001     Lyon            88\n",
      "1  22/04/2024     P00001    Paris           141\n",
      "2  25/09/2024     P00002     Lyon           286\n",
      "3  18/02/2024     P00003    Paris           177\n",
      "4  13/07/2024     P00003     Lyon            95 \n",
      "\n",
      "Expéditions:\n",
      "   id_expedition id_commande id_produit  quantité   entrepôt date_expedition  \\\n",
      "0     SHP000001     O000001     P00413         2  Marseille      2024-09-09   \n",
      "1     SHP000002     O000002     P00778        15       Lyon      2024-11-16   \n",
      "2     SHP000003     O000004     P00535         8       Lyon      2024-11-06   \n",
      "3     SHP000004     O000006     P00898         3      Paris      2024-01-26   \n",
      "4     SHP000005     O000007     P00445         1       Lyon      2024-02-18   \n",
      "\n",
      "  date_livraison transporteur  coût_transport  délai_livraison  \n",
      "0     2024-09-15          UPS           11.62                6  \n",
      "1     2024-11-23   Chronopost           13.61                7  \n",
      "2     2024-11-09        FedEx           19.32                3  \n",
      "3     2024-01-28          DHL           14.79                2  \n",
      "4     2024-02-21        FedEx           13.56                3   \n",
      "\n",
      "<class 'pandas.core.frame.DataFrame'>\n",
      "RangeIndex: 1706 entries, 0 to 1705\n",
      "Data columns (total 4 columns):\n",
      " #   Column        Non-Null Count  Dtype \n",
      "---  ------        --------------  ----- \n",
      " 0   date          1706 non-null   object\n",
      " 1   id_produit    1706 non-null   object\n",
      " 2   entrepot      1706 non-null   object\n",
      " 3   niveau_stock  1706 non-null   int64 \n",
      "dtypes: int64(1), object(3)\n",
      "memory usage: 53.4+ KB\n",
      "None\n",
      "<class 'pandas.core.frame.DataFrame'>\n",
      "RangeIndex: 42404 entries, 0 to 42403\n",
      "Data columns (total 10 columns):\n",
      " #   Column           Non-Null Count  Dtype  \n",
      "---  ------           --------------  -----  \n",
      " 0   id_expedition    42404 non-null  object \n",
      " 1   id_commande      42404 non-null  object \n",
      " 2   id_produit       42404 non-null  object \n",
      " 3   quantité         42404 non-null  int64  \n",
      " 4   entrepôt         42404 non-null  object \n",
      " 5   date_expedition  42404 non-null  object \n",
      " 6   date_livraison   42404 non-null  object \n",
      " 7   transporteur     42404 non-null  object \n",
      " 8   coût_transport   42404 non-null  float64\n",
      " 9   délai_livraison  42404 non-null  int64  \n",
      "dtypes: float64(1), int64(2), object(7)\n",
      "memory usage: 3.2+ MB\n",
      "None\n"
     ]
    }
   ],
   "source": [
    "import pandas as pd\n",
    "import numpy as np\n",
    "\n",
    "# 1. Chargement des fichiers\n",
    "stocks_df = pd.read_csv('../base/stocksV2.csv', sep=';')\n",
    "exped_df = pd.read_csv('../base/expeditionsV2.csv', sep=';')\n",
    "\n",
    "# 2. Aperçu des données\n",
    "print(\"Stocks:\\n\", stocks_df.head(), \"\\n\")\n",
    "print(\"Expéditions:\\n\", exped_df.head(), \"\\n\")\n",
    "\n",
    "# 3. Infos et types\n",
    "print(stocks_df.info())\n",
    "print(exped_df.info())\n",
    "\n"
   ]
  },
  {
   "cell_type": "code",
   "execution_count": 9,
   "id": "87285516",
   "metadata": {},
   "outputs": [
    {
     "name": "stdout",
     "output_type": "stream",
     "text": [
      "Valeurs manquantes dans stocks :\n",
      " date            0\n",
      "id_produit      0\n",
      "entrepot        0\n",
      "niveau_stock    0\n",
      "dtype: int64\n",
      "Valeurs manquantes dans expéditions :\n",
      " id_expedition      0\n",
      "id_commande        0\n",
      "id_produit         0\n",
      "quantité           0\n",
      "entrepôt           0\n",
      "date_expedition    0\n",
      "date_livraison     0\n",
      "transporteur       0\n",
      "coût_transport     0\n",
      "délai_livraison    0\n",
      "dtype: int64\n"
     ]
    }
   ],
   "source": [
    "\n",
    "# 4. Valeurs manquantes\n",
    "print(\"Valeurs manquantes dans stocks :\\n\", stocks_df.isnull().sum())\n",
    "print(\"Valeurs manquantes dans expéditions :\\n\", exped_df.isnull().sum())\n"
   ]
  },
  {
   "cell_type": "code",
   "execution_count": 10,
   "id": "6701901a",
   "metadata": {},
   "outputs": [],
   "source": [
    "\n",
    "exped_df['date_expedition'] = pd.to_datetime(exped_df['date_expedition'], errors='coerce')\n",
    "exped_df['date_livraison']=pd.to_datetime(exped_df['date_livraison'],errors='coerce')\n",
    "stocks_df['date']=pd.to_datetime(stocks_df['date'],errors='coerce')\n",
    "# 5. Doublons\n",
    "stocks_df.drop_duplicates(inplace=True)\n",
    "exped_df.drop_duplicates(inplace=True)\n"
   ]
  },
  {
   "cell_type": "code",
   "execution_count": 11,
   "id": "658cb7b3",
   "metadata": {},
   "outputs": [
    {
     "name": "stdout",
     "output_type": "stream",
     "text": [
      "<class 'pandas.core.frame.DataFrame'>\n",
      "RangeIndex: 1706 entries, 0 to 1705\n",
      "Data columns (total 4 columns):\n",
      " #   Column        Non-Null Count  Dtype         \n",
      "---  ------        --------------  -----         \n",
      " 0   date          664 non-null    datetime64[ns]\n",
      " 1   id_produit    1706 non-null   object        \n",
      " 2   entrepot      1706 non-null   object        \n",
      " 3   niveau_stock  1706 non-null   int64         \n",
      "dtypes: datetime64[ns](1), int64(1), object(2)\n",
      "memory usage: 53.4+ KB\n",
      "<class 'pandas.core.frame.DataFrame'>\n",
      "RangeIndex: 42404 entries, 0 to 42403\n",
      "Data columns (total 10 columns):\n",
      " #   Column           Non-Null Count  Dtype         \n",
      "---  ------           --------------  -----         \n",
      " 0   id_expedition    42404 non-null  object        \n",
      " 1   id_commande      42404 non-null  object        \n",
      " 2   id_produit       42404 non-null  object        \n",
      " 3   quantité         42404 non-null  int64         \n",
      " 4   entrepôt         42404 non-null  object        \n",
      " 5   date_expedition  42404 non-null  datetime64[ns]\n",
      " 6   date_livraison   42404 non-null  datetime64[ns]\n",
      " 7   transporteur     42404 non-null  object        \n",
      " 8   coût_transport   42404 non-null  float64       \n",
      " 9   délai_livraison  42404 non-null  int64         \n",
      "dtypes: datetime64[ns](2), float64(1), int64(2), object(5)\n",
      "memory usage: 3.2+ MB\n"
     ]
    },
    {
     "data": {
      "text/plain": [
       "(None, None)"
      ]
     },
     "execution_count": 11,
     "metadata": {},
     "output_type": "execute_result"
    }
   ],
   "source": [
    "stocks_df.info(),exped_df.info()"
   ]
  },
  {
   "cell_type": "code",
   "execution_count": null,
   "id": "a2175de7",
   "metadata": {},
   "outputs": [],
   "source": [
    "\n",
    "# 6. Valeurs aberrantes (z-score simple sur les colonnes numériques)\n",
    "from scipy.stats import zscore\n",
    "\n",
    "for col in ['niveau_stock', 'quantité', 'coût_transport','delai_livraison']:\n",
    "    if col in stocks_df.columns:\n",
    "        stocks_df = stocks_df[(np.abs(zscore(stocks_df[col])) < 3)]\n",
    "    if col in exped_df.columns:\n",
    "        exped_df = exped_df[(np.abs(zscore(exped_df[col])) < 3)]\n"
   ]
  },
  {
   "cell_type": "code",
   "execution_count": 13,
   "id": "0fb41d1f",
   "metadata": {},
   "outputs": [],
   "source": [
    "\n",
    "# 8. Fusion possible si nécessaire par id_produit\n",
    "merged_df = pd.merge(stocks_df, exped_df, on='id_produit', how='left')\n"
   ]
  },
  {
   "cell_type": "code",
   "execution_count": null,
   "id": "88ccc97d",
   "metadata": {},
   "outputs": [],
   "source": []
  }
 ],
 "metadata": {
  "kernelspec": {
   "display_name": "Python 3",
   "language": "python",
   "name": "python3"
  },
  "language_info": {
   "codemirror_mode": {
    "name": "ipython",
    "version": 3
   },
   "file_extension": ".py",
   "mimetype": "text/x-python",
   "name": "python",
   "nbconvert_exporter": "python",
   "pygments_lexer": "ipython3",
   "version": "3.12.8"
  }
 },
 "nbformat": 4,
 "nbformat_minor": 5
}
