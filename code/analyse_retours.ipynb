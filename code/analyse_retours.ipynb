{
 "cells": [
  {
   "cell_type": "code",
   "execution_count": 3,
   "id": "831d7d24",
   "metadata": {},
   "outputs": [
    {
     "name": "stdout",
     "output_type": "stream",
     "text": [
      "Retours Data:\n",
      "  id_commande id_produit  quantité   entrepôt date_retour  \\\n",
      "0     O043330     P00360         2      Paris  2024-06-26   \n",
      "1     O031373     P00739         4  Marseille  2024-09-01   \n",
      "2     O028206     P00144         8  Marseille  2024-04-20   \n",
      "3     O004999     P00765         5       Lyon  2024-12-29   \n",
      "4     O019607     P00127         2       Lyon  2024-07-05   \n",
      "\n",
      "                       motif  \n",
      "0            Mauvais article  \n",
      "1                  Endommagé  \n",
      "2  Le client a changé d'avis  \n",
      "3           Pas comme décrit  \n",
      "4                  Endommagé  \n",
      "\n",
      "Shape: (2987, 6)\n",
      "\n",
      "Info:\n",
      "<class 'pandas.core.frame.DataFrame'>\n",
      "RangeIndex: 2987 entries, 0 to 2986\n",
      "Data columns (total 6 columns):\n",
      " #   Column       Non-Null Count  Dtype         \n",
      "---  ------       --------------  -----         \n",
      " 0   id_commande  2987 non-null   object        \n",
      " 1   id_produit   2987 non-null   object        \n",
      " 2   quantité     2987 non-null   int64         \n",
      " 3   entrepôt     2987 non-null   object        \n",
      " 4   date_retour  2987 non-null   datetime64[ns]\n",
      " 5   motif        2987 non-null   object        \n",
      "dtypes: datetime64[ns](1), int64(1), object(4)\n",
      "memory usage: 140.1+ KB\n",
      "\n",
      "Null values:\n",
      "id_commande    0\n",
      "id_produit     0\n",
      "quantité       0\n",
      "entrepôt       0\n",
      "date_retour    0\n",
      "motif          0\n",
      "dtype: int64\n",
      "\n",
      "Duplicates: 0\n",
      "\n",
      "Unique entrepôts: ['Paris' 'Marseille' 'Lyon']\n",
      "Unique motifs: ['Mauvais article' 'Endommagé' \"Le client a changé d'avis\"\n",
      " 'Pas comme décrit']\n"
     ]
    },
    {
     "name": "stderr",
     "output_type": "stream",
     "text": [
      "C:\\Users\\Djo\\AppData\\Local\\Temp\\ipykernel_4588\\3420962515.py:4: UserWarning: Parsing dates in %d/%m/%Y format when dayfirst=False (the default) was specified. Pass `dayfirst=True` or specify a format to silence this warning.\n",
      "  retours = pd.read_csv(\"../base/retours.csv\", sep=';',encoding='latin1', parse_dates=['date_retour'])\n"
     ]
    }
   ],
   "source": [
    "import pandas as pd\n",
    "\n",
    "# Load the retours.csv file\n",
    "retours = pd.read_csv(\"../base/retours.csv\", sep=';',encoding='latin1', parse_dates=['date_retour'])\n",
    "\n",
    "# Basic exploration of retours\n",
    "print(\"Retours Data:\")\n",
    "print(retours.head())\n",
    "print(\"\\nShape:\", retours.shape)\n",
    "print(\"\\nInfo:\")\n",
    "retours.info()\n",
    "print(\"\\nNull values:\")\n",
    "print(retours.isnull().sum())\n",
    "print(\"\\nDuplicates:\", retours.duplicated().sum())\n",
    "\n",
    "# Check unique values\n",
    "print(\"\\nUnique entrepôts:\", retours['entrepôt'].unique())\n",
    "print(\"Unique motifs:\", retours['motif'].unique())\n"
   ]
  },
  {
   "cell_type": "code",
   "execution_count": null,
   "id": "708d0c6e",
   "metadata": {},
   "outputs": [],
   "source": []
  }
 ],
 "metadata": {
  "kernelspec": {
   "display_name": "Python 3",
   "language": "python",
   "name": "python3"
  },
  "language_info": {
   "codemirror_mode": {
    "name": "ipython",
    "version": 3
   },
   "file_extension": ".py",
   "mimetype": "text/x-python",
   "name": "python",
   "nbconvert_exporter": "python",
   "pygments_lexer": "ipython3",
   "version": "3.12.8"
  }
 },
 "nbformat": 4,
 "nbformat_minor": 5
}
