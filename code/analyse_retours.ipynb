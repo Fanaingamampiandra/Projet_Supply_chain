{
 "cells": [
  {
   "cell_type": "code",
   "execution_count": null,
   "id": "831d7d24",
   "metadata": {},
   "outputs": [
    {
     "name": "stderr",
     "output_type": "stream",
     "text": [
      "C:\\Users\\Djo\\AppData\\Local\\Temp\\ipykernel_4588\\1451491952.py:4: UserWarning: Parsing dates in %d/%m/%Y format when dayfirst=False (the default) was specified. Pass `dayfirst=True` or specify a format to silence this warning.\n",
      "  retours = pd.read_csv(\"../base/retours.csv\", sep=';',encoding='latin1', parse_dates=['date_retour'])\n"
     ]
    }
   ],
   "source": [
    "import pandas as pd\n",
    "\n",
    "# Load the retours.csv file\n",
    "retours = pd.read_csv(\"../base/retoursV2.csv\", sep=';',encoding='latin1', parse_dates=['date_retour'])\n"
   ]
  },
  {
   "cell_type": "code",
   "execution_count": 8,
   "id": "708d0c6e",
   "metadata": {},
   "outputs": [
    {
     "name": "stdout",
     "output_type": "stream",
     "text": [
      "Retours Data:\n"
     ]
    },
    {
     "data": {
      "application/vnd.microsoft.datawrangler.viewer.v0+json": {
       "columns": [
        {
         "name": "index",
         "rawType": "int64",
         "type": "integer"
        },
        {
         "name": "id_commande",
         "rawType": "object",
         "type": "string"
        },
        {
         "name": "id_produit",
         "rawType": "object",
         "type": "string"
        },
        {
         "name": "quantité",
         "rawType": "int64",
         "type": "integer"
        },
        {
         "name": "entrepôt",
         "rawType": "object",
         "type": "string"
        },
        {
         "name": "date_retour",
         "rawType": "datetime64[ns]",
         "type": "datetime"
        },
        {
         "name": "motif",
         "rawType": "object",
         "type": "string"
        }
       ],
       "conversionMethod": "pd.DataFrame",
       "ref": "87a270c9-2dba-4d99-b83b-70417450b96a",
       "rows": [
        [
         "0",
         "O043330",
         "P00360",
         "2",
         "Paris",
         "2024-06-26 00:00:00",
         "Mauvais article"
        ],
        [
         "1",
         "O031373",
         "P00739",
         "4",
         "Marseille",
         "2024-09-01 00:00:00",
         "Endommagé"
        ],
        [
         "2",
         "O028206",
         "P00144",
         "8",
         "Marseille",
         "2024-04-20 00:00:00",
         "Le client a changé d'avis"
        ],
        [
         "3",
         "O004999",
         "P00765",
         "5",
         "Lyon",
         "2024-12-29 00:00:00",
         "Pas comme décrit"
        ],
        [
         "4",
         "O019607",
         "P00127",
         "2",
         "Lyon",
         "2024-07-05 00:00:00",
         "Endommagé"
        ]
       ],
       "shape": {
        "columns": 6,
        "rows": 5
       }
      },
      "text/html": [
       "<div>\n",
       "<style scoped>\n",
       "    .dataframe tbody tr th:only-of-type {\n",
       "        vertical-align: middle;\n",
       "    }\n",
       "\n",
       "    .dataframe tbody tr th {\n",
       "        vertical-align: top;\n",
       "    }\n",
       "\n",
       "    .dataframe thead th {\n",
       "        text-align: right;\n",
       "    }\n",
       "</style>\n",
       "<table border=\"1\" class=\"dataframe\">\n",
       "  <thead>\n",
       "    <tr style=\"text-align: right;\">\n",
       "      <th></th>\n",
       "      <th>id_commande</th>\n",
       "      <th>id_produit</th>\n",
       "      <th>quantité</th>\n",
       "      <th>entrepôt</th>\n",
       "      <th>date_retour</th>\n",
       "      <th>motif</th>\n",
       "    </tr>\n",
       "  </thead>\n",
       "  <tbody>\n",
       "    <tr>\n",
       "      <th>0</th>\n",
       "      <td>O043330</td>\n",
       "      <td>P00360</td>\n",
       "      <td>2</td>\n",
       "      <td>Paris</td>\n",
       "      <td>2024-06-26</td>\n",
       "      <td>Mauvais article</td>\n",
       "    </tr>\n",
       "    <tr>\n",
       "      <th>1</th>\n",
       "      <td>O031373</td>\n",
       "      <td>P00739</td>\n",
       "      <td>4</td>\n",
       "      <td>Marseille</td>\n",
       "      <td>2024-09-01</td>\n",
       "      <td>Endommagé</td>\n",
       "    </tr>\n",
       "    <tr>\n",
       "      <th>2</th>\n",
       "      <td>O028206</td>\n",
       "      <td>P00144</td>\n",
       "      <td>8</td>\n",
       "      <td>Marseille</td>\n",
       "      <td>2024-04-20</td>\n",
       "      <td>Le client a changé d'avis</td>\n",
       "    </tr>\n",
       "    <tr>\n",
       "      <th>3</th>\n",
       "      <td>O004999</td>\n",
       "      <td>P00765</td>\n",
       "      <td>5</td>\n",
       "      <td>Lyon</td>\n",
       "      <td>2024-12-29</td>\n",
       "      <td>Pas comme décrit</td>\n",
       "    </tr>\n",
       "    <tr>\n",
       "      <th>4</th>\n",
       "      <td>O019607</td>\n",
       "      <td>P00127</td>\n",
       "      <td>2</td>\n",
       "      <td>Lyon</td>\n",
       "      <td>2024-07-05</td>\n",
       "      <td>Endommagé</td>\n",
       "    </tr>\n",
       "  </tbody>\n",
       "</table>\n",
       "</div>"
      ],
      "text/plain": [
       "  id_commande id_produit  quantité   entrepôt date_retour  \\\n",
       "0     O043330     P00360         2      Paris  2024-06-26   \n",
       "1     O031373     P00739         4  Marseille  2024-09-01   \n",
       "2     O028206     P00144         8  Marseille  2024-04-20   \n",
       "3     O004999     P00765         5       Lyon  2024-12-29   \n",
       "4     O019607     P00127         2       Lyon  2024-07-05   \n",
       "\n",
       "                       motif  \n",
       "0            Mauvais article  \n",
       "1                  Endommagé  \n",
       "2  Le client a changé d'avis  \n",
       "3           Pas comme décrit  \n",
       "4                  Endommagé  "
      ]
     },
     "execution_count": 8,
     "metadata": {},
     "output_type": "execute_result"
    }
   ],
   "source": [
    "\n",
    "# Basic exploration of retours\n",
    "print(\"Retours Data:\")\n",
    "retours.head()"
   ]
  },
  {
   "cell_type": "code",
   "execution_count": 9,
   "id": "fd6f630b",
   "metadata": {},
   "outputs": [
    {
     "name": "stdout",
     "output_type": "stream",
     "text": [
      "\n",
      "Shape: (2987, 6)\n"
     ]
    }
   ],
   "source": [
    "print(\"\\nShape:\", retours.shape)\n"
   ]
  },
  {
   "cell_type": "code",
   "execution_count": 10,
   "id": "25f4eaca",
   "metadata": {},
   "outputs": [
    {
     "name": "stdout",
     "output_type": "stream",
     "text": [
      "\n",
      "Info:\n",
      "<class 'pandas.core.frame.DataFrame'>\n",
      "RangeIndex: 2987 entries, 0 to 2986\n",
      "Data columns (total 6 columns):\n",
      " #   Column       Non-Null Count  Dtype         \n",
      "---  ------       --------------  -----         \n",
      " 0   id_commande  2987 non-null   object        \n",
      " 1   id_produit   2987 non-null   object        \n",
      " 2   quantité     2987 non-null   int64         \n",
      " 3   entrepôt     2987 non-null   object        \n",
      " 4   date_retour  2987 non-null   datetime64[ns]\n",
      " 5   motif        2987 non-null   object        \n",
      "dtypes: datetime64[ns](1), int64(1), object(4)\n",
      "memory usage: 140.1+ KB\n"
     ]
    }
   ],
   "source": [
    "print(\"\\nInfo:\")\n",
    "retours.info()"
   ]
  },
  {
   "cell_type": "code",
   "execution_count": null,
   "id": "69636a7b",
   "metadata": {},
   "outputs": [],
   "source": []
  }
 ],
 "metadata": {
  "kernelspec": {
   "display_name": "Python 3",
   "language": "python",
   "name": "python3"
  },
  "language_info": {
   "codemirror_mode": {
    "name": "ipython",
    "version": 3
   },
   "file_extension": ".py",
   "mimetype": "text/x-python",
   "name": "python",
   "nbconvert_exporter": "python",
   "pygments_lexer": "ipython3",
   "version": "3.12.8"
  }
 },
 "nbformat": 4,
 "nbformat_minor": 5
}
