{
 "cells": [
  {
   "cell_type": "code",
   "execution_count": 1,
   "id": "06019860",
   "metadata": {},
   "outputs": [],
   "source": [
    "import pandas as pd\n",
    "import numpy as np\n",
    "import matplotlib.pyplot as plt\n",
    "import seaborn as sns\n"
   ]
  },
  {
   "cell_type": "code",
   "execution_count": 2,
   "id": "e1d8e54d",
   "metadata": {},
   "outputs": [],
   "source": [
    "stocks=pd.read_csv(\"../base/stocksV2.csv\", sep=';',parse_dates=['date'], dayfirst=True)\n",
    "stocks['date'] = pd.to_datetime(stocks['date'], format='%d/%m/%Y')\n"
   ]
  },
  {
   "cell_type": "code",
   "execution_count": 3,
   "id": "1145a08d",
   "metadata": {},
   "outputs": [
    {
     "data": {
      "application/vnd.microsoft.datawrangler.viewer.v0+json": {
       "columns": [
        {
         "name": "index",
         "rawType": "int64",
         "type": "integer"
        },
        {
         "name": "date",
         "rawType": "datetime64[ns]",
         "type": "datetime"
        },
        {
         "name": "id_produit",
         "rawType": "object",
         "type": "string"
        },
        {
         "name": "entrepot",
         "rawType": "object",
         "type": "string"
        },
        {
         "name": "niveau_stock",
         "rawType": "int64",
         "type": "integer"
        }
       ],
       "conversionMethod": "pd.DataFrame",
       "ref": "c9eb6706-eb5b-4534-9d08-15f7b1a47c5f",
       "rows": [
        [
         "0",
         "2024-06-01 00:00:00",
         "P00001",
         "Lyon",
         "88"
        ],
        [
         "1",
         "2024-04-22 00:00:00",
         "P00001",
         "Paris",
         "141"
        ],
        [
         "2",
         "2024-09-25 00:00:00",
         "P00002",
         "Lyon",
         "286"
        ],
        [
         "3",
         "2024-02-18 00:00:00",
         "P00003",
         "Paris",
         "177"
        ],
        [
         "4",
         "2024-07-13 00:00:00",
         "P00003",
         "Lyon",
         "95"
        ]
       ],
       "shape": {
        "columns": 4,
        "rows": 5
       }
      },
      "text/html": [
       "<div>\n",
       "<style scoped>\n",
       "    .dataframe tbody tr th:only-of-type {\n",
       "        vertical-align: middle;\n",
       "    }\n",
       "\n",
       "    .dataframe tbody tr th {\n",
       "        vertical-align: top;\n",
       "    }\n",
       "\n",
       "    .dataframe thead th {\n",
       "        text-align: right;\n",
       "    }\n",
       "</style>\n",
       "<table border=\"1\" class=\"dataframe\">\n",
       "  <thead>\n",
       "    <tr style=\"text-align: right;\">\n",
       "      <th></th>\n",
       "      <th>date</th>\n",
       "      <th>id_produit</th>\n",
       "      <th>entrepot</th>\n",
       "      <th>niveau_stock</th>\n",
       "    </tr>\n",
       "  </thead>\n",
       "  <tbody>\n",
       "    <tr>\n",
       "      <th>0</th>\n",
       "      <td>2024-06-01</td>\n",
       "      <td>P00001</td>\n",
       "      <td>Lyon</td>\n",
       "      <td>88</td>\n",
       "    </tr>\n",
       "    <tr>\n",
       "      <th>1</th>\n",
       "      <td>2024-04-22</td>\n",
       "      <td>P00001</td>\n",
       "      <td>Paris</td>\n",
       "      <td>141</td>\n",
       "    </tr>\n",
       "    <tr>\n",
       "      <th>2</th>\n",
       "      <td>2024-09-25</td>\n",
       "      <td>P00002</td>\n",
       "      <td>Lyon</td>\n",
       "      <td>286</td>\n",
       "    </tr>\n",
       "    <tr>\n",
       "      <th>3</th>\n",
       "      <td>2024-02-18</td>\n",
       "      <td>P00003</td>\n",
       "      <td>Paris</td>\n",
       "      <td>177</td>\n",
       "    </tr>\n",
       "    <tr>\n",
       "      <th>4</th>\n",
       "      <td>2024-07-13</td>\n",
       "      <td>P00003</td>\n",
       "      <td>Lyon</td>\n",
       "      <td>95</td>\n",
       "    </tr>\n",
       "  </tbody>\n",
       "</table>\n",
       "</div>"
      ],
      "text/plain": [
       "        date id_produit entrepot  niveau_stock\n",
       "0 2024-06-01     P00001     Lyon            88\n",
       "1 2024-04-22     P00001    Paris           141\n",
       "2 2024-09-25     P00002     Lyon           286\n",
       "3 2024-02-18     P00003    Paris           177\n",
       "4 2024-07-13     P00003     Lyon            95"
      ]
     },
     "execution_count": 3,
     "metadata": {},
     "output_type": "execute_result"
    }
   ],
   "source": [
    "stocks.head()"
   ]
  },
  {
   "cell_type": "code",
   "execution_count": 4,
   "id": "4e0c17c1",
   "metadata": {},
   "outputs": [
    {
     "name": "stdout",
     "output_type": "stream",
     "text": [
      "<class 'pandas.core.frame.DataFrame'>\n",
      "RangeIndex: 1706 entries, 0 to 1705\n",
      "Data columns (total 4 columns):\n",
      " #   Column        Non-Null Count  Dtype         \n",
      "---  ------        --------------  -----         \n",
      " 0   date          1706 non-null   datetime64[ns]\n",
      " 1   id_produit    1706 non-null   object        \n",
      " 2   entrepot      1706 non-null   object        \n",
      " 3   niveau_stock  1706 non-null   int64         \n",
      "dtypes: datetime64[ns](1), int64(1), object(2)\n",
      "memory usage: 53.4+ KB\n"
     ]
    },
    {
     "data": {
      "text/plain": [
       "((1706, 4), None)"
      ]
     },
     "execution_count": 4,
     "metadata": {},
     "output_type": "execute_result"
    }
   ],
   "source": [
    "stocks.shape,stocks.info()"
   ]
  },
  {
   "cell_type": "code",
   "execution_count": 5,
   "id": "9661f78e",
   "metadata": {},
   "outputs": [
    {
     "name": "stdout",
     "output_type": "stream",
     "text": [
      "<class 'pandas.core.frame.DataFrame'>\n",
      "RangeIndex: 1706 entries, 0 to 1705\n",
      "Data columns (total 4 columns):\n",
      " #   Column        Non-Null Count  Dtype         \n",
      "---  ------        --------------  -----         \n",
      " 0   date          1706 non-null   datetime64[ns]\n",
      " 1   id_produit    1706 non-null   object        \n",
      " 2   entrepot      1706 non-null   object        \n",
      " 3   niveau_stock  1706 non-null   int64         \n",
      "dtypes: datetime64[ns](1), int64(1), object(2)\n",
      "memory usage: 53.4+ KB\n"
     ]
    }
   ],
   "source": [
    "stocks.info()"
   ]
  },
  {
   "cell_type": "code",
   "execution_count": 6,
   "id": "c98d232f",
   "metadata": {},
   "outputs": [
    {
     "data": {
      "text/plain": [
       "date            0\n",
       "id_produit      0\n",
       "entrepot        0\n",
       "niveau_stock    0\n",
       "dtype: int64"
      ]
     },
     "execution_count": 6,
     "metadata": {},
     "output_type": "execute_result"
    }
   ],
   "source": [
    "stocks.isnull().sum()"
   ]
  },
  {
   "cell_type": "code",
   "execution_count": 7,
   "id": "f62a3c12",
   "metadata": {},
   "outputs": [
    {
     "name": "stdout",
     "output_type": "stream",
     "text": [
      "Number of duplicates: 0\n"
     ]
    }
   ],
   "source": [
    "# Check for duplicates\n",
    "duplicates = stocks.duplicated()\n",
    "print(\"Number of duplicates:\", duplicates.sum())"
   ]
  },
  {
   "cell_type": "code",
   "execution_count": 9,
   "id": "802f80d1",
   "metadata": {},
   "outputs": [
    {
     "data": {
      "text/plain": [
       "array(['Lyon', 'Paris', 'Marseille'], dtype=object)"
      ]
     },
     "execution_count": 9,
     "metadata": {},
     "output_type": "execute_result"
    }
   ],
   "source": [
    "# Check for unique values in 'id_produit'\n",
    "stocks[\"entrepot\"].unique()"
   ]
  },
  {
   "cell_type": "markdown",
   "id": "7fe813a1",
   "metadata": {},
   "source": [
    "**Interprétation :**\n",
    "- la table **stocks** contient:\n",
    "    *  4 variables: *date, id_produit, entrepôt,niveau_stock*\n",
    "    * 30000 observations\n",
    "- Aucune donnée manquante dans la table.\n",
    "- **1000** produits différents dans la table.\n",
    "- **3** entrepôts qui se trouvent à Paris, Lyon et Marseille."
   ]
  },
  {
   "cell_type": "code",
   "execution_count": null,
   "id": "98a38724",
   "metadata": {},
   "outputs": [
    {
     "data": {
      "application/vnd.microsoft.datawrangler.viewer.v0+json": {
       "columns": [
        {
         "name": "index",
         "rawType": "int64",
         "type": "integer"
        },
        {
         "name": "date",
         "rawType": "datetime64[ns]",
         "type": "datetime"
        },
        {
         "name": "id_produit",
         "rawType": "object",
         "type": "string"
        },
        {
         "name": "entrepôt",
         "rawType": "object",
         "type": "string"
        },
        {
         "name": "niveau_stock",
         "rawType": "int64",
         "type": "integer"
        }
       ],
       "conversionMethod": "pd.DataFrame",
       "ref": "d6bbec3d-715e-4b42-a8c6-671374fdff92",
       "rows": [
        [
         "0",
         "2024-08-28 00:00:00",
         "P00569",
         "Lyon",
         "7"
        ],
        [
         "1",
         "2024-01-28 00:00:00",
         "P00492",
         "Lyon",
         "268"
        ],
        [
         "2",
         "2024-05-09 00:00:00",
         "P00263",
         "Lyon",
         "268"
        ],
        [
         "3",
         "2024-04-11 00:00:00",
         "P00381",
         "Marseille",
         "154"
        ],
        [
         "4",
         "2024-09-10 00:00:00",
         "P00053",
         "Marseille",
         "37"
        ]
       ],
       "shape": {
        "columns": 4,
        "rows": 5
       }
      },
      "text/html": [
       "<div>\n",
       "<style scoped>\n",
       "    .dataframe tbody tr th:only-of-type {\n",
       "        vertical-align: middle;\n",
       "    }\n",
       "\n",
       "    .dataframe tbody tr th {\n",
       "        vertical-align: top;\n",
       "    }\n",
       "\n",
       "    .dataframe thead th {\n",
       "        text-align: right;\n",
       "    }\n",
       "</style>\n",
       "<table border=\"1\" class=\"dataframe\">\n",
       "  <thead>\n",
       "    <tr style=\"text-align: right;\">\n",
       "      <th></th>\n",
       "      <th>date</th>\n",
       "      <th>id_produit</th>\n",
       "      <th>entrepôt</th>\n",
       "      <th>niveau_stock</th>\n",
       "    </tr>\n",
       "  </thead>\n",
       "  <tbody>\n",
       "    <tr>\n",
       "      <th>0</th>\n",
       "      <td>2024-08-28</td>\n",
       "      <td>P00569</td>\n",
       "      <td>Lyon</td>\n",
       "      <td>7</td>\n",
       "    </tr>\n",
       "    <tr>\n",
       "      <th>1</th>\n",
       "      <td>2024-01-28</td>\n",
       "      <td>P00492</td>\n",
       "      <td>Lyon</td>\n",
       "      <td>268</td>\n",
       "    </tr>\n",
       "    <tr>\n",
       "      <th>2</th>\n",
       "      <td>2024-05-09</td>\n",
       "      <td>P00263</td>\n",
       "      <td>Lyon</td>\n",
       "      <td>268</td>\n",
       "    </tr>\n",
       "    <tr>\n",
       "      <th>3</th>\n",
       "      <td>2024-04-11</td>\n",
       "      <td>P00381</td>\n",
       "      <td>Marseille</td>\n",
       "      <td>154</td>\n",
       "    </tr>\n",
       "    <tr>\n",
       "      <th>4</th>\n",
       "      <td>2024-09-10</td>\n",
       "      <td>P00053</td>\n",
       "      <td>Marseille</td>\n",
       "      <td>37</td>\n",
       "    </tr>\n",
       "  </tbody>\n",
       "</table>\n",
       "</div>"
      ],
      "text/plain": [
       "        date id_produit   entrepôt  niveau_stock\n",
       "0 2024-08-28     P00569       Lyon             7\n",
       "1 2024-01-28     P00492       Lyon           268\n",
       "2 2024-05-09     P00263       Lyon           268\n",
       "3 2024-04-11     P00381  Marseille           154\n",
       "4 2024-09-10     P00053  Marseille            37"
      ]
     },
     "execution_count": 10,
     "metadata": {},
     "output_type": "execute_result"
    }
   ],
   "source": [
    "stocks.head()"
   ]
  },
  {
   "cell_type": "code",
   "execution_count": null,
   "id": "d2fb4e57",
   "metadata": {},
   "outputs": [],
   "source": []
  },
  {
   "cell_type": "code",
   "execution_count": null,
   "id": "1aac6a64",
   "metadata": {},
   "outputs": [],
   "source": []
  },
  {
   "cell_type": "code",
   "execution_count": null,
   "id": "7f7d79b9",
   "metadata": {},
   "outputs": [],
   "source": []
  }
 ],
 "metadata": {
  "kernelspec": {
   "display_name": "Python 3",
   "language": "python",
   "name": "python3"
  },
  "language_info": {
   "codemirror_mode": {
    "name": "ipython",
    "version": 3
   },
   "file_extension": ".py",
   "mimetype": "text/x-python",
   "name": "python",
   "nbconvert_exporter": "python",
   "pygments_lexer": "ipython3",
   "version": "3.12.8"
  }
 },
 "nbformat": 4,
 "nbformat_minor": 5
}
