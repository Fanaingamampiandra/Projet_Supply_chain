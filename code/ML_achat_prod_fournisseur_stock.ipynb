{
 "cells": [
  {
   "cell_type": "markdown",
   "id": "e958859e",
   "metadata": {},
   "source": [
    "# Preprossessing & Machine Learning "
   ]
  },
  {
   "cell_type": "markdown",
   "id": "e7535f0a",
   "metadata": {},
   "source": [
    "achat_stock_prod_fourni"
   ]
  },
  {
   "cell_type": "code",
   "execution_count": 2,
   "id": "7091ef59",
   "metadata": {},
   "outputs": [],
   "source": [
    "import pandas as pd\n",
    "import numpy as np  \n"
   ]
  },
  {
   "cell_type": "code",
   "execution_count": 5,
   "id": "d29aae06",
   "metadata": {},
   "outputs": [],
   "source": [
    "#load data \n",
    "df=pd.read_csv('../stephanie/acaht_prod_fourn_stock.csv', sep=';') #upload from stephanie file\n",
    "df_code=pd.read_csv(\"../code/achat_prod_fournisseur_stock.csv\", sep=';') #upload from code file"
   ]
  },
  {
   "cell_type": "code",
   "execution_count": null,
   "id": "f1ce57e8",
   "metadata": {},
   "outputs": [],
   "source": []
  }
 ],
 "metadata": {
  "kernelspec": {
   "display_name": "Python 3",
   "language": "python",
   "name": "python3"
  },
  "language_info": {
   "codemirror_mode": {
    "name": "ipython",
    "version": 3
   },
   "file_extension": ".py",
   "mimetype": "text/x-python",
   "name": "python",
   "nbconvert_exporter": "python",
   "pygments_lexer": "ipython3",
   "version": "3.12.8"
  }
 },
 "nbformat": 4,
 "nbformat_minor": 5
}
