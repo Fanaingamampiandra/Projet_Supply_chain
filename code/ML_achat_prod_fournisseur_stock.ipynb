{
 "cells": [
  {
   "cell_type": "markdown",
   "id": "e958859e",
   "metadata": {},
   "source": [
    "# Preprossessing & Machine Learning "
   ]
  },
  {
   "cell_type": "markdown",
   "id": "e7535f0a",
   "metadata": {},
   "source": [
    "achat_stock_prod_fourni"
   ]
  },
  {
   "cell_type": "code",
   "execution_count": 3,
   "id": "7091ef59",
   "metadata": {},
   "outputs": [],
   "source": [
    "import pandas as pd\n",
    "import numpy as np  \n"
   ]
  },
  {
   "cell_type": "code",
   "execution_count": 4,
   "id": "d29aae06",
   "metadata": {},
   "outputs": [],
   "source": [
    "#load data \n",
    "#df=pd.read_csv('../stephanie/acaht_prod_fourn_stock.csv', sep=';') #upload from stephanie file\n",
    "df_code=pd.read_csv(\"../code/achat_prod_fournisseur_stock.csv\", sep=';') #upload from code file"
   ]
  },
  {
   "cell_type": "code",
   "execution_count": 5,
   "id": "f1ce57e8",
   "metadata": {},
   "outputs": [],
   "source": [
    "data=df_code.copy()\n"
   ]
  },
  {
   "cell_type": "code",
   "execution_count": 8,
   "id": "e28bc9c3",
   "metadata": {},
   "outputs": [
    {
     "ename": "NameError",
     "evalue": "name 'df' is not defined",
     "output_type": "error",
     "traceback": [
      "\u001b[1;31m---------------------------------------------------------------------------\u001b[0m",
      "\u001b[1;31mNameError\u001b[0m                                 Traceback (most recent call last)",
      "Cell \u001b[1;32mIn[8], line 17\u001b[0m\n\u001b[0;32m     13\u001b[0m \u001b[38;5;28;01mfrom\u001b[39;00m \u001b[38;5;21;01msklearn\u001b[39;00m\u001b[38;5;21;01m.\u001b[39;00m\u001b[38;5;21;01mmetrics\u001b[39;00m \u001b[38;5;28;01mimport\u001b[39;00m classification_report, confusion_matrix\n\u001b[0;32m     15\u001b[0m \u001b[38;5;66;03m# 🧼 Prétraitement des données\u001b[39;00m\n\u001b[1;32m---> 17\u001b[0m df\u001b[38;5;241m.\u001b[39mrename(columns\u001b[38;5;241m=\u001b[39m{\n\u001b[0;32m     18\u001b[0m     \u001b[38;5;124m'\u001b[39m\u001b[38;5;124mquantité_x\u001b[39m\u001b[38;5;124m'\u001b[39m: \u001b[38;5;124m'\u001b[39m\u001b[38;5;124mquantite_commande\u001b[39m\u001b[38;5;124m'\u001b[39m,\n\u001b[0;32m     19\u001b[0m     \u001b[38;5;124m'\u001b[39m\u001b[38;5;124mquantité_y\u001b[39m\u001b[38;5;124m'\u001b[39m: \u001b[38;5;124m'\u001b[39m\u001b[38;5;124mquantite_expediee\u001b[39m\u001b[38;5;124m'\u001b[39m,\n\u001b[0;32m     20\u001b[0m     \u001b[38;5;124m'\u001b[39m\u001b[38;5;124mentrepôt_x\u001b[39m\u001b[38;5;124m'\u001b[39m: \u001b[38;5;124m'\u001b[39m\u001b[38;5;124mentrepot_commande\u001b[39m\u001b[38;5;124m'\u001b[39m,\n\u001b[0;32m     21\u001b[0m     \u001b[38;5;124m'\u001b[39m\u001b[38;5;124mentrepôt_y\u001b[39m\u001b[38;5;124m'\u001b[39m: \u001b[38;5;124m'\u001b[39m\u001b[38;5;124mentrepot_expedition\u001b[39m\u001b[38;5;124m'\u001b[39m,\n\u001b[0;32m     22\u001b[0m     \u001b[38;5;124m'\u001b[39m\u001b[38;5;124mmois_x\u001b[39m\u001b[38;5;124m'\u001b[39m: \u001b[38;5;124m'\u001b[39m\u001b[38;5;124mmois_commande\u001b[39m\u001b[38;5;124m'\u001b[39m,\n\u001b[0;32m     23\u001b[0m     \u001b[38;5;124m'\u001b[39m\u001b[38;5;124mmois_y\u001b[39m\u001b[38;5;124m'\u001b[39m: \u001b[38;5;124m'\u001b[39m\u001b[38;5;124mmois_retour\u001b[39m\u001b[38;5;124m'\u001b[39m\n\u001b[0;32m     24\u001b[0m }, inplace\u001b[38;5;241m=\u001b[39m\u001b[38;5;28;01mTrue\u001b[39;00m)\n\u001b[0;32m     26\u001b[0m date_cols \u001b[38;5;241m=\u001b[39m [\u001b[38;5;124m'\u001b[39m\u001b[38;5;124mdate_commande\u001b[39m\u001b[38;5;124m'\u001b[39m, \u001b[38;5;124m'\u001b[39m\u001b[38;5;124mdate_expedition\u001b[39m\u001b[38;5;124m'\u001b[39m, \u001b[38;5;124m'\u001b[39m\u001b[38;5;124mdate_livraison\u001b[39m\u001b[38;5;124m'\u001b[39m, \u001b[38;5;124m'\u001b[39m\u001b[38;5;124mdate_retour\u001b[39m\u001b[38;5;124m'\u001b[39m]\n\u001b[0;32m     27\u001b[0m df[date_cols] \u001b[38;5;241m=\u001b[39m df[date_cols]\u001b[38;5;241m.\u001b[39mapply(pd\u001b[38;5;241m.\u001b[39mto_datetime, errors\u001b[38;5;241m=\u001b[39m\u001b[38;5;124m'\u001b[39m\u001b[38;5;124mcoerce\u001b[39m\u001b[38;5;124m'\u001b[39m)\n",
      "\u001b[1;31mNameError\u001b[0m: name 'df' is not defined"
     ]
    }
   ],
   "source": [
    "# 📚 Chargement des librairies\n",
    "\n",
    "import pandas as pd\n",
    "import numpy as np\n",
    "import matplotlib.pyplot as plt\n",
    "import seaborn as sns\n",
    "\n",
    "from sklearn.model_selection import train_test_split\n",
    "from sklearn.preprocessing import OneHotEncoder, StandardScaler\n",
    "from sklearn.compose import ColumnTransformer\n",
    "from sklearn.pipeline import Pipeline\n",
    "from sklearn.ensemble import RandomForestClassifier\n",
    "from sklearn.metrics import classification_report, confusion_matrix\n",
    "\n",
    "# 🧼 Prétraitement des données\n",
    "\n",
    "df.rename(columns={\n",
    "    'quantité_x': 'quantite_commande',\n",
    "    'quantité_y': 'quantite_expediee',\n",
    "    'entrepôt_x': 'entrepot_commande',\n",
    "    'entrepôt_y': 'entrepot_expedition',\n",
    "    'mois_x': 'mois_commande',\n",
    "    'mois_y': 'mois_retour'\n",
    "}, inplace=True)\n",
    "\n",
    "date_cols = ['date_commande', 'date_expedition', 'date_livraison', 'date_retour']\n",
    "df[date_cols] = df[date_cols].apply(pd.to_datetime, errors='coerce')\n",
    "\n",
    "df['delai_expedition'] = (df['date_expedition'] - df['date_commande']).dt.days\n",
    "df['stock_critique'] = (df['niveau_stock'] < df['stock_minimum']).astype(int)\n",
    "\n",
    "# 🧠 Machine Learning - Prédiction du stock critique\n",
    "\n",
    "target = 'stock_critique'\n",
    "\n",
    "features = [\n",
    "    'quantite_commande', 'quantite_expediee', 'coût_transport', 'délai_livraison',\n",
    "    'prix', 'delai_expedition', 'entrepot_commande', 'transporteur', 'catégorie', 'marque'\n",
    "]\n",
    "\n",
    "X = df[features]\n",
    "y = df[target]\n",
    "\n",
    "numerical_cols = ['quantite_commande', 'quantite_expediee', 'coût_transport', 'délai_livraison', 'prix', 'delai_expedition']\n",
    "categorical_cols = ['entrepot_commande', 'transporteur', 'catégorie', 'marque']\n",
    "\n",
    "preprocessor = ColumnTransformer(transformers=[\n",
    "    ('num', StandardScaler(), numerical_cols),\n",
    "    ('cat', OneHotEncoder(handle_unknown='ignore'), categorical_cols)\n",
    "])\n",
    "\n",
    "model = Pipeline(steps=[\n",
    "    ('preprocessor', preprocessor),\n",
    "    ('classifier', RandomForestClassifier(n_estimators=100, random_state=42))\n",
    "])\n",
    "\n",
    "# 🚀 Entraînement et Évaluation\n",
    "\n",
    "X_train, X_test, y_train, y_test = train_test_split(X, y, test_size=0.2, random_state=42)\n",
    "\n",
    "model.fit(X_train, y_train)\n",
    "\n",
    "y_pred = model.predict(X_test)\n",
    "\n",
    "print(\"🔍 Rapport de classification :\")\n",
    "print(classification_report(y_test, y_pred))\n",
    "\n",
    "print(\"🧱 Matrice de confusion :\")\n",
    "print(confusion_matrix(y_test, y_pred))\n"
   ]
  }
 ],
 "metadata": {
  "kernelspec": {
   "display_name": "base",
   "language": "python",
   "name": "python3"
  },
  "language_info": {
   "codemirror_mode": {
    "name": "ipython",
    "version": 3
   },
   "file_extension": ".py",
   "mimetype": "text/x-python",
   "name": "python",
   "nbconvert_exporter": "python",
   "pygments_lexer": "ipython3",
   "version": "3.12.7"
  }
 },
 "nbformat": 4,
 "nbformat_minor": 5
}
