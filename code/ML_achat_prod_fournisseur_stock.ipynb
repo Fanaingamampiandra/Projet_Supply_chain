{
 "cells": [
  {
   "cell_type": "markdown",
   "id": "e958859e",
   "metadata": {},
   "source": [
    "# Preprossessing & Machine Learning "
   ]
  },
  {
   "cell_type": "code",
   "execution_count": 1,
   "id": "7091ef59",
   "metadata": {},
   "outputs": [],
   "source": [
    "import pandas as pd\n",
    "import numpy as np\n",
    "from sklearn.model_selection import train_test_split\n",
    "from sklearn.preprocessing import StandardScaler, OneHotEncoder, LabelEncoder\n",
    "from sklearn.impute import SimpleImputer\n",
    "from sklearn.compose import ColumnTransformer\n",
    "from sklearn.pipeline import Pipeline\n",
    "from sklearn.linear_model import LinearRegression, LogisticRegression\n",
    "from sklearn.ensemble import RandomForestRegressor, RandomForestClassifier\n",
    "from sklearn.svm import SVC\n",
    "import xgboost as xgb # pip install xgboost\n",
    "from sklearn.metrics import mean_squared_error, r2_score, accuracy_score, classification_report, confusion_matrix\n",
    "from sklearn.cluster import KMeans, DBSCAN\n",
    "from sklearn.metrics import silhouette_score\n",
    "from statsmodels.tsa.arima.model import ARIMA # Pour ARIMA\n",
    "from prophet import Prophet # pip install prophet\n",
    "\n",
    "import matplotlib.pyplot as plt\n",
    "import seaborn as sns\n",
    "\n",
    "# Pour la reproductibilité\n",
    "np.random.seed(42)"
   ]
  },
  {
   "cell_type": "code",
   "execution_count": 2,
   "id": "d29aae06",
   "metadata": {},
   "outputs": [],
   "source": [
    "#load data \n",
    "df_global=pd.read_csv(\"../code/achat_prod_fournisseur_stock.csv\") #upload from code file"
   ]
  },
  {
   "cell_type": "code",
   "execution_count": 3,
   "id": "52c56526",
   "metadata": {},
   "outputs": [
    {
     "name": "stdout",
     "output_type": "stream",
     "text": [
      "<class 'pandas.core.frame.DataFrame'>\n",
      "RangeIndex: 10000 entries, 0 to 9999\n",
      "Data columns (total 22 columns):\n",
      " #   Column                 Non-Null Count  Dtype         \n",
      "---  ------                 --------------  -----         \n",
      " 0   id_achat               10000 non-null  object        \n",
      " 1   date_achat             10000 non-null  datetime64[ns]\n",
      " 2   id_produit             10000 non-null  object        \n",
      " 3   quantité               10000 non-null  int64         \n",
      " 4   id_fournisseur         10000 non-null  object        \n",
      " 5   prix_unitaire          10000 non-null  float64       \n",
      " 6   délai_livraison_jours  10000 non-null  int64         \n",
      " 7   montant_total          10000 non-null  float64       \n",
      " 8   mois                   10000 non-null  int64         \n",
      " 9   année                  10000 non-null  int64         \n",
      " 10  jour_semaine           10000 non-null  int64         \n",
      " 11  catégorie              10000 non-null  object        \n",
      " 12  marque                 10000 non-null  object        \n",
      " 13  prix                   10000 non-null  float64       \n",
      " 14  stock_minimum          10000 non-null  int64         \n",
      " 15  nom_fournisseur        10000 non-null  object        \n",
      " 16  ville                  10000 non-null  object        \n",
      " 17  pays                   10000 non-null  object        \n",
      " 18  fiabilité              10000 non-null  float64       \n",
      " 19  délai_moyen_jours      10000 non-null  int64         \n",
      " 20  niveau_stock           10000 non-null  int64         \n",
      " 21  entrepot               10000 non-null  object        \n",
      "dtypes: datetime64[ns](1), float64(4), int64(8), object(9)\n",
      "memory usage: 1.7+ MB\n"
     ]
    }
   ],
   "source": [
    "df_global.describe()\n",
    "df_global[\"date_achat\"]=pd.to_datetime(df_global[\"date_achat\"])\n",
    "df_global.info()\n"
   ]
  },
  {
   "cell_type": "code",
   "execution_count": 4,
   "id": "a4cb94e4",
   "metadata": {},
   "outputs": [],
   "source": [
    "# Génération de la variable cible 'niveau_stock' (catégorielle)\n",
    "bins = [0, 1.5, 3, float('inf')]\n",
    "labels = ['bas', 'moyen', 'élevé']\n",
    "# Ratio stock actuel (quantité) par rapport au stock minimum\n",
    "# (simplification, dans la réalité le stock actuel serait une autre colonne)\n",
    "df_global['ratio_stock'] = df_global['niveau_stock'] / df_global['stock_minimum']\n",
    "df_global['niveau_stock_cat'] = pd.cut(df_global['ratio_stock'], bins=bins, labels=labels, right=False)\n",
    "# Génération de la variable cible 'rupture' (booléen)\n",
    "# Si niveau_stock est 'bas' et délai de livraison élevé -> risque de rupture\n",
    "df_global['rupture'] = ((df_global['niveau_stock_cat'] == 'bas') & (df_global['délai_livraison_jours'] > 7))"
   ]
  },
  {
   "cell_type": "markdown",
   "id": "328a30c1",
   "metadata": {},
   "source": [
    "***explication des modifications apportées***\n",
    "- Changement des bornes des catégories de niveau de stock pour mieux refléter la distribution des données.\n",
    "- Activation de la création de la colonne 'niveau_stock_cat' pour catégoriser le niveau de stock.\n",
    "- Activation de la création de la colonne 'rupture' pour indiquer les ruptures de stock potentielles.\n",
    "    "
   ]
  },
  {
   "cell_type": "code",
   "execution_count": 5,
   "id": "811dbfc5",
   "metadata": {},
   "outputs": [],
   "source": [
    "# Pour la segmentation fournisseur, ajoutons 'taille_fournisseur'\n",
    "taille_fourn = df_global.groupby('id_fournisseur')['id_produit'].nunique().rename('taille_fournisseur_nb_produits')\n",
    "df_global = df_global.merge(taille_fourn, on='id_fournisseur', how='left')"
   ]
  },
  {
   "cell_type": "code",
   "execution_count": 6,
   "id": "455fc99d",
   "metadata": {},
   "outputs": [],
   "source": [
    "# Pour la classification de fiabilité fournisseur, créons une catégorie\n",
    "# Si fiabilité (score continu) > 0.85 -> fiable, sinon -> moins_fiable\n",
    "df_global['fiabilité_catégorie'] = pd.cut(df_global['fiabilité'], bins=[0, 0.85, 1.01], labels=['moins_fiable', 'fiable'], right=False)"
   ]
  },
  {
   "cell_type": "code",
   "execution_count": 7,
   "id": "4c236daa",
   "metadata": {},
   "outputs": [],
   "source": [
    "# --- Fonctions Utilitaires (pour éviter la répétition) ---\n",
    "def get_preprocessor(numerical_features, categorical_features):\n",
    "    \"\"\"Crée un ColumnTransformer pour le prétraitement.\"\"\"\n",
    "    numerical_transformer = Pipeline(steps=[\n",
    "        ('imputer', SimpleImputer(strategy='mean')),\n",
    "        ('scaler', StandardScaler())\n",
    "    ])\n",
    "    categorical_transformer = Pipeline(steps=[\n",
    "        ('imputer', SimpleImputer(strategy='most_frequent')),\n",
    "        ('onehot', OneHotEncoder(handle_unknown='ignore', sparse_output=False))\n",
    "    ])\n",
    "    preprocessor = ColumnTransformer(\n",
    "        transformers=[\n",
    "            ('num', numerical_transformer, numerical_features),\n",
    "            ('cat', categorical_transformer, categorical_features)\n",
    "        ], remainder='passthrough' # pour les colonnes non spécifiées (si besoin)\n",
    "    )\n",
    "    return preprocessor\n"
   ]
  },
  {
   "cell_type": "code",
   "execution_count": 8,
   "id": "530afcd6",
   "metadata": {},
   "outputs": [
    {
     "name": "stdout",
     "output_type": "stream",
     "text": [
      "\n",
      "--- Tâche 1: Régression du montant_total ---\n"
     ]
    }
   ],
   "source": [
    "# --- Tâche 1: Régression du montant total ---\n",
    "print(\"\\n--- Tâche 1: Régression du montant_total ---\")\n",
    "df_task1 = df_global.copy()\n",
    "X1_cols_num = ['quantité', 'prix_unitaire', 'délai_livraison_jours']\n",
    "X1_cols_cat = ['id_produit', 'catégorie', 'marque', 'id_fournisseur', 'ville', 'pays']\n",
    "y1_col = 'montant_total'"
   ]
  },
  {
   "cell_type": "code",
   "execution_count": 9,
   "id": "2c1acafd",
   "metadata": {},
   "outputs": [],
   "source": [
    "X1 = df_task1[X1_cols_num + X1_cols_cat]\n",
    "y1 = df_task1[y1_col]\n",
    "\n",
    "# Séparation des données\n",
    "X1_train, X1_test, y1_train, y1_test = train_test_split(X1, y1, test_size=0.2, random_state=42)\n",
    "\n",
    "# Prétraitement\n",
    "preprocessor1 = get_preprocessor(X1_cols_num, X1_cols_cat)\n"
   ]
  },
  {
   "cell_type": "code",
   "execution_count": 10,
   "id": "96beded8",
   "metadata": {},
   "outputs": [],
   "source": [
    "# Modèles\n",
    "models1 = {\n",
    "    \"Régression Linéaire\": LinearRegression(),\n",
    "    \"Random Forest Regressor\": RandomForestRegressor(random_state=42),\n",
    "    \"XGBoost Regressor\": xgb.XGBRegressor(objective='reg:squarederror', random_state=42)\n",
    "}\n"
   ]
  },
  {
   "cell_type": "code",
   "execution_count": 11,
   "id": "241b8e85",
   "metadata": {},
   "outputs": [
    {
     "name": "stdout",
     "output_type": "stream",
     "text": [
      "\n",
      "Entraînement du modèle: Régression Linéaire\n",
      "Résultats pour Régression Linéaire:\n",
      "  Mean Squared Error: 82158977.18\n",
      "  R² Score: 0.79\n",
      "\n",
      "Entraînement du modèle: Random Forest Regressor\n",
      "Résultats pour Random Forest Regressor:\n",
      "  Mean Squared Error: 14347.04\n",
      "  R² Score: 1.00\n",
      "\n",
      "Entraînement du modèle: XGBoost Regressor\n",
      "Résultats pour XGBoost Regressor:\n",
      "  Mean Squared Error: 158505.45\n",
      "  R² Score: 1.00\n"
     ]
    }
   ],
   "source": [
    "for name, model in models1.items():\n",
    "    print(f\"\\nEntraînement du modèle: {name}\")\n",
    "    pipeline = Pipeline(steps=[('preprocessor', preprocessor1), ('regressor', model)])\n",
    "    pipeline.fit(X1_train, y1_train)\n",
    "    y1_pred = pipeline.predict(X1_test)\n",
    "    \n",
    "    mse = mean_squared_error(y1_test, y1_pred)\n",
    "    r2 = r2_score(y1_test, y1_pred)\n",
    "    print(f\"Résultats pour {name}:\")\n",
    "    print(f\"  Mean Squared Error: {mse:.2f}\")\n",
    "    print(f\"  R² Score: {r2:.2f}\")\n"
   ]
  },
  {
   "cell_type": "code",
   "execution_count": 12,
   "metadata": {},
   "outputs": [],
   "source": [
    "## f"
   ]
  },
  {
   "cell_type": "code",
   "execution_count": null,
   "id": "726f0516",
   "metadata": {},
   "outputs": [],
   "source": []
  },
  {
   "cell_type": "code",
   "execution_count": null,
   "id": "558b17ea",
   "metadata": {},
   "outputs": [],
   "source": []
  }
 ],
 "metadata": {
  "kernelspec": {
   "display_name": "Python 3",
   "language": "python",
   "name": "python3"
  },
  "language_info": {
   "codemirror_mode": {
    "name": "ipython",
    "version": 3
   },
   "file_extension": ".py",
   "mimetype": "text/x-python",
   "name": "python",
   "nbconvert_exporter": "python",
   "pygments_lexer": "ipython3",
   "version": "3.12.8"
  }
 },
 "nbformat": 4,
 "nbformat_minor": 5
}
