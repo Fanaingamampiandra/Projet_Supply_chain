{
 "cells": [
  {
   "cell_type": "code",
   "execution_count": 2,
   "id": "4a6ae8c2",
   "metadata": {},
   "outputs": [],
   "source": [
    "import pandas as pd"
   ]
  },
  {
   "cell_type": "code",
   "execution_count": 5,
   "id": "af1218d0",
   "metadata": {},
   "outputs": [],
   "source": [
    "# Charger les données sans chemin complet\n",
    "produits = pd.read_csv(\"../csv_cleaned/prod_cleaned2.csv\",sep=\",\")\n",
    "commandes = pd.read_csv('../csv_cleaned/commandes_cleaned_final.csv',sep=\",\")\n",
    "stocks = pd.read_csv('../csv_cleaned/stock_nettoye.csv',sep=\",\")\n",
    "achats = pd.read_csv('../csv_cleaned/achat_cleaned.csv',sep=\",\")\n",
    "fournisseurs = pd.read_csv('../Fitia_preprocessing/fournisseurs_cleaned.csv',sep=\",\")\n",
    "expeditions = pd.read_csv('../csv_cleaned/expeditions_clean.csv',sep=\",\")\n",
    "retours = pd.read_csv('../csv_cleaned/retours_cleaned_final.csv',sep=\",\")"
   ]
  },
  {
   "cell_type": "code",
   "execution_count": null,
   "id": "6543d0eb",
   "metadata": {},
   "outputs": [],
   "source": []
  }
 ],
 "metadata": {
  "kernelspec": {
   "display_name": "Python 3",
   "language": "python",
   "name": "python3"
  },
  "language_info": {
   "codemirror_mode": {
    "name": "ipython",
    "version": 3
   },
   "file_extension": ".py",
   "mimetype": "text/x-python",
   "name": "python",
   "nbconvert_exporter": "python",
   "pygments_lexer": "ipython3",
   "version": "3.11.9"
  }
 },
 "nbformat": 4,
 "nbformat_minor": 5
}
