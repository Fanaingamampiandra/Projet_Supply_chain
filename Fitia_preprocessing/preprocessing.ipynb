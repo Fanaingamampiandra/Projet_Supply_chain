{
 "cells": [
  {
   "cell_type": "code",
   "execution_count": 2,
   "metadata": {},
   "outputs": [],
   "source": [
    "import pandas as pd\n",
    "import numpy as np"
   ]
  },
  {
   "cell_type": "code",
   "execution_count": 1,
   "metadata": {},
   "outputs": [
    {
     "ename": "NameError",
     "evalue": "name 'pd' is not defined",
     "output_type": "error",
     "traceback": [
      "\u001b[1;31m---------------------------------------------------------------------------\u001b[0m",
      "\u001b[1;31mNameError\u001b[0m                                 Traceback (most recent call last)",
      "Cell \u001b[1;32mIn[1], line 2\u001b[0m\n\u001b[0;32m      1\u001b[0m \u001b[38;5;66;03m# Charger le fichier CSV\u001b[39;00m\n\u001b[1;32m----> 2\u001b[0m df \u001b[38;5;241m=\u001b[39m \u001b[43mpd\u001b[49m\u001b[38;5;241m.\u001b[39mread_csv(\u001b[38;5;124m'\u001b[39m\u001b[38;5;124mfournisseurs.csv\u001b[39m\u001b[38;5;124m'\u001b[39m, sep\u001b[38;5;241m=\u001b[39m\u001b[38;5;124m'\u001b[39m\u001b[38;5;124m;\u001b[39m\u001b[38;5;124m'\u001b[39m, header\u001b[38;5;241m=\u001b[39m\u001b[38;5;28;01mNone\u001b[39;00m, skiprows\u001b[38;5;241m=\u001b[39m\u001b[38;5;241m1\u001b[39m, names\u001b[38;5;241m=\u001b[39m[\u001b[38;5;124m'\u001b[39m\u001b[38;5;124mid_fournisseur\u001b[39m\u001b[38;5;124m'\u001b[39m, \u001b[38;5;124m'\u001b[39m\u001b[38;5;124mnom_fournisseur\u001b[39m\u001b[38;5;124m'\u001b[39m, \u001b[38;5;124m'\u001b[39m\u001b[38;5;124mville\u001b[39m\u001b[38;5;124m'\u001b[39m, \u001b[38;5;124m'\u001b[39m\u001b[38;5;124mpays\u001b[39m\u001b[38;5;124m'\u001b[39m, \u001b[38;5;124m'\u001b[39m\u001b[38;5;124mfiabilité\u001b[39m\u001b[38;5;124m'\u001b[39m, \u001b[38;5;124m'\u001b[39m\u001b[38;5;124mdélai_moyen_jours\u001b[39m\u001b[38;5;124m'\u001b[39m])\n",
      "\u001b[1;31mNameError\u001b[0m: name 'pd' is not defined"
     ]
    }
   ],
   "source": [
    "# Charger le fichier CSV\n",
    "df = pd.read_csv('fournisseurs.csv', sep=';', header=None, skiprows=1, names=['id_fournisseur', 'nom_fournisseur', 'ville', 'pays', 'fiabilité', 'délai_moyen_jours'])"
   ]
  },
  {
   "cell_type": "code",
   "execution_count": null,
   "metadata": {},
   "outputs": [
    {
     "name": "stdout",
     "output_type": "stream",
     "text": [
      "  id_fournisseur  nom_fournisseur      ville      pays  fiabilité  \\\n",
      "0           S001  Lecomte et Fils     Zurich    Suisse       0.84   \n",
      "1           S002           Morvan      Paris    France       0.86   \n",
      "2           S003  Germain et Fils  Amsterdam  Pays-Bas       0.85   \n",
      "3           S004         Philippe       Rome    Italie       0.57   \n",
      "4           S005            Blanc     Dublin   Irlande       0.65   \n",
      "\n",
      "   délai_moyen_jours  \n",
      "0                 10  \n",
      "1                  9  \n",
      "2                 10  \n",
      "3                  9  \n",
      "4                 13  \n"
     ]
    }
   ],
   "source": [
    "print(df.head())"
   ]
  },
  {
   "cell_type": "code",
   "execution_count": null,
   "metadata": {},
   "outputs": [
    {
     "name": "stdout",
     "output_type": "stream",
     "text": [
      "  id_fournisseur  nom_fournisseur      ville      pays  fiabilité  \\\n",
      "0           S001  Lecomte et Fils     Zurich    Suisse       0.84   \n",
      "1           S002           Morvan      Paris    France       0.86   \n",
      "2           S003  Germain et Fils  Amsterdam  Pays-Bas       0.85   \n",
      "3           S004         Philippe       Rome    Italie       0.57   \n",
      "4           S005            Blanc     Dublin   Irlande       0.65   \n",
      "\n",
      "   délai_moyen_jours  \n",
      "0                 10  \n",
      "1                  9  \n",
      "2                 10  \n",
      "3                  9  \n",
      "4                 13  \n"
     ]
    }
   ],
   "source": [
    "print(df.head())"
   ]
  },
  {
   "cell_type": "code",
   "execution_count": null,
   "metadata": {},
   "outputs": [
    {
     "name": "stdout",
     "output_type": "stream",
     "text": [
      "id_fournisseur       0\n",
      "nom_fournisseur      0\n",
      "ville                0\n",
      "pays                 0\n",
      "fiabilité            0\n",
      "délai_moyen_jours    0\n",
      "dtype: int64\n"
     ]
    }
   ],
   "source": [
    "# Vérifier les valeurs manquantes\n",
    "print(df.isnull().sum()) # \"run code\" avant de continuer et mettre les restes en commentaire \n",
    "# S'il y a des valeurs manquantes, vous pouvez décider de les remplir ou de les supprimer\n",
    "# Si non, vous pouvez continuer avec l'analyse et effacer les lignes ci-dessous \n",
    "\n",
    "# Remplir les valeurs manquantes par des valeurs par défaut ou supprimer les lignes\n",
    "# Exemple: Remplir les valeurs manquantes de 'fiabilité' par la moyenne\n",
    "#df['fiabilité'] = df['fiabilité'].fillna(df['fiabilité'].mean())\n",
    "\n",
    "# Exemple: Supprimer les lignes où 'délai_moyen_jours' est manquant\n",
    "#df = df.dropna(subset=['délai_moyen_jours'])"
   ]
  },
  {
   "cell_type": "code",
   "execution_count": null,
   "metadata": {},
   "outputs": [
    {
     "name": "stdout",
     "output_type": "stream",
     "text": [
      "0\n"
     ]
    }
   ],
   "source": [
    "# Vérifier et supprimer les doublons\n",
    "print(df.duplicated().sum())\n",
    "df.drop_duplicates(inplace=True)"
   ]
  },
  {
   "cell_type": "code",
   "execution_count": null,
   "metadata": {},
   "outputs": [],
   "source": [
    "# Exemple: Détection et gestion des valeurs aberrantes pour 'fiabilité'\n",
    "Q1 = df['fiabilité'].quantile(0.25)\n",
    "Q3 = df['fiabilité'].quantile(0.75)\n",
    "IQR = Q3 - Q1\n",
    "\n",
    "# Définir les bornes pour les valeurs aberrantes\n",
    "lower_bound = Q1 - 1.5 * IQR\n",
    "upper_bound = Q3 + 1.5 * IQR\n",
    "\n",
    "# Filtrer les valeurs aberrantes\n",
    "df = df[(df['fiabilité'] >= lower_bound) & (df['fiabilité'] <= upper_bound)]"
   ]
  },
  {
   "cell_type": "code",
   "execution_count": null,
   "metadata": {},
   "outputs": [],
   "source": [
    "# Normaliser les formats des colonnes (par exemple, les noms de villes en minuscules)\n",
    "df['ville'] = df['ville'].str.lower()\n",
    "df['pays'] = df['pays'].str.lower()\n",
    "\n",
    "# Convertir les colonnes numériques en type approprié\n",
    "df['fiabilité'] = pd.to_numeric(df['fiabilité'], errors='coerce')\n",
    "df['délai_moyen_jours'] = pd.to_numeric(df['délai_moyen_jours'], errors='coerce')"
   ]
  },
  {
   "cell_type": "code",
   "execution_count": null,
   "metadata": {},
   "outputs": [
    {
     "name": "stdout",
     "output_type": "stream",
     "text": [
      "  id_fournisseur  nom_fournisseur      ville      pays  fiabilité  \\\n",
      "0           S001  Lecomte et Fils     zurich    suisse       0.84   \n",
      "1           S002           Morvan      paris    france       0.86   \n",
      "2           S003  Germain et Fils  amsterdam  pays-bas       0.85   \n",
      "3           S004         Philippe       rome    italie       0.57   \n",
      "4           S005            Blanc     dublin   irlande       0.65   \n",
      "\n",
      "   délai_moyen_jours  \n",
      "0                 10  \n",
      "1                  9  \n",
      "2                 10  \n",
      "3                  9  \n",
      "4                 13  \n",
      "id_fournisseur        object\n",
      "nom_fournisseur       object\n",
      "ville                 object\n",
      "pays                  object\n",
      "fiabilité            float64\n",
      "délai_moyen_jours      int64\n",
      "dtype: object\n"
     ]
    }
   ],
   "source": [
    "# Afficher les premières lignes pour vérifier les changements\n",
    "print(df.head())\n",
    "\n",
    "# Vérifier les types des colonnes\n",
    "print(df.dtypes)"
   ]
  },
  {
   "cell_type": "code",
   "execution_count": null,
   "metadata": {},
   "outputs": [],
   "source": [
    "# Enregistrer le DataFrame nettoyé dans un nouveau fichier CSV\n",
    "df.to_csv('fournisseurs_nettoyés.csv', index=False, sep=';')"
   ]
  }
 ],
 "metadata": {
  "kernelspec": {
   "display_name": "Python 3",
   "language": "python",
   "name": "python3"
  },
  "language_info": {
   "codemirror_mode": {
    "name": "ipython",
    "version": 3
   },
   "file_extension": ".py",
   "mimetype": "text/x-python",
   "name": "python",
   "nbconvert_exporter": "python",
   "pygments_lexer": "ipython3",
   "version": "3.11.9"
  }
 },
 "nbformat": 4,
 "nbformat_minor": 2
}
