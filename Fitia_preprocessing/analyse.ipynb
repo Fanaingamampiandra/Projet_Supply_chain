{
 "cells": [
  {
   "cell_type": "code",
   "execution_count": 1,
   "id": "6eb7fb53",
   "metadata": {},
   "outputs": [],
   "source": [
    "import pandas as pd\n",
    "import numpy as np\n",
    "import matplotlib.pyplot as plt\n",
    "import seaborn as sns\n",
    "from scipy import stats"
   ]
  },
  {
   "cell_type": "code",
   "execution_count": 10,
   "id": "472def08",
   "metadata": {},
   "outputs": [],
   "source": [
    "products = pd.read_csv('produitsV2.csv')\n",
    "commands = pd.read_csv('commandesV2.csv')\n",
    "stocks = pd.read_csv('stocksV2.csv')\n",
    "purchases = pd.read_csv('achatsV2.csv')\n",
    "suppliers = pd.read_csv('fournisseursV2.csv')\n",
    "expeditions = pd.read_csv('expeditionsV2.csv')\n",
    "returns = pd.read_csv('retoursV2.csv')"
   ]
  }
 ],
 "metadata": {
  "kernelspec": {
   "display_name": "Python 3",
   "language": "python",
   "name": "python3"
  },
  "language_info": {
   "codemirror_mode": {
    "name": "ipython",
    "version": 3
   },
   "file_extension": ".py",
   "mimetype": "text/x-python",
   "name": "python",
   "nbconvert_exporter": "python",
   "pygments_lexer": "ipython3",
   "version": "3.11.9"
  }
 },
 "nbformat": 4,
 "nbformat_minor": 5
}
